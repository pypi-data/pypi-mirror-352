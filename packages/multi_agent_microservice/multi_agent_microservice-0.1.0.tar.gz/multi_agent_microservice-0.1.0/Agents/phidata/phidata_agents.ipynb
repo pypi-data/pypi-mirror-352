{
 "cells": [
  {
   "cell_type": "code",
   "id": "initial_id",
   "metadata": {
    "collapsed": true,
    "ExecuteTime": {
     "end_time": "2025-02-17T04:28:46.860477Z",
     "start_time": "2025-02-17T04:28:46.856530Z"
    }
   },
   "source": [
    "from utils import init\n",
    "\n",
    "init()"
   ],
   "outputs": [],
   "execution_count": 1
  },
  {
   "metadata": {
    "ExecuteTime": {
     "end_time": "2025-02-17T04:29:38.965218Z",
     "start_time": "2025-02-17T04:29:34.700253Z"
    }
   },
   "cell_type": "code",
   "source": [
    "from phi.agent import Agent\n",
    "from phi.model.openai import OpenAIChat\n",
    "from phi.tools.duckduckgo import DuckDuckGo\n",
    "\n",
    "web_agent = Agent(\n",
    "    name=\"Web Agent\",\n",
    "    model=OpenAIChat(id=\"gpt-4o\"),\n",
    "    tools=[DuckDuckGo()],\n",
    "    instructions=[\"Always include sources\"],\n",
    "    show_tool_calls=True,\n",
    "    markdown=True,\n",
    ")\n",
    "respose=web_agent.print_response(\"Tell me about OpenAI Sora?\", stream=True)"
   ],
   "id": "ef8f40399f91633d",
   "outputs": [
    {
     "data": {
      "text/plain": [],
      "text/html": [
       "<pre style=\"white-space:pre;overflow-x:auto;line-height:normal;font-family:Menlo,'DejaVu Sans Mono',consolas,'Courier New',monospace\"></pre>\n"
      ]
     },
     "metadata": {},
     "output_type": "display_data"
    }
   ],
   "execution_count": 4
  },
  {
   "metadata": {
    "ExecuteTime": {
     "end_time": "2025-02-17T04:29:44.276927Z",
     "start_time": "2025-02-17T04:29:44.274780Z"
    }
   },
   "cell_type": "code",
   "source": "respose",
   "id": "23eb97349c550127",
   "outputs": [],
   "execution_count": 6
  }
 ],
 "metadata": {
  "kernelspec": {
   "display_name": "Python 3",
   "language": "python",
   "name": "python3"
  },
  "language_info": {
   "codemirror_mode": {
    "name": "ipython",
    "version": 2
   },
   "file_extension": ".py",
   "mimetype": "text/x-python",
   "name": "python",
   "nbconvert_exporter": "python",
   "pygments_lexer": "ipython2",
   "version": "2.7.6"
  }
 },
 "nbformat": 4,
 "nbformat_minor": 5
}
