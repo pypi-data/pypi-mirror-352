{
 "cells": [
  {
   "cell_type": "code",
   "execution_count": null,
   "id": "4b22f51c",
   "metadata": {},
   "outputs": [],
   "source": [
    "import numpy as np\n",
    "from scipy import constants\n",
    "import matplotlib.pyplot as plt\n",
    "import cmasher as cmr\n",
    "import pandas as pd\n",
    "import matplotlib.ticker as mticker\n",
    "from cw_constrain.DM_constrain.dm_constrain import *"
   ]
  },
  {
   "cell_type": "code",
   "execution_count": 13,
   "id": "081862a9",
   "metadata": {},
   "outputs": [],
   "source": [
    "file_path_ep = '/Users/andrewmiller/Desktop/O4/O4a_DM_upper_limits.txt'\n",
    "\n",
    "# Read the tab-delimited file with headers\n",
    "df = pd.read_csv(file_path_ep, delimiter='\\t')\n",
    "\n",
    "fs_ep = df['frequency (Hz)']\n",
    "ms_ep = df['mass (eV)']\n",
    "h0s_ep = df['h0']"
   ]
  },
  {
   "cell_type": "code",
   "execution_count": 65,
   "id": "637a5fb1",
   "metadata": {},
   "outputs": [],
   "source": []
  },
  {
   "cell_type": "code",
   "execution_count": 66,
   "id": "e1eb9826",
   "metadata": {},
   "outputs": [],
   "source": [
    "lambdas = sb_get_constraint_from_h0s(fs_ep, h0s_ep,'O4a','LLO')"
   ]
  },
  {
   "cell_type": "code",
   "execution_count": 67,
   "id": "6d2eaa90",
   "metadata": {},
   "outputs": [],
   "source": [
    "fact_eps = dp_finite_travel_factor(ms_ep)\n",
    "\n",
    "test_epsilon = dp_calc_eps_from_h0(ms_ep,h0s_ep) / fact_eps"
   ]
  },
  {
   "cell_type": "code",
   "execution_count": 68,
   "id": "f183213c",
   "metadata": {},
   "outputs": [],
   "source": [
    "test_alpha = tb_get_constraint_from_h0s(fs_ep,h0s_ep)"
   ]
  },
  {
   "cell_type": "code",
   "execution_count": 69,
   "id": "b07bfce9",
   "metadata": {},
   "outputs": [
    {
     "name": "stdout",
     "output_type": "stream",
     "text": [
      "Comparing lambda_inv:\n",
      "  Max absolute difference: 8.171e-21\n",
      "  Mean absolute difference: 9.643e-23\n",
      "  Max relative difference: 9.966e-05\n",
      "  Mean relative difference: 9.966e-05\n",
      "Comparing epsilon:\n",
      "  Max absolute difference: 1.655e-24\n",
      "  Mean absolute difference: 2.321e-26\n",
      "  Max relative difference: 7.462e-04\n",
      "  Mean relative difference: 7.426e-04\n",
      "Comparing alpha:\n",
      "  Max absolute difference: 1.397e-07\n",
      "  Mean absolute difference: 1.575e-09\n",
      "  Max relative difference: 9.966e-05\n",
      "  Mean relative difference: 9.966e-05\n"
     ]
    }
   ],
   "source": [
    "# ## Verifying python functions produce same results as matlab ones\n",
    "\n",
    "# # lambda_i_inv_ep = df['lambda_inv (1/GeV)']\n",
    "# # epsilon_ep = df['epsilon']\n",
    "# # tb_alpha_ep = df['alpha']\n",
    "\n",
    "# def compare_arrays(name, actual, theor, rel_tol=1e-8, abs_tol=1e-12):\n",
    "#     ## arr2: the \"theoretical e\"\n",
    "#     diff = actual - theor\n",
    "#     rel_diff = diff / np.where(theor != 0, theor, 1)  # avoid div by zero\n",
    "\n",
    "#     print(f\"Comparing {name}:\")\n",
    "#     print(f\"  Max absolute difference: {np.max(np.abs(diff)):.3e}\")\n",
    "#     print(f\"  Mean absolute difference: {np.mean(np.abs(diff)):.3e}\")\n",
    "#     print(f\"  Max relative difference: {np.max(np.abs(rel_diff)):.3e}\")\n",
    "#     print(f\"  Mean relative difference: {np.mean(np.abs(rel_diff)):.3e}\")\n",
    "\n",
    "\n",
    "# test_lambdas = sb_get_constraint_from_h0s(fs_ep, h0s_ep,'O4a','LLO')\n",
    "\n",
    "# fact_eps,_ = dp_finite_travel_factor(ms_ep)\n",
    "\n",
    "# test_epsilon = dp_calc_eps_from_h0(ms_ep,h0s_ep) / fact_eps\n",
    "# test_alpha = tb_get_constraint_from_h0s(fs_ep,h0s_ep)\n",
    "\n",
    "\n",
    "# compare_arrays('lambda_inv', test_lambdas, df['lambda_inv (1/GeV)'])\n",
    "# compare_arrays('epsilon', test_epsilon, df['epsilon'])\n",
    "# compare_arrays('alpha', test_alpha, df['alpha'])"
   ]
  }
 ],
 "metadata": {
  "kernelspec": {
   "display_name": "Python 3 (ipykernel)",
   "language": "python",
   "name": "python3"
  },
  "language_info": {
   "codemirror_mode": {
    "name": "ipython",
    "version": 3
   },
   "file_extension": ".py",
   "mimetype": "text/x-python",
   "name": "python",
   "nbconvert_exporter": "python",
   "pygments_lexer": "ipython3",
   "version": "3.9.13"
  }
 },
 "nbformat": 4,
 "nbformat_minor": 5
}
