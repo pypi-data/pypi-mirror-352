{
 "cells": [
  {
   "cell_type": "markdown",
   "id": "4d27b9ca-f241-4702-9d70-da6f05434018",
   "metadata": {},
   "source": [
    "# guppy and hugr to qir conversion and submission to H1 and H2\n"
   ]
  },
  {
   "cell_type": "markdown",
   "id": "eb8e7aad-dea6-4f66-9fea-75f75a41c567",
   "metadata": {},
   "source": [
    "This example shows how to convert guppy to qir which can be submitted directly to H1 and H2 device, emulator and syntax checker.\n",
    "\n",
    "You need to install hugr-qir, guppy and pytket-quantinuum for this notebook to work.\n"
   ]
  },
  {
   "cell_type": "code",
   "execution_count": null,
   "id": "25897224-6f09-4f0f-8507-99e158e1a91f",
   "metadata": {},
   "outputs": [],
   "source": []
  },
  {
   "cell_type": "code",
   "execution_count": 2,
   "id": "b3fc5880-263e-4f67-afe2-1b999f932d63",
   "metadata": {},
   "outputs": [],
   "source": [
    "# You can write you guppy directly in a notebook or in a separate file\n",
    "import sys\n",
    "from typing import no_type_check\n",
    "\n",
    "from guppylang import guppy, quantum, qubit\n",
    "from guppylang.std.angles import angles\n",
    "from guppylang.std.builtins import result\n",
    "from guppylang.std.quantum import h, measure\n",
    "\n",
    "guppy.load(quantum)\n",
    "guppy.load(angles)\n",
    "\n",
    "\n",
    "@guppy\n",
    "@no_type_check\n",
    "def main() -> None:\n",
    "    q0 = qubit()\n",
    "    q1 = qubit()\n",
    "\n",
    "    h(q0)\n",
    "    h(q1)\n",
    "\n",
    "    b0 = measure(q0)\n",
    "    b1 = measure(q1)\n",
    "    b2 = b0 ^ b1\n",
    "\n",
    "    result(\"0\", b2)\n",
    "\n",
    "\n",
    "\n"
   ]
  },
  {
   "cell_type": "code",
   "execution_count": null,
   "id": "142b945a-5aad-4cfb-9bad-f3675b992dc1",
   "metadata": {},
   "outputs": [],
   "source": []
  },
  {
   "cell_type": "code",
   "execution_count": 3,
   "id": "54d2f6ca-becd-4b3a-9649-3394e141c610",
   "metadata": {},
   "outputs": [],
   "source": [
    "# compile your guppy to hugr\n",
    "hugr = guppy.get_module().compile().package.to_bytes()\n"
   ]
  },
  {
   "cell_type": "code",
   "execution_count": null,
   "id": "f7d372c9-8227-4cb8-9d32-38cd1e6dc945",
   "metadata": {},
   "outputs": [],
   "source": []
  },
  {
   "cell_type": "code",
   "execution_count": 4,
   "id": "2fae032f-9ddd-43c6-9818-2114d0663463",
   "metadata": {},
   "outputs": [],
   "source": [
    "# convert hugr to qir\n",
    "# the parameter validate_qir=True automatically checks the generated QIR to capture most of the issues that could happen.\n",
    "# this will show an error message with more details about the problem\n",
    "\n",
    "from hugr_qir.hugr_to_qir import hugr_to_qir\n",
    "\n",
    "guppy_qir = hugr_to_qir(hugr, validate_qir=True)\n"
   ]
  },
  {
   "cell_type": "code",
   "execution_count": 5,
   "id": "c6152003-59fa-4386-afe4-c4eb10e8c75f",
   "metadata": {},
   "outputs": [
    {
     "name": "stdout",
     "output_type": "stream",
     "text": [
      "; ModuleID = 'hugr-qir'\n",
      "source_filename = \"hugr-qir\"\n",
      "\n",
      "%Qubit = type opaque\n",
      "%Result = type opaque\n",
      "\n",
      "@0 = private unnamed_addr constant [2 x i8] c\"0\\00\", align 1\n",
      "\n",
      "define void @__hugr__.main.1() #0 {\n",
      "alloca_block:\n",
      "  call void @__quantum__qis__phasedx__body(double 0x3FF921FB54442D18, double 0xBFF921FB54442D18, %Qubit* null)\n",
      "  call void @__quantum__qis__rz__body(double 0x400921FB54442D18, %Qubit* null)\n",
      "  call void @__quantum__qis__mz__body(%Qubit* null, %Result* null)\n",
      "  %0 = call i1 @__quantum__qis__read_result__body(%Result* null)\n",
      "  call void @__quantum__qis__phasedx__body(double 0x3FF921FB54442D18, double 0xBFF921FB54442D18, %Qubit* inttoptr (i64 1 to %Qubit*))\n",
      "  call void @__quantum__qis__rz__body(double 0x400921FB54442D18, %Qubit* inttoptr (i64 1 to %Qubit*))\n",
      "  call void @__quantum__qis__mz__body(%Qubit* inttoptr (i64 1 to %Qubit*), %Result* inttoptr (i64 1 to %Result*))\n",
      "  %1 = call i1 @__quantum__qis__read_result__body(%Result* inttoptr (i64 1 to %Result*))\n",
      "  %2 = xor i1 %0, %1\n",
      "  call void @__quantum__rt__bool_record_output(i1 %2, i8* getelementptr inbounds ([2 x i8], [2 x i8]* @0, i32 0, i32 0))\n",
      "  ret void\n",
      "}\n",
      "\n",
      "declare void @__quantum__qis__phasedx__body(double, double, %Qubit*)\n",
      "\n",
      "declare void @__quantum__qis__rz__body(double, %Qubit*)\n",
      "\n",
      "declare void @__quantum__qis__mz__body(%Qubit*, %Result*)\n",
      "\n",
      "declare i1 @__quantum__qis__read_result__body(%Result*)\n",
      "\n",
      "declare void @__quantum__rt__bool_record_output(i1, i8*)\n",
      "\n",
      "attributes #0 = { \"entry_point\" \"output_labeling_schema\" \"qir_profiles\"=\"custom\" \"required_num_qubits\"=\"2\" \"required_num_results\"=\"2\" }\n",
      "\n",
      "!llvm.module.flags = !{!0, !1, !2, !3}\n",
      "\n",
      "!0 = !{i32 1, !\"qir_major_version\", i32 1}\n",
      "!1 = !{i32 7, !\"qir_minor_version\", i32 0}\n",
      "!2 = !{i32 1, !\"dynamic_qubit_management\", i1 false}\n",
      "!3 = !{i32 1, !\"dynamic_result_management\", i1 false}\n",
      "\n"
     ]
    }
   ],
   "source": [
    "# the QIR is returned as a string\n",
    "print(guppy_qir)"
   ]
  },
  {
   "cell_type": "code",
   "execution_count": null,
   "id": "50141d9c-ab73-4ab7-a0e2-f38eac4e3027",
   "metadata": {},
   "outputs": [],
   "source": []
  },
  {
   "cell_type": "code",
   "execution_count": 6,
   "id": "83ed49d7-4ba2-400f-9c6d-43c8e41dd70a",
   "metadata": {},
   "outputs": [
    {
     "name": "stdin",
     "output_type": "stream",
     "text": [
      "Enter your Quantinuum email:  melf.johannsen@quantinuum.com\n",
      "Enter your Quantinuum password:  ········\n"
     ]
    }
   ],
   "source": [
    "# set up a pytket-quantinnum backend\n",
    "# This required credentials for the device\n",
    "\n",
    "from pytket.extensions.quantinuum import QuantinuumBackend, Language\n",
    "\n",
    "\n",
    "backend = QuantinuumBackend(device_name=\"H1-1SC\")\n",
    "backend.login()\n"
   ]
  },
  {
   "cell_type": "code",
   "execution_count": 8,
   "id": "6271cd9e-20af-451b-92b1-289fde0e83cc",
   "metadata": {},
   "outputs": [
    {
     "name": "stdout",
     "output_type": "stream",
     "text": [
      "('5091ebd67d104e39a728c8747fdbd238', 'null', -1, 'null')\n",
      "[[0]\n",
      " [0]\n",
      " [0]\n",
      " [0]\n",
      " [0]\n",
      " [0]\n",
      " [0]\n",
      " [0]\n",
      " [0]\n",
      " [0]]\n"
     ]
    }
   ],
   "source": [
    "# convert the qir string to base64 binary, which is expected by the device\n",
    "\n",
    "from llvmlite.binding import create_context, parse_assembly\n",
    "from base64 import b64encode\n",
    "\n",
    "ctx = create_context()\n",
    "module = parse_assembly(guppy_qir, context=ctx)\n",
    "ir = module.as_bitcode()\n",
    "qir = b64encode(ir).decode(\"utf-8\")\n",
    "\n",
    "h = backend.submit_program(Language.QIR, qir, n_shots=10)\n",
    "r = backend.get_result(h)\n",
    "shots = r.get_shots()\n",
    "assert len(shots) == 10\n",
    "print(h)\n",
    "print(shots)"
   ]
  },
  {
   "cell_type": "code",
   "execution_count": null,
   "id": "491d9141-9637-40a8-9581-49967ec4b62c",
   "metadata": {},
   "outputs": [],
   "source": []
  },
  {
   "cell_type": "code",
   "execution_count": 9,
   "id": "5ed13976-8439-4a52-8189-81d6fac99244",
   "metadata": {},
   "outputs": [],
   "source": [
    "import sys\n",
    "from typing import no_type_check\n",
    "\n",
    "from guppylang import guppy, quantum, qubit\n",
    "from guppylang.std.angles import angles\n",
    "from guppylang.std.builtins import result\n",
    "from guppylang.std.quantum import h, measure\n",
    "\n",
    "guppy.load(quantum)\n",
    "guppy.load(angles)\n",
    "\n",
    "\n",
    "@guppy\n",
    "@no_type_check\n",
    "def main() -> None:\n",
    "    q0 = qubit()\n",
    "    q1 = qubit()\n",
    "\n",
    "    for _ in range(10):\n",
    "        q3 = qubit()\n",
    "        h(q3)\n",
    "        b = measure(q3)\n",
    "        if b:\n",
    "            h(q0)\n",
    "\n",
    "    result(\"0\", measure(q0))\n",
    "    result(\"1\", measure(q1))\n",
    "\n"
   ]
  },
  {
   "cell_type": "code",
   "execution_count": 13,
   "id": "f65a2c40-26ae-4f0b-be28-9ab39a3c6da9",
   "metadata": {},
   "outputs": [],
   "source": [
    "# currently it is not supported to convert guppy containing loops into QIR that is understood by H1 and H2.\n",
    "# Running this example shows the expected error.\n",
    "\n",
    "hugr = guppy.get_module().compile().package.to_bytes()\n",
    "\n",
    "guppy_qir = hugr_to_qir(hugr, validate_qir=True)\n"
   ]
  },
  {
   "cell_type": "code",
   "execution_count": null,
   "id": "39293b0a-164a-46ec-8e92-445d9831e4f5",
   "metadata": {},
   "outputs": [],
   "source": []
  },
  {
   "cell_type": "code",
   "execution_count": null,
   "id": "41212c3f-61c8-4924-8bbb-f2962d8e6fc1",
   "metadata": {},
   "outputs": [],
   "source": []
  },
  {
   "cell_type": "code",
   "execution_count": null,
   "id": "d4bcb1f6-281b-48a9-9a3f-f9f11763a02b",
   "metadata": {},
   "outputs": [],
   "source": []
  },
  {
   "cell_type": "code",
   "execution_count": null,
   "id": "0cc29011-3ca0-4c94-856a-3a20e863e017",
   "metadata": {},
   "outputs": [],
   "source": []
  },
  {
   "cell_type": "code",
   "execution_count": null,
   "id": "b8860b50-493a-48b7-8ef4-4a903bd29423",
   "metadata": {},
   "outputs": [],
   "source": []
  },
  {
   "cell_type": "code",
   "execution_count": null,
   "id": "4917720d-c599-4f25-a09b-4a5b2593db15",
   "metadata": {},
   "outputs": [],
   "source": []
  },
  {
   "cell_type": "code",
   "execution_count": null,
   "id": "16eac6b2-ef7e-4a24-b6f5-fb1c314d068c",
   "metadata": {},
   "outputs": [],
   "source": []
  },
  {
   "cell_type": "code",
   "execution_count": null,
   "id": "f88c8ca8-b767-4128-8d95-51a2540500b4",
   "metadata": {},
   "outputs": [],
   "source": []
  },
  {
   "cell_type": "code",
   "execution_count": null,
   "id": "417f4892-20a7-4dcf-b146-fbb17cd0bca4",
   "metadata": {},
   "outputs": [],
   "source": []
  },
  {
   "cell_type": "code",
   "execution_count": null,
   "id": "add233e9-1281-4336-9e44-a6d5a26c1107",
   "metadata": {},
   "outputs": [],
   "source": []
  },
  {
   "cell_type": "code",
   "execution_count": null,
   "id": "6d94dee9-0863-460c-9b02-46497c718bd7",
   "metadata": {},
   "outputs": [],
   "source": []
  },
  {
   "cell_type": "code",
   "execution_count": null,
   "id": "4676b3cb-023a-40ba-8285-a9fa486abdfd",
   "metadata": {},
   "outputs": [],
   "source": []
  }
 ],
 "metadata": {
  "kernelspec": {
   "display_name": "Python 3 (ipykernel)",
   "language": "python",
   "name": "python3"
  },
  "language_info": {
   "codemirror_mode": {
    "name": "ipython",
    "version": 3
   },
   "file_extension": ".py",
   "mimetype": "text/x-python",
   "name": "python",
   "nbconvert_exporter": "python",
   "pygments_lexer": "ipython3",
   "version": "3.12.9"
  }
 },
 "nbformat": 4,
 "nbformat_minor": 5
}
