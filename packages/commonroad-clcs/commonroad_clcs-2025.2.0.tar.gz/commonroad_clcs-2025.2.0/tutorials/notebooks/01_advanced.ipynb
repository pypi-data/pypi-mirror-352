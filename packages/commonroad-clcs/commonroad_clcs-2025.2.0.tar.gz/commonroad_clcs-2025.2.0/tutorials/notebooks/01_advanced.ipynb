{
 "cells": [
  {
   "cell_type": "markdown",
   "id": "47c6dda6-ba8a-49d3-aae4-bc842ec244eb",
   "metadata": {},
   "source": [
    "# CommonRoad CLCS - Additional Features"
   ]
  },
  {
   "cell_type": "markdown",
   "id": "19588dab-c12d-4c56-bae8-9ecfe3bb4fc4",
   "metadata": {},
   "source": [
    "In this tutorial we show some additional features of our packages, which can be useful for developing and debugging when using curvilinear coordinate systems for different applications (e.g., for motion planning, predicition etc...)."
   ]
  },
  {
   "cell_type": "markdown",
   "id": "199ec118-1fcf-4b05-a5f4-62e097b208f9",
   "metadata": {},
   "source": [
    "### Create CLCS for an example scenario"
   ]
  },
  {
   "cell_type": "markdown",
   "id": "f57fa575-392e-4c98-8275-0b1cd63e8cf5",
   "metadata": {},
   "source": [
    "Load scenario"
   ]
  },
  {
   "cell_type": "code",
   "execution_count": null,
   "id": "d899fa15-b8a9-45df-be0a-59cea3708b79",
   "metadata": {},
   "outputs": [],
   "source": [
    "import os\n",
    "from commonroad.common.file_reader import CommonRoadFileReader\n",
    "\n",
    "# Load scenario\n",
    "scenario_name = 'ZAM_Tjunction-1_42_T-1.xml'\n",
    "file_path = os.path.join(os.getcwd(), \"../\", scenario_name)\n",
    "scenario, planning_problem_set = CommonRoadFileReader(file_path).open()\n",
    "planning_problem = list(planning_problem_set.planning_problem_dict.values())[0]"
   ]
  },
  {
   "cell_type": "markdown",
   "id": "e92b7ab8-b30a-48c4-a44b-03f8c14d8a8f",
   "metadata": {},
   "source": [
    "Plan initial reference path"
   ]
  },
  {
   "cell_type": "code",
   "execution_count": null,
   "id": "2048709d-e55e-4be2-ad56-670174ec22bb",
   "metadata": {},
   "outputs": [],
   "source": [
    "from commonroad_route_planner.route_planner import RoutePlanner\n",
    "from commonroad_route_planner.reference_path_planner import ReferencePathPlanner\n",
    "\n",
    "# Plan initial reference path\n",
    "routes = RoutePlanner(scenario.lanelet_network, planning_problem).plan_routes()\n",
    "ref_path = ReferencePathPlanner(\n",
    "    lanelet_network=scenario.lanelet_network,\n",
    "    planning_problem=planning_problem,\n",
    "    routes=routes\n",
    ").plan_shortest_reference_path().reference_path"
   ]
  },
  {
   "cell_type": "markdown",
   "id": "d51c2bd0-fcef-4bd7-b0e5-3315419d7bc9",
   "metadata": {},
   "source": [
    "Initialize parameter object"
   ]
  },
  {
   "cell_type": "code",
   "execution_count": null,
   "id": "b875d817-fe94-4835-abe5-2f84c7afcd7f",
   "metadata": {},
   "outputs": [],
   "source": [
    "from commonroad_clcs.config import (\n",
    "    CLCSParams,\n",
    "    ProcessingOption,\n",
    "    ResamplingOption\n",
    ")\n",
    "\n",
    "# initialize CLCS params\n",
    "params = CLCSParams()"
   ]
  },
  {
   "cell_type": "markdown",
   "id": "0c521451-c105-49f9-bf6b-d492a8aa811b",
   "metadata": {},
   "source": [
    "Pre-process reference path. As an example we smooth the path using curve subdivision and resample it adaptively"
   ]
  },
  {
   "cell_type": "code",
   "execution_count": null,
   "id": "11d71713-345d-44a9-981f-1e5c1faf89da",
   "metadata": {},
   "outputs": [],
   "source": [
    "from commonroad_clcs.ref_path_processing.factory import ProcessorFactory\n",
    "\n",
    "# set pre-processing options and call processor\n",
    "params.processing_option = ProcessingOption.CURVE_SUBDIVISION\n",
    "params.subdivision.max_curvature = 0.125\n",
    "params.resampling.option = ResamplingOption.ADAPTIVE\n",
    "ref_path_processor = ProcessorFactory.create_processor(params)\n",
    "ref_path = ref_path_processor(ref_path)"
   ]
  },
  {
   "cell_type": "markdown",
   "id": "9bfa5744-c268-4f75-8e25-a307611e80e4",
   "metadata": {},
   "source": [
    "When creating the CLCS, we can set the logging level for the C++ backend which can be helpful for debugging (\"off\" by default)."
   ]
  },
  {
   "cell_type": "code",
   "execution_count": null,
   "id": "25695760-9e77-47fd-990a-8f2696d4f8d4",
   "metadata": {},
   "outputs": [],
   "source": [
    "from commonroad_clcs.clcs import CurvilinearCoordinateSystem\n",
    "\n",
    "# log level\n",
    "params.logging_level = \"info\"  # \"debug\"\n",
    "# proj domain computation method for visualization below\n",
    "params.method = 2\n",
    "curvilinear_cosy = CurvilinearCoordinateSystem(\n",
    "    reference_path=ref_path,\n",
    "    params=params,\n",
    "    preprocess_path=False\n",
    ")"
   ]
  },
  {
   "cell_type": "markdown",
   "id": "77ff4ca6-7862-40f9-840f-3c11fa40c770",
   "metadata": {},
   "source": [
    "### Visualize unique projection domain"
   ]
  },
  {
   "cell_type": "markdown",
   "id": "f0509dbd-acaf-499f-a0eb-bddd76e3d011",
   "metadata": {},
   "source": [
    "The projection domain is the area in which points can be transformed from the Cartesian to the curvilinear frame (and vice-versa) uniquely. Depending on the shape (i.e., the curvature profile) of the reference path, there may be areas where points can not be transformed uniquely, which can lead to problems for downstream tasks (e.g., trajectory generation, collision checking...)\n",
    "\n",
    "For debugging purposes, it can be helpful to visualize an approximation of the projection domain (shown in orange): "
   ]
  },
  {
   "cell_type": "code",
   "execution_count": null,
   "id": "3ac98df2-5586-4a72-85ae-6e5043b9071c",
   "metadata": {},
   "outputs": [],
   "source": [
    "from commonroad.visualization.mp_renderer import MPRenderer\n",
    "from commonroad_clcs.helper.visualization import plot_scenario_and_clcs\n",
    "\n",
    "rnd = MPRenderer(figsize=(7, 10), plot_limits=[-6, 34.0, -10, 55])\n",
    "plot_scenario_and_clcs(\n",
    "    scenario,\n",
    "    curvilinear_cosy,\n",
    "    renderer=rnd,\n",
    "    proj_domain_plot=\"full\"\n",
    ")"
   ]
  },
  {
   "cell_type": "markdown",
   "id": "0fdd6748-7e5b-42f2-886a-679a19c675b3",
   "metadata": {},
   "source": [
    "### Plot reference path states"
   ]
  },
  {
   "cell_type": "markdown",
   "id": "fc97bfc7-1eb4-4d85-9bf8-2372c99f8c44",
   "metadata": {},
   "source": [
    "It can also be helpful to investigate the properties of the reference path (orientation, curvature and curvature rate) to check whether the path is sufficiently smooth or contains jerky parts."
   ]
  },
  {
   "cell_type": "code",
   "execution_count": null,
   "id": "1bd4d24e-80c1-40c7-98e0-7d55c240225f",
   "metadata": {},
   "outputs": [],
   "source": [
    "curvilinear_cosy.plot_reference_states()"
   ]
  }
 ],
 "metadata": {
  "kernelspec": {
   "display_name": "Python 3 (ipykernel)",
   "language": "python",
   "name": "python3"
  },
  "language_info": {
   "codemirror_mode": {
    "name": "ipython",
    "version": 3
   },
   "file_extension": ".py",
   "mimetype": "text/x-python",
   "name": "python",
   "nbconvert_exporter": "python",
   "pygments_lexer": "ipython3",
   "version": "3.11.11"
  }
 },
 "nbformat": 4,
 "nbformat_minor": 5
}
