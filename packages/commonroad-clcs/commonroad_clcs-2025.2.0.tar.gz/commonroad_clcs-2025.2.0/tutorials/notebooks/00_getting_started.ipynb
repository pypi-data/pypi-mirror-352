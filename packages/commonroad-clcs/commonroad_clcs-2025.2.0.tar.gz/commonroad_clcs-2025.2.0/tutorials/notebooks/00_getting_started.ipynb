{
 "cells": [
  {
   "cell_type": "markdown",
   "id": "9a7b34d0-e194-42b9-9210-ac09ff87ad37",
   "metadata": {},
   "source": [
    "# CommonRoad CLCS - Getting Started"
   ]
  },
  {
   "cell_type": "markdown",
   "id": "8c294a06-e681-4c7a-80da-1340d254a297",
   "metadata": {},
   "source": [
    "This tutorial shows you how to create a curvilinear coordinate system using CommonRoad scenarios. The curvilinear coordinate system is aligned with a given reference path. Any point (x,y) in the cartesian frame is described by the coordinates (s,d) in the curvilinear frame, where s is the arc length along the reference path and d the lateral deviation to the reference path.\n",
    "\n",
    "Before starting this tutorial, make sure that you have gone through the tutorial for CommonRoad-IO and have installed all necessary dependencies according to the installation manual.\n",
    "\n",
    "This tutorial further requires the [commonroad-route-planner](https://commonroad.in.tum.de/tools/route-planner): Please make sure you have installed it in your environment."
   ]
  },
  {
   "cell_type": "markdown",
   "id": "2e8e76eb-ffcd-4645-875a-033f17d7ece6",
   "metadata": {},
   "source": [
    "## 1. Imports"
   ]
  },
  {
   "cell_type": "code",
   "execution_count": null,
   "id": "7b327fc7-f282-4b9e-85c7-02fe1041ed44",
   "metadata": {
    "scrolled": true
   },
   "outputs": [],
   "source": [
    "%matplotlib inline\n",
    "\n",
    "import os\n",
    "from matplotlib import pyplot as plt\n",
    "\n",
    "# commonroad-io\n",
    "from commonroad.common.file_reader import CommonRoadFileReader\n",
    "from commonroad.visualization.mp_renderer import MPRenderer\n",
    "\n",
    "# commonroad-route-planner\n",
    "from commonroad_route_planner.route_planner import RoutePlanner\n",
    "from commonroad_route_planner.reference_path_planner import ReferencePathPlanner\n",
    "\n",
    "# commonroad-clcs\n",
    "from commonroad_clcs.clcs import CurvilinearCoordinateSystem\n",
    "from commonroad_clcs.ref_path_processing.factory import ProcessorFactory\n",
    "from commonroad_clcs.helper.visualization import plot_scenario_and_clcs\n",
    "from commonroad_clcs.config import (\n",
    "    CLCSParams,\n",
    "    ProcessingOption,\n",
    "    ResamplingOption\n",
    ")"
   ]
  },
  {
   "cell_type": "markdown",
   "id": "6fb58afe-f1cf-4219-b10d-b053f62edc26",
   "metadata": {},
   "source": [
    "## 2. Load CommonRoad scenario"
   ]
  },
  {
   "cell_type": "code",
   "execution_count": null,
   "id": "fb696a98-2386-48ae-813d-09e0a75c8a6d",
   "metadata": {},
   "outputs": [],
   "source": [
    "# scenario name\n",
    "scenario_name = 'USA_US101-3_1_T-1.xml'\n",
    "\n",
    "# load scenario and planning problem\n",
    "file_path = os.path.join(os.getcwd(), \"../\", scenario_name)\n",
    "scenario, planning_problem_set = CommonRoadFileReader(file_path).open()\n",
    "planning_problem = list(planning_problem_set.planning_problem_dict.values())[0]"
   ]
  },
  {
   "cell_type": "markdown",
   "id": "de408d99-e528-4e1f-a762-77a4addf460e",
   "metadata": {},
   "source": [
    "## 3. Plan initial reference path"
   ]
  },
  {
   "cell_type": "markdown",
   "id": "a96b2b83-22f4-496a-9571-b8614051c532",
   "metadata": {},
   "source": [
    "Constructing a curvilinear coordinate system requires a reference path. In our case, reference paths are represented by 2d-polylines, i.e., list of points in (x, y) Cartesian coordinates.\n",
    "\n",
    "A reference path can be any polyline, e.g., the centerline of a lane or a route within the lanelet network. In this tutorial we generate an initial reference path using the commonroad-route-planner, which creates a reference path for the scenario leading from the initial position to the goal region."
   ]
  },
  {
   "cell_type": "code",
   "execution_count": null,
   "id": "878d4da6-e06e-4de3-9f91-d203a87c5ee7",
   "metadata": {},
   "outputs": [],
   "source": [
    "# plan routes and reference path\n",
    "routes = RoutePlanner(scenario.lanelet_network, planning_problem).plan_routes()\n",
    "ref_path = ReferencePathPlanner(\n",
    "    lanelet_network=scenario.lanelet_network,\n",
    "    planning_problem=planning_problem,\n",
    "    routes=routes\n",
    ").plan_shortest_reference_path().reference_path"
   ]
  },
  {
   "cell_type": "markdown",
   "id": "d45aeec4-0883-4774-9631-dceaaf85fcd2",
   "metadata": {},
   "source": [
    "## 4. Pre-process reference path"
   ]
  },
  {
   "cell_type": "markdown",
   "id": "3ff76730-5ff4-4a9e-82e9-6c83ce5217ee",
   "metadata": {},
   "source": [
    "The polyline of the initial reference path from the map or from the route planner is not necessarilly suited to construct a CLCS. Issues such as discontinuities, insufficient smoothness of curvature or too many points lead to problems when using the curvilinear frame.\n",
    "\n",
    "Our package has various methods for pre-processing the reference path w.r.t. the aforementioned issues (see `commonroad_clcs/ref_path_processing/`.\n",
    "\n",
    "For demonstration, we here use a simple B-spline smoothing followed by an adaptive resampling (i.e., increased sampling density for higher curvature parts). "
   ]
  },
  {
   "cell_type": "code",
   "execution_count": null,
   "id": "0dc95620-6783-4195-80e3-eb2345ee8405",
   "metadata": {},
   "outputs": [],
   "source": [
    "# initialize default CLCS parameter\n",
    "params = CLCSParams()"
   ]
  },
  {
   "cell_type": "markdown",
   "id": "ca301d1e-d8cc-4042-8515-fdea49376810",
   "metadata": {},
   "source": [
    "We now set the desired processing options in the parameter sctruct and invoke the reference path processing:"
   ]
  },
  {
   "cell_type": "code",
   "execution_count": null,
   "id": "d32acfad-662f-41f5-a964-685aa13a63f8",
   "metadata": {},
   "outputs": [],
   "source": [
    "# set options (see config.py for other possible parameters)\n",
    "params.processing_option = ProcessingOption.SPLINE_SMOOTHING\n",
    "params.resampling.option = ResamplingOption.ADAPTIVE\n",
    "\n",
    "# pre-process reference path\n",
    "ref_path_processor = ProcessorFactory.create_processor(params)\n",
    "ref_path = ref_path_processor(ref_path)"
   ]
  },
  {
   "cell_type": "markdown",
   "id": "44c3903c-191a-4eec-8515-24dbd74b8d3d",
   "metadata": {},
   "source": [
    "## 5. Construct CLCS "
   ]
  },
  {
   "cell_type": "markdown",
   "id": "00a9cd52-bea8-495b-9c82-6acb98caeb9b",
   "metadata": {},
   "source": [
    "We now construct the curvilinear coordinate system object and show how to transform an exemplary point from Cartesian to Curvilinear and vice-versa."
   ]
  },
  {
   "cell_type": "code",
   "execution_count": null,
   "id": "f4524f7a-b4b1-40d7-b058-f8ad8238f359",
   "metadata": {},
   "outputs": [],
   "source": [
    "# construct CLCS\n",
    "# (we set preprocess_path = False, since we have already done a pre-processing in the previous section)\n",
    "curvilinear_cosy = CurvilinearCoordinateSystem(\n",
    "    reference_path=ref_path,\n",
    "    params=params,\n",
    "    preprocess_path=False\n",
    ")"
   ]
  },
  {
   "cell_type": "markdown",
   "id": "ac515268-e2cc-4b15-8a3f-76f070abb493",
   "metadata": {},
   "source": [
    "We now transform an exemplary Cartesian point given by it's (x, y) coordinates:"
   ]
  },
  {
   "cell_type": "code",
   "execution_count": null,
   "id": "db77b116-dd20-4bf6-95bd-2e8246c7e689",
   "metadata": {},
   "outputs": [],
   "source": [
    "# Cartesian point\n",
    "cartesian_pt = [20.0, -40.0]\n",
    "# transform to curvilinear\n",
    "curvilinear_pt = curvilinear_cosy.convert_to_curvilinear_coords(cartesian_pt[0], cartesian_pt[1])\n",
    "# get projected point on reference path in Cartesian coordinates\n",
    "projected_pt = curvilinear_cosy.convert_to_cartesian_coords(curvilinear_pt[0], 0.0)"
   ]
  },
  {
   "cell_type": "markdown",
   "id": "9ba8936f-545e-4414-a72e-09041dea3f6d",
   "metadata": {},
   "source": [
    "## 6. Visualize "
   ]
  },
  {
   "cell_type": "markdown",
   "id": "e0335e43-41b2-4a5b-849a-e707bc1c8fbc",
   "metadata": {},
   "source": [
    "We visualize the scenario with the CLCS as well as the transformed point"
   ]
  },
  {
   "cell_type": "code",
   "execution_count": null,
   "id": "633fd567-13bd-420f-acf0-357a50789ba3",
   "metadata": {},
   "outputs": [],
   "source": [
    "# plot scenario with CLCS\n",
    "rnd = MPRenderer(figsize=(7, 10), plot_limits=[0.0, 80.0, -80.0, 0.0])\n",
    "plot_scenario_and_clcs(\n",
    "    scenario,\n",
    "    curvilinear_cosy,\n",
    "    renderer=rnd,\n",
    "    proj_domain_plot=None\n",
    ")\n",
    "# plot transformed point\n",
    "rnd.ax.plot([cartesian_pt[0], projected_pt[0]], [cartesian_pt[1], projected_pt[1]],\n",
    "            zorder=100, linewidth=2, marker='.', markersize=9, color='red')\n",
    "plt.show()"
   ]
  },
  {
   "cell_type": "code",
   "execution_count": null,
   "id": "88a6694f-ca2e-46d4-b520-1c00856932c8",
   "metadata": {},
   "outputs": [],
   "source": [
    "from commonroad_clcs.util import compute_segment_intervals_from_polyline\n",
    "import numpy as np \n",
    "bla = compute_segment_intervals_from_polyline(ref_path)\n",
    "\n",
    "print(np.max(bla))\n",
    "print(np.min(bla))"
   ]
  }
 ],
 "metadata": {
  "kernelspec": {
   "display_name": "Python 3 (ipykernel)",
   "language": "python",
   "name": "python3"
  },
  "language_info": {
   "codemirror_mode": {
    "name": "ipython",
    "version": 3
   },
   "file_extension": ".py",
   "mimetype": "text/x-python",
   "name": "python",
   "nbconvert_exporter": "python",
   "pygments_lexer": "ipython3",
   "version": "3.11.11"
  }
 },
 "nbformat": 4,
 "nbformat_minor": 5
}
