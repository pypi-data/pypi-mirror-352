{
 "cells": [
  {
   "cell_type": "markdown",
   "metadata": {},
   "source": [
    "# MQTT credential CRUD\n",
    "This module provides a comprehensive solution for managing MQTT credentials through Create, Retrieve, Update, and Delete (CRUD) operations. It leverages the `pycarta` library to interact with the backend via CartaAgent. Key functionalities include:\n",
    "\n",
    "- **Authentication**: Establish secure communication using environment-based credentials.\n",
    "- **Create**: Upload MQTT credentials from files, with options to overwrite or preserve existing data.\n",
    "- **Retrieve**: List available credentials, fetch them as strings, or save them to files for local use.\n",
    "- **Update**: Modify specific credential attributes while preserving others.\n",
    "- **Delete**: Remove all credentials and validate successful deletion.\n",
    "\n",
    "This module ensures secure, flexible, and automated credential lifecycle management, designed for use in IoT systems and broader CI/CD pipelines.\n",
    "\n",
    "Below is a simple setup and workflow for CRUD operations for MQTT credentials in the testing environment."
   ]
  },
  {
   "cell_type": "code",
   "execution_count": 1,
   "metadata": {},
   "outputs": [
    {
     "name": "stderr",
     "output_type": "stream",
     "text": [
      "INFO:__main__:Successfully authenticated with Carta host: https://api.sandbox.carta.contextualize.us.com.\n"
     ]
    }
   ],
   "source": [
    "import logging\n",
    "import os\n",
    "from pycarta import login\n",
    "\n",
    "# Configure the root logger to WARNING or INFO\n",
    "logging.basicConfig(\n",
    "    level=logging.INFO,\n",
    "    format='%(levelname)s:%(name)s:%(message)s'\n",
    ")\n",
    "logger = logging.getLogger(__name__)\n",
    "\n",
    "# 1. Authenticate with Carta. Use your own credentials here.\n",
    "carta_root_username = os.getenv(\"CARTA_CHEN_USERNAME\")\n",
    "carta_root_password = os.getenv(\"CARTA_CHEN_PASSWORD\")\n",
    "base_url_dev = os.getenv(\"CARTA_HOST_DEV\", \"https://api.sandbox.carta.contextualize.us.com\")\n",
    "base_url_prod = os.getenv(\"CARTA_HOST_PROD\", \"https://api.carta.contextualize.us.com\")\n",
    "carta_host = base_url_dev  # Use base_url_dev for development environment, and use base_url_prod for production environment\n",
    "\n",
    "if not all([carta_root_username, carta_root_password]):\n",
    "    logger.error(\"CARTA_ROOT_USERNAME and CARTA_ROOT_PASSWORD environment variables must be set.\")\n",
    "else:\n",
    "    login(username=carta_root_username, password=carta_root_password, host=carta_host)\n",
    "    logger.info(f\"Successfully authenticated with Carta host: {carta_host}.\")"
   ]
  },
  {
   "cell_type": "code",
   "execution_count": 2,
   "metadata": {},
   "outputs": [],
   "source": [
    "import pycarta.mqtt.credential as credential\n",
    "\n",
    "# Define the directory path containing the credential files\n",
    "credential_dir = \"mb33-thing301\"\n",
    "\n",
    "# Define the file paths relative to the directory\n",
    "file_paths = {\n",
    "    \"broker_address\": \"broker_address.pem\",\n",
    "    \"certificate\": \"34c68a3ca20dfafa5a327c03529649d206b13a789c08df92be63bbea2514cb3d-certificate.pem.crt\",\n",
    "    \"private_key\": \"34c68a3ca20dfafa5a327c03529649d206b13a789c08df92be63bbea2514cb3d-private.pem.key\",\n",
    "    \"ca_certificate\": \"AmazonRootCA1.pem\"\n",
    "}\n",
    "\n",
    "# Resolve full file paths using the directory path\n",
    "resolved_file_paths = {key: os.path.join(credential_dir, value) for key, value in file_paths.items()}\n",
    "\n",
    "# Set the tag for the credentials\n",
    "tag = \"mb33-thing301\""
   ]
  },
  {
   "cell_type": "code",
   "execution_count": 3,
   "metadata": {},
   "outputs": [
    {
     "name": "stderr",
     "output_type": "stream",
     "text": [
      "INFO:__main__:Uploading MQTT credentials to tag: mb33-thing301\n",
      "INFO:pycarta.mqtt.credential:Uploaded broker_address successfully to /mqtt_credentials/mb33-thing301.\n",
      "INFO:pycarta.mqtt.credential:Uploaded certificate successfully to /mqtt_credentials/mb33-thing301.\n",
      "INFO:pycarta.mqtt.credential:Uploaded private_key successfully to /mqtt_credentials/mb33-thing301.\n",
      "INFO:pycarta.mqtt.credential:Uploaded ca_certificate successfully to /mqtt_credentials/mb33-thing301.\n",
      "INFO:pycarta.mqtt.credential:Successfully uploaded all MQTT credentials to tag 'mb33-thing301'.\n",
      "INFO:__main__:Upload success: True\n"
     ]
    }
   ],
   "source": [
    "# 1. Upload the credentials\n",
    "logger.info(f\"Uploading MQTT credentials to tag: {tag}\")\n",
    "upload_success = credential.upload_mqtt_credentials(file_paths=resolved_file_paths, tag=tag)\n",
    "logger.info(f\"Upload success: {upload_success}\")"
   ]
  },
  {
   "cell_type": "code",
   "execution_count": 4,
   "metadata": {},
   "outputs": [
    {
     "name": "stderr",
     "output_type": "stream",
     "text": [
      "INFO:__main__:\n",
      "Uploading MQTT credentials without overwrite:\n",
      "WARNING:pycarta.mqtt.credential:broker_address already exists under tag 'mb33-thing301'. Skipping upload.\n",
      "WARNING:pycarta.mqtt.credential:Skipped uploading broker_address from mb33-thing301/broker_address.pem to tag mb33-thing301.\n",
      "WARNING:pycarta.mqtt.credential:certificate already exists under tag 'mb33-thing301'. Skipping upload.\n",
      "WARNING:pycarta.mqtt.credential:Skipped uploading certificate from mb33-thing301/34c68a3ca20dfafa5a327c03529649d206b13a789c08df92be63bbea2514cb3d-certificate.pem.crt to tag mb33-thing301.\n",
      "WARNING:pycarta.mqtt.credential:private_key already exists under tag 'mb33-thing301'. Skipping upload.\n",
      "WARNING:pycarta.mqtt.credential:Skipped uploading private_key from mb33-thing301/34c68a3ca20dfafa5a327c03529649d206b13a789c08df92be63bbea2514cb3d-private.pem.key to tag mb33-thing301.\n",
      "WARNING:pycarta.mqtt.credential:ca_certificate already exists under tag 'mb33-thing301'. Skipping upload.\n",
      "WARNING:pycarta.mqtt.credential:Skipped uploading ca_certificate from mb33-thing301/AmazonRootCA1.pem to tag mb33-thing301.\n",
      "INFO:__main__:Credentials upload skipped due to existing credentials.\n"
     ]
    }
   ],
   "source": [
    "# 1a. Upload MQTT credentials without overwrite\n",
    "logger.info(\"\\nUploading MQTT credentials without overwrite:\")\n",
    "upload_success_no_overwrite = credential.upload_mqtt_credentials(\n",
    "    file_paths=resolved_file_paths,\n",
    "    tag=tag,\n",
    "    overwrite=False\n",
    ")\n",
    "if upload_success_no_overwrite:\n",
    "    logger.info(\"Credentials uploaded successfully without overwrite.\")\n",
    "else:\n",
    "    logger.info(\"Credentials upload skipped due to existing credentials.\")"
   ]
  },
  {
   "cell_type": "code",
   "execution_count": 5,
   "metadata": {},
   "outputs": [
    {
     "name": "stderr",
     "output_type": "stream",
     "text": [
      "INFO:__main__:\n",
      "Uploading MQTT credentials with overwrite:\n",
      "INFO:pycarta.mqtt.credential:Updated broker_address successfully to /mqtt_credentials/mb33-thing301.\n",
      "INFO:pycarta.mqtt.credential:Updated certificate successfully to /mqtt_credentials/mb33-thing301.\n",
      "INFO:pycarta.mqtt.credential:Updated private_key successfully to /mqtt_credentials/mb33-thing301.\n",
      "INFO:pycarta.mqtt.credential:Updated ca_certificate successfully to /mqtt_credentials/mb33-thing301.\n",
      "INFO:pycarta.mqtt.credential:Successfully uploaded all MQTT credentials to tag 'mb33-thing301'.\n",
      "INFO:__main__:Credentials uploaded successfully with overwrite.\n"
     ]
    }
   ],
   "source": [
    "# 1b. Upload MQTT credentials with overwrite\n",
    "logger.info(\"\\nUploading MQTT credentials with overwrite:\")\n",
    "upload_success_with_overwrite = credential.upload_mqtt_credentials(\n",
    "    file_paths=resolved_file_paths,\n",
    "    tag=tag,\n",
    "    overwrite=True\n",
    ")\n",
    "if upload_success_with_overwrite:\n",
    "    logger.info(\"Credentials uploaded successfully with overwrite.\")\n",
    "else:\n",
    "    logger.info(\"Failed to upload credentials with overwrite.\")"
   ]
  },
  {
   "cell_type": "code",
   "execution_count": 6,
   "metadata": {},
   "outputs": [
    {
     "name": "stderr",
     "output_type": "stream",
     "text": [
      "INFO:__main__:\n",
      "Listing all available MQTT credentials with details...\n",
      "INFO:pycarta.mqtt.credential:Available credentials for tag 'mb33-thing301': {'broker_address': {'id': '74ca1634-8f8a-098b-553b-fe6572e6977c', 'name': 'broker_address.pem', 'path': '/mqtt_credentials/mb33-thing301/broker_address.pem'}, 'certificate': {'id': '64ca1634-9017-3372-786c-3a4900df2393', 'name': 'certificate.pem', 'path': '/mqtt_credentials/mb33-thing301/certificate.pem'}, 'private_key': {'id': '90ca1634-909c-7c03-afa5-37a5ef54dd9a', 'name': 'private_key.pem', 'path': '/mqtt_credentials/mb33-thing301/private_key.pem'}, 'ca_certificate': {'id': '6cca1634-911b-68b5-48ac-72224d541b8a', 'name': 'ca_certificate.pem', 'path': '/mqtt_credentials/mb33-thing301/ca_certificate.pem'}}\n",
      "INFO:pycarta.mqtt.credential:Available credentials for tag 'mb33-thing301': {'broker_address': {'id': '74ca1634-8f8a-098b-553b-fe6572e6977c', 'name': 'broker_address.pem', 'path': '/mqtt_credentials/mb33-thing301/broker_address.pem'}, 'certificate': {'id': '64ca1634-9017-3372-786c-3a4900df2393', 'name': 'certificate.pem', 'path': '/mqtt_credentials/mb33-thing301/certificate.pem'}, 'private_key': {'id': '90ca1634-909c-7c03-afa5-37a5ef54dd9a', 'name': 'private_key.pem', 'path': '/mqtt_credentials/mb33-thing301/private_key.pem'}, 'ca_certificate': {'id': '6cca1634-911b-68b5-48ac-72224d541b8a', 'name': 'ca_certificate.pem', 'path': '/mqtt_credentials/mb33-thing301/ca_certificate.pem'}}\n",
      "INFO:__main__:Available credentials:\n",
      "INFO:__main__:broker_address:\n",
      "INFO:__main__:  ID: 74ca1634-8f8a-098b-553b-fe6572e6977c\n",
      "INFO:__main__:  Name: broker_address.pem\n",
      "INFO:__main__:  Path: /mqtt_credentials/mb33-thing301/broker_address.pem\n",
      "\n",
      "INFO:__main__:certificate:\n",
      "INFO:__main__:  ID: 64ca1634-9017-3372-786c-3a4900df2393\n",
      "INFO:__main__:  Name: certificate.pem\n",
      "INFO:__main__:  Path: /mqtt_credentials/mb33-thing301/certificate.pem\n",
      "\n",
      "INFO:__main__:private_key:\n",
      "INFO:__main__:  ID: 90ca1634-909c-7c03-afa5-37a5ef54dd9a\n",
      "INFO:__main__:  Name: private_key.pem\n",
      "INFO:__main__:  Path: /mqtt_credentials/mb33-thing301/private_key.pem\n",
      "\n",
      "INFO:__main__:ca_certificate:\n",
      "INFO:__main__:  ID: 6cca1634-911b-68b5-48ac-72224d541b8a\n",
      "INFO:__main__:  Name: ca_certificate.pem\n",
      "INFO:__main__:  Path: /mqtt_credentials/mb33-thing301/ca_certificate.pem\n",
      "\n"
     ]
    }
   ],
   "source": [
    "# 2. List all available MQTT credentials\n",
    "logger.info(\"\\nListing all available MQTT credentials with details...\")\n",
    "available_credentials = credential.list_mqtt_credentials(tag=tag)\n",
    "if available_credentials:\n",
    "    logger.info(\"Available credentials:\")\n",
    "    for file_type, details in available_credentials.items():\n",
    "        logger.info(f\"{file_type}:\")\n",
    "        logger.info(f\"  ID: {details['id']}\")\n",
    "        logger.info(f\"  Name: {details['name']}\")\n",
    "        logger.info(f\"  Path: {details['path']}\\n\")\n",
    "else:\n",
    "    logger.info(\"Failed to list available credentials.\")"
   ]
  },
  {
   "cell_type": "code",
   "execution_count": 7,
   "metadata": {},
   "outputs": [
    {
     "name": "stderr",
     "output_type": "stream",
     "text": [
      "INFO:__main__:\n",
      "Retrieving MQTT credentials as strings for tag: mb33-thing301\n",
      "INFO:pycarta.mqtt.credential:Downloaded broker_address successfully from tag 'mb33-thing301' (ID: 74ca1634-8f8a-098b-553b-fe6572e6977c).\n",
      "INFO:pycarta.mqtt.credential:Downloaded certificate successfully from tag 'mb33-thing301' (ID: 64ca1634-9017-3372-786c-3a4900df2393).\n",
      "INFO:pycarta.mqtt.credential:Downloaded private_key successfully from tag 'mb33-thing301' (ID: 90ca1634-909c-7c03-afa5-37a5ef54dd9a).\n",
      "INFO:pycarta.mqtt.credential:Downloaded ca_certificate successfully from tag 'mb33-thing301' (ID: 6cca1634-911b-68b5-48ac-72224d541b8a).\n",
      "INFO:pycarta.mqtt.credential:Successfully retrieved MQTT credentials for tag 'mb33-thing301'.\n",
      "INFO:__main__:Retrieved credentials:\n",
      "INFO:__main__:broker_address:\n",
      "***\n",
      "\n",
      "INFO:__main__:certificate:\n",
      "***\n",
      "\n",
      "INFO:__main__:private_key:\n",
      "***\n",
      "\n",
      "INFO:__main__:ca_certificate:\n",
      "***\n",
      "\n"
     ]
    }
   ],
   "source": [
    "# 3. Retrieve MQTT credentials as strings for a specific tag\n",
    "logger.info(f\"\\nRetrieving MQTT credentials as strings for tag: {tag}\")\n",
    "try:\n",
    "    credentials_data = credential.retrieve_mqtt_credentials(tag=tag)\n",
    "    if credentials_data:\n",
    "        logger.info(\"Retrieved credentials:\")\n",
    "        for key, value in credentials_data.items():\n",
    "            logger.info(f\"{key}:\\n***\\n\")  # Masking actual content\n",
    "    else:\n",
    "        logger.info(f\"No credentials found for tag: {tag}\")\n",
    "except Exception as e:\n",
    "    logger.error(f\"Failed to retrieve credentials for tag {tag}: {e}\")"
   ]
  },
  {
   "cell_type": "code",
   "execution_count": 8,
   "metadata": {},
   "outputs": [
    {
     "name": "stderr",
     "output_type": "stream",
     "text": [
      "INFO:__main__:\n",
      "Retrieving MQTT credentials for tag: mb33-thing301 and saving to files...\n",
      "INFO:pycarta.mqtt.credential:Downloaded broker_address successfully from tag 'mb33-thing301' (ID: 74ca1634-8f8a-098b-553b-fe6572e6977c).\n",
      "INFO:pycarta.mqtt.credential:Saved broker_address to retrieved-credential/broker-address.pem for tag 'mb33-thing301'.\n",
      "INFO:pycarta.mqtt.credential:Downloaded certificate successfully from tag 'mb33-thing301' (ID: 64ca1634-9017-3372-786c-3a4900df2393).\n",
      "INFO:pycarta.mqtt.credential:Saved certificate to retrieved-credential/certificate.pem for tag 'mb33-thing301'.\n",
      "INFO:pycarta.mqtt.credential:Downloaded private_key successfully from tag 'mb33-thing301' (ID: 90ca1634-909c-7c03-afa5-37a5ef54dd9a).\n",
      "INFO:pycarta.mqtt.credential:Saved private_key to retrieved-credential/private_key.pem for tag 'mb33-thing301'.\n",
      "INFO:pycarta.mqtt.credential:Downloaded ca_certificate successfully from tag 'mb33-thing301' (ID: 6cca1634-911b-68b5-48ac-72224d541b8a).\n",
      "INFO:pycarta.mqtt.credential:Saved ca_certificate to retrieved-credential/ca_certificate.pem for tag 'mb33-thing301'.\n",
      "INFO:pycarta.mqtt.credential:Successfully retrieved MQTT credentials for tag 'mb33-thing301'.\n",
      "INFO:__main__:Credentials successfully retrieved and saved to files for tag: mb33-thing301\n"
     ]
    }
   ],
   "source": [
    "# 4. Retrieve MQTT credentials and save them to files for a specific tag\n",
    "file_paths_retrieved = {\n",
    "    \"broker_address\": \"retrieved-credential/broker-address.pem\",\n",
    "    \"certificate\": \"retrieved-credential/certificate.pem\",\n",
    "    \"private_key\": \"retrieved-credential/private_key.pem\",\n",
    "    \"ca_certificate\": \"retrieved-credential/ca_certificate.pem\"\n",
    "}\n",
    "\n",
    "logger.info(f\"\\nRetrieving MQTT credentials for tag: {tag} and saving to files...\")\n",
    "try:\n",
    "    credentials_data = credential.retrieve_mqtt_credentials(tag=tag, file_paths=file_paths_retrieved)\n",
    "    if credentials_data:\n",
    "        logger.info(f\"Credentials successfully retrieved and saved to files for tag: {tag}\")\n",
    "    else:\n",
    "        logger.info(f\"Failed to retrieve or save credentials for tag: {tag}\")\n",
    "except Exception as e:\n",
    "    logger.error(f\"Error retrieving and saving credentials for tag {tag}: {e}\")"
   ]
  },
  {
   "cell_type": "code",
   "execution_count": 9,
   "metadata": {},
   "outputs": [
    {
     "name": "stderr",
     "output_type": "stream",
     "text": [
      "INFO:__main__:\n",
      "Updating MQTT credentials for tag: mb33-thing301\n",
      "INFO:pycarta.mqtt.credential:Updated broker_address successfully to /mqtt_credentials/mb33-thing301.\n",
      "INFO:__main__:Update success: True\n",
      "INFO:__main__:\n",
      "Retrieving updated MQTT credentials for tag: mb33-thing301\n",
      "INFO:pycarta.mqtt.credential:Downloaded broker_address successfully from tag 'mb33-thing301' (ID: 74ca1634-8f8a-098b-553b-fe6572e6977c).\n",
      "INFO:pycarta.mqtt.credential:Downloaded certificate successfully from tag 'mb33-thing301' (ID: 64ca1634-9017-3372-786c-3a4900df2393).\n",
      "INFO:pycarta.mqtt.credential:Downloaded private_key successfully from tag 'mb33-thing301' (ID: 90ca1634-909c-7c03-afa5-37a5ef54dd9a).\n",
      "INFO:pycarta.mqtt.credential:Downloaded ca_certificate successfully from tag 'mb33-thing301' (ID: 6cca1634-911b-68b5-48ac-72224d541b8a).\n",
      "INFO:pycarta.mqtt.credential:Successfully retrieved MQTT credentials for tag 'mb33-thing301'.\n",
      "INFO:__main__:Updated credentials:\n",
      "INFO:__main__:broker_address:\n",
      "***\n",
      "\n",
      "INFO:__main__:certificate:\n",
      "***\n",
      "\n",
      "INFO:__main__:private_key:\n",
      "***\n",
      "\n",
      "INFO:__main__:ca_certificate:\n",
      "***\n",
      "\n"
     ]
    }
   ],
   "source": [
    "# 5. Update specific MQTT credentials\n",
    "update_data = {\n",
    "    \"broker_address\": \"newhost.example.com\",\n",
    "    \"certificate\": None,\n",
    "    \"private_key\": None,\n",
    "    \"ca_certificate\": None\n",
    "}\n",
    "\n",
    "logger.info(f\"\\nUpdating MQTT credentials for tag: {tag}\")\n",
    "try:\n",
    "    update_success = credential.update_mqtt_credentials(updates=update_data, tag=tag)\n",
    "    logger.info(f\"Update success: {update_success}\")\n",
    "\n",
    "    # Verify updated credentials\n",
    "    if update_success:\n",
    "        logger.info(f\"\\nRetrieving updated MQTT credentials for tag: {tag}\")\n",
    "        updated_credentials = credential.retrieve_mqtt_credentials(tag=tag)\n",
    "        if updated_credentials:\n",
    "            logger.info(\"Updated credentials:\")\n",
    "            for key, value in updated_credentials.items():\n",
    "                logger.info(f\"{key}:\\n***\\n\")\n",
    "        else:\n",
    "            logger.info(f\"Failed to retrieve updated credentials for tag: {tag}\")\n",
    "    else:\n",
    "        logger.info(f\"Failed to update credentials for tag: {tag}\")\n",
    "except Exception as e:\n",
    "    logger.error(f\"Error updating credentials for tag {tag}: {e}\")"
   ]
  },
  {
   "cell_type": "code",
   "execution_count": 10,
   "metadata": {},
   "outputs": [
    {
     "name": "stderr",
     "output_type": "stream",
     "text": [
      "INFO:__main__:\n",
      "Deleting all MQTT credentials...\n",
      "INFO:pycarta.mqtt.credential:Deleted broker_address successfully from tag 'mb33-thing301'.\n",
      "INFO:pycarta.mqtt.credential:Deleted certificate successfully from tag 'mb33-thing301'.\n",
      "INFO:pycarta.mqtt.credential:Deleted private_key successfully from tag 'mb33-thing301'.\n",
      "INFO:pycarta.mqtt.credential:Deleted ca_certificate successfully from tag 'mb33-thing301'.\n",
      "INFO:pycarta.mqtt.credential:Successfully deleted all MQTT credentials for tag 'mb33-thing301'.\n",
      "INFO:__main__:Delete success: True\n"
     ]
    }
   ],
   "source": [
    "# 6. Delete all MQTT credentials\n",
    "logger.info(\"\\nDeleting all MQTT credentials...\")\n",
    "delete_success = credential.delete_mqtt_credentials(tag=tag)\n",
    "logger.info(f\"Delete success: {delete_success}\")\n"
   ]
  },
  {
   "cell_type": "code",
   "execution_count": 11,
   "metadata": {},
   "outputs": [
    {
     "name": "stderr",
     "output_type": "stream",
     "text": [
      "INFO:__main__:\n",
      "Verifying deletion of MQTT credentials...\n",
      "WARNING:pycarta.mqtt.credential:broker_address not found on the server under tag 'mb33-thing301'.\n",
      "ERROR:pycarta.mqtt.credential:Failed to retrieve broker_address for tag 'mb33-thing301'.\n",
      "INFO:__main__:All credentials successfully deleted.\n"
     ]
    }
   ],
   "source": [
    "# 7. Verify deletion\n",
    "logger.info(\"\\nVerifying deletion of MQTT credentials...\")\n",
    "deleted_credentials = credential.retrieve_mqtt_credentials(tag=tag)\n",
    "if not deleted_credentials:\n",
    "    logger.info(\"All credentials successfully deleted.\")\n",
    "else:\n",
    "    logger.info(f\"Failed to delete credentials. Remaining: {deleted_credentials}\")"
   ]
  },
  {
   "cell_type": "code",
   "execution_count": 22,
   "metadata": {},
   "outputs": [],
   "source": [
    "# (Optional) Future usage example: create an authenticator agent\n",
    "# from the retrieved credentials, if you want to pass them to an MQTT client\n",
    "#\n",
    "# from pycarta.mqtt.credential import BilateralCredentialAuthenticator\n",
    "# if credentials_data:\n",
    "#     agent = BilateralCredentialAuthenticator(\n",
    "#         ca_cert=credentials_data[CertificateFileType.CA_CERTIFICATE.name.lower()],\n",
    "#         key=credentials_data[CertificateFileType.PRIVATE_KEY.name.lower()],\n",
    "#         cert=credentials_data[CertificateFileType.CERTIFICATE.name.lower()]\n",
    "#     )\n",
    "#     # then pass 'agent' to your publish/subscribe as needed\n",
    "#     # e.g., my_publish(topic=\"...\", agent=agent)\n"
   ]
  }
 ],
 "metadata": {
  "kernelspec": {
   "display_name": "venv",
   "language": "python",
   "name": "python3"
  },
  "language_info": {
   "codemirror_mode": {
    "name": "ipython",
    "version": 3
   },
   "file_extension": ".py",
   "mimetype": "text/x-python",
   "name": "python",
   "nbconvert_exporter": "python",
   "pygments_lexer": "ipython3",
   "version": "3.12.8"
  }
 },
 "nbformat": 4,
 "nbformat_minor": 2
}
