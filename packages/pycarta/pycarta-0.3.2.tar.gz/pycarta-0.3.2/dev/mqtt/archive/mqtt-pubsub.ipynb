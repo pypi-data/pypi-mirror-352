{
 "cells": [
  {
   "cell_type": "code",
   "execution_count": 48,
   "id": "a1a40a68-4882-4108-98da-9a4c6c16abbb",
   "metadata": {},
   "outputs": [],
   "source": [
    "import os\n",
    "import asyncio\n",
    "import json\n",
    "import logging\n",
    "import time\n",
    "\n",
    "# from collections import deque\n",
    "from functools import wraps\n",
    "from paho.mqtt import client as pclient, publish as ppub, subscribe as psub\n",
    "from pydantic import BaseModel\n",
    "from queue import Queue, Full, Empty\n",
    "from typing import Any, Callable, Generator\n",
    "from uuid import uuid4\n",
    "\n",
    "\n",
    "logger = logging.getLogger(__name__)\n",
    "logger.setLevel(os.environ.get(\"DEBUG_LEVEL\", logging.INFO))"
   ]
  },
  {
   "cell_type": "markdown",
   "id": "fb04f504-1a83-4573-8e6f-46a096376075",
   "metadata": {},
   "source": [
    "# README\n",
    "\n",
    "This notebook works in concert with a local MQTT server, like mosquitto. The following instructions assume you are using mosquitto, but other implementations will have equivalent functions.\n",
    "\n",
    "Start the mosquitto server: `mosquitto`\n",
    "\n",
    "Other instructions are provided where they're necessary."
   ]
  },
  {
   "cell_type": "code",
   "execution_count": 49,
   "id": "ee334393-be52-48a8-9506-3c7078d5b659",
   "metadata": {},
   "outputs": [],
   "source": [
    "# Note: I have not tested whether reconnect is necessary or if that is handled\n",
    "# automatically when the client is created.\n",
    "\n",
    "class MQTTConnection:\n",
    "    FIRST_RECONNECT_DELAY = int(os.environ.get(\"FIRST_RECONNECT_DELAY\", 1))\n",
    "    RECONNECT_RATE = int(os.environ.get(\"RECONNECT_RATE\", 2)) # scales subsequent reconnect attempts\n",
    "    MAX_RECONNECT_COUNT = int(os.environ.get(\"MAX_RECONNECT_COUNT\", 12))\n",
    "    MAX_RECONNECT_DELAY = int(os.environ.get(\"MAX_RECONNECT_DELAY\", 60))\n",
    "\n",
    "    class ConnectInfo(BaseModel):\n",
    "        userdata: Any\n",
    "        flags: Any\n",
    "        return_code: Any\n",
    "        properties: Any\n",
    "\n",
    "    def __init__(self, topic: str, *, host: str=\"localhost\", port: int=1883):\n",
    "        self.topic: str = str(topic)\n",
    "        self.host: str = str(host)\n",
    "        self.port: int = int(port)\n",
    "        self.client: pclient.Client = pclient.Client(\n",
    "            callback_api_version=pclient.CallbackAPIVersion.VERSION2,\n",
    "            client_id=str(uuid4()),\n",
    "        )\n",
    "        self.connect_info: None | MQTTConnection.ConnectInfo = None\n",
    "\n",
    "    def __del__(self):\n",
    "        self.disconnect()\n",
    "\n",
    "    def connect(self):\n",
    "        if self.client.is_connected():\n",
    "            return\n",
    "        # self.client.on_connect = self._on_connect\n",
    "        # self.client.on_disconnect = self._attempt_reconnect\n",
    "        self.client.connect(self.host, self.port)\n",
    "\n",
    "    def reconnect(self):\n",
    "        self.disconnect()\n",
    "        self.connect()\n",
    "\n",
    "    def disconnect(self):\n",
    "        # self.client.on_disconnect = self._disconnect\n",
    "        if self.client.is_connected():\n",
    "            self.client.disconnect()\n",
    "            self.connect_info = None\n",
    "\n",
    "    def _on_connect(self, client, userdata, flags, rc, properties) -> None:\n",
    "        if not rc:\n",
    "            self.connect_info = MQTTConnection.ConnectInfo(\n",
    "                userdata=userdata,\n",
    "                flags=flags,\n",
    "                return_code=rc,\n",
    "                properties=properties,\n",
    "            )\n",
    "            logger.info(f\"Connected {userdata} to {self.host}:{self.port}\")\n",
    "\n",
    "    def _attempt_reconnect(self, client, userdata, rc, properties) -> None:\n",
    "        cls = type(self)\n",
    "        logger.info(f\"Disconnected MQTT connection with return code {rc}.\")\n",
    "        reconnect_count, reconnect_delay = 0, cls.FIRST_RECONNECT_DELAY\n",
    "        while reconnect_count < cls.MAX_RECONNECT_COUNT:\n",
    "            logger.info(f\"Reconnecting in {reconnect_delay} seconds...\")\n",
    "            time.sleep(reconnect_delay)\n",
    "            try:\n",
    "                self.client.reconnect()\n",
    "                logger.info(\"Reconnect successful\")\n",
    "                return\n",
    "            except Exception as err:\n",
    "                logger.error(f\"({str(err)}) Reconnect failed. Retrying...\")\n",
    "\n",
    "            reconnect_delay *= cls.RECONNECT_RATE\n",
    "            reconnect_delay = min(reconnect_delay, cls.MAX_RECONNECT_DELAY)\n",
    "            reconnect_count += 1\n",
    "        self.connect_info = None\n",
    "        logging.info(f\"Reconnect failed after {reconnect_count} attempts. \"\n",
    "                     f\"Exiting...\")\n",
    "\n",
    "    def _disconnect(self, client, userdata, rc, properties) -> None:\n",
    "        logging.info(f\"Disconnected MQTT connection with return code {rc}.\")"
   ]
  },
  {
   "cell_type": "markdown",
   "id": "3d69d20a-b134-490e-b0ae-d5edd973d585",
   "metadata": {},
   "source": [
    "# Pub-Sub"
   ]
  },
  {
   "cell_type": "code",
   "execution_count": 50,
   "id": "f7372bcc-03ef-4977-8d3b-33712f152b58",
   "metadata": {},
   "outputs": [],
   "source": [
    "class PubSubStopIteration(StopIteration, StopAsyncIteration):\n",
    "    pass"
   ]
  },
  {
   "cell_type": "markdown",
   "id": "c0488450-b0e8-448a-a73c-d8c3b9ab611e",
   "metadata": {},
   "source": [
    "## Publisher\n",
    "\n",
    "Start the MQTT subscriber: `mosquitto_sub -t '#'`"
   ]
  },
  {
   "cell_type": "code",
   "execution_count": 51,
   "id": "e102594e-e132-405f-85d0-7505aa4bd19e",
   "metadata": {},
   "outputs": [],
   "source": [
    "class SerializationError(Exception):\n",
    "    pass\n",
    "\n",
    "class PublishError(Exception):\n",
    "    pass\n",
    "\n",
    "class PublishSuccess(Exception):\n",
    "    pass\n",
    "\n",
    "class publish(MQTTConnection):\n",
    "    FIRST_RETRY_DELAY = int(os.environ.get(\"FIRST_RETRY_DELAY\", 1))\n",
    "    RETRY_RATE = int(os.environ.get(\"RETRY_RATE\", 2)) # scales subsequent reconnect attempts\n",
    "    MAX_RETRY_COUNT = int(os.environ.get(\"MAX_RETRY_COUNT\", 12))\n",
    "    MAX_RETRY_DELAY = int(os.environ.get(\"MAX_RETRY_DELAY\", 60))\n",
    "    \n",
    "    def __init__(self,\n",
    "                 topic: str, *, host: str=\"localhost\", port: int=1883,  # MQTT\n",
    "                 serializer: None | Callable=None,\n",
    "                 lazy: bool=True,):\n",
    "        \"\"\"\n",
    "        Decorator class that publishes the result of the decorated function\n",
    "        to an MQTT broker.\n",
    "\n",
    "        Parameters\n",
    "        ----------\n",
    "        topic : str\n",
    "            The topic to which the result will be published.\n",
    "        host : str\n",
    "            The host to which the result will be published. Default: localhost.\n",
    "        port : int\n",
    "            The port through which the result will be published. Default: 1883\n",
    "        serializer : Callable\n",
    "            A function that is applied to the result of the function before\n",
    "            publishing. This typically converts from an object to a string\n",
    "            representation. Default: json.dumps.\n",
    "        lazy : bool\n",
    "            If True (default), the MQTT connection is only made the first time\n",
    "            the wrapped function is called. Otherwise the connection is\n",
    "            established immediately.\n",
    "        \"\"\"\n",
    "        super().__init__(topic, host=host, port=port)\n",
    "        self.serializer = self._default_serializer\n",
    "        if not lazy:\n",
    "            self.connect()\n",
    "\n",
    "    def _default_serializer(self, content: Any) -> Any:\n",
    "        # TODO: This is very presumptuous. While json.dumps is a high\n",
    "        # probability choice and matches the default in subscribe, it is far\n",
    "        # from the only choice. The default serializer should try a\n",
    "        # number of serializers in a reasonable order, ultimately\n",
    "        # defaulting to one guaranteed to work, even if the result must be\n",
    "        # processed by the recipient. For example: pydantic.dump_model_json ->\n",
    "        # json.dumps -> str(content).\n",
    "        try:\n",
    "            return content.model_dump_json()\n",
    "        except:\n",
    "            logger.debug(\"Serialization content is not pydantic.BaseModel.\")\n",
    "        try:\n",
    "            return json.dumps(content)\n",
    "        except:\n",
    "            logger.debug(\"Serialization content is not JSON serializable.\")\n",
    "        return str(content)\n",
    "\n",
    "    def __call__(self, func: Callable) -> Callable:\n",
    "        cls = type(self)\n",
    "        @wraps(func)\n",
    "        def wrapper(*args, **kwds):\n",
    "            # Connects to the MQTT server lazily.\n",
    "            self.connect()\n",
    "            result = func(*args, **kwds)\n",
    "            # Attempt to publish to the MQTT server\n",
    "            try:\n",
    "                retry_count, retry_delay = 0, cls.FIRST_RETRY_DELAY\n",
    "                while retry_count < cls.MAX_RETRY_COUNT:\n",
    "                    rc, mid = self.client.publish(self.topic, self.serializer(result))\n",
    "                    if rc == 0:\n",
    "                        raise PublishSuccess()\n",
    "                    logger.info(f\"Retrying in {retry_delay} seconds...\")\n",
    "                    time.sleep(retry_delay)\n",
    "        \n",
    "                    retry_delay *= cls.RETRY_RATE\n",
    "                    retry_delay = min(retry_delay, cls.MAX_RETRY_DELAY)\n",
    "                    retry_count += 1\n",
    "                raise PublishError()\n",
    "            except PublishSuccess:\n",
    "                pass\n",
    "            except PublishError:\n",
    "                logger.error(f\"Publishing message {mid!r} failed with status \"\n",
    "                             f\"{rc} after {retry_count} retries.\")\n",
    "            # Finished\n",
    "            return result\n",
    "        return wrapper"
   ]
  },
  {
   "cell_type": "code",
   "execution_count": 52,
   "id": "bc0cbc42-7156-4c02-98b4-89678a47f65d",
   "metadata": {},
   "outputs": [],
   "source": [
    "@publish(\"test\")\n",
    "def add(lhs, rhs):\n",
    "    return lhs + rhs"
   ]
  },
  {
   "cell_type": "code",
   "execution_count": 53,
   "id": "948d8a93-957b-4b70-b0a7-a5a3a7b2871e",
   "metadata": {},
   "outputs": [
    {
     "data": {
      "text/plain": [
       "3"
      ]
     },
     "execution_count": 53,
     "metadata": {},
     "output_type": "execute_result"
    }
   ],
   "source": [
    "add(1, 2)"
   ]
  },
  {
   "cell_type": "code",
   "execution_count": 54,
   "id": "ba98fd34-37b2-49be-8888-2b22f2e2683b",
   "metadata": {},
   "outputs": [
    {
     "data": {
      "text/plain": [
       "46"
      ]
     },
     "execution_count": 54,
     "metadata": {},
     "output_type": "execute_result"
    }
   ],
   "source": [
    "add(12, 34)"
   ]
  },
  {
   "cell_type": "code",
   "execution_count": 55,
   "id": "9f3a84ea-e84b-4b0d-a48b-5fb27a3acbce",
   "metadata": {},
   "outputs": [],
   "source": [
    "del add"
   ]
  },
  {
   "cell_type": "markdown",
   "id": "4c5248ab-f223-400e-9d96-e0bc1e15b497",
   "metadata": {},
   "source": [
    "## Subscriber\n",
    "\n",
    "Subscribers will respond to events. Each should be published to the \"test\" topic, e.g.\n",
    "\n",
    "`mosquitto_pub -t test -m 25`\n",
    "\n",
    "(You may wish to substitute other numbers.)"
   ]
  },
  {
   "cell_type": "code",
   "execution_count": 56,
   "id": "3ffdad2b-2dd0-4b04-8b6c-ab67b5a61c56",
   "metadata": {},
   "outputs": [],
   "source": [
    "class DeserializationError(Exception):\n",
    "    pass\n",
    "\n",
    "class TimeoutException(Exception):\n",
    "    pass\n",
    "    \n",
    "\n",
    "class subscribe:\n",
    "    class Task(MQTTConnection):\n",
    "        POLLING_INTERVAL = float(os.environ.get(\"POLLING_INTERVAL\", 0.1))\n",
    "        POLLING_TIMEOUT = float(os.environ.get(\"POLLING_TIMEOUT\", 30))  # polling timeout (seconds)\n",
    "        \n",
    "        def __init__(self,\n",
    "                     topic: str, *, host: str=\"localhost\", port: int=1883,\n",
    "                     deserializer: None | Callable=None):\n",
    "            super().__init__(topic, host=host, port=port)\n",
    "            self.deserializer: Callable = deserializer or self._default_deserializer\n",
    "            self.result_queue: Queue = Queue()\n",
    "            self.func: None | Callable = None\n",
    "\n",
    "        def connect(self):\n",
    "            self.client.on_message = self._on_message\n",
    "            super().connect()\n",
    "            self.client.subscribe(self.topic)\n",
    "    \n",
    "        def _on_message(self, client, userdata, msg) -> Any:\n",
    "            output = self.func(self.deserializer(msg.payload.decode()))\n",
    "            self.result_queue.put(output)\n",
    "    \n",
    "        def _default_deserializer(self, message: str) -> Any:\n",
    "            try:\n",
    "                return json.loads(message)\n",
    "            except:\n",
    "                logger.debug(\"Message is not JSON deserializable.\")\n",
    "            return message\n",
    "\n",
    "        def _poll(self):\n",
    "            cls = type(self)\n",
    "            duration, polling_interval = 0.0, cls.POLLING_INTERVAL\n",
    "            while True:\n",
    "                try:\n",
    "                    return self.result_queue.get()\n",
    "                except Empty:\n",
    "                    time.sleep(polling_interval)\n",
    "                    duration += polling_interval\n",
    "                    if int(duration - polling_interval) != int(duration):\n",
    "                        print(f\"Duration {int(duration)} seconds\")\n",
    "                    if duration > cls.POLLING_TIMEOUT:\n",
    "                        raise StopIteration()\n",
    "\n",
    "        def __del__(self):\n",
    "            self.disconnect()\n",
    "\n",
    "        def __iter__(self):\n",
    "            return self\n",
    "\n",
    "        def __next__(self):\n",
    "            if not self.client.is_connected():\n",
    "                self.connect()\n",
    "                self.client.loop_start()\n",
    "            try:\n",
    "                return self._poll()\n",
    "            except (StopIteration, KeyboardInterrupt):\n",
    "                self.client.loop_stop()\n",
    "                self.disconnect()\n",
    "                raise StopIteration()\n",
    "\n",
    "        def __aiter__(self):\n",
    "            return self\n",
    "\n",
    "        async def __anext__(self):\n",
    "            if not self.client.is_connected():\n",
    "                self.connect()\n",
    "                self.client.loop_start()\n",
    "            try:\n",
    "                return self._poll()\n",
    "            except (StopIteration, KeyboardInterrupt):\n",
    "                self.client.loop_stop()\n",
    "                self.client.disconnect()\n",
    "                return StopAsyncIteration()\n",
    "\n",
    "        def __call__(self):\n",
    "            self.connect()\n",
    "            self.client.loop_start()\n",
    "            try:\n",
    "                return self._poll()\n",
    "            except StopIteration:\n",
    "                raise TimeoutException(f\"No messages received in {type(self).POLLING_TIMEOUT} seconds.\")\n",
    "            finally:\n",
    "                self.client.loop_stop()\n",
    "                self.disconnect()\n",
    "\n",
    "        \n",
    "    def __init__(self,\n",
    "                 topic: str, *, host: str=\"localhost\", port: int=1883,  # MQTT\n",
    "                 deserializer: None | Callable=None,):\n",
    "        \"\"\"\n",
    "        Decorator that subsribes to a broker and applies that message as the\n",
    "        first positional parameter of the wrapped function.\n",
    "\n",
    "        Parameters\n",
    "        ----------\n",
    "        deserializer : Callable\n",
    "            Processes the incoming message before assigning the value as the first\n",
    "            positional parameter of the wrapped function. Default: json.loads.\n",
    "        \"\"\"\n",
    "        self.task: subscribe.Task = subscribe.Task(\n",
    "            topic, host=host, port=port,\n",
    "            deserializer=deserializer,)\n",
    "\n",
    "    def __call__(self, func: None | Callable=None) -> Any:\n",
    "        if func is not None:\n",
    "            self.task.func = func\n",
    "        return self.task"
   ]
  },
  {
   "cell_type": "code",
   "execution_count": 59,
   "id": "e50dfa41-f7c3-40ef-a4ad-d0713691b74e",
   "metadata": {},
   "outputs": [],
   "source": [
    "@subscribe(\"test\")\n",
    "def double(x):\n",
    "    return 2*x"
   ]
  },
  {
   "cell_type": "code",
   "execution_count": 61,
   "id": "3d780ee5-1ccc-454b-865d-de50baf6602c",
   "metadata": {},
   "outputs": [
    {
     "data": {
      "text/plain": [
       "50"
      ]
     },
     "execution_count": 61,
     "metadata": {},
     "output_type": "execute_result"
    }
   ],
   "source": [
    "# Processes one message and exits: mosquitto_pub -t -m 25\n",
    "double()"
   ]
  },
  {
   "cell_type": "code",
   "execution_count": 62,
   "id": "074b3b24-91f2-4f79-b127-a8cc11830268",
   "metadata": {},
   "outputs": [
    {
     "data": {
      "text/plain": [
       "[50, 50, 50, 50]"
      ]
     },
     "execution_count": 62,
     "metadata": {},
     "output_type": "execute_result"
    }
   ],
   "source": [
    "# Processes messages until (a) KeyboardInterrupt (\"Stop\" icon in the action\n",
    "# bar above) or (b) polling timeout (default: 30 seconds).\n",
    "[x for x in double]"
   ]
  }
 ],
 "metadata": {
  "kernelspec": {
   "display_name": "venv",
   "language": "python",
   "name": "python3"
  },
  "language_info": {
   "codemirror_mode": {
    "name": "ipython",
    "version": 3
   },
   "file_extension": ".py",
   "mimetype": "text/x-python",
   "name": "python",
   "nbconvert_exporter": "python",
   "pygments_lexer": "ipython3",
   "version": "3.12.8"
  }
 },
 "nbformat": 4,
 "nbformat_minor": 5
}
