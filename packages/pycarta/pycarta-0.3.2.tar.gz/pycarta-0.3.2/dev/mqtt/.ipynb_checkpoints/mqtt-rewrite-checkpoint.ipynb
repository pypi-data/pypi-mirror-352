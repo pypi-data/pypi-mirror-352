{
 "cells": [
  {
   "cell_type": "code",
   "execution_count": 1,
   "id": "47cf9c6b-5ddf-45d5-aa35-5f5eef6d18ac",
   "metadata": {},
   "outputs": [],
   "source": [
    "# testing\n",
    "from random import randint"
   ]
  },
  {
   "cell_type": "code",
   "execution_count": 2,
   "id": "57c2e835-1635-4b94-9348-5f84698daf9a",
   "metadata": {},
   "outputs": [],
   "source": [
    "import asyncio\n",
    "import inspect\n",
    "import logging\n",
    "import paho.mqtt.client as mqtt\n",
    "import queue\n",
    "import threading\n",
    "from threading import Event\n",
    "from aiomqtt import Client as AsyncClient, MqttError, MqttCodeError\n",
    "from paho.mqtt.client import Client as SyncClient\n",
    "from paho.mqtt.client import CallbackAPIVersion, MQTTErrorCode\n",
    "from queue import Queue\n",
    "from uuid import uuid4\n",
    "\n",
    "logging.basicConfig(level=logging.DEBUG, format='%(asctime)s - %(levelname)s - %(message)s')\n",
    "logger = logging.getLogger(__name__)\n",
    "logger.setLevel(logging.INFO)"
   ]
  },
  {
   "cell_type": "markdown",
   "id": "fb7f71bc-0c4e-40f0-8028-21cc5b349411",
   "metadata": {
    "jp-MarkdownHeadingCollapsed": true
   },
   "source": [
    "### Dependencies"
   ]
  },
  {
   "cell_type": "code",
   "execution_count": 3,
   "id": "955ec6eb-a027-405e-abf8-783502b09ddf",
   "metadata": {},
   "outputs": [],
   "source": [
    "class Formatter:\n",
    "    def __init__(self):\n",
    "        pass\n",
    "\n",
    "    def pack(self, content):\n",
    "        return content\n",
    "\n",
    "    def unpack(self, content):\n",
    "        return content"
   ]
  },
  {
   "cell_type": "code",
   "execution_count": 4,
   "id": "894ba91f-c3c9-45d1-9b86-2fb52bdee34b",
   "metadata": {},
   "outputs": [],
   "source": [
    "class ClientGenerator:\n",
    "    \"\"\"\n",
    "    ClientGenerator establishes a common API for creating either\n",
    "    a synchronous MQTT client (paho.mqtt.client.Client) or an\n",
    "    asynchronous client (aiomqtt.client.Client).\n",
    "\n",
    "    An appropriate client is created depending on the context in\n",
    "    which the client operates, e.g.\n",
    "\n",
    "    .. code: python\n",
    "\n",
    "        with ClientGenerator() as client:\n",
    "            # Produces a synchronous client\n",
    "            client.connect(host=\"localhost\", port=1883)\n",
    "            client.publish(...)\n",
    "\n",
    "        async with ClientGenerator(host=\"localhost\", port=1883) as client:\n",
    "            # Produces an asynchronous client\n",
    "            client.publish(...)\n",
    "    \"\"\"\n",
    "    def __init__(self, credentials=None, **kwargs):\n",
    "        self.kwargs = kwargs\n",
    "        self.credentials = credentials\n",
    "        self.kwargs.setdefault(\"client_id\", str(uuid4()))\n",
    "        self.kwargs.setdefault(\"callback_api_version\", CallbackAPIVersion.VERSION2)\n",
    "\n",
    "    def __enter__(self) -> SyncClient:\n",
    "        logger.debug(\"Entering ClientGenerator context.\")\n",
    "        kwargs = {k:v for k,v in self.kwargs.items()\n",
    "                  if k in inspect.signature(SyncClient).parameters}\n",
    "        client = SyncClient(**kwargs)\n",
    "        if self.credentials:\n",
    "            client = self.credentials.authenticate(client)\n",
    "        logger.debug(\"ClientGenerator context setup complete.\")\n",
    "        return client\n",
    "\n",
    "    def __exit__(self, *exc):\n",
    "        logger.debug(\"Exited ClientGenerator context.\")\n",
    "\n",
    "    async def __aenter__(self) -> AsyncClient:\n",
    "        logger.debug(\"Entering async ClientGenerator context.\")\n",
    "        kwargs = {k:v for k,v in self.kwargs.items()\n",
    "                  if k in inspect.signature(AsyncClient).parameters}\n",
    "        client = AsyncClient(**kwargs)\n",
    "        if self.credentials:\n",
    "            client = self.credentials.authenticate(client)\n",
    "        logger.debug(\"Async ClientGenerator context setup complete.\")\n",
    "        return client\n",
    "\n",
    "    async def __aexit__(self, *exc):\n",
    "        logger.debug(\"Exited async ClientGenerator context.\")"
   ]
  },
  {
   "cell_type": "code",
   "execution_count": 5,
   "id": "e28776af-cde4-4c2f-862d-9b06da8299dc",
   "metadata": {},
   "outputs": [],
   "source": [
    "class Connection:\n",
    "    def __init__(self, gen: ClientGenerator | None=None, **kwargs):\n",
    "        self.client_generator: ClientGenerator = gen or ClientGenerator()\n",
    "        self.client: AsyncClient | SyncClient | None = None\n",
    "        self.event: Event = Event()\n",
    "        self.kwargs = kwargs\n",
    "        self.kwargs.setdefault(\"host\", \"localhost\")\n",
    "        self.kwargs.setdefault(\"port\", 1883)\n",
    "        self.callbacks = {\n",
    "            \"on_connect\": self.on_connect,\n",
    "            \"on_disconnect\": self.on_disconnect,\n",
    "        }\n",
    "\n",
    "    def __enter__(self) -> SyncClient:\n",
    "        logger.debug(\"Entering Connection context.\")\n",
    "        if not self.client:\n",
    "            # Reuse the client\n",
    "            self.client = self.client_generator.__enter__()\n",
    "        for k,v in self.callbacks.items():\n",
    "            logger.debug(f\"Registering {k} callback: {v}\")\n",
    "            setattr(self.client, k, v)\n",
    "        try:\n",
    "            self.event.clear()\n",
    "            wait = 1\n",
    "            while True:\n",
    "                try:\n",
    "                    self.client.connect(**self.kwargs)\n",
    "                    self.client.loop_stop()\n",
    "                    self.client.loop_start()\n",
    "                    logger.debug(\"Waiting to establish connection.\")\n",
    "                    self.event.wait()\n",
    "                except ConnectionRefusedError:\n",
    "                    logger.info(f\"Broker unavailable. Retry in {wait} seconds.\")\n",
    "                    self.event.wait(wait)\n",
    "                    wait = min(2*wait, 120)\n",
    "                except:\n",
    "                    raise\n",
    "                else:\n",
    "                    logger.info(\"Connection established.\")\n",
    "                    break\n",
    "        except KeyboardInterrupt:\n",
    "            logger.debug(\"Attempt to connect cancelled.\")\n",
    "            raise\n",
    "        except Exception as e:\n",
    "            logger.error(f\"Failed to connect {self.client} with {self.kwargs}: {e}\")\n",
    "            raise\n",
    "        logger.debug(\"Connection context setup complete.\")\n",
    "        return self.client\n",
    "\n",
    "    def __exit__(self, *exc):\n",
    "        self.client.disconnect()\n",
    "        self.client.loop_stop()\n",
    "        self.client_generator.__exit__()\n",
    "        logger.debug(\"Exited Connection context.\")\n",
    "\n",
    "    async def __aenter__(self) -> AsyncClient:\n",
    "        logger.debug(\"Entering async Connection context.\")\n",
    "        # Aiomqtt Client combines client and connection.\n",
    "        kwargs = {**self.client_generator.kwargs, **self.kwargs}\n",
    "        # Handle API inconsistency between Paho Client and Aiomqtt Client.\n",
    "        kwargs[\"hostname\"] = kwargs.pop(\"host\")\n",
    "        self.client_generator.kwargs.update(kwargs)\n",
    "        # Generate and connect client.\n",
    "        if self.client is None:\n",
    "            self.client = await self.client_generator.__aenter__()\n",
    "        else:\n",
    "            await self.__aexit__(None, None, None)\n",
    "            logger.debug(\"Reentered async Connection context.\")\n",
    "        wait = 1\n",
    "        while True:\n",
    "            try:\n",
    "                await self.client.__aenter__()\n",
    "            except (ConnectionRefusedError, MqttError):\n",
    "                logger.info(f\"Broker not available. Attempting to reconnect in {wait} seconds.\")\n",
    "                await asyncio.sleep(wait)\n",
    "                wait = min(2*wait, 120)\n",
    "            except KeyboardInterrupt as e:\n",
    "                logger.debug(\"Attempt to connect cancelled.\")\n",
    "                await self.client.__aexit__(type(e), e, None)\n",
    "                raise\n",
    "            except Exception as e:\n",
    "                logger.error(f\"An unexpected error occured while connecting ({e}). Aborting.\")\n",
    "                await self.client.__aexit__(type(e), e, None)\n",
    "                raise\n",
    "            else:\n",
    "                logger.info(f\"Connected to {kwargs['hostname']}:{kwargs['port']}\")\n",
    "                break\n",
    "        logger.debug(\"Async Connection context complete.\")\n",
    "        return self.client\n",
    "\n",
    "    async def __aexit__(self, *exc):\n",
    "        client = self.client\n",
    "        try:\n",
    "            await client.__aexit__(*exc)\n",
    "        except MqttError:\n",
    "            # Try to gracefully disconnect from the broker\n",
    "            rc = client._client.disconnect()\n",
    "            if rc == mqtt.MQTT_ERR_SUCCESS:\n",
    "                # Wait for acknowledgement\n",
    "                await client._wait_for(client._disconnected, timeout=None)\n",
    "                # Reset `_connected` if it's still in completed state after disconnecting\n",
    "                if client._connected.done():\n",
    "                    client._connected = asyncio.Future()\n",
    "            else:\n",
    "                logger.warning(\n",
    "                    \"Could not gracefully disconnect: %d. Forcing disconnection.\", rc\n",
    "                )\n",
    "            # Force disconnection if we cannot gracefully disconnect\n",
    "            if not client._disconnected.done():\n",
    "                client._disconnected.set_result(None)\n",
    "            # Release the reusability lock\n",
    "            if client._lock.locked():\n",
    "                client._lock.release()\n",
    "        await self.client_generator.__aexit__(*exc)\n",
    "        logger.debug(\"Exited async Connection context.\")\n",
    "\n",
    "    def on_connect(self, client, userdata, connect_flags, reason_code, properties):\n",
    "        logger.debug(\"Starting connection loop.\")\n",
    "        self.event.set()\n",
    "\n",
    "    def on_disconnect(self, client, userdata, disconnect_flags, reason_code, properties):\n",
    "        # logger.debug(\"Stopping connection loop.\")\n",
    "        # client.loop_stop()\n",
    "        pass"
   ]
  },
  {
   "cell_type": "markdown",
   "id": "e4ce3c9c-6e5f-4e3b-a4a1-369dd670a344",
   "metadata": {},
   "source": [
    "### Publish"
   ]
  },
  {
   "cell_type": "markdown",
   "id": "ae756c90-755c-47a7-9426-a83e948c9c89",
   "metadata": {
    "jp-MarkdownHeadingCollapsed": true
   },
   "source": [
    "#### Code"
   ]
  },
  {
   "cell_type": "code",
   "execution_count": 6,
   "id": "66e5c09b-04c7-4e7a-8c55-a7e2c5c88b09",
   "metadata": {},
   "outputs": [],
   "source": [
    "class Publisher:\n",
    "    class Task:\n",
    "        def __init__(self, scope: \"Publisher\", function: callable, *, timeout: float=10.0):\n",
    "            self.scope = scope\n",
    "            self.fn = function\n",
    "            self.timeout: float = timeout\n",
    "            self._lock: asyncio.Lock = asyncio.Lock()\n",
    "\n",
    "    class AsyncTask(Task):\n",
    "        def __init__(self, *args, **kwds):\n",
    "            super().__init__(*args, **kwds)\n",
    "            \n",
    "        async def __call__(self, *args, **kwds):\n",
    "            logger.debug(f\"Calling {self.fn.__name__}.\")\n",
    "            result = await self.fn(*args, **kwds)\n",
    "            scope = self.scope\n",
    "            try:\n",
    "                async with self._lock:\n",
    "                    async with scope as client:\n",
    "                        await client.publish(scope.topic, payload=scope.formatter.pack(result), **scope.kwargs)\n",
    "                    logger.debug(f\"Published {result}.\")\n",
    "            except Exception as e:\n",
    "                logger.warning(f\"Failed to publish {result} ({type(result)}) to {scope.topic}: {e}\")\n",
    "            return result\n",
    "            \n",
    "    class SyncTask(Task):\n",
    "        def __init__(self, *args, **kwds):\n",
    "            super().__init__(*args, **kwds)\n",
    "\n",
    "        def __call__(self, *args, **kwds):\n",
    "            logger.debug(f\"Calling {self.fn.__name__}.\")\n",
    "            result = self.fn(*args, **kwds)\n",
    "            scope = self.scope\n",
    "            try:\n",
    "                with scope as client:\n",
    "                    info = client.publish(scope.topic, scope.formatter.pack(result), **scope.kwargs)\n",
    "                    info.wait_for_publish(self.timeout)\n",
    "                logger.debug(f\"Published {result}.\")\n",
    "            except Exception as e:\n",
    "                logger.warning(f\"Failed to publish {result} to {scope.topic}: {e}\")\n",
    "            return result\n",
    "            \n",
    "    def __init__(self, topic: str, *, connection: Connection | None=None, formatter: Formatter | None=None, **kwargs):\n",
    "        self.connection: Connection = connection or Connection()\n",
    "        self.topic: str = topic\n",
    "        self.kwargs = kwargs\n",
    "        self.formatter = formatter or Formatter()\n",
    "\n",
    "    def __enter__(self) -> SyncClient:\n",
    "        logger.debug(\"Entering Publisher context.\")\n",
    "        client = self.connection.__enter__()\n",
    "        logger.debug(\"Publisher context setup complete.\")\n",
    "        return client\n",
    "\n",
    "    def __exit__(self, *exc):\n",
    "        self.connection.__exit__()\n",
    "        logger.debug(\"Exited Publisher context.\")\n",
    "\n",
    "    async def __aenter__(self) -> AsyncClient:\n",
    "        logger.debug(\"Entering async Publisher context.\")\n",
    "        client = await self.connection.__aenter__()\n",
    "        logger.debug(\"Async Publisher context setup complete.\")\n",
    "        return client\n",
    "\n",
    "    async def __aexit__(self, *exc):\n",
    "        await self.connection.__aexit__(*exc)\n",
    "        logger.debug(\"Exited async Publisher context.\")\n",
    "\n",
    "    def __call__(self, fn):\n",
    "        if inspect.iscoroutinefunction(fn):\n",
    "            logger.debug(f\"Wrapping coroutine function '{fn.__name__}'.\")\n",
    "            return Publisher.AsyncTask(self, fn)\n",
    "        else:\n",
    "            logger.debug(f\"Wrapping function '{fn.__name__}'.\")\n",
    "            return Publisher.SyncTask(self, fn)\n",
    "\n",
    "publish = Publisher"
   ]
  },
  {
   "cell_type": "markdown",
   "id": "639d78a4-4928-4045-af90-59f06717978d",
   "metadata": {},
   "source": [
    "#### Test"
   ]
  },
  {
   "cell_type": "code",
   "execution_count": 7,
   "id": "5f097f36-77ac-4ccd-8af6-47e9dd6f6477",
   "metadata": {},
   "outputs": [],
   "source": [
    "@publish(\"test\")\n",
    "def hello():\n",
    "    return \"Hello, World!\""
   ]
  },
  {
   "cell_type": "code",
   "execution_count": 8,
   "id": "97849d80-ed14-426b-b96d-70a2ba1cf7b1",
   "metadata": {},
   "outputs": [
    {
     "name": "stderr",
     "output_type": "stream",
     "text": [
      "2025-03-07 07:20:51,693 - INFO - Connection established.\n"
     ]
    },
    {
     "data": {
      "text/plain": [
       "'Hello, World!'"
      ]
     },
     "execution_count": 8,
     "metadata": {},
     "output_type": "execute_result"
    }
   ],
   "source": [
    "hello()"
   ]
  },
  {
   "cell_type": "code",
   "execution_count": 9,
   "id": "d96813af-7e11-4b98-a2e5-543a4267c910",
   "metadata": {
    "editable": true,
    "slideshow": {
     "slide_type": ""
    },
    "tags": []
   },
   "outputs": [],
   "source": [
    "@publish(\"test\")\n",
    "async def async_hello():\n",
    "    await asyncio.sleep(1)\n",
    "    return f\"Await hello #{randint(1, 100):02d}, World!\""
   ]
  },
  {
   "cell_type": "code",
   "execution_count": 10,
   "id": "587a731a-0e56-4bbd-8824-919c39484859",
   "metadata": {},
   "outputs": [
    {
     "name": "stderr",
     "output_type": "stream",
     "text": [
      "2025-03-07 07:20:52,705 - INFO - Connected to localhost:1883\n"
     ]
    },
    {
     "data": {
      "text/plain": [
       "'Await hello #01, World!'"
      ]
     },
     "execution_count": 10,
     "metadata": {},
     "output_type": "execute_result"
    }
   ],
   "source": [
    "await async_hello()"
   ]
  },
  {
   "cell_type": "code",
   "execution_count": 11,
   "id": "2054a2cb-504e-427e-9ab8-f978961778cb",
   "metadata": {},
   "outputs": [
    {
     "name": "stderr",
     "output_type": "stream",
     "text": [
      "2025-03-07 07:20:53,717 - INFO - Connected to localhost:1883\n",
      "2025-03-07 07:20:53,726 - INFO - Connected to localhost:1883\n",
      "2025-03-07 07:20:53,734 - INFO - Connected to localhost:1883\n"
     ]
    },
    {
     "data": {
      "text/plain": [
       "['Await hello #24, World!',\n",
       " 'Await hello #62, World!',\n",
       " 'Await hello #04, World!']"
      ]
     },
     "execution_count": 11,
     "metadata": {},
     "output_type": "execute_result"
    }
   ],
   "source": [
    "# Coroutine function should be run concurrently and published sequentially.\n",
    "await asyncio.gather(\n",
    "    async_hello(),\n",
    "    async_hello(),\n",
    "    async_hello(),\n",
    ")"
   ]
  },
  {
   "cell_type": "markdown",
   "id": "b3a8605d-7ce9-4335-a0ef-6119eac63048",
   "metadata": {},
   "source": [
    "### Subscribe"
   ]
  },
  {
   "cell_type": "markdown",
   "id": "0a7fb47a-a0c6-44da-8fcd-7219e0b8e056",
   "metadata": {
    "jp-MarkdownHeadingCollapsed": true
   },
   "source": [
    "#### Code"
   ]
  },
  {
   "cell_type": "code",
   "execution_count": 12,
   "id": "3ac84464-1e4e-4e31-b10a-f83b9b67dcb4",
   "metadata": {},
   "outputs": [],
   "source": [
    "class Subscriber:\n",
    "    class Task:\n",
    "        def __init__(self, scope: \"Publisher\", function: callable, *, timeout: float=10.0):\n",
    "            self.scope = scope\n",
    "            self.fn = function\n",
    "            self.timeout: float = timeout\n",
    "            self._lock: asyncio.Lock = asyncio.Lock()\n",
    "\n",
    "    class AsyncTask(Task):\n",
    "        def __init__(self, *args, **kwds):\n",
    "            super().__init__(*args, **kwds)\n",
    "            self.client = None\n",
    "\n",
    "        def __aiter__(self):\n",
    "            return self\n",
    "\n",
    "        async def __anext__(self):\n",
    "            # Context is reentrant.\n",
    "            client = await self.__aenter__()\n",
    "            # await client.subscribe(self.scope.topic, **self.scope.kwargs)\n",
    "            try:\n",
    "                try:\n",
    "                    message = await anext(client.messages)\n",
    "                except asyncio.CancelledError:\n",
    "                    logger.debug(\"Future or Task was cancelled.\")\n",
    "                    raise StopAsyncIteration()\n",
    "                except KeyboardInterrupt:\n",
    "                    logger.debug(\"Iteration halted with Keyboard Interrupt.\")\n",
    "                    raise StopAsyncIteration()\n",
    "                except (MqttError, MqttCodeError) as e:\n",
    "                    logger.info(\"Disconnected from the broker. Waiting to reconnect.\")\n",
    "                    # raise StopAsyncIteration()\n",
    "                    # async with self._lock:\n",
    "                    await self.__aexit__(type(e), e, None)\n",
    "                    client = await self.__aenter__()\n",
    "                    logger.info(\"Reconnected to the broker.\")\n",
    "                    return await anext(self)\n",
    "                except Exception as e:\n",
    "                    logger.debug(f\"An unknown error occured: {e}\")\n",
    "                else:\n",
    "                    return await self.fn(self.scope.formatter.unpack(message.payload))\n",
    "            except Exception as e:\n",
    "                await self.__aexit__(type(e), e, None)\n",
    "                raise e\n",
    "\n",
    "        async def __aenter__(self) -> AsyncClient:\n",
    "            async with self._lock:\n",
    "                self.client = await self.scope.__aenter__()\n",
    "                await self.client.subscribe(**self.scope.kwargs)\n",
    "                logger.debug(\"Async Task context setup complete.\")\n",
    "            return self.client\n",
    "\n",
    "        async def __aexit__(self, *exc):\n",
    "            async with self._lock:\n",
    "                if self.client:\n",
    "                    logger.debug(\"Tearing down async Task context.\")\n",
    "                    await self.scope.__aexit__(*exc)\n",
    "                    # self.client = None\n",
    "                    logger.debug(\"Exited async Task context.\")\n",
    "\n",
    "        async def __call__(self):\n",
    "            return await anext(self)\n",
    "            \n",
    "    class SyncTask(Task):\n",
    "        def __init__(self, *args, **kwds):\n",
    "            super().__init__(*args, **kwds)\n",
    "            self.scope.connection.callbacks[\"on_connect\"] = self.on_connect\n",
    "            self.scope.connection.callbacks[\"on_message\"] = self.on_message\n",
    "            self.client = None\n",
    "            self.queue: Queue = Queue()\n",
    "            self._lock: threading.Lock = threading.Lock()\n",
    "\n",
    "        def __iter__(self):\n",
    "            return self\n",
    "\n",
    "        def __next__(self):\n",
    "            if not self.client:\n",
    "                client = self.__enter__()\n",
    "            try:\n",
    "                return self.queue.get()\n",
    "            except KeyboardInterrupt:\n",
    "                logger.debug(\"Keyboard interrupt stopped Subscriber iteration.\")\n",
    "                raise StopIteration()\n",
    "            except TimeoutError:\n",
    "                logger.debug(\"A timeout interrupted Subscriber iteration.\")\n",
    "                raise StopIteration()\n",
    "            except Exception as e:\n",
    "                logger.error(f\"An unexpected exception occured during Subscriber iteration: {e}.\")\n",
    "                self.__exit__(type(e), e, None)\n",
    "                self.__enter__()\n",
    "                return next(self)\n",
    "\n",
    "        def __enter__(self):\n",
    "            # Context is reentrant\n",
    "            with self._lock:\n",
    "                if self.client is None:\n",
    "                    logger.debug(\"Entering Subscriber task context.\")\n",
    "                    self.client = self.scope.__enter__()\n",
    "            logger.debug(\"Subscriber task context setup complete.\")\n",
    "            return self.client\n",
    "\n",
    "        def __exit__(self, *exc):\n",
    "            with self._lock:\n",
    "                if self.client:\n",
    "                    logger.debug(\"Tearing down Subscriber task context.\")\n",
    "                    self.scope.__exit__(*exc)\n",
    "                    self.client = None\n",
    "            logger.debug(\"Exited Subscriber task context.\")\n",
    "\n",
    "        def __call__(self):\n",
    "            logger.debug(\"Called Subscriber.Task.__call__\")\n",
    "            return next(self)\n",
    "\n",
    "        def on_message(self, client, userdata, message):\n",
    "            logger.debug(\"Calling Subscriber.Task.on_message callback.\")\n",
    "            result = self.fn(self.scope.formatter.unpack(message.payload))\n",
    "            self.queue.put(result)\n",
    "\n",
    "        def on_connect(self, client, userdata, connect_flags, reason_code, properties):\n",
    "            logger.debug(\"Calling Subscriber.Task.on_connect callback.\")\n",
    "            self.scope.connection.on_connect(client, userdata, connect_flags, reason_code, properties)\n",
    "            client.subscribe(**self.scope.kwargs)\n",
    "            \n",
    "    def __init__(self, topic: str, qos: int=0, options=None, properties=None,\n",
    "                 *,\n",
    "                 connection: Connection | None=None,\n",
    "                 formatter: Formatter | None=None,\n",
    "                 **kwargs):\n",
    "        self.connection: Connection = connection or Connection(**kwargs)\n",
    "        self.kwargs = {\n",
    "            \"topic\": topic,\n",
    "            \"qos\": qos,\n",
    "            \"options\": options,\n",
    "            \"properties\": properties\n",
    "        }\n",
    "        self.formatter = formatter or Formatter()\n",
    "\n",
    "    def __enter__(self) -> SyncClient:\n",
    "        logger.debug(\"Entering Subscriber context.\")\n",
    "        client = self.connection.__enter__()\n",
    "        logger.debug(\"Subscriber context setup complete.\")\n",
    "        return client\n",
    "\n",
    "    def __exit__(self, *exc):\n",
    "        self.connection.__exit__()\n",
    "        logger.debug(\"Exited Subscriber context.\")\n",
    "\n",
    "    async def __aenter__(self) -> AsyncClient:\n",
    "        logger.debug(\"Entering async Subscriber context.\")\n",
    "        client = await self.connection.__aenter__()\n",
    "        logger.debug(\"Async Subscriber context setup complete.\")\n",
    "        return client\n",
    "\n",
    "    async def __aexit__(self, *exc):\n",
    "        await self.connection.__aexit__(*exc)\n",
    "        logger.debug(\"Exited async Subscriber context.\")\n",
    "\n",
    "    def __call__(self, fn):\n",
    "        if inspect.iscoroutinefunction(fn):\n",
    "            logger.debug(f\"Wrapping coroutine function '{fn.__name__}'.\")\n",
    "            return Subscriber.AsyncTask(self, fn)\n",
    "        else:\n",
    "            logger.debug(f\"Wrapping function '{fn.__name__}'.\")\n",
    "            return Subscriber.SyncTask(self, fn)\n",
    "\n",
    "subscribe = Subscriber"
   ]
  },
  {
   "cell_type": "markdown",
   "id": "9154fc96-a5cf-469d-a808-f68f64690e55",
   "metadata": {},
   "source": [
    "#### Test"
   ]
  },
  {
   "cell_type": "code",
   "execution_count": 13,
   "id": "7c6c4583-642b-4abd-8a2c-f9311fd89f78",
   "metadata": {},
   "outputs": [],
   "source": [
    "@subscribe(\"test\", host=\"localhost\", port=1883)\n",
    "def sync_sub(msg):\n",
    "    return f\"{msg} ({randint(1, 100):02})\"\n",
    "\n",
    "@subscribe(\"test\", host=\"localhost\", port=1883)\n",
    "async def async_sub(msg):\n",
    "    return f\"{msg} ({randint(1, 100):02}, async)\" "
   ]
  },
  {
   "cell_type": "code",
   "execution_count": 14,
   "id": "11c47e50-3d40-4e03-9c25-f1e014bb3afe",
   "metadata": {},
   "outputs": [
    {
     "name": "stderr",
     "output_type": "stream",
     "text": [
      "2025-03-07 07:20:53,765 - INFO - Connection established.\n"
     ]
    },
    {
     "name": "stdout",
     "output_type": "stream",
     "text": [
      "b'Hello' (21)\n"
     ]
    }
   ],
   "source": [
    "print(sync_sub())"
   ]
  },
  {
   "cell_type": "code",
   "execution_count": 15,
   "id": "61937e64-b066-4467-a8f7-d7b0d1f54bf3",
   "metadata": {},
   "outputs": [
    {
     "name": "stdout",
     "output_type": "stream",
     "text": [
      "b'Hello' (39)\n",
      "b'Hello' (63)\n",
      "b'Hello' (42)\n",
      "b'Hello' (56)\n"
     ]
    }
   ],
   "source": [
    "for message in sync_sub:\n",
    "    print(message)"
   ]
  },
  {
   "cell_type": "code",
   "execution_count": 16,
   "id": "d38964ce-4df1-48fa-919d-437fb5aa64d4",
   "metadata": {},
   "outputs": [
    {
     "name": "stderr",
     "output_type": "stream",
     "text": [
      "2025-03-07 07:21:08,498 - INFO - Connected to localhost:1883\n"
     ]
    },
    {
     "data": {
      "text/plain": [
       "\"b'Hello' (40, async)\""
      ]
     },
     "execution_count": 16,
     "metadata": {},
     "output_type": "execute_result"
    }
   ],
   "source": [
    "await async_sub()"
   ]
  },
  {
   "cell_type": "code",
   "execution_count": 17,
   "id": "1b0d00b3-c57d-4d19-804b-28b690646056",
   "metadata": {},
   "outputs": [],
   "source": [
    "# await asyncio.gather(async_sub(), async_sub(), async_sub())"
   ]
  },
  {
   "cell_type": "code",
   "execution_count": 18,
   "id": "9f409fe7-9b31-4302-8d71-cac08c091882",
   "metadata": {},
   "outputs": [
    {
     "name": "stderr",
     "output_type": "stream",
     "text": [
      "2025-03-07 07:21:13,175 - INFO - Connected to localhost:1883\n",
      "2025-03-07 07:21:18,709 - INFO - Connected to localhost:1883\n",
      "2025-03-07 07:21:19,668 - INFO - Connected to localhost:1883\n",
      "2025-03-07 07:21:20,586 - INFO - Connected to localhost:1883\n",
      "2025-03-07 07:21:21,679 - INFO - Connected to localhost:1883\n"
     ]
    },
    {
     "data": {
      "text/plain": [
       "[\"b'Hello' (66, async)\",\n",
       " \"b'Hello' (88, async)\",\n",
       " \"b'Hello' (95, async)\",\n",
       " \"b'Hello' (73, async)\"]"
      ]
     },
     "execution_count": 18,
     "metadata": {},
     "output_type": "execute_result"
    }
   ],
   "source": [
    "[x async for x in async_sub]"
   ]
  },
  {
   "cell_type": "code",
   "execution_count": 19,
   "id": "b5a76276-38e2-4f96-86d0-2aaa628f9820",
   "metadata": {},
   "outputs": [
    {
     "name": "stderr",
     "output_type": "stream",
     "text": [
      "2025-03-07 07:21:24,693 - INFO - Connected to localhost:1883\n",
      "2025-03-07 07:21:29,738 - INFO - Connected to localhost:1883\n",
      "2025-03-07 07:21:30,230 - INFO - Connected to localhost:1883\n",
      "2025-03-07 07:21:30,626 - INFO - Connected to localhost:1883\n"
     ]
    },
    {
     "name": "stdout",
     "output_type": "stream",
     "text": [
      "[\"b'Hello' (43, async)\", \"b'Hello' (22, async)\", \"b'Hello' (58, async)\"]\n"
     ]
    }
   ],
   "source": [
    "async with asyncio.timeout(10):\n",
    "    print([x async for x in async_sub])"
   ]
  },
  {
   "cell_type": "code",
   "execution_count": 20,
   "id": "894452fc-38c1-48e1-900e-da741850da31",
   "metadata": {},
   "outputs": [
    {
     "name": "stdin",
     "output_type": "stream",
     "text": [
      "Stop the broker. Press [enter] to continue. Restart the broker. \n"
     ]
    },
    {
     "name": "stderr",
     "output_type": "stream",
     "text": [
      "2025-03-07 07:21:54,469 - INFO - Broker not available. Attempting to reconnect in 1 seconds.\n",
      "2025-03-07 07:21:55,474 - INFO - Broker not available. Attempting to reconnect in 2 seconds.\n",
      "2025-03-07 07:21:57,478 - INFO - Broker not available. Attempting to reconnect in 4 seconds.\n",
      "2025-03-07 07:22:01,483 - INFO - Connected to localhost:1883\n",
      "2025-03-07 07:22:03,211 - INFO - Connected to localhost:1883\n",
      "2025-03-07 07:22:04,239 - INFO - Connected to localhost:1883\n",
      "2025-03-07 07:22:05,095 - INFO - Connected to localhost:1883\n",
      "2025-03-07 07:22:05,882 - INFO - Connected to localhost:1883\n",
      "2025-03-07 07:22:08,008 - INFO - Disconnected from the broker. Waiting to reconnect.\n",
      "2025-03-07 07:22:08,011 - WARNING - Could not gracefully disconnect: 4. Forcing disconnection.\n",
      "2025-03-07 07:22:08,013 - WARNING - Could not gracefully disconnect: 4. Forcing disconnection.\n",
      "2025-03-07 07:22:08,022 - INFO - Broker not available. Attempting to reconnect in 1 seconds.\n",
      "2025-03-07 07:22:09,026 - INFO - Broker not available. Attempting to reconnect in 2 seconds.\n",
      "2025-03-07 07:22:11,030 - INFO - Broker not available. Attempting to reconnect in 4 seconds.\n",
      "2025-03-07 07:22:15,034 - INFO - Connected to localhost:1883\n",
      "2025-03-07 07:22:15,039 - INFO - Reconnected to the broker.\n",
      "2025-03-07 07:22:15,043 - INFO - Connected to localhost:1883\n",
      "2025-03-07 07:22:15,611 - INFO - Connected to localhost:1883\n",
      "2025-03-07 07:22:16,592 - INFO - Connected to localhost:1883\n",
      "2025-03-07 07:22:17,379 - INFO - Connected to localhost:1883\n",
      "2025-03-07 07:22:18,142 - INFO - Connected to localhost:1883\n"
     ]
    },
    {
     "data": {
      "text/plain": [
       "[\"b'Hello' (96, async)\",\n",
       " \"b'Hello' (80, async)\",\n",
       " \"b'Hello' (61, async)\",\n",
       " \"b'Hello' (45, async)\",\n",
       " \"b'Hello' (01, async)\",\n",
       " \"b'Hello' (43, async)\",\n",
       " \"b'Hello' (63, async)\",\n",
       " \"b'Hello' (49, async)\"]"
      ]
     },
     "execution_count": 20,
     "metadata": {},
     "output_type": "execute_result"
    }
   ],
   "source": [
    "_ = input(\"Stop the broker. Press [enter] to continue. Restart the broker.\")\n",
    "[x async for x in async_sub]"
   ]
  },
  {
   "cell_type": "code",
   "execution_count": 21,
   "id": "98636587-03ee-4290-820f-f1b56d142777",
   "metadata": {},
   "outputs": [
    {
     "name": "stderr",
     "output_type": "stream",
     "text": [
      "2025-03-07 07:22:22,158 - INFO - Connected to localhost:1883\n",
      "2025-03-07 07:22:33,673 - INFO - Disconnected from the broker. Waiting to reconnect.\n",
      "2025-03-07 07:22:33,675 - WARNING - Could not gracefully disconnect: 4. Forcing disconnection.\n",
      "2025-03-07 07:22:33,676 - WARNING - Could not gracefully disconnect: 4. Forcing disconnection.\n",
      "2025-03-07 07:22:33,683 - INFO - Broker not available. Attempting to reconnect in 1 seconds.\n",
      "2025-03-07 07:22:34,690 - INFO - Broker not available. Attempting to reconnect in 2 seconds.\n",
      "2025-03-07 07:22:36,694 - INFO - Broker not available. Attempting to reconnect in 4 seconds.\n",
      "2025-03-07 07:22:40,699 - INFO - Connected to localhost:1883\n",
      "2025-03-07 07:22:40,703 - INFO - Reconnected to the broker.\n",
      "2025-03-07 07:22:40,707 - INFO - Connected to localhost:1883\n"
     ]
    },
    {
     "data": {
      "text/plain": [
       "\"b'Hello' (32, async)\""
      ]
     },
     "execution_count": 21,
     "metadata": {},
     "output_type": "execute_result"
    }
   ],
   "source": [
    "await async_sub()"
   ]
  },
  {
   "cell_type": "code",
   "execution_count": null,
   "id": "5581562c-a604-4ba5-a831-70ade038e436",
   "metadata": {},
   "outputs": [],
   "source": []
  }
 ],
 "metadata": {
  "kernelspec": {
   "display_name": "Python 3 (ipykernel)",
   "language": "python",
   "name": "python3"
  },
  "language_info": {
   "codemirror_mode": {
    "name": "ipython",
    "version": 3
   },
   "file_extension": ".py",
   "mimetype": "text/x-python",
   "name": "python",
   "nbconvert_exporter": "python",
   "pygments_lexer": "ipython3",
   "version": "3.12.7"
  }
 },
 "nbformat": 4,
 "nbformat_minor": 5
}
