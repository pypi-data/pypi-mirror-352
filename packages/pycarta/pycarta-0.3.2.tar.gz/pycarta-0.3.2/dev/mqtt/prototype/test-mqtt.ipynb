{
 "cells": [
  {
   "cell_type": "markdown",
   "id": "03a67b7e-e091-4e6f-a357-6baef5b4d75c",
   "metadata": {},
   "source": [
    "## Instructions\n",
    "\n",
    "Prerequisites:\n",
    "\n",
    "1. Install the package dependencies found in \"requirements.txt\".\n",
    "2. Install an MQTT server, e.g. [Mosquitto](https://mosquitto.org/).\n",
    "\n",
    "\n",
    "This example is best viewed in jupyter lab. These instructions assume you are running in jupyter lab with the five windows configured as follows:\n",
    "\n",
    "    +---------------------+---------------+---------------+\n",
    "    | 1. test-mqtt.ipynb  | 2. terminal   | 3. terminal   |\n",
    "    |                     | mosquitto     | mosquitto_sub |\n",
    "    |                     | server        | /spBv1.0/aimpf/DDATA/abar/pycarta\n",
    "    |                     +---------------+---------------|\n",
    "    |                     | 4. terminal   | 5. terminal   |\n",
    "    |                     | mosquitto_sub | mosquitto_sub |\n",
    "    |                     | test          | /spBv1.0/aimpf/DDATA/bar/pycarta\n",
    "    +---------------------+---------------+---------------+\n",
    "\n",
    "That is, the notebook on the left and four terminals: one running the mosquitto server, the other three subscribing to the \"test\", \"/spBv1.0/aimpf/DDATA/abar/pycarta\", and \"/spBv1.0/aimpf/DDATA/bar/pycarta\" topics.\n",
    "\n",
    "These windows will be referred by number in the comments below."
   ]
  },
  {
   "cell_type": "code",
   "execution_count": 1,
   "id": "af0c26b7-e5fb-4f78-bb23-b82e92045b1b",
   "metadata": {},
   "outputs": [],
   "source": [
    "import time\n",
    "import logging\n",
    "import asyncio\n",
    "from pycarta.mqtt import publish\n",
    "from pycarta.mqtt import subscribe\n",
    "\n",
    "logger = logging.getLogger(__name__)\n",
    "logger.setLevel(logging.INFO)\n",
    "\n",
    "logging.basicConfig()"
   ]
  },
  {
   "cell_type": "markdown",
   "id": "a2c4fdfc-a86e-4fb8-b8c4-c21e39211b00",
   "metadata": {},
   "source": [
    "### Base (pycarta) Publisher"
   ]
  },
  {
   "cell_type": "code",
   "execution_count": 2,
   "id": "22a629aa-2011-4f7d-8a04-183ef45a9320",
   "metadata": {},
   "outputs": [],
   "source": [
    "@publish(\"test\", host=\"localhost\")\n",
    "def foo():\n",
    "    return \"Hello\""
   ]
  },
  {
   "cell_type": "code",
   "execution_count": 3,
   "id": "54210b63-a102-403c-a992-cc4f385b1f6c",
   "metadata": {},
   "outputs": [
    {
     "name": "stderr",
     "output_type": "stream",
     "text": [
      "DEBUG:pycarta.mqtt.connection:[Sync Connection] Connecting to localhost:1883\n",
      "DEBUG:pycarta.mqtt.publisher:Synchronously publishing to topic test\n",
      "DEBUG:pycarta.mqtt.connection:[Sync Connection] Disconnecting from localhost:1883\n"
     ]
    },
    {
     "data": {
      "text/plain": [
       "'Hello'"
      ]
     },
     "execution_count": 3,
     "metadata": {},
     "output_type": "execute_result"
    }
   ],
   "source": [
    "# A message should appear in window 4.\n",
    "foo()"
   ]
  },
  {
   "cell_type": "code",
   "execution_count": 4,
   "id": "74f8cca0-7da5-430d-ae6d-72cd9d55cc8c",
   "metadata": {},
   "outputs": [],
   "source": [
    "@publish(\"test\", host=\"localhost\")\n",
    "async def afoo():\n",
    "    await asyncio.sleep(1)  # wait briefly to check if it's truly asynchronous\n",
    "    return \"Async Hello\""
   ]
  },
  {
   "cell_type": "code",
   "execution_count": 5,
   "id": "521ff13b",
   "metadata": {},
   "outputs": [
    {
     "data": {
      "text/plain": [
       "'Async Hello'"
      ]
     },
     "execution_count": 5,
     "metadata": {},
     "output_type": "execute_result"
    },
    {
     "name": "stderr",
     "output_type": "stream",
     "text": [
      "DEBUG:pycarta.mqtt.connection:[Async Connection] Connecting to localhost:1883\n"
     ]
    },
    {
     "name": "stderr",
     "output_type": "stream",
     "text": [
      "DEBUG:pycarta.mqtt.publisher:Asynchronously publishing to topic test\n",
      "DEBUG:pycarta.mqtt.connection:[Async Connection] Disconnecting from localhost:1883\n"
     ]
    }
   ],
   "source": [
    "await afoo()"
   ]
  },
  {
   "cell_type": "code",
   "execution_count": null,
   "id": "0fd73658-dded-4c08-82f2-94c0edf3aa64",
   "metadata": {},
   "outputs": [
    {
     "name": "stderr",
     "output_type": "stream",
     "text": [
      "DEBUG:pycarta.mqtt.connection:[Async Connection] Connecting to localhost:1883\n",
      "DEBUG:pycarta.mqtt.connection:[Async Connection] Connecting to localhost:1883\n",
      "DEBUG:pycarta.mqtt.connection:[Async Connection] Connecting to localhost:1883\n"
     ]
    },
    {
     "data": {
      "text/plain": [
       "['Async Hello', 'Async Hello', 'Async Hello']"
      ]
     },
     "execution_count": 6,
     "metadata": {},
     "output_type": "execute_result"
    },
    {
     "name": "stderr",
     "output_type": "stream",
     "text": [
      "DEBUG:pycarta.mqtt.publisher:Asynchronously publishing to topic test\n",
      "DEBUG:pycarta.mqtt.publisher:Asynchronously publishing to topic test\n",
      "DEBUG:pycarta.mqtt.publisher:Asynchronously publishing to topic test\n",
      "DEBUG:pycarta.mqtt.connection:[Async Connection] Disconnecting from localhost:1883\n",
      "DEBUG:pycarta.mqtt.connection:[Async Connection] Disconnecting from localhost:1883\n",
      "DEBUG:pycarta.mqtt.connection:[Async Connection] Disconnecting from localhost:1883\n"
     ]
    }
   ],
   "source": [
    "# A message should appear in window 4.\n",
    "await asyncio.gather(afoo(), afoo(), afoo())"
   ]
  },
  {
   "cell_type": "markdown",
   "id": "1af4bd76-cbdf-4451-a445-08b5bf343045",
   "metadata": {},
   "source": [
    "### AIMPF-like Publisher\n",
    "\n",
    "Notice that the return type/format of the function is unchanged locally, but is formatted according to the CAMX standard when received by the MQTT subscriber."
   ]
  },
  {
   "cell_type": "code",
   "execution_count": null,
   "id": "db5ec4cc-1248-411b-8569-dc215054f7a5",
   "metadata": {},
   "outputs": [],
   "source": [
    "@aimpf_publish(\"my-project\", host=\"localhost\")\n",
    "def bar():\n",
    "    return \"Hello, AIMPF\"\n",
    "\n",
    "@aimpf_publish(\"my-project\", host=\"localhost\")\n",
    "async def abar():\n",
    "    # return \"Async Hello, AIMPF\"\n",
    "    return {\n",
    "        \"complex\": \"payload\",\n",
    "        \"include\": 1.234\n",
    "    }"
   ]
  },
  {
   "cell_type": "code",
   "execution_count": null,
   "id": "83ba9ead-39ae-40c0-8889-79b804937a1f",
   "metadata": {},
   "outputs": [],
   "source": [
    "# A JSON-formatted payload should appear in window 5.\n",
    "bar()"
   ]
  },
  {
   "cell_type": "code",
   "execution_count": null,
   "id": "f46f8fab-83c3-47b4-9217-8621f484fc30",
   "metadata": {},
   "outputs": [],
   "source": [
    "# A JSON-formatted payload should appear in window 3.\n",
    "await asyncio.gather(abar(), abar(), abar())"
   ]
  },
  {
   "cell_type": "markdown",
   "id": "d43c2fa9",
   "metadata": {
    "vscode": {
     "languageId": "bat"
    }
   },
   "source": [
    "### Base (pycarta) Subscriber"
   ]
  },
  {
   "cell_type": "code",
   "execution_count": 1,
   "id": "38b4c7aa",
   "metadata": {},
   "outputs": [],
   "source": [
    "import time\n",
    "import logging\n",
    "import asyncio\n",
    "from pycarta.mqtt import publish\n",
    "from pycarta.mqtt import subscribe\n",
    "\n",
    "logger = logging.getLogger(__name__)\n",
    "logger.setLevel(logging.INFO)\n",
    "\n",
    "logging.basicConfig()\n",
    "\n",
    "@subscribe(\"test\", host=\"localhost\")\n",
    "def baz(msg):\n",
    "    return msg"
   ]
  },
  {
   "cell_type": "code",
   "execution_count": 2,
   "id": "237ede76",
   "metadata": {},
   "outputs": [
    {
     "name": "stderr",
     "output_type": "stream",
     "text": [
      "DEBUG:pycarta.mqtt.connection:[Sync Connection] Connecting to localhost:1883\n",
      "INFO:pycarta.mqtt.connection:[Connection] Connecting to localhost:1883...\n",
      "INFO:pycarta.mqtt.connection:[Connection] Connected to localhost:1883\n",
      "DEBUG:pycarta.mqtt.subscriber:[Sync subscriber] Subscribing to topic test\n",
      "DEBUG:pycarta.mqtt.connection:[Sync Connection] Disconnecting from localhost:1883\n"
     ]
    },
    {
     "data": {
      "text/plain": [
       "'Hello from mosquitto 2'"
      ]
     },
     "execution_count": 2,
     "metadata": {},
     "output_type": "execute_result"
    }
   ],
   "source": [
    "baz()"
   ]
  },
  {
   "cell_type": "code",
   "execution_count": null,
   "id": "386dfa82",
   "metadata": {},
   "outputs": [],
   "source": [
    "[m for m in baz]"
   ]
  },
  {
   "cell_type": "code",
   "execution_count": null,
   "id": "9d5c2381",
   "metadata": {},
   "outputs": [],
   "source": [
    "import time\n",
    "import logging\n",
    "import asyncio\n",
    "from pycarta.mqtt import publish, aimpf_publish\n",
    "from pycarta.mqtt import subscribe, aimpf_subscribe\n",
    "\n",
    "logger = logging.getLogger(__name__)\n",
    "logger.setLevel(logging.INFO)\n",
    "\n",
    "logging.basicConfig()\n",
    "\n",
    "@subscribe(\"test\", host=\"localhost\")\n",
    "async def abaz(msg):\n",
    "    print(f\"[Async Subscriber] Message received: {msg}\")\n",
    "    return msg"
   ]
  },
  {
   "cell_type": "code",
   "execution_count": null,
   "id": "734ea1a9",
   "metadata": {},
   "outputs": [],
   "source": [
    "await abaz()"
   ]
  },
  {
   "cell_type": "code",
   "execution_count": null,
   "id": "f4eb6104",
   "metadata": {},
   "outputs": [],
   "source": [
    "received_messages = abaz.stop()\n",
    "print(\"Received messages:\", received_messages)"
   ]
  },
  {
   "cell_type": "code",
   "execution_count": null,
   "id": "81d11fc4",
   "metadata": {},
   "outputs": [],
   "source": [
    "received_messages"
   ]
  },
  {
   "cell_type": "code",
   "execution_count": null,
   "id": "3b12fdb7",
   "metadata": {},
   "outputs": [],
   "source": [
    "await asyncio.gather(abaz(), abaz(), abaz())"
   ]
  },
  {
   "cell_type": "code",
   "execution_count": null,
   "id": "294bcf74",
   "metadata": {},
   "outputs": [],
   "source": [
    "[m async for m in abaz]"
   ]
  },
  {
   "cell_type": "code",
   "execution_count": null,
   "id": "362a8751",
   "metadata": {},
   "outputs": [],
   "source": [
    "await abaz()"
   ]
  },
  {
   "cell_type": "code",
   "execution_count": null,
   "id": "f7c3e9d4",
   "metadata": {},
   "outputs": [],
   "source": [
    "abaz.stop()"
   ]
  },
  {
   "cell_type": "code",
   "execution_count": null,
   "id": "e2500bd6",
   "metadata": {},
   "outputs": [],
   "source": [
    "sub1 = subscribe(\"test\", host=\"localhost\")(abaz)\n",
    "sub2 = subscribe(\"test\", host=\"localhost\")(abaz)\n",
    "sub3 = subscribe(\"test\", host=\"localhost\")(abaz)"
   ]
  },
  {
   "cell_type": "code",
   "execution_count": null,
   "id": "c3e7982f",
   "metadata": {},
   "outputs": [],
   "source": [
    "sub2.stop()"
   ]
  },
  {
   "cell_type": "code",
   "execution_count": null,
   "id": "5bedf2b6",
   "metadata": {},
   "outputs": [],
   "source": [
    "@subscribe(\"test\", host=\"localhost\")\n",
    "async def abaz(msg):\n",
    "    print(f\"[Async Subscriber] Message received: {msg}\")\n",
    "    return msg\n",
    "\n",
    "sub2 = subscribe(\"test\", host=\"localhost\")(abaz)"
   ]
  },
  {
   "cell_type": "code",
   "execution_count": null,
   "id": "8f0e1bfb",
   "metadata": {},
   "outputs": [],
   "source": [
    "await abaz()"
   ]
  },
  {
   "cell_type": "code",
   "execution_count": null,
   "id": "474d2c54",
   "metadata": {},
   "outputs": [],
   "source": [
    "abaz.stop()"
   ]
  },
  {
   "cell_type": "code",
   "execution_count": null,
   "id": "f290d442",
   "metadata": {},
   "outputs": [],
   "source": [
    "# Define a subscriber function.\n",
    "@subscribe(\"test\", host=\"localhost\")\n",
    "async def my_subscriber(msg):\n",
    "    print(f\"[Subscriber] Received message: {msg}\")\n",
    "    return msg\n",
    "\n",
    "# Create three independent subscriber instances.\n",
    "# Even though they wrap the same function, each call returns a separate object.\n",
    "sub1 = subscribe(\"test\", host=\"localhost\")(my_subscriber)\n",
    "sub2 = subscribe(\"test\", host=\"localhost\")(my_subscriber)\n",
    "sub3 = subscribe(\"test\", host=\"localhost\")(my_subscriber)\n",
    "\n",
    "# Start all subscribers by calling them.\n",
    "# In our design, calling the subscriber schedules its background listener.\n",
    "await sub1()\n",
    "await sub2()\n",
    "await sub3()\n",
    "print(\"All three subscribers are now listening.\")\n",
    "\n",
    "# Let the subscribers run for a while so they can receive messages.\n",
    "await asyncio.sleep(8)\n",
    "\n",
    "# Now, stop sub2. This will cancel only sub2's background listener.\n",
    "sub2.stop()\n",
    "print(\"Subscriber 2 stopped.\")\n",
    "\n",
    "# Let the remaining subscribers run a bit longer.\n",
    "await asyncio.sleep(8)"
   ]
  },
  {
   "cell_type": "code",
   "execution_count": null,
   "id": "237e9409",
   "metadata": {},
   "outputs": [],
   "source": []
  }
 ],
 "metadata": {
  "kernelspec": {
   "display_name": "venv",
   "language": "python",
   "name": "python3"
  },
  "language_info": {
   "codemirror_mode": {
    "name": "ipython",
    "version": 3
   },
   "file_extension": ".py",
   "mimetype": "text/x-python",
   "name": "python",
   "nbconvert_exporter": "python",
   "pygments_lexer": "ipython3",
   "version": "3.12.9"
  }
 },
 "nbformat": 4,
 "nbformat_minor": 5
}
