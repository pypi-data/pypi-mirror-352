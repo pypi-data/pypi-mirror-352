{
 "cells": [
  {
   "cell_type": "markdown",
   "metadata": {},
   "source": [
    "# MQTT Subscribe-Publish Testing Environment\n",
    "\n",
    "## INTRODUCTION\n",
    "\n",
    "This notebook demonstrates the functionality of `publish` and `subscribe` using:\n",
    "- Several different broker types:\n",
    "    - Local Mosquitto MQTT broker (without credentials)\n",
    "    - Remote AIMPF MQTT broker (with credentials)\n",
    "- The `publish` decorator to send messages in both **synchronous** and **asynchronous** modes\n",
    "    - `@publish(\"test\")`\n",
    "    - `@async_publish(\"test\")`\n",
    "- The `subscribe` decorator to process messages in both **synchronous** and **asynchronous** modes\n",
    "    - `@subscribe(\"test\")`\n",
    "    - `@async_subscribe(\"test\")`\n",
    "\n",
    "### Prerequisites\n",
    "- **General**\n",
    "    - Ensure `pycarta` is installed in editable mode (`pip install -e .`) from the root directory of the project.\n",
    "\n",
    "- **Local Mosquitto MQTT broker**\n",
    "    - Ensure Mosquitto is installed and running:\n",
    "        ```bash\n",
    "        brew install mosquitto\n",
    "        mosquitto\n",
    "        ```\n",
    "    - A mosquitto subscriber can be set up as follows to listen to topic `test`:\n",
    "        ```bash\n",
    "        mosquitto_sub -t test\n",
    "        ```\n",
    "    - A mosquitto publisher can publish `$YOUR_MESSAGE` to topic `test` as follows:\n",
    "        ```bash\n",
    "        mosquitto_pub -t test -m $YOUR_MESSAGE\n",
    "        ```\n",
    "\n",
    "- **Remote AIMPF MQTT broker**\n",
    "    - A set of credentials available including:\n",
    "        - broker_address (not in the certificate requirement, but will be needed for connection)\n",
    "        - ca_certificate\n",
    "        - private_key\n",
    "        - certificate\n",
    "    - Basic information about the broker, e.g., broker address, port, etc.\n",
    "    - (Optional, but highly recommended) A Carta account for credential CRUD operations \n",
    "        - You have already uploaded MQTT credentials to your chosen `tag`. Please check the Jupyter Notebook named `credential-crud.ipynb` for more details.\n",
    "        - Environment variables set for authentication for your account (e.g., `CARTA_CHEN_USERNAME`, `CARTA_CHEN_PASSWORD`).\n"
   ]
  },
  {
   "cell_type": "code",
   "execution_count": 2,
   "metadata": {},
   "outputs": [],
   "source": [
    "import time\n",
    "import os\n",
    "import logging\n",
    "import random\n",
    "from dotenv import load_dotenv\n",
    "\n",
    "load_dotenv(override=True)\n",
    "\n",
    "logger = logging.getLogger(__name__)\n",
    "logger.setLevel(logging.DEBUG)\n",
    "\n",
    "logging.basicConfig()\n",
    "\n",
    "def ri(lower=1, upper=100):\n",
    "    return random.randint(lower, upper)"
   ]
  },
  {
   "cell_type": "markdown",
   "metadata": {},
   "source": [
    "from dotenv import load_dotenv\n",
    "from pycarta.mqtt.subscriber import subscribe\n",
    "from pycarta.mqtt.publisher import publish\n",
    "import logging\n",
    "\n",
    "# Load environment variables\n",
    "load_dotenv(override=True)\n",
    "\n",
    "# Synchronous publisher using default configuration\n",
    "@publish(\n",
    "    topic=\"sensor/default\",\n",
    "    host=\"test.mosquitto.org\",\n",
    "    port=1883\n",
    ")\n",
    "def p_default_publisher():\n",
    "    return {\"message\": \"Hello from publisher using default constants\"}\n",
    "\n",
    "# Synchronous subscriber with a 6-second polling timeout\n",
    "@subscribe(\n",
    "    topic=\"sensor/data_6s\",\n",
    "    host=\"test.mosquitto.org\",\n",
    "    port=1883,\n",
    "    config={\"POLLING_TIMEOUT\": 6}\n",
    ")\n",
    "def s1_subscriber(msg):\n",
    "    return msg\n",
    "\n",
    "# Synchronous publisher with a 5-second connection timeout\n",
    "@publish(\n",
    "    topic=\"sensor/data_5s\",\n",
    "    host=\"test.mosquitto.org\",\n",
    "    port=1883,\n",
    "    config={\"CONNECTION_TIMEOUT\": 5}\n",
    ")\n",
    "def p1_publisher():\n",
    "    return {\"message\": \"Hello from publisher 1\"}\n",
    "\n",
    "# Publisher using configuration loaded from an INI file.\n",
    "# (Assume the INI file is located at \"../../tests/mqtt/custom_config.ini\")\n",
    "@publish(\n",
    "    topic=\"sensor/ini_config\",\n",
    "    host=\"test.mosquitto.org\",\n",
    "    port=1883,\n",
    "    config=\"../../tests/mqtt/custom_config.ini\"\n",
    ")\n",
    "def p_ini_config_publisher():\n",
    "    return {\"message\": \"Hello from publisher using INI configuration\"}\n",
    "\n",
    "# ==== Demonstrate configuration retrieval ====\n",
    "# Because the decorated functions are now callable wrapper class instances,\n",
    "# they have a 'config' attribute.\n",
    "\n",
    "print(\"\\n=== Checking Configuration ===\")\n",
    "\n",
    "print(\"\\nPublisher using default constants:\")\n",
    "print(p_default_publisher.config)\n",
    "\n",
    "print(\"\\nSubscriber 1 (15s polling timeout):\")\n",
    "print(s1_subscriber.config)\n",
    "\n",
    "print(\"\\nPublisher 1 (5s connection timeout):\")\n",
    "print(p1_publisher.config)\n",
    "\n",
    "print(\"\\nPublisher using INI configuration:\")\n",
    "print(p_ini_config_publisher.config)\n",
    "\n",
    "p_default_publisher()\n",
    "# s1_subscriber()"
   ]
  },
  {
   "cell_type": "code",
   "execution_count": 3,
   "metadata": {},
   "outputs": [],
   "source": [
    "# NOTE: Here, we are trying to make the brokers definition consistent between Jupyter Notebook and Pytest.\n",
    "BROKERS = [\n",
    "    {\n",
    "        \"label\": \"mosquitto_local\",\n",
    "        \"host\": \"localhost\",\n",
    "        \"port\": 1883,\n",
    "    },\n",
    "    {\n",
    "        \"label\": \"aimpf_remote_cred\",\n",
    "        \"host\": \"aop63bhe1nwsr-ats.iot.us-east-1.amazonaws.com\",\n",
    "        \"port\": 8883,\n",
    "    },\n",
    "]\n",
    "\n",
    "# Create a dictionary for quick access by label\n",
    "brokers_dict = {broker[\"label\"]: broker for broker in BROKERS}\n",
    "\n",
    "# NOTE: Before you proceed, select the testing broker by its label\n",
    "# testing_broker = brokers_dict[\"mosquitto_local\"]\n",
    "testing_broker = brokers_dict[\"aimpf_remote_cred\"]\n",
    "\n"
   ]
  },
  {
   "cell_type": "code",
   "execution_count": 4,
   "metadata": {},
   "outputs": [
    {
     "name": "stderr",
     "output_type": "stream",
     "text": [
      "INFO:__main__:Approach #3 authenticator created via Carta tag 'mb33-thing301'.\n",
      "INFO:__main__:BilateralCredentialAuthenticator initialized!\n"
     ]
    }
   ],
   "source": [
    "import time\n",
    "import os\n",
    "import logging\n",
    "import random\n",
    "from pycarta import login\n",
    "from pycarta.mqtt.publisher import publish\n",
    "from pycarta.mqtt.subscriber import subscribe\n",
    "from pycarta.mqtt.credential import BilateralCredentialAuthenticator\n",
    "\n",
    "logger = logging.getLogger(__name__)\n",
    "\n",
    "if testing_broker[\"label\"] == \"aimpf_remote_cred\":\n",
    "    # Environment variables\n",
    "    CARTA_USERNAME = os.getenv(\"CARTA_CHEN_USERNAME\")\n",
    "    CARTA_PASSWORD = os.getenv(\"CARTA_CHEN_PASSWORD\")\n",
    "    CARTA_HOST = os.getenv(\"CARTA_HOST_DEV\", \"https://api.sandbox.carta.contextualize.us.com\")\n",
    "    TAG = \"mb33-thing301\"\n",
    "    certificate_folder = \"../../tests/mqtt/mb33-thing301\"\n",
    "    ca_cert_file = \"../../tests/mqtt/mb33-thing301/AmazonRootCA1.pem\"\n",
    "    client_cert_file = \"../../tests/mqtt/mb33-thing301/34c68a3ca20dfafa5a327c03529649d206b13a789c08df92be63bbea2514cb3d-certificate.pem.crt\"\n",
    "    client_key_file = \"../../tests/mqtt/mb33-thing301/34c68a3ca20dfafa5a327c03529649d206b13a789c08df92be63bbea2514cb3d-private.pem.key\"\n",
    "\n",
    "    # Approach #1: Provide 3 file paths\n",
    "    # auth = BilateralCredentialAuthenticator.from_cert_files(\n",
    "    #     ca_cert=ca_cert_file,\n",
    "    #     cert=client_cert_file,\n",
    "    #     key=client_key_file\n",
    "    # )\n",
    "    # logger.info(\"Approach #1 authenticator created.\")\n",
    "\n",
    "    # Approach #2: Provide 1 folder path containing exactly 3 PEM files\n",
    "    # auth = BilateralCredentialAuthenticator.from_folder(certificate_folder)\n",
    "    # logger.info(\"Approach #2 authenticator created.\")\n",
    "\n",
    "    # Approach #3: Provide username/password/tag to retrieve from Carta\n",
    "    login(username=CARTA_USERNAME, password=CARTA_PASSWORD, host=CARTA_HOST)\n",
    "    auth = BilateralCredentialAuthenticator.from_carta(tag=TAG)\n",
    "    logger.info(\"Approach #3 authenticator created via Carta tag '%s'.\", TAG)\n",
    "\n",
    "    logger.info(\"BilateralCredentialAuthenticator initialized!\")\n",
    "    \n"
   ]
  },
  {
   "cell_type": "markdown",
   "metadata": {},
   "source": [
    "---\n",
    "## SECTION 1: Synchronous Mode"
   ]
  },
  {
   "cell_type": "markdown",
   "metadata": {},
   "source": [
    "### Example 1.1: Publish Results of a Function\n",
    "This example demonstrates publishing results to a topic using the `publish` decorator."
   ]
  },
  {
   "cell_type": "markdown",
   "metadata": {},
   "source": [
    "# Use the publish decorator on a simple function\n",
    "if testing_broker[\"label\"] == \"mosquitto_local\":\n",
    "    @publish(\n",
    "        \"test\",\n",
    "        host=testing_broker[\"host\"])\n",
    "    def add(lhs, rhs):\n",
    "        return lhs + rhs\n",
    "elif testing_broker[\"label\"] == \"aimpf_remote_cred\":\n",
    "    @publish(\n",
    "        \"test\",\n",
    "        host=testing_broker[\"host\"],\n",
    "        port=testing_broker[\"port\"],\n",
    "        qos=1,\n",
    "        authenticator=auth)\n",
    "    def add(lhs, rhs):\n",
    "        return lhs + rhs\n",
    "\n",
    "logger.info(f\"Function `add` has been defined for testing against broker `{testing_broker[\"label\"]}`\")"
   ]
  },
  {
   "cell_type": "markdown",
   "metadata": {},
   "source": [
    "# Publish results\n",
    "add(12, 30)  # Publishes 42"
   ]
  },
  {
   "cell_type": "markdown",
   "metadata": {},
   "source": [
    "# Clean up\n",
    "del add"
   ]
  },
  {
   "cell_type": "markdown",
   "metadata": {},
   "source": [
    "### Example 1.2: Subscribe to a Topic and Process Messages\n",
    "This example demonstrates subscribing to the topic and processing messages using the `subscribe` decorator."
   ]
  },
  {
   "cell_type": "code",
   "execution_count": 5,
   "metadata": {},
   "outputs": [
    {
     "name": "stderr",
     "output_type": "stream",
     "text": [
      "INFO:__main__:Function `double` has been defined for testing against broker `aimpf_remote_cred`\n",
      "DEBUG:pycarta.mqtt.connection:[Sync Connection] Connecting to aop63bhe1nwsr-ats.iot.us-east-1.amazonaws.com:8883\n",
      "INFO:pycarta.mqtt.connection:[Connection] Connecting to aop63bhe1nwsr-ats.iot.us-east-1.amazonaws.com:8883...\n",
      "INFO:pycarta.mqtt.connection:[Connection] Connected to aop63bhe1nwsr-ats.iot.us-east-1.amazonaws.com:8883\n",
      "DEBUG:pycarta.mqtt.subscriber:[Sync subscriber] Subscribing to topic test\n",
      "DEBUG:pycarta.mqtt.connection:[Sync Connection] Disconnecting from aop63bhe1nwsr-ats.iot.us-east-1.amazonaws.com:8883\n",
      "WARNING:pycarta.mqtt.subscriber:[Sync subscriber] Failed subscribe on topic test: [Sync subscriber] No message received within timeout period\n"
     ]
    }
   ],
   "source": [
    "\n",
    "if testing_broker[\"label\"] == \"mosquitto_local\":\n",
    "    @subscribe(\"test\")\n",
    "    def double(x):\n",
    "        return x * 2\n",
    "elif testing_broker[\"label\"] == \"aimpf_remote_cred\":\n",
    "    @subscribe(\n",
    "        topic=\"test\",\n",
    "        host=testing_broker[\"host\"],\n",
    "        port=testing_broker[\"port\"],\n",
    "        authenticator=auth)\n",
    "    def double(x):\n",
    "        return float(x) * 2\n",
    "\n",
    "logger.info(f\"Function `double` has been defined for testing against broker `{testing_broker[\"label\"]}`\")\n",
    "\n",
    "# Single message processing (simulate publisher: mosquitto_pub -t test -m 25)\n",
    "# The subscriber will stop if:\n",
    "# 1. Receive a published message\n",
    "# 2. Timeout (TimeoutException after certain amount of time)\n",
    "# 3. Canceled (KeyboardInterrupt)\n",
    "double()"
   ]
  },
  {
   "cell_type": "markdown",
   "metadata": {},
   "source": [
    "### Example 1.3: Subscribe and Process Multiple Messages\n",
    "This example shows how to process multiple messages until a `KeyboardInterrupt` or polling timeout occurs."
   ]
  },
  {
   "cell_type": "markdown",
   "metadata": {},
   "source": [
    "# Process messages until KeyboardInterrupt or timeout (default: 30 seconds)\n",
    "[x for x in double]"
   ]
  },
  {
   "cell_type": "markdown",
   "metadata": {},
   "source": [
    "#"
   ]
  },
  {
   "cell_type": "markdown",
   "metadata": {},
   "source": [
    "---\n",
    "## SECTION 2: Asynchronous Mode"
   ]
  },
  {
   "cell_type": "markdown",
   "metadata": {},
   "source": [
    "import logging\n",
    "import os\n",
    "from dotenv import load_dotenv\n",
    "logging.basicConfig(\n",
    "    level=logging.DEBUG, \n",
    "    format='%(asctime)s - %(levelname)s - %(message)s'\n",
    ")\n",
    "load_dotenv(override=True)\n",
    "# print(f\"POLLING_TIMEOUT: {os.getenv('POLLING_TIMEOUT')}\")\n",
    "# print(f\"POLLING_INTERVAL: {os.getenv('POLLING_INTERVAL')}\")"
   ]
  },
  {
   "cell_type": "code",
   "execution_count": 6,
   "metadata": {},
   "outputs": [
    {
     "name": "stderr",
     "output_type": "stream",
     "text": [
      "INFO:__main__:Async function `add` has been defined for testing against broker `aimpf_remote_cred`\n",
      "INFO:__main__:Async function `double` has been defined for testing against broker `aimpf_remote_cred`\n"
     ]
    }
   ],
   "source": [
    "import asyncio\n",
    "from pycarta.mqtt.publisher import publish\n",
    "from pycarta.mqtt.subscriber import subscribe\n",
    "\n",
    "# Define the asynchronous publisher and subscriber functions\n",
    "if testing_broker[\"label\"] == \"mosquitto_local\":\n",
    "    @publish(\"test\",\n",
    "        host=testing_broker[\"host\"],\n",
    "        port=testing_broker[\"port\"])\n",
    "    async def add(lhs, rhs):\n",
    "        return lhs + rhs\n",
    "elif testing_broker[\"label\"] == \"aimpf_remote_cred\":\n",
    "    @publish(\n",
    "        topic=\"test\",\n",
    "        host=testing_broker[\"host\"],\n",
    "        port=testing_broker[\"port\"],\n",
    "        authenticator=auth)\n",
    "    async def add(lhs, rhs):\n",
    "        return lhs + rhs\n",
    "\n",
    "logger.info(f\"Async function `add` has been defined for testing against broker `{testing_broker[\"label\"]}`\")\n",
    "\n",
    "# Define the asynchronous subscriber function to yield\n",
    "if testing_broker[\"label\"] == \"mosquitto_local\":\n",
    "    @subscribe(\"test\",\n",
    "        host=testing_broker[\"host\"],\n",
    "        port=testing_broker[\"port\"])\n",
    "    async def double(x):\n",
    "        return x * 2\n",
    "elif testing_broker[\"label\"] == \"aimpf_remote_cred\":\n",
    "    @subscribe(\n",
    "        topic=\"test\",\n",
    "        host=testing_broker[\"host\"],\n",
    "        port=testing_broker[\"port\"],\n",
    "        authenticator=auth)\n",
    "    async def double(x):\n",
    "        print(\"Received message:\", x)\n",
    "        return x * 2\n",
    "\n",
    "logger.info(f\"Async function `double` has been defined for testing against broker `{testing_broker[\"label\"]}`\")"
   ]
  },
  {
   "cell_type": "code",
   "execution_count": 7,
   "metadata": {},
   "outputs": [
    {
     "name": "stderr",
     "output_type": "stream",
     "text": [
      "DEBUG:pycarta.mqtt.connection:[Async Connection] Connecting to aop63bhe1nwsr-ats.iot.us-east-1.amazonaws.com:8883\n",
      "DEBUG:pycarta.mqtt.publisher:[Async Publisher] Publishing to topic 'test'\n",
      "DEBUG:pycarta.mqtt.connection:[Async Connection] Disconnecting from aop63bhe1nwsr-ats.iot.us-east-1.amazonaws.com:8883\n"
     ]
    },
    {
     "data": {
      "text/plain": [
       "78"
      ]
     },
     "execution_count": 7,
     "metadata": {},
     "output_type": "execute_result"
    }
   ],
   "source": [
    "await add(ri(), ri())"
   ]
  },
  {
   "cell_type": "markdown",
   "metadata": {},
   "source": [
    "@publish(topic=\"test\", host=\"localhost\", port=1883)\n",
    "async def async_pub():\n",
    "    await asyncio.sleep(1)\n",
    "    return f\"Hello from async_pub: {random.randint(1, 100):03d}.\"\n",
    "\n",
    "await async_pub()\n",
    "# asyncio.run(async_pub())"
   ]
  },
  {
   "cell_type": "code",
   "execution_count": 8,
   "metadata": {},
   "outputs": [
    {
     "name": "stderr",
     "output_type": "stream",
     "text": [
      "DEBUG:pycarta.mqtt.connection:[Async Connection] Connecting to aop63bhe1nwsr-ats.iot.us-east-1.amazonaws.com:8883\n",
      "DEBUG:pycarta.mqtt.subscriber:[Async subscriber] Subscribing to topic test\n",
      "DEBUG:pycarta.mqtt.subscriber:[Async subscriber] No message received within timeout period\n",
      "DEBUG:pycarta.mqtt.connection:[Async Connection] Disconnecting from aop63bhe1nwsr-ats.iot.us-east-1.amazonaws.com:8883\n"
     ]
    }
   ],
   "source": [
    "await double()"
   ]
  },
  {
   "cell_type": "code",
   "execution_count": 9,
   "metadata": {},
   "outputs": [],
   "source": [
    "subscriber_iter = double.__aiter__()"
   ]
  },
  {
   "cell_type": "code",
   "execution_count": 10,
   "metadata": {},
   "outputs": [
    {
     "name": "stderr",
     "output_type": "stream",
     "text": [
      "DEBUG:pycarta.mqtt.connection:[Async Connection] Connecting to aop63bhe1nwsr-ats.iot.us-east-1.amazonaws.com:8883\n",
      "DEBUG:pycarta.mqtt.subscriber:[Async subscriber] Subscribing to topic test\n",
      "DEBUG:pycarta.mqtt.subscriber:[Async subscriber] No message received within timeout period\n",
      "DEBUG:pycarta.mqtt.connection:[Async Connection] Disconnecting from aop63bhe1nwsr-ats.iot.us-east-1.amazonaws.com:8883\n"
     ]
    }
   ],
   "source": [
    "await double()"
   ]
  },
  {
   "cell_type": "code",
   "execution_count": 11,
   "metadata": {},
   "outputs": [],
   "source": [
    "double.cancel()"
   ]
  },
  {
   "cell_type": "code",
   "execution_count": 12,
   "metadata": {},
   "outputs": [
    {
     "name": "stderr",
     "output_type": "stream",
     "text": [
      "DEBUG:pycarta.mqtt.connection:[Async Connection] Connecting to aop63bhe1nwsr-ats.iot.us-east-1.amazonaws.com:8883\n",
      "DEBUG:pycarta.mqtt.subscriber:[Async subscriber] Subscribing to topic test for iteration\n",
      "DEBUG:pycarta.mqtt.subscriber:[Async subscriber] No message received within timeout period\n",
      "DEBUG:pycarta.mqtt.connection:[Async Connection] Disconnecting from aop63bhe1nwsr-ats.iot.us-east-1.amazonaws.com:8883\n"
     ]
    },
    {
     "data": {
      "text/plain": [
       "[]"
      ]
     },
     "execution_count": 12,
     "metadata": {},
     "output_type": "execute_result"
    }
   ],
   "source": [
    "# This will run the asynchronous publisher in non-blocking mode in JN\n",
    "[m async for m in double]"
   ]
  },
  {
   "cell_type": "markdown",
   "metadata": {},
   "source": [
    "### Example 2.1: Asynchronous Calculation Publish and Subscribe\n",
    "\n",
    "#### Overview\n",
    "This script demonstrates an asynchronous MQTT-based publish and subscribe system for simple calculations, leveraging Python's `asyncio` for efficient, non-blocking execution.\n",
    "\n",
    "#### Process\n",
    "- **Publish**:\n",
    "  - Asynchronously calculates the sum of two numbers.\n",
    "  - Publishes the result to the MQTT topic `test`.\n",
    "  - Sends multiple messages sequentially with a delay between each.\n",
    "\n",
    "- **Subscribe**:\n",
    "  - Asynchronously listens to the `test` topic for incoming messages.\n",
    "  - Processes each message by doubling its value and printing the result.\n",
    "  - Stops automatically when a processed value exceeds 20, demonstrating event-driven control.\n"
   ]
  },
  {
   "cell_type": "code",
   "execution_count": 12,
   "metadata": {},
   "outputs": [
    {
     "name": "stderr",
     "output_type": "stream",
     "text": [
      "DEBUG:pycarta.mqtt.connection:[Async Connection] Connecting to aop63bhe1nwsr-ats.iot.us-east-1.amazonaws.com:8883\n"
     ]
    },
    {
     "name": "stdout",
     "output_type": "stream",
     "text": [
      "[Main] Starting MQTT subscription to 'test' topic...\n",
      "[Main] Publisher task started in the background. Subscriber will process the delayed incoming messages.\n"
     ]
    },
    {
     "name": "stderr",
     "output_type": "stream",
     "text": [
      "DEBUG:pycarta.mqtt.subscriber:[Async subscriber] Subscribing to topic test for iteration\n",
      "DEBUG:pycarta.mqtt.connection:[Async Connection] Connecting to aop63bhe1nwsr-ats.iot.us-east-1.amazonaws.com:8883\n",
      "DEBUG:pycarta.mqtt.publisher:[Async Publisher] Publishing to topic 'test'\n",
      "DEBUG:pycarta.mqtt.connection:[Async Connection] Disconnecting from aop63bhe1nwsr-ats.iot.us-east-1.amazonaws.com:8883\n"
     ]
    },
    {
     "name": "stdout",
     "output_type": "stream",
     "text": [
      "[Subscriber] Received message: 0\n",
      "[Subscriber] Doubled value: 0\n",
      "[Main] Processed message result: 0\n"
     ]
    },
    {
     "name": "stderr",
     "output_type": "stream",
     "text": [
      "DEBUG:pycarta.mqtt.connection:[Async Connection] Connecting to aop63bhe1nwsr-ats.iot.us-east-1.amazonaws.com:8883\n",
      "DEBUG:pycarta.mqtt.publisher:[Async Publisher] Publishing to topic 'test'\n",
      "DEBUG:pycarta.mqtt.connection:[Async Connection] Disconnecting from aop63bhe1nwsr-ats.iot.us-east-1.amazonaws.com:8883\n"
     ]
    },
    {
     "name": "stdout",
     "output_type": "stream",
     "text": [
      "[Subscriber] Received message: 10\n",
      "[Subscriber] Doubled value: 20\n",
      "[Main] Processed message result: 20\n"
     ]
    },
    {
     "name": "stderr",
     "output_type": "stream",
     "text": [
      "DEBUG:pycarta.mqtt.connection:[Async Connection] Connecting to aop63bhe1nwsr-ats.iot.us-east-1.amazonaws.com:8883\n",
      "DEBUG:pycarta.mqtt.publisher:[Async Publisher] Publishing to topic 'test'\n",
      "DEBUG:pycarta.mqtt.connection:[Async Connection] Disconnecting from aop63bhe1nwsr-ats.iot.us-east-1.amazonaws.com:8883\n",
      "DEBUG:pycarta.mqtt.connection:[Async Connection] Disconnecting from aop63bhe1nwsr-ats.iot.us-east-1.amazonaws.com:8883\n"
     ]
    },
    {
     "name": "stdout",
     "output_type": "stream",
     "text": [
      "[Subscriber] Received message: 20\n",
      "[Subscriber] Doubled value: 40\n",
      "[Main] Processed message result: 40\n",
      "[Main] Received a message greater than 20. Exiting.\n"
     ]
    },
    {
     "name": "stderr",
     "output_type": "stream",
     "text": [
      "DEBUG:pycarta.mqtt.connection:[Async Connection] Connecting to aop63bhe1nwsr-ats.iot.us-east-1.amazonaws.com:8883\n",
      "DEBUG:pycarta.mqtt.publisher:[Async Publisher] Publishing to topic 'test'\n",
      "DEBUG:pycarta.mqtt.connection:[Async Connection] Disconnecting from aop63bhe1nwsr-ats.iot.us-east-1.amazonaws.com:8883\n",
      "DEBUG:pycarta.mqtt.connection:[Async Connection] Connecting to aop63bhe1nwsr-ats.iot.us-east-1.amazonaws.com:8883\n",
      "DEBUG:pycarta.mqtt.publisher:[Async Publisher] Publishing to topic 'test'\n",
      "DEBUG:pycarta.mqtt.connection:[Async Connection] Disconnecting from aop63bhe1nwsr-ats.iot.us-east-1.amazonaws.com:8883\n"
     ]
    },
    {
     "name": "stdout",
     "output_type": "stream",
     "text": [
      "[Publisher] Published all messages.\n",
      "[Main] Subscription ended.\n",
      "[Main] All received messages: [0, 20, 40]\n"
     ]
    }
   ],
   "source": [
    "import asyncio\n",
    "from pycarta.mqtt.publisher import publish\n",
    "from pycarta.mqtt.subscriber import subscribe\n",
    "\n",
    "\n",
    "if testing_broker[\"label\"] == \"mosquitto_local\":\n",
    "    # Define the asynchronous publisher and subscriber functions\n",
    "    @publish(\"test\")\n",
    "    async def add(lhs, rhs):\n",
    "        return lhs + rhs\n",
    "\n",
    "    # Define the asynchronous subscriber function to yield\n",
    "    @subscribe(\"test\")\n",
    "    async def double(x):\n",
    "        return x * 2\n",
    "elif testing_broker[\"label\"] == \"aimpf_remote_cred\":\n",
    "    # Define the asynchronous publisher and subscriber functions\n",
    "    @publish(\n",
    "        topic=\"test\",\n",
    "        host=testing_broker[\"host\"],\n",
    "        port=testing_broker[\"port\"],\n",
    "        qos=1,\n",
    "        authenticator=auth)\n",
    "    async def add(lhs, rhs):\n",
    "        return lhs + rhs\n",
    "\n",
    "    # Define the asynchronous subscriber function to yield\n",
    "    @subscribe(\n",
    "        topic=\"test\",\n",
    "        host=testing_broker[\"host\"],\n",
    "        port=testing_broker[\"port\"],\n",
    "        authenticator=auth)\n",
    "    async def double(x):\n",
    "        print(f\"[Subscriber] Received message: {x}\")\n",
    "        result = int(x) * 2\n",
    "        print(f\"[Subscriber] Doubled value: {result}\")\n",
    "        return result\n",
    "\n",
    "async def main():\n",
    "    print(\"[Main] Starting MQTT subscription to 'test' topic...\")\n",
    "    \n",
    "    # Initialize a list to store received messages\n",
    "    received_messages = []\n",
    "    \n",
    "    # Start the publisher as a background task\n",
    "    publisher_task = asyncio.create_task(publish_messages())\n",
    "    print(\"[Main] Publisher task started in the background. Subscriber will process the delayed incoming messages.\")\n",
    "    \n",
    "    # Process incoming messages from the subscriber using async for\n",
    "    async for message in double:\n",
    "        if message is not None:\n",
    "            print(f\"[Main] Processed message result: {message}\")\n",
    "            # Append each received message to the list\n",
    "            received_messages.append(message)\n",
    "            # Exit condition for demonstration purposes\n",
    "            if message > 20:\n",
    "                print(\"[Main] Received a message greater than 20. Exiting.\")\n",
    "                break\n",
    "    \n",
    "    # Await the publisher task to ensure all messages are published\n",
    "    await publisher_task\n",
    "    \n",
    "    print(\"[Main] Subscription ended.\")\n",
    "    \n",
    "    # Access the list of received messages after exiting the loop\n",
    "    print(f\"[Main] All received messages: {received_messages}\")\n",
    "\n",
    "async def publish_messages():\n",
    "    # List of values to publish\n",
    "    test_values = [0, 5, 10, 15, 20]\n",
    "    \n",
    "    # Publish messages sequentially\n",
    "    for value in test_values:\n",
    "        await asyncio.sleep(1)   # Short delay between publishes\n",
    "        await add(value, value)  # For example, publish lhs + rhs\n",
    "        await asyncio.sleep(1)   # Short delay between publishes\n",
    "    \n",
    "    print(\"[Publisher] Published all messages.\")\n",
    "\n",
    "# Execute the main coroutine and the expected final results are: \n",
    "# >>> [Main] All received messages: [0, 20, 40]\n",
    "await main()"
   ]
  },
  {
   "cell_type": "code",
   "execution_count": 13,
   "metadata": {},
   "outputs": [
    {
     "ename": "AttributeError",
     "evalue": "'SubscribeWrapper' object has no attribute 'result_queue'",
     "output_type": "error",
     "traceback": [
      "\u001b[0;31m---------------------------------------------------------------------------\u001b[0m",
      "\u001b[0;31mAttributeError\u001b[0m                            Traceback (most recent call last)",
      "Cell \u001b[0;32mIn[13], line 2\u001b[0m\n\u001b[1;32m      1\u001b[0m \u001b[38;5;66;03m# NOTE: If you run the previous cell, any message published after the subscriber is stopped will remain unprocessed in the queue. As a result, when the subscriber is resumed, the stale messages will still be processed. For example, if the subscriber processes numbers and the previously processed results are [60, 80, 2, 4, 6], newly published numbers 1, 2, 3 in separate publishing events would unexpectedly append their processed results to the old results, leading to [60, 80, 2, 4, 6] instead of the expected [2, 4, 6].\u001b[39;00m\n\u001b[0;32m----> 2\u001b[0m logger\u001b[38;5;241m.\u001b[39minfo(\u001b[38;5;124mf\u001b[39m\u001b[38;5;124m\"\u001b[39m\u001b[38;5;124mQueue before clearing: \u001b[39m\u001b[38;5;132;01m{\u001b[39;00m\u001b[38;5;28mlist\u001b[39m(\u001b[43mdouble\u001b[49m\u001b[38;5;241;43m.\u001b[39;49m\u001b[43mresult_queue\u001b[49m\u001b[38;5;241m.\u001b[39m_queue)\u001b[38;5;132;01m}\u001b[39;00m\u001b[38;5;124m\"\u001b[39m)\n\u001b[1;32m      4\u001b[0m \u001b[38;5;66;03m# To address this issue, you must clear the queue explicitly using one of the following approaches before resuming or stopping the subscriber:\u001b[39;00m\n\u001b[1;32m      5\u001b[0m \n\u001b[1;32m      6\u001b[0m \u001b[38;5;66;03m# 1. Clear the queue explicitly:\u001b[39;00m\n\u001b[1;32m      7\u001b[0m \u001b[38;5;28;01mawait\u001b[39;00m double\u001b[38;5;241m.\u001b[39mclear_queue()\n",
      "\u001b[0;31mAttributeError\u001b[0m: 'SubscribeWrapper' object has no attribute 'result_queue'"
     ]
    }
   ],
   "source": [
    "# NOTE: If you run the previous cell, any message published after the subscriber is stopped will remain unprocessed in the queue. As a result, when the subscriber is resumed, the stale messages will still be processed. For example, if the subscriber processes numbers and the previously processed results are [60, 80, 2, 4, 6], newly published numbers 1, 2, 3 in separate publishing events would unexpectedly append their processed results to the old results, leading to [60, 80, 2, 4, 6] instead of the expected [2, 4, 6].\n",
    "logger.info(f\"Queue before clearing: {list(double.result_queue._queue)}\")\n",
    "\n",
    "# To address this issue, you must clear the queue explicitly using one of the following approaches before resuming or stopping the subscriber:\n",
    "\n",
    "# 1. Clear the queue explicitly:\n",
    "await double.clear_queue()\n",
    "\n",
    "# 2. Disconnect the subscriber and clear the queue simultaneously:\n",
    "# await double.disconnect_async(clear_queue=True)\n",
    "\n",
    "# Simply disconnecting the subscriber without clearing the queue will not remove the residual messages, and they will persist:\n",
    "# await double.disconnect_async()\n",
    "\n",
    "# To confirm the contents of the queue at any point, you can inspect it directly:\n",
    "logger.info(f\"Queue after clearing: {list(double.result_queue._queue)}\")"
   ]
  },
  {
   "cell_type": "code",
   "execution_count": null,
   "metadata": {},
   "outputs": [],
   "source": [
    "# After running the cleanup method, the result queue should be empty before new subscriber is launched, and the result should be [2, 4, 6] as expected now.\n",
    "# await double()\n",
    "# [message async for message in double]"
   ]
  },
  {
   "cell_type": "markdown",
   "metadata": {},
   "source": [
    "### Example 2.2: Asynchronous Sensor Monitoring and Control\n",
    "\n",
    "#### Overview\n",
    "This script demonstrates an asynchronous MQTT-based system for monitoring sensor values and triggering control actions based on predefined thresholds.\n",
    "\n",
    "#### Process\n",
    "- **Publish**:\n",
    "  - Sends simulated sensor values to the MQTT topic **`machine/sensor`**.\n",
    "  - Calculates and publishes the sum of two numbers as the sensor value.\n",
    "  - Provides error (`STOP`) or no-error (`CONTINUE`) status messages based on thresholds.\n",
    "\n",
    "- **Subscribe**:\n",
    "  - Listens to the **`machine/sensor`** topic for sensor values.\n",
    "  - Processes incoming messages and evaluates them against defined thresholds.\n",
    "  - Publishes a **`STOP`** action if the value is out of bounds, halting further processing.\n",
    "  - Publishes a **`CONTINUE`** action if the value is within bounds, allowing normal operation.\n",
    "\n",
    "- **Main**:\n",
    "  - Manages asynchronous publishing and subscribing with `asyncio`.\n",
    "  - Ensures sensor values are monitored in real-time and appropriate control actions are taken.\n",
    "  - Ends the subscription after an out-of-bound value triggers a **`STOP`** action.\n",
    "  "
   ]
  },
  {
   "cell_type": "code",
   "execution_count": 10,
   "metadata": {},
   "outputs": [
    {
     "name": "stderr",
     "output_type": "stream",
     "text": [
      "DEBUG:pycarta.mqtt.connection:[Async Connection] Connecting to aop63bhe1nwsr-ats.iot.us-east-1.amazonaws.com:8883\n"
     ]
    },
    {
     "name": "stdout",
     "output_type": "stream",
     "text": [
      "[Main] Starting MQTT subscription to 'machine/sensor' topic...\n",
      "[Main] Publisher task started in the background. Subscriber will process the incoming messages.\n"
     ]
    },
    {
     "name": "stderr",
     "output_type": "stream",
     "text": [
      "DEBUG:pycarta.mqtt.subscriber:[Async subscriber] Subscribing to topic machine/sensor for iteration\n",
      "DEBUG:pycarta.mqtt.connection:[Async Connection] Connecting to aop63bhe1nwsr-ats.iot.us-east-1.amazonaws.com:8883\n",
      "DEBUG:pycarta.mqtt.publisher:[Async Publisher] Publishing to topic 'machine/sensor'\n",
      "DEBUG:pycarta.mqtt.connection:[Async Connection] Disconnecting from aop63bhe1nwsr-ats.iot.us-east-1.amazonaws.com:8883\n"
     ]
    },
    {
     "name": "stdout",
     "output_type": "stream",
     "text": [
      "[Publisher] Published sensor value: 14\n"
     ]
    },
    {
     "name": "stderr",
     "output_type": "stream",
     "text": [
      "DEBUG:pycarta.mqtt.connection:[Async Connection] Connecting to aop63bhe1nwsr-ats.iot.us-east-1.amazonaws.com:8883\n"
     ]
    },
    {
     "name": "stdout",
     "output_type": "stream",
     "text": [
      "[Main] Received sensor value: 14.0\n",
      "[Main] Published 'CONTINUE' action.\n"
     ]
    },
    {
     "name": "stderr",
     "output_type": "stream",
     "text": [
      "DEBUG:pycarta.mqtt.publisher:[Async Publisher] Publishing to topic 'machine/sensor'\n",
      "DEBUG:pycarta.mqtt.connection:[Async Connection] Disconnecting from aop63bhe1nwsr-ats.iot.us-east-1.amazonaws.com:8883\n"
     ]
    },
    {
     "name": "stdout",
     "output_type": "stream",
     "text": [
      "[Subscriber] Received non-numeric sensor value: \"CONTINUE\". Ignoring.\n"
     ]
    },
    {
     "name": "stderr",
     "output_type": "stream",
     "text": [
      "DEBUG:pycarta.mqtt.connection:[Async Connection] Connecting to aop63bhe1nwsr-ats.iot.us-east-1.amazonaws.com:8883\n"
     ]
    },
    {
     "name": "stdout",
     "output_type": "stream",
     "text": [
      "[Publisher] Published sensor value: 18\n"
     ]
    },
    {
     "name": "stderr",
     "output_type": "stream",
     "text": [
      "DEBUG:pycarta.mqtt.publisher:[Async Publisher] Publishing to topic 'machine/sensor'\n",
      "DEBUG:pycarta.mqtt.connection:[Async Connection] Disconnecting from aop63bhe1nwsr-ats.iot.us-east-1.amazonaws.com:8883\n",
      "DEBUG:pycarta.mqtt.connection:[Async Connection] Connecting to aop63bhe1nwsr-ats.iot.us-east-1.amazonaws.com:8883\n"
     ]
    },
    {
     "name": "stdout",
     "output_type": "stream",
     "text": [
      "[Main] Received sensor value: 18.0\n",
      "[Main] Published 'CONTINUE' action.\n"
     ]
    },
    {
     "name": "stderr",
     "output_type": "stream",
     "text": [
      "DEBUG:pycarta.mqtt.publisher:[Async Publisher] Publishing to topic 'machine/sensor'\n",
      "DEBUG:pycarta.mqtt.connection:[Async Connection] Disconnecting from aop63bhe1nwsr-ats.iot.us-east-1.amazonaws.com:8883\n"
     ]
    },
    {
     "name": "stdout",
     "output_type": "stream",
     "text": [
      "[Subscriber] Received non-numeric sensor value: \"CONTINUE\". Ignoring.\n"
     ]
    },
    {
     "name": "stderr",
     "output_type": "stream",
     "text": [
      "DEBUG:pycarta.mqtt.connection:[Async Connection] Connecting to aop63bhe1nwsr-ats.iot.us-east-1.amazonaws.com:8883\n"
     ]
    },
    {
     "name": "stdout",
     "output_type": "stream",
     "text": [
      "[Publisher] Published sensor value: 22\n"
     ]
    },
    {
     "name": "stderr",
     "output_type": "stream",
     "text": [
      "DEBUG:pycarta.mqtt.publisher:[Async Publisher] Publishing to topic 'machine/sensor'\n",
      "DEBUG:pycarta.mqtt.connection:[Async Connection] Disconnecting from aop63bhe1nwsr-ats.iot.us-east-1.amazonaws.com:8883\n",
      "DEBUG:pycarta.mqtt.connection:[Async Connection] Connecting to aop63bhe1nwsr-ats.iot.us-east-1.amazonaws.com:8883\n",
      "DEBUG:pycarta.mqtt.connection:[Async Connection] Disconnecting from aop63bhe1nwsr-ats.iot.us-east-1.amazonaws.com:8883\n"
     ]
    },
    {
     "name": "stdout",
     "output_type": "stream",
     "text": [
      "[Main] Received sensor value: 22.0\n",
      "[Main] Published 'STOP' action: value out of bounds [5.44, 19.24]. \n"
     ]
    },
    {
     "name": "stderr",
     "output_type": "stream",
     "text": [
      "DEBUG:pycarta.mqtt.publisher:[Async Publisher] Publishing to topic 'machine/sensor'\n",
      "DEBUG:pycarta.mqtt.connection:[Async Connection] Disconnecting from aop63bhe1nwsr-ats.iot.us-east-1.amazonaws.com:8883\n",
      "DEBUG:pycarta.mqtt.connection:[Async Connection] Connecting to aop63bhe1nwsr-ats.iot.us-east-1.amazonaws.com:8883\n"
     ]
    },
    {
     "name": "stdout",
     "output_type": "stream",
     "text": [
      "[Publisher] Published sensor value: 26\n"
     ]
    },
    {
     "name": "stderr",
     "output_type": "stream",
     "text": [
      "DEBUG:pycarta.mqtt.publisher:[Async Publisher] Publishing to topic 'machine/sensor'\n",
      "DEBUG:pycarta.mqtt.connection:[Async Connection] Disconnecting from aop63bhe1nwsr-ats.iot.us-east-1.amazonaws.com:8883\n"
     ]
    },
    {
     "name": "stdout",
     "output_type": "stream",
     "text": [
      "[Publisher] Published all messages.\n",
      "[Main] Subscription ended.\n",
      "[Main] All received messages: [14.0, 18.0, 22.0]\n"
     ]
    }
   ],
   "source": [
    "import asyncio\n",
    "import json\n",
    "from pycarta.mqtt.publisher import publish\n",
    "from pycarta.mqtt.subscriber import subscribe\n",
    "\n",
    "# Define expected value and variance\n",
    "mu = 12.34\n",
    "sigma = 3.45\n",
    "lower_bound, upper_bound = (mu - 2.0 * sigma, mu + 2.0 * sigma)\n",
    "\n",
    "if testing_broker[\"label\"] == \"mosquitto_local\":\n",
    "    # Define the asynchronous publisher functions\n",
    "    @publish(topic=\"machine/sensor\")\n",
    "    async def add(lhs, rhs):\n",
    "        return lhs + rhs\n",
    "\n",
    "    @publish(topic=\"machine/sensor\")\n",
    "    async def on_error():\n",
    "        return \"STOP\"\n",
    "\n",
    "    @publish(topic=\"machine/sensor\")\n",
    "    async def no_error():\n",
    "        return \"CONTINUE\"\n",
    "\n",
    "    # Define the asynchronous subscriber function to yield sensor value\n",
    "    @subscribe(\"machine/sensor\")\n",
    "    async def get_sensor_value(x):\n",
    "        return x\n",
    "elif testing_broker[\"label\"] == \"aimpf_remote_cred\":\n",
    "    # Define the asynchronous publisher functions\n",
    "    @publish(\n",
    "        topic=\"machine/sensor\",\n",
    "        host=testing_broker[\"host\"],\n",
    "        port=testing_broker[\"port\"],\n",
    "        authenticator=auth)\n",
    "    async def add(lhs, rhs):\n",
    "        return lhs + rhs\n",
    "\n",
    "    @publish(\n",
    "        topic=\"machine/sensor\",\n",
    "        host=testing_broker[\"host\"],\n",
    "        port=testing_broker[\"port\"],\n",
    "        authenticator=auth)\n",
    "    async def on_error():\n",
    "        return \"STOP\"\n",
    "\n",
    "    @publish(\n",
    "        topic=\"machine/sensor\",\n",
    "        host=testing_broker[\"host\"],\n",
    "        port=testing_broker[\"port\"],\n",
    "        authenticator=auth)\n",
    "    async def no_error():\n",
    "        return \"CONTINUE\"\n",
    "\n",
    "    # Define the asynchronous subscriber function to yield sensor value\n",
    "    @subscribe(\n",
    "        topic=\"machine/sensor\",\n",
    "        host=testing_broker[\"host\"],\n",
    "        port=testing_broker[\"port\"],\n",
    "        authenticator=auth)\n",
    "    async def get_sensor_value(x):\n",
    "        try:\n",
    "            x = float(x)\n",
    "        except ValueError:\n",
    "            print(f\"[Subscriber] Received non-numeric sensor value: {x}. Ignoring.\")\n",
    "            return None\n",
    "        return x\n",
    "\n",
    "\n",
    "# Define the main coroutine\n",
    "async def main():\n",
    "    print(\"[Main] Starting MQTT subscription to 'machine/sensor' topic...\")\n",
    "    \n",
    "    # Initialize a list to store received messages\n",
    "    received_messages = []\n",
    "    \n",
    "    # Start the publisher as a background task\n",
    "    publisher_task = asyncio.create_task(publish_messages())\n",
    "    print(\"[Main] Publisher task started in the background. Subscriber will process the incoming messages.\")\n",
    "    \n",
    "    # Process incoming messages from the subscriber using async for\n",
    "    async for x in get_sensor_value:\n",
    "        if x is not None:\n",
    "            print(f\"[Main] Received sensor value: {x}\")\n",
    "            \n",
    "            # Check if x can be converted to a number\n",
    "            try:\n",
    "                x_float = float(x)\n",
    "                received_messages.append(x)  # Append each received message to the list\n",
    "            except ValueError:\n",
    "                print(f\"[Main] Received non-numeric sensor value: {x}. Ignoring.\")\n",
    "                continue\n",
    "\n",
    "            # Check error condition\n",
    "            if not lower_bound < x < upper_bound:\n",
    "                await on_error()\n",
    "                print(f\"[Main] Published 'STOP' action: value out of bounds [{lower_bound:.2f}, {upper_bound:.2f}]. \")\n",
    "                break\n",
    "            else:\n",
    "                await no_error()\n",
    "                print(\"[Main] Published 'CONTINUE' action.\")\n",
    "    \n",
    "    # Await the publisher task to ensure all messages are published\n",
    "    await publisher_task\n",
    "    \n",
    "    print(\"[Main] Subscription ended.\")\n",
    "    \n",
    "    # Access the list of received messages after exiting the loop\n",
    "    print(f\"[Main] All received messages: {received_messages}\")\n",
    "\n",
    "# Define the publisher coroutine\n",
    "async def publish_messages():\n",
    "    # List of values to publish\n",
    "    test_values = [7, 9, 11, 13]\n",
    "    \n",
    "    # Publish messages sequentially with a 3-second delay between publishes\n",
    "    for value in test_values:\n",
    "        await asyncio.sleep(3)   # Short delay to allow the subscriber to establish connection\n",
    "        result = value + value  # Example: publish lhs + rhs (e.g., 5 + 5 = 10)\n",
    "        await add(value, value)  # Publish the result to 'machine/sensor'\n",
    "        print(f\"[Publisher] Published sensor value: {result}\")\n",
    "        await asyncio.sleep(2)   # Short delay between publishes\n",
    "    \n",
    "    print(\"[Publisher] Published all messages.\")\n",
    "\n",
    "# Execute the main coroutine and the expected final results are: \n",
    "# >>> [Main] All received messages: [14, 18, 22]\n",
    "# NOTE: After receiving the last number 22 which is actually out of range, the subscriber stops recording messages.\n",
    "await main()\n"
   ]
  },
  {
   "cell_type": "code",
   "execution_count": null,
   "metadata": {},
   "outputs": [],
   "source": []
  }
 ],
 "metadata": {
  "kernelspec": {
   "display_name": "venv",
   "language": "python",
   "name": "python3"
  },
  "language_info": {
   "codemirror_mode": {
    "name": "ipython",
    "version": 3
   },
   "file_extension": ".py",
   "mimetype": "text/x-python",
   "name": "python",
   "nbconvert_exporter": "python",
   "pygments_lexer": "ipython3",
   "version": "3.12.9"
  }
 },
 "nbformat": 4,
 "nbformat_minor": 4
}
