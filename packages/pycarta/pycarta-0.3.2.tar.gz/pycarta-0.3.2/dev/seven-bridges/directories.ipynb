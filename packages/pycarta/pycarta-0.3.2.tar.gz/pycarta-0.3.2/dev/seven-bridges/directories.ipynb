{
 "cells": [
  {
   "cell_type": "code",
   "execution_count": 1,
   "id": "39cbdf01-c491-406d-bcb4-f555f06b965b",
   "metadata": {},
   "outputs": [],
   "source": [
    "import pycarta as pc\n",
    "import sevenbridges as sbg"
   ]
  },
  {
   "cell_type": "code",
   "execution_count": 42,
   "id": "e21465e4-8912-410d-ac19-6d4e20f9b8fc",
   "metadata": {},
   "outputs": [],
   "source": [
    "api = sbg.Api(config=sbg.Config(\"default\"))"
   ]
  },
  {
   "cell_type": "code",
   "execution_count": 6,
   "id": "9e445c04-5355-4cbc-b3fc-80f6cd3599f2",
   "metadata": {},
   "outputs": [],
   "source": [
    "project = api.projects.query(name=\"sandbox-branden\")[0]"
   ]
  },
  {
   "cell_type": "code",
   "execution_count": 10,
   "id": "8522a5c2-c2ba-440f-8954-d3580489d57e",
   "metadata": {},
   "outputs": [],
   "source": [
    "files = api.files.query(project=project.id, limit=100)"
   ]
  },
  {
   "cell_type": "code",
   "execution_count": 14,
   "id": "97921df0-3f7f-4ff0-a468-125f06c4974b",
   "metadata": {},
   "outputs": [],
   "source": [
    "folders = [f for f in files if f.is_folder()]\n",
    "files = [f for f in files if not f.is_folder()]"
   ]
  },
  {
   "cell_type": "code",
   "execution_count": 19,
   "id": "d898e182-e1b2-43b8-a486-9d30df42af15",
   "metadata": {},
   "outputs": [
    {
     "data": {
      "text/plain": [
       "<Collection: total=2, available=2>"
      ]
     },
     "execution_count": 19,
     "metadata": {},
     "output_type": "execute_result"
    }
   ],
   "source": [
    "folders[0].list_files()"
   ]
  },
  {
   "cell_type": "code",
   "execution_count": 21,
   "id": "8f46d1e6-0ce9-4621-9aa6-3b8bd8df3f64",
   "metadata": {},
   "outputs": [
    {
     "data": {
      "text/plain": [
       "'hyperthought-graph.json'"
      ]
     },
     "execution_count": 21,
     "metadata": {},
     "output_type": "execute_result"
    }
   ],
   "source": [
    "list(folders[0].list_files())[0].name"
   ]
  },
  {
   "cell_type": "code",
   "execution_count": 23,
   "id": "12c6a458-1c92-4922-8f63-9b33460cefbe",
   "metadata": {},
   "outputs": [
    {
     "data": {
      "text/plain": [
       "\u001b[0;31mInit signature:\u001b[0m\n",
       "\u001b[0msbg\u001b[0m\u001b[0;34m.\u001b[0m\u001b[0mmodels\u001b[0m\u001b[0;34m.\u001b[0m\u001b[0mfile\u001b[0m\u001b[0;34m.\u001b[0m\u001b[0mDownload\u001b[0m\u001b[0;34m(\u001b[0m\u001b[0;34m\u001b[0m\n",
       "\u001b[0;34m\u001b[0m    \u001b[0murl\u001b[0m\u001b[0;34m,\u001b[0m\u001b[0;34m\u001b[0m\n",
       "\u001b[0;34m\u001b[0m    \u001b[0mfile_path\u001b[0m\u001b[0;34m,\u001b[0m\u001b[0;34m\u001b[0m\n",
       "\u001b[0;34m\u001b[0m    \u001b[0mpart_size\u001b[0m\u001b[0;34m=\u001b[0m\u001b[0;32mNone\u001b[0m\u001b[0;34m,\u001b[0m\u001b[0;34m\u001b[0m\n",
       "\u001b[0;34m\u001b[0m    \u001b[0mretry_count\u001b[0m\u001b[0;34m=\u001b[0m\u001b[0;32mNone\u001b[0m\u001b[0;34m,\u001b[0m\u001b[0;34m\u001b[0m\n",
       "\u001b[0;34m\u001b[0m    \u001b[0mtimeout\u001b[0m\u001b[0;34m=\u001b[0m\u001b[0;32mNone\u001b[0m\u001b[0;34m,\u001b[0m\u001b[0;34m\u001b[0m\n",
       "\u001b[0;34m\u001b[0m    \u001b[0mapi\u001b[0m\u001b[0;34m=\u001b[0m\u001b[0;32mNone\u001b[0m\u001b[0;34m,\u001b[0m\u001b[0;34m\u001b[0m\n",
       "\u001b[0;34m\u001b[0m\u001b[0;34m)\u001b[0m\u001b[0;34m\u001b[0m\u001b[0;34m\u001b[0m\u001b[0m\n",
       "\u001b[0;31mDocstring:\u001b[0m     \n",
       "A class that represents a thread of control.\n",
       "\n",
       "This class can be safely subclassed in a limited fashion. There are two ways\n",
       "to specify the activity: by passing a callable object to the constructor, or\n",
       "by overriding the run() method in a subclass.\n",
       "\u001b[0;31mInit docstring:\u001b[0m\n",
       "File multipart downloader.\n",
       ":param url: URL of the file.\n",
       ":param file_path: Local file path.\n",
       ":param retry_count: Number of times to retry on error.\n",
       ":param timeout: Connection timeout in seconds.\n",
       ":param part_size: Size of the parts in bytes.\n",
       ":param api: Api instance.\n",
       "\u001b[0;31mFile:\u001b[0m           ~/src/contextualize/pycarta/pycarta/venv/lib/python3.12/site-packages/sevenbridges/transfer/download.py\n",
       "\u001b[0;31mType:\u001b[0m           type\n",
       "\u001b[0;31mSubclasses:\u001b[0m     "
      ]
     },
     "metadata": {},
     "output_type": "display_data"
    }
   ],
   "source": [
    "sbg.models.file.Download?"
   ]
  },
  {
   "cell_type": "code",
   "execution_count": 24,
   "id": "8aac779f-004f-4590-9169-af3f5592a568",
   "metadata": {},
   "outputs": [
    {
     "data": {
      "text/plain": [
       "\u001b[0;31mSignature:\u001b[0m \u001b[0mfolder\u001b[0m\u001b[0;34m.\u001b[0m\u001b[0mcreate_folder\u001b[0m\u001b[0;34m(\u001b[0m\u001b[0mname\u001b[0m\u001b[0;34m,\u001b[0m \u001b[0mparent\u001b[0m\u001b[0;34m=\u001b[0m\u001b[0;32mNone\u001b[0m\u001b[0;34m,\u001b[0m \u001b[0mproject\u001b[0m\u001b[0;34m=\u001b[0m\u001b[0;32mNone\u001b[0m\u001b[0;34m,\u001b[0m \u001b[0mapi\u001b[0m\u001b[0;34m=\u001b[0m\u001b[0;32mNone\u001b[0m\u001b[0;34m)\u001b[0m\u001b[0;34m\u001b[0m\u001b[0;34m\u001b[0m\u001b[0m\n",
       "\u001b[0;31mDocstring:\u001b[0m\n",
       "Create a new folder\n",
       ":param name: Folder name\n",
       ":param parent: Parent folder\n",
       ":param project: Project to create folder in\n",
       ":param api: Api instance\n",
       ":return: New folder\n",
       "\u001b[0;31mFile:\u001b[0m      ~/src/contextualize/pycarta/pycarta/venv/lib/python3.12/site-packages/sevenbridges/models/file.py\n",
       "\u001b[0;31mType:\u001b[0m      method"
      ]
     },
     "metadata": {},
     "output_type": "display_data"
    }
   ],
   "source": [
    "folder.create_folder?"
   ]
  },
  {
   "cell_type": "code",
   "execution_count": 26,
   "id": "8fc02447-b128-42f6-8499-d62cb55e2b67",
   "metadata": {},
   "outputs": [
    {
     "data": {
      "text/plain": [
       "<File: id=672d596d8869ec2666f94cdd>"
      ]
     },
     "execution_count": 26,
     "metadata": {},
     "output_type": "execute_result"
    }
   ],
   "source": [
    "api.files.create_folder(\"delme\", project=project)"
   ]
  },
  {
   "cell_type": "code",
   "execution_count": 28,
   "id": "edf19961-8196-4eed-afcd-b0d4997fbe73",
   "metadata": {},
   "outputs": [
    {
     "data": {
      "text/plain": [
       "<File: id=672d59cd8869ec2666f94ce0>"
      ]
     },
     "execution_count": 28,
     "metadata": {},
     "output_type": "execute_result"
    }
   ],
   "source": [
    "parent = api.files.query(project, names=[\"delme\"])[0]\n",
    "api.files.create_folder(\"me-too\", parent=parent,)"
   ]
  },
  {
   "cell_type": "code",
   "execution_count": 29,
   "id": "b31546c3-d30d-4628-8035-46c5ebe59a11",
   "metadata": {},
   "outputs": [
    {
     "name": "stdout",
     "output_type": "stream",
     "text": [
      "\u001b[31m_1_stdout.out\u001b[m\u001b[m*                 \u001b[31mforest-2024-09-16T155456.json\u001b[m\u001b[m*\n",
      "\u001b[31m_1_stdout.txt\u001b[m\u001b[m*                 \u001b[31mforest-2024-09-16T155845.json\u001b[m\u001b[m*\n",
      "\u001b[31m_2_stdout.txt\u001b[m\u001b[m*                 \u001b[31mforest-2024-09-16T155845.png\u001b[m\u001b[m*\n",
      "\u001b[31m_3_stdout.txt\u001b[m\u001b[m*                 forest-2024-10-17T135544.json\n",
      "\u001b[31m_5_cmd.out\u001b[m\u001b[m*                    forest-2024-10-17T135836.json\n",
      "\u001b[31m_8_hello-world.txt\u001b[m\u001b[m*            forest-2024-10-17T135836.png\n",
      "__init__.py                    functionalize-sbg.ipynb\n",
      "\u001b[1m\u001b[36m__pycache__\u001b[m\u001b[m/                   hello.txt\n",
      "_myscript.m                    project-tests.ipynb\n",
      "base.py                        project.py\n",
      "bkscript.m                     protocols.ipynb\n",
      "directories.ipynb\n"
     ]
    }
   ],
   "source": [
    "ls"
   ]
  },
  {
   "cell_type": "code",
   "execution_count": 30,
   "id": "e4f76249-99dc-4c82-8221-5f84cb7ab9fd",
   "metadata": {},
   "outputs": [],
   "source": [
    "from pathlib import Path"
   ]
  },
  {
   "cell_type": "code",
   "execution_count": 31,
   "id": "4f5dd850-7b76-472d-ba52-9f2adfad15dc",
   "metadata": {},
   "outputs": [],
   "source": [
    "cwd = Path(\".\")"
   ]
  },
  {
   "cell_type": "code",
   "execution_count": 32,
   "id": "9f56685c-3f87-4a0a-ba78-edc8206d2630",
   "metadata": {},
   "outputs": [
    {
     "data": {
      "text/plain": [
       "[PosixPath('_8_hello-world.txt'),\n",
       " PosixPath('bkscript.m'),\n",
       " PosixPath('forest-2024-10-17T135836.png'),\n",
       " PosixPath('directories.ipynb'),\n",
       " PosixPath('forest-2024-09-16T155845.png'),\n",
       " PosixPath('_2_stdout.txt'),\n",
       " PosixPath('forest-2024-09-16T155456.json'),\n",
       " PosixPath('protocols.ipynb'),\n",
       " PosixPath('__init__.py'),\n",
       " PosixPath('_myscript.m'),\n",
       " PosixPath('__pycache__'),\n",
       " PosixPath('_3_stdout.txt'),\n",
       " PosixPath('.ipynb_checkpoints'),\n",
       " PosixPath('forest-2024-10-17T135544.json'),\n",
       " PosixPath('_5_cmd.out'),\n",
       " PosixPath('_1_stdout.out'),\n",
       " PosixPath('functionalize-sbg.ipynb'),\n",
       " PosixPath('_1_stdout.txt'),\n",
       " PosixPath('hello.txt'),\n",
       " PosixPath('forest-2024-10-17T135836.json'),\n",
       " PosixPath('base.py'),\n",
       " PosixPath('forest-2024-09-16T155845.json'),\n",
       " PosixPath('project.py'),\n",
       " PosixPath('project-tests.ipynb')]"
      ]
     },
     "execution_count": 32,
     "metadata": {},
     "output_type": "execute_result"
    }
   ],
   "source": [
    "list(cwd.iterdir())"
   ]
  },
  {
   "cell_type": "code",
   "execution_count": 33,
   "id": "7d576e05-ed0b-42b5-a716-305482c83492",
   "metadata": {},
   "outputs": [
    {
     "data": {
      "text/plain": [
       "PosixPath('_8_hello-world.txt')"
      ]
     },
     "execution_count": 33,
     "metadata": {},
     "output_type": "execute_result"
    }
   ],
   "source": [
    "cwd / list(cwd.iterdir())[0]"
   ]
  },
  {
   "cell_type": "code",
   "execution_count": 35,
   "id": "dafda273-ddd0-41e6-8ec4-fb1c93e9797e",
   "metadata": {},
   "outputs": [
    {
     "data": {
      "text/plain": [
       "'seven-bridges'"
      ]
     },
     "execution_count": 35,
     "metadata": {},
     "output_type": "execute_result"
    }
   ],
   "source": [
    "cwd.absolute().name"
   ]
  },
  {
   "cell_type": "code",
   "execution_count": 43,
   "id": "e3117b60-db2a-4024-b78f-a7da346f43cd",
   "metadata": {},
   "outputs": [],
   "source": [
    "p = api.projects.get(\"sandbox-branden\")"
   ]
  },
  {
   "cell_type": "code",
   "execution_count": 45,
   "id": "cec0c584-7b23-482a-8872-ee19bb853af3",
   "metadata": {},
   "outputs": [],
   "source": [
    "file = files[0]"
   ]
  },
  {
   "cell_type": "code",
   "execution_count": 46,
   "id": "9efea2fc-c63d-4b14-8e28-cc5f7ef53da3",
   "metadata": {},
   "outputs": [
    {
     "data": {
      "text/plain": [
       "'contextualize/sandbox-branden'"
      ]
     },
     "execution_count": 46,
     "metadata": {},
     "output_type": "execute_result"
    }
   ],
   "source": [
    "file.project"
   ]
  },
  {
   "cell_type": "code",
   "execution_count": 51,
   "id": "765aeff2-7a7e-4253-bc55-59374b6367f5",
   "metadata": {},
   "outputs": [
    {
     "data": {
      "text/plain": [
       "\u001b[0;31mSignature:\u001b[0m \u001b[0msbg\u001b[0m\u001b[0;34m.\u001b[0m\u001b[0mmodels\u001b[0m\u001b[0;34m.\u001b[0m\u001b[0mfile\u001b[0m\u001b[0;34m.\u001b[0m\u001b[0mUpload\u001b[0m\u001b[0;34m.\u001b[0m\u001b[0mgetName\u001b[0m\u001b[0;34m(\u001b[0m\u001b[0mself\u001b[0m\u001b[0;34m)\u001b[0m\u001b[0;34m\u001b[0m\u001b[0;34m\u001b[0m\u001b[0m\n",
       "\u001b[0;31mDocstring:\u001b[0m\n",
       "Return a string used for identification purposes only.\n",
       "\n",
       "This method is deprecated, use the name attribute instead.\n",
       "\u001b[0;31mFile:\u001b[0m      /opt/homebrew/Cellar/python@3.12/3.12.7_1/Frameworks/Python.framework/Versions/3.12/lib/python3.12/threading.py\n",
       "\u001b[0;31mType:\u001b[0m      function"
      ]
     },
     "metadata": {},
     "output_type": "display_data"
    }
   ],
   "source": [
    "sbg.models.file.Upload."
   ]
  },
  {
   "cell_type": "code",
   "execution_count": null,
   "id": "848cf615-6630-4198-8d1b-8918f6128706",
   "metadata": {},
   "outputs": [],
   "source": []
  }
 ],
 "metadata": {
  "kernelspec": {
   "display_name": "Python 3 (ipykernel)",
   "language": "python",
   "name": "python3"
  },
  "language_info": {
   "codemirror_mode": {
    "name": "ipython",
    "version": 3
   },
   "file_extension": ".py",
   "mimetype": "text/x-python",
   "name": "python",
   "nbconvert_exporter": "python",
   "pygments_lexer": "ipython3",
   "version": "3.12.7"
  }
 },
 "nbformat": 4,
 "nbformat_minor": 5
}
