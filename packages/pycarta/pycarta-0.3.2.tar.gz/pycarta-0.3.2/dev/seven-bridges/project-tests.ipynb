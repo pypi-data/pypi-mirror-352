{
 "cells": [
  {
   "cell_type": "code",
   "execution_count": 1,
   "metadata": {},
   "outputs": [],
   "source": [
    "import sevenbridges as sbg\n",
    "from base import SbgFile\n",
    "from project import ExecutableApp, ExecutableProject"
   ]
  },
  {
   "cell_type": "markdown",
   "metadata": {},
   "source": [
    "## Login to Seven Bridges"
   ]
  },
  {
   "cell_type": "code",
   "execution_count": 2,
   "metadata": {},
   "outputs": [],
   "source": [
    "api = sbg.Api()"
   ]
  },
  {
   "cell_type": "markdown",
   "metadata": {},
   "source": [
    "## Test Executable App"
   ]
  },
  {
   "cell_type": "code",
   "execution_count": 3,
   "metadata": {},
   "outputs": [
    {
     "data": {
      "text/plain": [
       "<App: id=contextualize/sandbox-branden/cat"
      ]
     },
     "execution_count": 3,
     "metadata": {},
     "output_type": "execute_result"
    }
   ],
   "source": [
    "[cmd] = [app for app in api.apps.query(project=\"contextualize/sandbox-branden\") if app.name == \"cat\"]\n",
    "cmd"
   ]
  },
  {
   "cell_type": "code",
   "execution_count": 4,
   "metadata": {},
   "outputs": [],
   "source": [
    "exe = ExecutableApp(cmd, cleanup=True)"
   ]
  },
  {
   "cell_type": "code",
   "execution_count": 5,
   "metadata": {},
   "outputs": [
    {
     "name": "stdout",
     "output_type": "stream",
     "text": [
      "Help on ExecutableApp in module project:\n",
      "\n",
      "cat = <project.ExecutableApp object>\n",
      "    Cat\n",
      "\n",
      "\n",
      "    Parameters\n",
      "    ----------\n",
      "\n",
      "        input: typing.Optional[base.SbgFile]\n",
      "            No description provided.\n",
      "\n",
      "\n",
      "    Returns\n",
      "    -------\n",
      "    (output: typing.Optional[base.SbgFile], task)\n",
      "        Outputs from the task (dict) and the sevenbridges.Task that\n",
      "        was executed.\n",
      "\n"
     ]
    }
   ],
   "source": [
    "help(exe)"
   ]
  },
  {
   "cell_type": "code",
   "execution_count": 6,
   "metadata": {},
   "outputs": [
    {
     "name": "stderr",
     "output_type": "stream",
     "text": [
      "WARNING:sevenbridges.config:Missing SB_AUTH_TOKEN os variable.\n",
      "Task 'd2f92295-67f7-43ce-b3d1-0dece2229c00': RUNNING: : 11it [01:51, 10.13s/it]\n"
     ]
    },
    {
     "data": {
      "text/plain": [
       "({'output': <base.SbgFile at 0x1b81133a1e0>},\n",
       " <Task: id=d2f92295-67f7-43ce-b3d1-0dece2229c00>)"
      ]
     },
     "execution_count": 6,
     "metadata": {},
     "output_type": "execute_result"
    }
   ],
   "source": [
    "with open(\"bkscript.m\", \"w\") as fs:\n",
    "    fs.write('disp(\"Hello, World!\")')\n",
    "file = SbgFile(\"bkscript.m\", api=exe.api)\n",
    "\n",
    "exe(input=file)"
   ]
  },
  {
   "cell_type": "code",
   "execution_count": 7,
   "metadata": {},
   "outputs": [
    {
     "name": "stdout",
     "output_type": "stream",
     "text": [
      "Raises a ValueError, as expected.\n"
     ]
    }
   ],
   "source": [
    "# This should fail because the parameters are invalid.\n",
    "try:\n",
    "    exe(my_file=file)\n",
    "except ValueError:\n",
    "    print(\"Raises a ValueError, as expected.\")\n",
    "except:\n",
    "    raise"
   ]
  },
  {
   "cell_type": "code",
   "execution_count": 8,
   "metadata": {},
   "outputs": [
    {
     "name": "stdout",
     "output_type": "stream",
     "text": [
      "Raises a TypeError, as expected.\n"
     ]
    }
   ],
   "source": [
    "# This, too, should fail because the input is the wrong type.\n",
    "try:\n",
    "    exe(input=5)\n",
    "except TypeError:\n",
    "    print(\"Raises a TypeError, as expected.\")\n",
    "except:\n",
    "    raise"
   ]
  },
  {
   "cell_type": "code",
   "execution_count": 9,
   "metadata": {},
   "outputs": [
    {
     "name": "stderr",
     "output_type": "stream",
     "text": [
      "WARNING:sevenbridges.config:Missing SB_AUTH_TOKEN os variable.\n",
      "Task 'bb070578-5c07-43fd-afb8-d3921d87ee47': RUNNING: : 11it [01:51, 10.12s/it]\n"
     ]
    },
    {
     "data": {
      "text/plain": [
       "({'output': <base.SbgFile at 0x1b8112a6060>},\n",
       " <Task: id=bb070578-5c07-43fd-afb8-d3921d87ee47>)"
      ]
     },
     "execution_count": 9,
     "metadata": {},
     "output_type": "execute_result"
    }
   ],
   "source": [
    "# This should work because a string where a file is expected is\n",
    "# automatically converted into a file object.\n",
    "exe(input=\"_1_stdout.txt\")"
   ]
  },
  {
   "cell_type": "markdown",
   "metadata": {},
   "source": [
    "## Test Executable Project"
   ]
  },
  {
   "cell_type": "code",
   "execution_count": 10,
   "metadata": {},
   "outputs": [
    {
     "name": "stderr",
     "output_type": "stream",
     "text": [
      "WARNING:sevenbridges.config:Missing SB_AUTH_TOKEN os variable.\n"
     ]
    }
   ],
   "source": [
    "project = ExecutableProject(project=\"contextualize/sandbox-branden\", cleanup=True)"
   ]
  },
  {
   "cell_type": "code",
   "execution_count": 11,
   "metadata": {},
   "outputs": [
    {
     "name": "stderr",
     "output_type": "stream",
     "text": [
      "WARNING:sevenbridges.config:Missing SB_AUTH_TOKEN os variable.\n",
      "Task '63a083a0-8882-4565-b17b-251bb2d1fee6': RUNNING: : 10it [01:42, 10.22s/it]\n"
     ]
    },
    {
     "data": {
      "text/plain": [
       "({'output': <base.SbgFile at 0x1b81146adb0>},\n",
       " <Task: id=63a083a0-8882-4565-b17b-251bb2d1fee6>)"
      ]
     },
     "execution_count": 11,
     "metadata": {},
     "output_type": "execute_result"
    }
   ],
   "source": [
    "project.cat(input=\"_2_stdout.txt\")"
   ]
  },
  {
   "cell_type": "code",
   "execution_count": null,
   "metadata": {},
   "outputs": [],
   "source": []
  }
 ],
 "metadata": {
  "kernelspec": {
   "display_name": "venv",
   "language": "python",
   "name": "python3"
  },
  "language_info": {
   "codemirror_mode": {
    "name": "ipython",
    "version": 3
   },
   "file_extension": ".py",
   "mimetype": "text/x-python",
   "name": "python",
   "nbconvert_exporter": "python",
   "pygments_lexer": "ipython3",
   "version": "3.12.7"
  }
 },
 "nbformat": 4,
 "nbformat_minor": 2
}
