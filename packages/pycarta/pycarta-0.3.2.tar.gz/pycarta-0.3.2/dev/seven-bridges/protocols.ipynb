{
 "cells": [
  {
   "cell_type": "code",
   "execution_count": 2,
   "metadata": {},
   "outputs": [],
   "source": [
    "from typing import Protocol, Generic, Optional, Union, Any"
   ]
  },
  {
   "cell_type": "code",
   "execution_count": 3,
   "metadata": {},
   "outputs": [
    {
     "ename": "NameError",
     "evalue": "name 'func' is not defined",
     "output_type": "error",
     "traceback": [
      "\u001b[0;31m---------------------------------------------------------------------------\u001b[0m",
      "\u001b[0;31mNameError\u001b[0m                                 Traceback (most recent call last)",
      "Cell \u001b[0;32mIn[3], line 26\u001b[0m\n\u001b[1;32m     19\u001b[0m     exec(\u001b[38;5;124mf\u001b[39m\u001b[38;5;124m\"\"\"\u001b[39m\u001b[38;5;124mdef func(\u001b[39m\n\u001b[1;32m     20\u001b[0m \u001b[38;5;124m         \u001b[39m\u001b[38;5;132;01m{\u001b[39;00m\u001b[38;5;124m\"\u001b[39m\u001b[38;5;124m, \u001b[39m\u001b[38;5;124m\"\u001b[39m\u001b[38;5;241m.\u001b[39mjoin([i[\u001b[38;5;124m\"\u001b[39m\u001b[38;5;124mid\u001b[39m\u001b[38;5;124m\"\u001b[39m]\u001b[38;5;250m \u001b[39m\u001b[38;5;241m+\u001b[39m\u001b[38;5;250m \u001b[39m\u001b[38;5;124m\"\u001b[39m\u001b[38;5;124m: \u001b[39m\u001b[38;5;124m\"\u001b[39m\u001b[38;5;250m \u001b[39m\u001b[38;5;241m+\u001b[39m\u001b[38;5;250m \u001b[39mi[\u001b[38;5;124m\"\u001b[39m\u001b[38;5;124mtype\u001b[39m\u001b[38;5;124m\"\u001b[39m]\u001b[38;5;250m \u001b[39m\u001b[38;5;28;01mfor\u001b[39;00m\u001b[38;5;250m \u001b[39mi\u001b[38;5;250m \u001b[39m\u001b[38;5;129;01min\u001b[39;00m\u001b[38;5;250m \u001b[39minputs])\u001b[38;5;132;01m}\u001b[39;00m\n\u001b[1;32m     21\u001b[0m \u001b[38;5;124m    ) -> \u001b[39m\u001b[38;5;132;01m{\u001b[39;00moutputs[\u001b[38;5;241m0\u001b[39m][\u001b[38;5;124m\"\u001b[39m\u001b[38;5;124mtype\u001b[39m\u001b[38;5;124m\"\u001b[39m]\u001b[38;5;132;01m}\u001b[39;00m\u001b[38;5;124m:\u001b[39m\n\u001b[1;32m     22\u001b[0m \u001b[38;5;124m        return str(first + second)\u001b[39m\n\u001b[1;32m     23\u001b[0m \u001b[38;5;124m    \u001b[39m\u001b[38;5;124m\"\"\"\u001b[39m)\n\u001b[1;32m     24\u001b[0m     \u001b[38;5;28;01mreturn\u001b[39;00m func\n\u001b[0;32m---> 26\u001b[0m f \u001b[38;5;241m=\u001b[39m \u001b[43mfactory\u001b[49m\u001b[43m(\u001b[49m\u001b[43m)\u001b[49m\n\u001b[1;32m     27\u001b[0m \u001b[38;5;28mprint\u001b[39m(f(\u001b[38;5;241m1\u001b[39m, \u001b[38;5;241m2.0\u001b[39m))\n",
      "Cell \u001b[0;32mIn[3], line 24\u001b[0m, in \u001b[0;36mfactory\u001b[0;34m()\u001b[0m\n\u001b[1;32m     18\u001b[0m \u001b[38;5;28;01mdef\u001b[39;00m \u001b[38;5;21mfactory\u001b[39m():\n\u001b[1;32m     19\u001b[0m     exec(\u001b[38;5;124mf\u001b[39m\u001b[38;5;124m\"\"\"\u001b[39m\u001b[38;5;124mdef func(\u001b[39m\n\u001b[1;32m     20\u001b[0m \u001b[38;5;124m         \u001b[39m\u001b[38;5;132;01m{\u001b[39;00m\u001b[38;5;124m\"\u001b[39m\u001b[38;5;124m, \u001b[39m\u001b[38;5;124m\"\u001b[39m\u001b[38;5;241m.\u001b[39mjoin([i[\u001b[38;5;124m\"\u001b[39m\u001b[38;5;124mid\u001b[39m\u001b[38;5;124m\"\u001b[39m]\u001b[38;5;250m \u001b[39m\u001b[38;5;241m+\u001b[39m\u001b[38;5;250m \u001b[39m\u001b[38;5;124m\"\u001b[39m\u001b[38;5;124m: \u001b[39m\u001b[38;5;124m\"\u001b[39m\u001b[38;5;250m \u001b[39m\u001b[38;5;241m+\u001b[39m\u001b[38;5;250m \u001b[39mi[\u001b[38;5;124m\"\u001b[39m\u001b[38;5;124mtype\u001b[39m\u001b[38;5;124m\"\u001b[39m]\u001b[38;5;250m \u001b[39m\u001b[38;5;28;01mfor\u001b[39;00m\u001b[38;5;250m \u001b[39mi\u001b[38;5;250m \u001b[39m\u001b[38;5;129;01min\u001b[39;00m\u001b[38;5;250m \u001b[39minputs])\u001b[38;5;132;01m}\u001b[39;00m\n\u001b[1;32m     21\u001b[0m \u001b[38;5;124m    ) -> \u001b[39m\u001b[38;5;132;01m{\u001b[39;00moutputs[\u001b[38;5;241m0\u001b[39m][\u001b[38;5;124m\"\u001b[39m\u001b[38;5;124mtype\u001b[39m\u001b[38;5;124m\"\u001b[39m]\u001b[38;5;132;01m}\u001b[39;00m\u001b[38;5;124m:\u001b[39m\n\u001b[1;32m     22\u001b[0m \u001b[38;5;124m        return str(first + second)\u001b[39m\n\u001b[1;32m     23\u001b[0m \u001b[38;5;124m    \u001b[39m\u001b[38;5;124m\"\"\"\u001b[39m)\n\u001b[0;32m---> 24\u001b[0m     \u001b[38;5;28;01mreturn\u001b[39;00m \u001b[43mfunc\u001b[49m\n",
      "\u001b[0;31mNameError\u001b[0m: name 'func' is not defined"
     ]
    }
   ],
   "source": [
    "inputs = [\n",
    "    {\n",
    "        \"id\": \"first\",\n",
    "        \"type\": \"int\",\n",
    "    },\n",
    "    {\n",
    "        \"id\": \"second\",\n",
    "        \"type\": \"float\",\n",
    "    }\n",
    "]\n",
    "outputs = [\n",
    "    {\n",
    "        \"id\": \"output\",\n",
    "        \"type\": \"str\",\n",
    "    }\n",
    "]\n",
    "\n",
    "def factory():\n",
    "    exec(f\"\"\"def func(\n",
    "         {\", \".join([i[\"id\"] + \": \" + i[\"type\"] for i in inputs])}\n",
    "    ) -> {outputs[0][\"type\"]}:\n",
    "        return str(first + second)\n",
    "    \"\"\")\n",
    "    return func\n",
    "\n",
    "f = factory()\n",
    "print(f(1, 2.0))"
   ]
  },
  {
   "cell_type": "code",
   "execution_count": 34,
   "metadata": {},
   "outputs": [],
   "source": [
    "class SbgFile:\n",
    "    pass\n",
    "\n",
    "class CwlType:\n",
    "    def __init__(self, id: str, type: str | list | dict, **kwds):\n",
    "        self.id = id\n",
    "        self.cwl_type = type\n",
    "        for k, v in kwds.items():\n",
    "            setattr(self, k, v)\n",
    "\n",
    "    def __str__(self):\n",
    "        type_ = CwlType.from_cwl_type(self.cwl_type)\n",
    "        if hasattr(type_, \"__origin__\"):\n",
    "            return f\"{self.id}: {type_}\"\n",
    "        else:\n",
    "            return f\"{self.id}: {type_.__name__}\"\n",
    "    \n",
    "    def check(self, val: Any) -> bool:\n",
    "        return CwlType.check_type(val, self.cwl_type)\n",
    "    \n",
    "    def get_type(self) -> type:\n",
    "        return CwlType.from_cwl_type(self.cwl_type)\n",
    "    \n",
    "    def optional(self, type_: None | type=None) -> bool:\n",
    "        type_ = type_ or CwlType.from_cwl_type(self.cwl_type)\n",
    "        try:\n",
    "            types_ = type_.__args__\n",
    "            if type(None) in types_:\n",
    "                return True\n",
    "            else:\n",
    "                return any([self.optional(t) for t in types_])\n",
    "        except AttributeError:\n",
    "            # Optiona[...] === Union[type | None], meaning all optional parameters\n",
    "            # will have an __args__ parameter. If missing, this parameter cannot be\n",
    "            # optional.\n",
    "            return False\n",
    "\n",
    "    @staticmethod\n",
    "    def from_cwl_type(cwl_type: str | list | dict) -> type:\n",
    "        _TYPES = {\n",
    "            \"string\": str,\n",
    "            \"boolean\": bool,\n",
    "            \"int\": int,\n",
    "            \"long\": int,\n",
    "            \"float\": float,\n",
    "            \"double\": float,\n",
    "            \"null\": type(None),\n",
    "            \"record\": dict,\n",
    "            \"File\": SbgFile\n",
    "        }\n",
    "\n",
    "        if isinstance(cwl_type, str):\n",
    "            # named type\n",
    "            optional = cwl_type.endswith(\"?\")\n",
    "            return Optional[_TYPES[cwl_type.strip(\"?\")]] if optional else _TYPES[cwl_type]\n",
    "        elif isinstance(cwl_type, list):\n",
    "            # list of possible values\n",
    "            return Union[tuple(CwlType.from_cwl_type(v) for v in cwl_type)]\n",
    "        elif isinstance(cwl_type, dict):\n",
    "            # complex types (array or enum)\n",
    "            container_ = cwl_type[\"type\"]\n",
    "            optional = container_.endswith(\"?\")\n",
    "            type_ = {\n",
    "                \"array\": lambda: list[CwlType.from_cwl_type(cwl_type[\"items\"])],\n",
    "                \"enum\": lambda: Any\n",
    "            }[container_.strip(\"?\")]()\n",
    "            return Optional[type_] if optional else type_\n",
    "        elif cwl_type is None:\n",
    "            # null type\n",
    "            return TYPES[\"null\"]\n",
    "        else:\n",
    "            raise TypeError(f\"Invalid type description: {cwl_type}\")\n",
    "    \n",
    "    @staticmethod\n",
    "    def check_type(val: Any, cwl_type: str | list | dict) -> bool:\n",
    "        type_ = CwlType.from_cwl_type(cwl_type)\n",
    "        try:\n",
    "            return isinstance(val, type_)\n",
    "        except TypeError:\n",
    "            if hasattr(type_, \"__origin__\"):\n",
    "                # list: check item type\n",
    "                return (isinstance(val, type_.__origin__) and\n",
    "                        all(CwlType.check_type(v, cwl_type[\"items\"]) for v in val))\n",
    "            else:\n",
    "                # enum\n",
    "                return val in cwl_type[\"symbols\"]"
   ]
  },
  {
   "cell_type": "code",
   "execution_count": 35,
   "metadata": {},
   "outputs": [
    {
     "data": {
      "text/plain": [
       "'foo: dict'"
      ]
     },
     "execution_count": 35,
     "metadata": {},
     "output_type": "execute_result"
    }
   ],
   "source": [
    "str(CwlType(id=\"foo\", type=\"record\"))"
   ]
  },
  {
   "cell_type": "code",
   "execution_count": 47,
   "metadata": {},
   "outputs": [
    {
     "data": {
      "text/plain": [
       "True"
      ]
     },
     "execution_count": 47,
     "metadata": {},
     "output_type": "execute_result"
    }
   ],
   "source": [
    "CwlType(id=\"opt\", type={\"type\": \"enum?\", \"symbols\": [\"A\", \"B\", \"C\"]}).optional()"
   ]
  },
  {
   "cell_type": "code",
   "execution_count": null,
   "metadata": {},
   "outputs": [],
   "source": []
  }
 ],
 "metadata": {
  "kernelspec": {
   "display_name": "venv",
   "language": "python",
   "name": "python3"
  },
  "language_info": {
   "codemirror_mode": {
    "name": "ipython",
    "version": 3
   },
   "file_extension": ".py",
   "mimetype": "text/x-python",
   "name": "python",
   "nbconvert_exporter": "python",
   "pygments_lexer": "ipython3",
   "version": "3.12.7"
  }
 },
 "nbformat": 4,
 "nbformat_minor": 2
}
