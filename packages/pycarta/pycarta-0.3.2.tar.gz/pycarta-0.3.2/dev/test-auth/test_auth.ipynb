{
 "cells": [
  {
   "cell_type": "code",
   "execution_count": 1,
   "metadata": {},
   "outputs": [],
   "source": [
    "from getpass import getpass\n",
    "from pycarta.auth import AuthorizationAgent"
   ]
  },
  {
   "cell_type": "code",
   "execution_count": 2,
   "metadata": {},
   "outputs": [],
   "source": [
    "username = getpass(\"Enter Carta username: \")\n",
    "password = getpass(\"Enter Carta password: \")"
   ]
  },
  {
   "cell_type": "code",
   "execution_count": 3,
   "metadata": {},
   "outputs": [],
   "source": [
    "agent = AuthorizationAgent(username, password)"
   ]
  },
  {
   "cell_type": "code",
   "execution_count": 4,
   "metadata": {},
   "outputs": [
    {
     "data": {
      "text/plain": [
       "[{'id': 'fcc397f0-3312-2b67-2b41-b74ca43524ad',\n",
       "  'path': '/carta-dashboards/iris.csv',\n",
       "  'name': 'iris.csv',\n",
       "  'source': 'Carta',\n",
       "  'type': 'File',\n",
       "  'owner': 'michelle.daya',\n",
       "  'dateCreated': '2023-03-30T00:17:27.510392+00:00',\n",
       "  'dateModified': '2023-03-30T00:17:27.510392+00:00'},\n",
       " {'id': '12c34fa1-80b9-20cd-849d-d591a29f5836',\n",
       "  'path': 'defect-positions.csv',\n",
       "  'name': 'defect-positions.csv',\n",
       "  'source': 'Carta',\n",
       "  'type': 'File',\n",
       "  'owner': 'user1',\n",
       "  'dateCreated': '2023-03-01T22:20:14.0646087+00:00',\n",
       "  'dateModified': '2023-03-01T22:20:14.0646087+00:00'},\n",
       " {'id': '74c34fa1-85b4-7815-a1ab-e346befe8e77',\n",
       "  'path': 'eov-labels.csv',\n",
       "  'name': 'eov-labels.csv',\n",
       "  'source': 'Carta',\n",
       "  'type': 'File',\n",
       "  'owner': 'user1',\n",
       "  'dateCreated': '2023-03-01T22:20:16.6145386+00:00',\n",
       "  'dateModified': '2023-03-01T22:20:16.6145386+00:00'},\n",
       " {'id': '84c34fa1-84c2-a8ea-afbe-835e0643b6a4',\n",
       "  'path': 'eov-positions.csv',\n",
       "  'name': 'eov-positions.csv',\n",
       "  'source': 'Carta',\n",
       "  'type': 'File',\n",
       "  'owner': 'user1',\n",
       "  'dateCreated': '2023-03-01T22:20:16.1322702+00:00',\n",
       "  'dateModified': '2023-03-01T22:20:16.1322702+00:00'},\n",
       " {'id': '6ac3525b-4c7a-4a1d-a67d-5b329e5cb79a',\n",
       "  'path': 'P2B1K05-causal-points.csv',\n",
       "  'name': 'P2B1K05-causal-points.csv',\n",
       "  'source': 'Carta',\n",
       "  'type': 'File',\n",
       "  'owner': 'user1',\n",
       "  'dateCreated': '2023-03-02T23:44:35.5708141+00:00',\n",
       "  'dateModified': '2023-03-02T23:44:35.5708141+00:00'},\n",
       " {'id': '24c35258-d661-af0d-20ba-e6a1650b6158',\n",
       "  'path': 'P2B1K05-defect-points.csv',\n",
       "  'name': 'P2B1K05-defect-points.csv',\n",
       "  'source': 'Carta',\n",
       "  'type': 'File',\n",
       "  'owner': 'user1',\n",
       "  'dateCreated': '2023-03-02T23:39:12.9618641+00:00',\n",
       "  'dateModified': '2023-03-02T23:39:12.9618641+00:00'},\n",
       " {'id': 'bec3525c-00d5-352a-7a9e-797096f096e1',\n",
       "  'path': 'P2B1K05-distance-labels.csv',\n",
       "  'name': 'P2B1K05-distance-labels.csv',\n",
       "  'source': 'Carta',\n",
       "  'type': 'File',\n",
       "  'owner': 'user1',\n",
       "  'dateCreated': '2023-03-02T23:46:07.9133275+00:00',\n",
       "  'dateModified': '2023-03-02T23:46:07.9133275+00:00'}]"
      ]
     },
     "execution_count": 4,
     "metadata": {},
     "output_type": "execute_result"
    }
   ],
   "source": [
    "response = agent.get(\"files/carta/list\", params=dict(path=\"/\"))\n",
    "response.raise_for_status()\n",
    "response.json()"
   ]
  },
  {
   "cell_type": "code",
   "execution_count": null,
   "metadata": {},
   "outputs": [],
   "source": []
  }
 ],
 "metadata": {
  "kernelspec": {
   "display_name": "venv",
   "language": "python",
   "name": "python3"
  },
  "language_info": {
   "codemirror_mode": {
    "name": "ipython",
    "version": 3
   },
   "file_extension": ".py",
   "mimetype": "text/x-python",
   "name": "python",
   "nbconvert_exporter": "python",
   "pygments_lexer": "ipython3",
   "version": "3.11.5"
  },
  "orig_nbformat": 4
 },
 "nbformat": 4,
 "nbformat_minor": 2
}
