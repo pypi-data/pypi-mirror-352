{
 "cells": [
  {
   "cell_type": "markdown",
   "metadata": {},
   "source": [
    "This notebook demonstrates the analysis we made for polyribosome chains in our MemBrain v2 publication. The corresponding data is available on Zenodo: https://doi.org/10.5281/zenodo.4743933\n",
    "\n",
    "What happened to get to this data?\n",
    "1. MemBrain-pick prediction of ribosome positions on the nuclear envelope\n",
    "2. Subtomogram averaging of ribosome positions, giving a RELION star file for each membrane\n",
    "3. Analysis of data using MemBrain-stats with the following command:\n",
    "```\n",
    "membrain_stats geodesic_NN --in-folder $obj_folder  \\\n",
    "    --out-folder $out_folder \\\n",
    "    --num-neighbors 3 \\\n",
    "    --pixel-size-multiplier 7.84 \\\n",
    "    --pixel-size-multiplier-positions 7.84\\\n",
    "```"
   ]
  },
  {
   "cell_type": "code",
   "execution_count": 14,
   "metadata": {},
   "outputs": [],
   "source": [
    "import napari\n",
    "import numpy as np\n",
    "import starfile\n",
    "import trimesh\n",
    "import os\n",
    "from membrain_seg.segmentation.dataloading.data_utils import load_tomogram\n",
    "import eulerangles\n",
    "from skimage import measure"
   ]
  },
  {
   "cell_type": "code",
   "execution_count": 7,
   "metadata": {},
   "outputs": [
    {
     "name": "stdout",
     "output_type": "stream",
     "text": [
      "  % Total    % Received % Xferd  Average Speed   Time    Time     Time  Current\n",
      "                                 Dload  Upload   Total   Spent    Left  Speed\n",
      "100  462M  100  462M    0     0  2751k      0  0:02:52  0:02:52 --:--:-- 3161k 0     0  2572k      0  0:03:04  0:00:32  0:02:32 3696k 0     0  2721k      0  0:02:53  0:00:40  0:02:13 3317k   0  2841k      0  0:02:46  0:00:51  0:01:55 3460k5M    0     0  2793k      0  0:02:49  0:01:33  0:01:16 2846k  0     0  2733k      0  0:02:53  0:02:08  0:00:45 2773k6k      0  0:02:53  0:02:14  0:00:39 2624k\n",
      "curl: (6) Could not resolve host: ribosome_stats_example.zip\n"
     ]
    }
   ],
   "source": [
    "!curl https://zenodo.org/records/15050335/files/ribosome_stats_example.zip -O ribosome_stats_example.zip\n",
    "!unzip ribosome_stats_example.zip"
   ]
  },
  {
   "cell_type": "code",
   "execution_count": 15,
   "metadata": {},
   "outputs": [],
   "source": [
    "data_folder=\"./ribosome_stats_example/data/\"\n",
    "stats_folder = \"./ribosome_stats_example/stats/\"\n",
    "structure_file = \".ribosome_stats_example/CytoER_14.mrc\""
   ]
  },
  {
   "cell_type": "code",
   "execution_count": 16,
   "metadata": {},
   "outputs": [],
   "source": [
    "viewer = napari.Viewer(ndisplay=3)"
   ]
  },
  {
   "cell_type": "code",
   "execution_count": 1,
   "metadata": {},
   "outputs": [],
   "source": [
    "from example_functions import collect_between_angles"
   ]
  },
  {
   "cell_type": "code",
   "execution_count": 18,
   "metadata": {},
   "outputs": [
    {
     "name": "stdout",
     "output_type": "stream",
     "text": [
      "1 1860.obj\n"
     ]
    },
    {
     "name": "stdout",
     "output_type": "stream",
     "text": [
      "2 2414.obj\n",
      "3 1900.obj\n",
      "4 2207.obj\n",
      "5 2415.obj\n",
      "6 2171.obj\n",
      "7 2173.obj\n",
      "8 2588.obj\n",
      "9 2984.obj\n",
      "10 2238.obj\n",
      "11 1902.obj\n",
      "12 2833.obj\n",
      "13 2837.obj\n",
      "14 2638.obj\n",
      "15 2758.obj\n",
      "16 2016.obj\n",
      "17 2175.obj\n",
      "18 1859.obj\n",
      "19 2363.obj\n",
      "20 2983.obj\n",
      "21 2015.obj\n",
      "22 2014.obj\n",
      "23 2438.obj\n",
      "24 2174.obj\n",
      "25 1793.obj\n",
      "26 2072.obj\n",
      "27 2890.obj\n",
      "28 1828.obj\n",
      "29 2299.obj\n",
      "30 1747.obj\n",
      "31 2930.obj\n",
      "32 2688.obj\n",
      "33 2897.obj\n",
      "34 1794.obj\n",
      "35 1838.obj\n",
      "36 2869.obj\n",
      "37 2739.obj\n",
      "38 1595.obj\n",
      "39 2275.obj\n",
      "40 2659.obj\n",
      "41 2881.obj\n",
      "42 1765.obj\n",
      "43 2090.obj\n",
      "44 2657.obj\n",
      "45 2455.obj\n",
      "46 2247.obj\n",
      "47 973.obj\n",
      "48 2093.obj\n",
      "49 2865.obj\n",
      "50 2859.obj\n",
      "51 1763.obj\n",
      "52 2915.obj\n",
      "53 2069.obj\n",
      "54 1831.obj\n",
      "55 2647.obj\n",
      "56 2653.obj\n",
      "57 2860.obj\n",
      "58 2876.obj\n",
      "59 2686.obj\n",
      "60 2679.obj\n",
      "61 1364.obj\n",
      "62 1576.obj\n",
      "63 2297.obj\n",
      "64 2452.obj\n",
      "65 2308.obj\n",
      "66 1832.obj\n",
      "67 2644.obj\n",
      "68 2151.obj\n",
      "69 1699.obj\n",
      "70 2390.obj\n",
      "71 1882.obj\n",
      "72 2408.obj\n",
      "73 2805.obj\n",
      "74 2797.obj\n",
      "75 2796.obj\n",
      "76 2351.obj\n",
      "77 2437.obj\n",
      "78 2392.obj\n",
      "79 2802.obj\n",
      "80 2631.obj\n",
      "81 2143.obj\n",
      "82 2355.obj\n",
      "83 2209.obj\n",
      "84 2792.obj\n",
      "85 2988.obj\n",
      "86 2744.obj\n",
      "87 2354.obj\n",
      "88 2815.obj\n",
      "89 2587.obj\n",
      "90 2236.obj\n",
      "91 2343.obj\n",
      "92 2800.obj\n"
     ]
    }
   ],
   "source": [
    "all_nn1_distances = []\n",
    "all_nn2_distances = []\n",
    "all_nn3_distances = []\n",
    "\n",
    "all_nn1_angles = []\n",
    "all_nn2_angles = []\n",
    "all_nn3_angles = []\n",
    "\n",
    "count = 0\n",
    "prev_filename = None\n",
    "for filename in os.listdir(data_folder):\n",
    "    if not filename.endswith(\"obj\"):\n",
    "        continue\n",
    "    count += 1\n",
    "    prev_filename = filename\n",
    "    print(count, filename)\n",
    "    star_file = filename.replace(\".obj\", \"_clusters.star\")\n",
    "    star_file = os.path.join(data_folder, star_file)\n",
    "    mesh_file = os.path.join(data_folder, filename)\n",
    "    stats_file = os.path.join(stats_folder, filename.replace(\".obj\", \"_nearest_neighbors.star\"))\n",
    "    mesh = trimesh.load(mesh_file)\n",
    "    star_data = starfile.read(star_file)\n",
    "    nn_stats = starfile.read(stats_file)\n",
    "    all_nn1_distances, all_nn2_distances, all_nn3_distances, \\\n",
    "        all_nn1_angles, all_nn2_angles, all_nn3_angles = collect_between_angles(\n",
    "        nn_stats, \n",
    "        all_nn1_distances, \n",
    "        all_nn2_distances, \n",
    "        all_nn3_distances, \n",
    "        all_nn1_angles, \n",
    "        all_nn2_angles, \n",
    "        all_nn3_angles\n",
    "    )\n",
    "\n",
    "# gt positions, distances, and angles for the last file to display in Napari\n",
    "start_positions = nn_stats[[\"start_positionX\", \"start_positionY\", \"start_positionZ\"]].values / 7.82\n",
    "nn1_pos = nn_stats[[\"nn0_positionX\", \"nn0_positionY\", \"nn0_positionZ\"]].values / 7.82\n",
    "nn2_pos = nn_stats[[\"nn1_positionX\", \"nn1_positionY\", \"nn1_positionZ\"]].values / 7.82\n",
    "nn3_pos = nn_stats[[\"nn2_positionX\", \"nn2_positionY\", \"nn2_positionZ\"]].values / 7.82\n",
    "\n",
    "distances = nn_stats[\"nn2_distance\"].values\n",
    "\n",
    "between_angles1 = nn_stats[\"nn0_angle\"].values\n",
    "between_angles2 = nn_stats[\"nn1_angle\"].values\n",
    "between_angles3 = nn_stats[\"nn2_angle\"].values\n"
   ]
  },
  {
   "cell_type": "code",
   "execution_count": 2,
   "metadata": {},
   "outputs": [
    {
     "ename": "NameError",
     "evalue": "name 'all_nn1_distances' is not defined",
     "output_type": "error",
     "traceback": [
      "\u001b[0;31m---------------------------------------------------------------------------\u001b[0m",
      "\u001b[0;31mNameError\u001b[0m                                 Traceback (most recent call last)",
      "Cell \u001b[0;32mIn[2], line 6\u001b[0m\n\u001b[1;32m      2\u001b[0m get_ipython()\u001b[38;5;241m.\u001b[39mrun_line_magic(\u001b[38;5;124m'\u001b[39m\u001b[38;5;124mautoreload\u001b[39m\u001b[38;5;124m'\u001b[39m, \u001b[38;5;124m'\u001b[39m\u001b[38;5;124m2\u001b[39m\u001b[38;5;124m'\u001b[39m)\n\u001b[1;32m      4\u001b[0m \u001b[38;5;28;01mfrom\u001b[39;00m \u001b[38;5;21;01mexample_functions\u001b[39;00m \u001b[38;5;28;01mimport\u001b[39;00m plot_orientations\n\u001b[0;32m----> 6\u001b[0m plot_orientations(\u001b[43mall_nn1_distances\u001b[49m, all_nn2_distances, all_nn3_distances, all_nn1_angles, all_nn2_angles, all_nn3_angles)\n",
      "\u001b[0;31mNameError\u001b[0m: name 'all_nn1_distances' is not defined"
     ]
    }
   ],
   "source": [
    "%load_ext autoreload\n",
    "%autoreload 2\n",
    "\n",
    "from example_functions import plot_orientations\n",
    "\n",
    "plot_orientations(all_nn1_distances, all_nn2_distances, all_nn3_distances, all_nn1_angles, all_nn2_angles, all_nn3_angles)\n",
    "\n"
   ]
  },
  {
   "cell_type": "code",
   "execution_count": 206,
   "metadata": {},
   "outputs": [
    {
     "name": "stderr",
     "output_type": "stream",
     "text": [
      "/Users/lorenz.lamm/PhD_projects/MemBrain_stats/venv_membrain_stats/lib/python3.11/site-packages/mrcfile/mrcinterpreter.py:216: RuntimeWarning: Unrecognised machine stamp: 0x44 0x20 0x20 0x20\n",
      "  warnings.warn(str(err), RuntimeWarning)\n"
     ]
    }
   ],
   "source": [
    "\n",
    "viewer.add_surface((mesh.vertices, mesh.faces[:, [2,1,0]]))\n",
    "pos = star_data[[\"rlnCoordinateX\", \"rlnCoordinateY\", \"rlnCoordinateZ\"]].values\n",
    "ori = star_data[[\"rlnAngleRot\", \"rlnAngleTilt\", \"rlnAnglePsi\"]].values\n",
    "\n",
    "pos_layer = viewer.add_points(pos)\n",
    "pos_layer.shading = \"spherical\"\n",
    "struc = load_tomogram(structure_file).data * -1\n",
    "struc[:, :, :35] = -10\n",
    "\n",
    "verts, faces, normals, values = measure.marching_cubes(struc, 2, step_size=2)\n",
    "verts -= (np.array(struc.shape) / 2)\n",
    "\n",
    "rotation_matrices = eulerangles.euler2matrix(\n",
    "    ori,\n",
    "    axes=\"zyz\",\n",
    "    intrinsic=True,\n",
    "    right_handed_rotation=False\n",
    ")"
   ]
  },
  {
   "cell_type": "code",
   "execution_count": 212,
   "metadata": {},
   "outputs": [
    {
     "name": "stdout",
     "output_type": "stream",
     "text": [
      "30 before merge\n",
      "30 after merge\n"
     ]
    }
   ],
   "source": [
    "import numpy as np\n",
    "from example_functions import iterative_chain_building, merge_chains, find_pos_index\n",
    "\n",
    "# Define chain parameters\n",
    "max_angle = 60 # angle between two orientations of ribosomes\n",
    "max_angle_connection = 80 # angle between two connections of ribosomes\n",
    "max_distance = 400 / 7.82 # maximum distance between two ribosomes in pixel space\n",
    "\n",
    "positions = pos\n",
    "nearest_neighbors = [\n",
    "    [find_pos_index(curpos, start_positions) for curpos in [nn1, nn2, nn3]] for nn1, nn2, nn3 in zip(nn1_pos, nn2_pos, nn3_pos)\n",
    "]\n",
    "between_angles = [\n",
    "    [between_angles1[k], between_angles2[k], between_angles3[k]] for k in range(len(between_angles1))\n",
    "]\n",
    "\n",
    "# Build chains iteratively\n",
    "chains = iterative_chain_building(positions, nearest_neighbors, between_angles, max_angle, max_angle_connection, max_distance=max_distance)\n",
    "\n",
    "merged_chains = chains\n",
    "merged_chains = merge_chains(\n",
    "    chains=chains,\n",
    "    positions=positions,\n",
    "    nearest_neighbors=nearest_neighbors,\n",
    "    between_angles=between_angles,\n",
    "    max_distance=400 / 7.82,\n",
    "    max_angle_merge_orientation=max_angle,\n",
    "    max_angle_merge_connection=max_angle_connection\n",
    ")"
   ]
  },
  {
   "cell_type": "code",
   "execution_count": 213,
   "metadata": {},
   "outputs": [
    {
     "data": {
      "text/plain": [
       "<Shapes layer 'Lines' at 0x1ab025a90>"
      ]
     },
     "execution_count": 213,
     "metadata": {},
     "output_type": "execute_result"
    }
   ],
   "source": [
    "all_lines = []\n",
    "for idx, points in enumerate(merged_chains):\n",
    "    points_array = positions[points]  # Convert list of points to a numpy array\n",
    "\n",
    "    if len(points_array) > 1:\n",
    "        lines = np.array([[points_array[i], points_array[i + 1]] for i in range(len(points_array) - 1)])\n",
    "        all_lines.append(lines)\n",
    "all_lines = np.concatenate(all_lines)\n",
    "viewer.add_shapes(all_lines, shape_type='line', edge_color=\"black\", edge_width=2.5, name=\"Lines\")"
   ]
  },
  {
   "cell_type": "code",
   "execution_count": 214,
   "metadata": {},
   "outputs": [],
   "source": [
    "from example_functions import colormaps\n",
    "\n",
    "surfaces = []\n",
    "bigger_than2_chains = [chain for chain in merged_chains if len(chain) > 2]\n",
    "idcs_not_in_chains = set(range(len(positions)))\n",
    "for chain in bigger_than2_chains:\n",
    "    for idx in chain:\n",
    "        idcs_not_in_chains.remove(idx)\n",
    "\n",
    "for nr, idx_chain in enumerate(bigger_than2_chains):\n",
    "    chain_verts = []\n",
    "    chain_faces = []\n",
    "    for idx in idx_chain:\n",
    "        cur_verts = verts.copy()\n",
    "        rotmat = rotation_matrices[idx]\n",
    "        subpos = pos[idx]\n",
    "        cur_verts = np.dot(rotmat.T, cur_verts.T).T\n",
    "        cur_verts += subpos\n",
    "        chain_verts.append(cur_verts)\n",
    "        chain_faces.append(faces.copy() + (len(chain_verts) - 1) * len(verts))\n",
    "        # surfaces.append(viewer.add_surface((cur_verts,faces), colormap=colormaps[nr % len(colormaps)]))\n",
    "    chain_verts = np.concatenate(chain_verts, axis=0)\n",
    "    chain_faces = np.concatenate(chain_faces, axis=0)\n",
    "    surfaces.append(viewer.add_surface((chain_verts,chain_faces), colormap=colormaps[nr % len(colormaps)]))\n",
    "\n",
    "empty_chain_verts = []\n",
    "empty_chain_faces = []\n",
    "for idx in idcs_not_in_chains:\n",
    "    cur_verts = verts.copy()\n",
    "    rotmat = rotation_matrices[idx]\n",
    "    subpos = pos[idx]\n",
    "    cur_verts = np.dot(rotmat.T, cur_verts.T).T\n",
    "    cur_verts += subpos\n",
    "    empty_chain_verts.append(cur_verts)\n",
    "    empty_chain_faces.append(faces.copy() + (len(empty_chain_verts) - 1) * len(verts))\n",
    "    # surfaces.append(viewer.add_surface((cur_verts,faces), colormap=\"gray\"))\n",
    "empty_chain_verts = np.concatenate(empty_chain_verts, axis=0)\n",
    "empty_chain_faces = np.concatenate(empty_chain_faces, axis=0)\n",
    "surfaces.append(viewer.add_surface((empty_chain_verts,empty_chain_faces), colormap=\"gray\"))"
   ]
  }
 ],
 "metadata": {
  "kernelspec": {
   "display_name": "venv_membrain_stats",
   "language": "python",
   "name": "python3"
  },
  "language_info": {
   "codemirror_mode": {
    "name": "ipython",
    "version": 3
   },
   "file_extension": ".py",
   "mimetype": "text/x-python",
   "name": "python",
   "nbconvert_exporter": "python",
   "pygments_lexer": "ipython3",
   "version": "3.11.0"
  }
 },
 "nbformat": 4,
 "nbformat_minor": 2
}
