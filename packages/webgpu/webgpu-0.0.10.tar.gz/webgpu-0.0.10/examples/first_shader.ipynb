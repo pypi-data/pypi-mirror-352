{
 "cells": [
  {
   "cell_type": "markdown",
   "id": "8442d443-dca4-4333-9061-ec6607fdc159",
   "metadata": {},
   "source": [
    "# Creating the first shader\n",
    "\n",
    "The code below draws a (hard-coded) triangle to the screen and contains the bare minimum to draw something with custom WebGPU shaders."
   ]
  },
  {
   "cell_type": "code",
   "execution_count": null,
   "id": "0a1683bd-acba-4a93-8f88-107d89c0677b",
   "metadata": {},
   "outputs": [],
   "source": [
    "import webgpu.jupyter as wj"
   ]
  },
  {
   "cell_type": "code",
   "execution_count": null,
   "id": "db0b0a80-a761-4a00-bb23-e87ec31ac04d",
   "metadata": {},
   "outputs": [],
   "source": [
    "from webgpu import RenderObject\n",
    "\n",
    "shader_code = \"\"\"\n",
    "\n",
    "// Data structure which is the output of the vertex shader and the input of the fragment shader\n",
    "struct FragmentInput {\n",
    "    @builtin(position) p: vec4<f32>,\n",
    "    @location(0) color: vec4<f32>,\n",
    "};\n",
    "\n",
    "// Vertex shader, returns a FragmentInput object\n",
    "@vertex\n",
    "fn vertex_main(\n",
    "  @builtin(vertex_index) vertex_index : u32\n",
    ") -> FragmentInput {\n",
    "\n",
    "  var pos = array<vec4f, 3>(\n",
    "    vec4f( 0.0,  0.5, 0., 1.),\n",
    "    vec4f(-0.5, -0.5, 0., 1.),\n",
    "    vec4f( 0.5, -0.5, 0., 1.)\n",
    "  );\n",
    "\n",
    "  var color = array<vec4f, 3>(\n",
    "    vec4f(1., 0., 0., 1.),\n",
    "    vec4f(0., 1., 0., 1.),\n",
    "    vec4f(0., 0., 1., 1.)\n",
    "  );\n",
    "  \n",
    "  return FragmentInput( pos[vertex_index], color[vertex_index] );\n",
    "}\n",
    "\n",
    "@fragment\n",
    "fn fragment_main(input: FragmentInput) -> @location(0) vec4f {\n",
    "  return input.color;\n",
    "}\n",
    "\"\"\"\n",
    "\n",
    "class Triangle(RenderObject):\n",
    "    def __init__(self, *args, **kwargs):\n",
    "        super().__init__(*args, **kwargs)\n",
    "        self.n_vertices = 3\n",
    "\n",
    "    def get_shader_code(self):\n",
    "        return shader_code\n",
    "\n",
    "    def get_bindings(self):\n",
    "        return []"
   ]
  },
  {
   "cell_type": "code",
   "execution_count": null,
   "id": "e8e2b2da-98d1-4418-b2c8-f64923ada56a",
   "metadata": {},
   "outputs": [],
   "source": [
    "triangle = Triangle()\n",
    "wj.Draw(triangle)"
   ]
  },
  {
   "cell_type": "code",
   "execution_count": null,
   "id": "cd366330-cb15-4ae4-9c9f-b0aa3c37f5da",
   "metadata": {},
   "outputs": [],
   "source": []
  }
 ],
 "metadata": {
  "kernelspec": {
   "display_name": "Python 3 (ipykernel)",
   "language": "python",
   "name": "python3"
  },
  "language_info": {
   "codemirror_mode": {
    "name": "ipython",
    "version": 3
   },
   "file_extension": ".py",
   "mimetype": "text/x-python",
   "name": "python",
   "nbconvert_exporter": "python",
   "pygments_lexer": "ipython3",
   "version": "3.13.2"
  }
 },
 "nbformat": 4,
 "nbformat_minor": 5
}
