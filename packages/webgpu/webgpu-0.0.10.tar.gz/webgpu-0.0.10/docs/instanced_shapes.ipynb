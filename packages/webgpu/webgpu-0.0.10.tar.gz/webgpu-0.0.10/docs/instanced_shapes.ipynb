{
 "cells": [
  {
   "cell_type": "markdown",
   "id": "681dc857-d0d4-4ade-afa3-c0d8b8929ac5",
   "metadata": {},
   "source": [
    "# Shapes\n",
    "\n",
    "to render instanced versions of shapes (cones, cylinders, arrows,...) one can use the `ShapeRender` class. It takes a `ShapeData` object describing the shape in reference coordinates and arrays of positions and directions. Also you can pass arrays of values and a `Colormap` mapping values to colors, or directly the colors in RGBA format of the instances.\n"
   ]
  },
  {
   "cell_type": "code",
   "execution_count": null,
   "id": "9617117b-8719-48a4-ac56-22232b69cdbb",
   "metadata": {},
   "outputs": [],
   "source": [
    "from webgpu.shapes import *\n",
    "from webgpu.jupyter import Draw\n",
    "\n",
    "cylinder = generate_cylinder(n=8, # number of sides to approximate cylinder with\n",
    "                             radius=0.02,\n",
    "                             height=1.,\n",
    "                             top_face=True,\n",
    "                             bottom_face=True)\n",
    "shapes = ShapeRenderer(cylinder,\n",
    "                       positions=[[0,0,0], [1,0,0]],\n",
    "                       directions=[[0,0,1], [1,0,0]],\n",
    "                       colors=[[1,0,0,1], [0,0,1,1]])\n",
    "Draw(shapes)"
   ]
  },
  {
   "cell_type": "markdown",
   "id": "37b35c78-ece4-49ba-80b1-3ce45b73b3ca",
   "metadata": {},
   "source": [
    "`ShapeData` objects can be combined to create more advanced shapes:"
   ]
  },
  {
   "cell_type": "code",
   "execution_count": null,
   "id": "111460c0-63a0-47b8-95b7-85b581a4fe9e",
   "metadata": {},
   "outputs": [],
   "source": [
    "from webgpu.shapes import *\n",
    "from webgpu.jupyter import Draw\n",
    "\n",
    "cylinder = generate_cylinder(n=8, # number of sides to approximate cylinder with\n",
    "                             radius=0.02,\n",
    "                             height=0.5,\n",
    "                             top_face=False,\n",
    "                             bottom_face=True)\n",
    "cone = generate_cone(n=8,\n",
    "                     radius=0.1,\n",
    "                     height=0.5,\n",
    "                     bottom_face=True)\n",
    "arrow = cylinder + cone.move((0,0,0.5))\n",
    "shapes = ShapeRenderer(arrow,\n",
    "                       positions=[[0,0,0], [1,0,0]],\n",
    "                       directions=[[0,0,1], [1,0,0]],\n",
    "                       colors=[[1,0,0,1], [0,0,1,1]])\n",
    "Draw(shapes)"
   ]
  },
  {
   "cell_type": "markdown",
   "id": "18cc9a51-7be2-4025-8dd5-8a7ecd580b31",
   "metadata": {},
   "source": [
    "Using values with a colormap one can apply a grading between start and end point.\n",
    "\n",
    "We can also add a uniform scaling factor to the shapes. The initial point will stay fixed here."
   ]
  },
  {
   "cell_type": "code",
   "execution_count": null,
   "id": "b333ba16-e795-4043-8b95-349047259bb3",
   "metadata": {},
   "outputs": [],
   "source": [
    "from webgpu.shapes import *\n",
    "from webgpu.jupyter import Draw\n",
    "from webgpu.colormap import Colormap, Colorbar\n",
    "\n",
    "cylinder = generate_cylinder(n=8, # number of sides to approximate cylinder with\n",
    "                             radius=0.02,\n",
    "                             height=0.5,\n",
    "                             top_face=False,\n",
    "                             bottom_face=True)\n",
    "cone = generate_cone(n=8,\n",
    "                     radius=0.1,\n",
    "                     height=0.5,\n",
    "                     bottom_face=True)\n",
    "arrow = cylinder + cone.move((0,0,0.5))\n",
    "colormap = Colormap(colormap=\"viridis\")\n",
    "shapes = ShapeRenderer(arrow,\n",
    "                       positions=[[0,0,0], [1,0,0]],\n",
    "                       directions=[[0,0,1], [1,0,0]],\n",
    "                       values=[0,1,2,3],\n",
    "                       colormap=colormap)\n",
    "scene = Draw([shapes, Colorbar(colormap)])\n",
    "shapes.add_options_to_gui(scene.gui)"
   ]
  },
  {
   "cell_type": "code",
   "execution_count": null,
   "id": "323fabb6-4b99-4974-aeb9-ec311705acaf",
   "metadata": {},
   "outputs": [],
   "source": []
  }
 ],
 "metadata": {
  "kernelspec": {
   "display_name": "Python 3 (ipykernel)",
   "language": "python",
   "name": "python3"
  },
  "language_info": {
   "codemirror_mode": {
    "name": "ipython",
    "version": 3
   },
   "file_extension": ".py",
   "mimetype": "text/x-python",
   "name": "python",
   "nbconvert_exporter": "python",
   "pygments_lexer": "ipython3",
   "version": "3.13.3"
  }
 },
 "nbformat": 4,
 "nbformat_minor": 5
}
