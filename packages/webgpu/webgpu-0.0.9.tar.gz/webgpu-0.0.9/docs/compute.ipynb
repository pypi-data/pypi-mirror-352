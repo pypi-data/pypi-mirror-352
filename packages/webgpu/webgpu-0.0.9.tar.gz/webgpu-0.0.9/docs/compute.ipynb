{
 "cells": [
  {
   "cell_type": "markdown",
   "id": "3e43755e-cd8b-4159-87d8-cd725c14f4d2",
   "metadata": {},
   "source": [
    "## Compute shaders\n",
    "\n",
    "Webgpu allows to run `compute shaders` which allow doing any calculations on GPU (currently only single precision)."
   ]
  },
  {
   "cell_type": "code",
   "execution_count": null,
   "id": "3c6fcd40-8d82-458f-abb0-188c9c7a2203",
   "metadata": {},
   "outputs": [],
   "source": [
    "import webgpu.jupyter # initializes the webgpu runtime in jupyter notebooks\n",
    "\n",
    "import numpy as np\n",
    "from webgpu.utils import *\n",
    "\n",
    "device = get_device()\n",
    "\n",
    "a = np.array([1, 2, 3], dtype=np.float32)\n",
    "b = np.array([4, 5, 6], dtype=np.float32)\n",
    "\n",
    "N = a.size\n",
    "mem_size = a.size*a.itemsize\n",
    "\n",
    "a_gpu = buffer_from_array(a)\n",
    "b_gpu = buffer_from_array(b)\n",
    "\n",
    "res_gpu = device.createBuffer(mem_size, BufferUsage.STORAGE | BufferUsage.COPY_SRC )\n",
    "\n",
    "uniform_N = uniform_from_array(np.array([N], dtype=np.uint32))\n",
    "    \n",
    "bindings = [\n",
    "    BufferBinding(101, a_gpu),\n",
    "    BufferBinding(102, b_gpu),\n",
    "    BufferBinding(103, res_gpu, read_only=False),\n",
    "    UniformBinding(104, uniform_N),\n",
    "]\n",
    "\n",
    "\n",
    "shader_code = \"\"\"\n",
    "\n",
    "@group(0) @binding(101) var<storage> vec_a : array<f32>;\n",
    "@group(0) @binding(102) var<storage> vec_b : array<f32>;\n",
    "@group(0) @binding(103) var<storage, read_write> vec_res : array<f32>;\n",
    "@group(0) @binding(104) var<uniform> N : u32;\n",
    "\n",
    "\n",
    "@compute @workgroup_size(256, 1, 1)\n",
    "fn main( @builtin(global_invocation_id) gid: vec3<u32>) {\n",
    "\n",
    "  let tid = gid.x;\n",
    "  if (tid < N)\n",
    "    {\n",
    "      vec_res[tid] = vec_a[tid] + vec_b[tid];\n",
    "    }\n",
    "}    \n",
    "\"\"\"\n",
    "\n",
    "run_compute_shader(shader_code, bindings, n_workgroups=((N + 255) // 256, 1, 1))\n",
    "data = read_buffer(res_gpu, np.float32)\n",
    "print(data)\n"
   ]
  },
  {
   "cell_type": "code",
   "execution_count": null,
   "id": "496b210e-f511-416c-8e61-bd4d8db0b759",
   "metadata": {},
   "outputs": [],
   "source": []
  },
  {
   "cell_type": "code",
   "execution_count": null,
   "id": "b3964770-da4a-470f-8fab-df9f685bb7b9",
   "metadata": {},
   "outputs": [],
   "source": []
  }
 ],
 "metadata": {
  "kernelspec": {
   "display_name": "Python 3 (ipykernel)",
   "language": "python",
   "name": "python3"
  },
  "language_info": {
   "codemirror_mode": {
    "name": "ipython",
    "version": 3
   },
   "file_extension": ".py",
   "mimetype": "text/x-python",
   "name": "python",
   "nbconvert_exporter": "python",
   "pygments_lexer": "ipython3",
   "version": "3.13.3"
  }
 },
 "nbformat": 4,
 "nbformat_minor": 5
}
