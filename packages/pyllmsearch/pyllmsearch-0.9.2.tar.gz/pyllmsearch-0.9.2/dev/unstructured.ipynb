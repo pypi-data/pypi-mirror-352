{
 "cells": [
  {
   "cell_type": "code",
   "execution_count": null,
   "metadata": {},
   "outputs": [],
   "source": []
  },
  {
   "cell_type": "code",
   "execution_count": 17,
   "metadata": {},
   "outputs": [
    {
     "name": "stdout",
     "output_type": "stream",
     "text": [
      "Requirement already satisfied: unstructured[pdf] in /home/snexus/projects/llm-search/.venv/lib64/python3.11/site-packages (0.12.5)\n",
      "Requirement already satisfied: chardet in /home/snexus/projects/llm-search/.venv/lib64/python3.11/site-packages (from unstructured[pdf]) (5.2.0)\n",
      "Requirement already satisfied: filetype in /home/snexus/projects/llm-search/.venv/lib64/python3.11/site-packages (from unstructured[pdf]) (1.2.0)\n",
      "Requirement already satisfied: python-magic in /home/snexus/projects/llm-search/.venv/lib64/python3.11/site-packages (from unstructured[pdf]) (0.4.27)\n",
      "Requirement already satisfied: lxml in /home/snexus/projects/llm-search/.venv/lib64/python3.11/site-packages (from unstructured[pdf]) (5.1.0)\n",
      "Requirement already satisfied: nltk in /home/snexus/projects/llm-search/.venv/lib64/python3.11/site-packages (from unstructured[pdf]) (3.8.1)\n",
      "Requirement already satisfied: tabulate in /home/snexus/projects/llm-search/.venv/lib64/python3.11/site-packages (from unstructured[pdf]) (0.9.0)\n",
      "Requirement already satisfied: requests in /home/snexus/projects/llm-search/.venv/lib64/python3.11/site-packages (from unstructured[pdf]) (2.31.0)\n",
      "Requirement already satisfied: beautifulsoup4 in /home/snexus/projects/llm-search/.venv/lib64/python3.11/site-packages (from unstructured[pdf]) (4.12.3)\n",
      "Requirement already satisfied: emoji in /home/snexus/projects/llm-search/.venv/lib64/python3.11/site-packages (from unstructured[pdf]) (2.10.1)\n",
      "Requirement already satisfied: dataclasses-json in /home/snexus/projects/llm-search/.venv/lib64/python3.11/site-packages (from unstructured[pdf]) (0.6.4)\n",
      "Requirement already satisfied: python-iso639 in /home/snexus/projects/llm-search/.venv/lib64/python3.11/site-packages (from unstructured[pdf]) (2024.2.7)\n",
      "Requirement already satisfied: langdetect in /home/snexus/projects/llm-search/.venv/lib64/python3.11/site-packages (from unstructured[pdf]) (1.0.9)\n",
      "Requirement already satisfied: numpy in /home/snexus/projects/llm-search/.venv/lib64/python3.11/site-packages (from unstructured[pdf]) (1.26.4)\n",
      "Requirement already satisfied: rapidfuzz in /home/snexus/projects/llm-search/.venv/lib64/python3.11/site-packages (from unstructured[pdf]) (3.6.2)\n",
      "Requirement already satisfied: backoff in /home/snexus/projects/llm-search/.venv/lib64/python3.11/site-packages (from unstructured[pdf]) (2.2.1)\n",
      "Requirement already satisfied: typing-extensions in /home/snexus/projects/llm-search/.venv/lib64/python3.11/site-packages (from unstructured[pdf]) (4.10.0)\n",
      "Requirement already satisfied: unstructured-client>=0.15.1 in /home/snexus/projects/llm-search/.venv/lib64/python3.11/site-packages (from unstructured[pdf]) (0.22.0)\n",
      "Requirement already satisfied: wrapt in /home/snexus/projects/llm-search/.venv/lib64/python3.11/site-packages (from unstructured[pdf]) (1.16.0)\n",
      "Requirement already satisfied: onnx in /home/snexus/projects/llm-search/.venv/lib64/python3.11/site-packages (from unstructured[pdf]) (1.16.0)\n",
      "Requirement already satisfied: pdf2image in /home/snexus/projects/llm-search/.venv/lib64/python3.11/site-packages (from unstructured[pdf]) (1.17.0)\n",
      "Requirement already satisfied: pdfminer.six in /home/snexus/projects/llm-search/.venv/lib64/python3.11/site-packages (from unstructured[pdf]) (20231228)\n",
      "Requirement already satisfied: pikepdf in /home/snexus/projects/llm-search/.venv/lib64/python3.11/site-packages (from unstructured[pdf]) (8.15.1)\n",
      "Requirement already satisfied: pillow-heif in /home/snexus/projects/llm-search/.venv/lib64/python3.11/site-packages (from unstructured[pdf]) (0.16.0)\n",
      "Requirement already satisfied: pypdf in /home/snexus/projects/llm-search/.venv/lib64/python3.11/site-packages (from unstructured[pdf]) (4.1.0)\n",
      "Requirement already satisfied: unstructured-inference==0.7.23 in /home/snexus/projects/llm-search/.venv/lib64/python3.11/site-packages (from unstructured[pdf]) (0.7.23)\n",
      "Requirement already satisfied: unstructured.pytesseract>=0.3.12 in /home/snexus/projects/llm-search/.venv/lib64/python3.11/site-packages (from unstructured[pdf]) (0.3.12)\n",
      "Requirement already satisfied: layoutparser[layoutmodels,tesseract] in /home/snexus/projects/llm-search/.venv/lib64/python3.11/site-packages (from unstructured-inference==0.7.23->unstructured[pdf]) (0.3.4)\n",
      "Requirement already satisfied: python-multipart in /home/snexus/projects/llm-search/.venv/lib64/python3.11/site-packages (from unstructured-inference==0.7.23->unstructured[pdf]) (0.0.9)\n",
      "Requirement already satisfied: huggingface-hub in /home/snexus/projects/llm-search/.venv/lib64/python3.11/site-packages (from unstructured-inference==0.7.23->unstructured[pdf]) (0.21.4)\n",
      "Requirement already satisfied: opencv-python!=4.7.0.68 in /home/snexus/projects/llm-search/.venv/lib64/python3.11/site-packages (from unstructured-inference==0.7.23->unstructured[pdf]) (4.9.0.80)\n",
      "Requirement already satisfied: onnxruntime<1.16 in /home/snexus/projects/llm-search/.venv/lib64/python3.11/site-packages (from unstructured-inference==0.7.23->unstructured[pdf]) (1.15.1)\n",
      "Requirement already satisfied: transformers>=4.25.1 in /home/snexus/projects/llm-search/.venv/lib64/python3.11/site-packages (from unstructured-inference==0.7.23->unstructured[pdf]) (4.38.2)\n",
      "Requirement already satisfied: certifi>=2023.7.22 in /home/snexus/projects/llm-search/.venv/lib64/python3.11/site-packages (from unstructured-client>=0.15.1->unstructured[pdf]) (2024.2.2)\n",
      "Requirement already satisfied: charset-normalizer>=3.2.0 in /home/snexus/projects/llm-search/.venv/lib64/python3.11/site-packages (from unstructured-client>=0.15.1->unstructured[pdf]) (3.3.2)\n",
      "Requirement already satisfied: deepdiff>=6.0 in /home/snexus/projects/llm-search/.venv/lib64/python3.11/site-packages (from unstructured-client>=0.15.1->unstructured[pdf]) (6.7.1)\n",
      "Requirement already satisfied: idna>=3.4 in /home/snexus/projects/llm-search/.venv/lib64/python3.11/site-packages (from unstructured-client>=0.15.1->unstructured[pdf]) (3.6)\n",
      "Requirement already satisfied: jsonpath-python>=1.0.6 in /home/snexus/projects/llm-search/.venv/lib64/python3.11/site-packages (from unstructured-client>=0.15.1->unstructured[pdf]) (1.0.6)\n",
      "Requirement already satisfied: marshmallow>=3.19.0 in /home/snexus/projects/llm-search/.venv/lib64/python3.11/site-packages (from unstructured-client>=0.15.1->unstructured[pdf]) (3.21.1)\n",
      "Requirement already satisfied: mypy-extensions>=1.0.0 in /home/snexus/projects/llm-search/.venv/lib64/python3.11/site-packages (from unstructured-client>=0.15.1->unstructured[pdf]) (1.0.0)\n",
      "Requirement already satisfied: packaging>=23.1 in /home/snexus/projects/llm-search/.venv/lib64/python3.11/site-packages (from unstructured-client>=0.15.1->unstructured[pdf]) (23.2)\n",
      "Requirement already satisfied: python-dateutil>=2.8.2 in /home/snexus/projects/llm-search/.venv/lib64/python3.11/site-packages (from unstructured-client>=0.15.1->unstructured[pdf]) (2.9.0.post0)\n",
      "Requirement already satisfied: six>=1.16.0 in /home/snexus/projects/llm-search/.venv/lib64/python3.11/site-packages (from unstructured-client>=0.15.1->unstructured[pdf]) (1.16.0)\n",
      "Requirement already satisfied: typing-inspect>=0.9.0 in /home/snexus/projects/llm-search/.venv/lib64/python3.11/site-packages (from unstructured-client>=0.15.1->unstructured[pdf]) (0.9.0)\n",
      "Requirement already satisfied: urllib3>=1.26.18 in /home/snexus/projects/llm-search/.venv/lib64/python3.11/site-packages (from unstructured-client>=0.15.1->unstructured[pdf]) (2.2.1)\n",
      "Requirement already satisfied: Pillow>=8.0.0 in /home/snexus/projects/llm-search/.venv/lib64/python3.11/site-packages (from unstructured.pytesseract>=0.3.12->unstructured[pdf]) (10.2.0)\n",
      "Requirement already satisfied: soupsieve>1.2 in /home/snexus/projects/llm-search/.venv/lib64/python3.11/site-packages (from beautifulsoup4->unstructured[pdf]) (2.5)\n",
      "Requirement already satisfied: click in /home/snexus/projects/llm-search/.venv/lib64/python3.11/site-packages (from nltk->unstructured[pdf]) (8.1.7)\n",
      "Requirement already satisfied: joblib in /home/snexus/projects/llm-search/.venv/lib64/python3.11/site-packages (from nltk->unstructured[pdf]) (1.3.2)\n",
      "Requirement already satisfied: regex>=2021.8.3 in /home/snexus/projects/llm-search/.venv/lib64/python3.11/site-packages (from nltk->unstructured[pdf]) (2023.12.25)\n",
      "Requirement already satisfied: tqdm in /home/snexus/projects/llm-search/.venv/lib64/python3.11/site-packages (from nltk->unstructured[pdf]) (4.65.0)\n",
      "Requirement already satisfied: protobuf>=3.20.2 in /home/snexus/projects/llm-search/.venv/lib64/python3.11/site-packages (from onnx->unstructured[pdf]) (3.20.2)\n",
      "Requirement already satisfied: cryptography>=36.0.0 in /home/snexus/projects/llm-search/.venv/lib64/python3.11/site-packages (from pdfminer.six->unstructured[pdf]) (42.0.5)\n",
      "Requirement already satisfied: Deprecated in /home/snexus/projects/llm-search/.venv/lib64/python3.11/site-packages (from pikepdf->unstructured[pdf]) (1.2.14)\n",
      "Requirement already satisfied: cffi>=1.12 in /home/snexus/projects/llm-search/.venv/lib64/python3.11/site-packages (from cryptography>=36.0.0->pdfminer.six->unstructured[pdf]) (1.16.0)\n",
      "Requirement already satisfied: ordered-set<4.2.0,>=4.0.2 in /home/snexus/projects/llm-search/.venv/lib64/python3.11/site-packages (from deepdiff>=6.0->unstructured-client>=0.15.1->unstructured[pdf]) (4.1.0)\n",
      "Requirement already satisfied: coloredlogs in /home/snexus/projects/llm-search/.venv/lib64/python3.11/site-packages (from onnxruntime<1.16->unstructured-inference==0.7.23->unstructured[pdf]) (15.0.1)\n",
      "Requirement already satisfied: flatbuffers in /home/snexus/projects/llm-search/.venv/lib64/python3.11/site-packages (from onnxruntime<1.16->unstructured-inference==0.7.23->unstructured[pdf]) (24.3.7)\n",
      "Requirement already satisfied: sympy in /home/snexus/projects/llm-search/.venv/lib64/python3.11/site-packages (from onnxruntime<1.16->unstructured-inference==0.7.23->unstructured[pdf]) (1.11.1)\n",
      "Requirement already satisfied: filelock in /home/snexus/projects/llm-search/.venv/lib64/python3.11/site-packages (from transformers>=4.25.1->unstructured-inference==0.7.23->unstructured[pdf]) (3.13.1)\n",
      "Requirement already satisfied: pyyaml>=5.1 in /home/snexus/projects/llm-search/.venv/lib64/python3.11/site-packages (from transformers>=4.25.1->unstructured-inference==0.7.23->unstructured[pdf]) (6.0.1)\n",
      "Requirement already satisfied: tokenizers<0.19,>=0.14 in /home/snexus/projects/llm-search/.venv/lib64/python3.11/site-packages (from transformers>=4.25.1->unstructured-inference==0.7.23->unstructured[pdf]) (0.15.0)\n",
      "Requirement already satisfied: safetensors>=0.4.1 in /home/snexus/projects/llm-search/.venv/lib64/python3.11/site-packages (from transformers>=4.25.1->unstructured-inference==0.7.23->unstructured[pdf]) (0.4.2)\n",
      "Requirement already satisfied: fsspec>=2023.5.0 in /home/snexus/projects/llm-search/.venv/lib64/python3.11/site-packages (from huggingface-hub->unstructured-inference==0.7.23->unstructured[pdf]) (2024.3.0)\n",
      "Requirement already satisfied: scipy in /home/snexus/projects/llm-search/.venv/lib64/python3.11/site-packages (from layoutparser[layoutmodels,tesseract]->unstructured-inference==0.7.23->unstructured[pdf]) (1.12.0)\n",
      "Requirement already satisfied: pandas in /home/snexus/projects/llm-search/.venv/lib64/python3.11/site-packages (from layoutparser[layoutmodels,tesseract]->unstructured-inference==0.7.23->unstructured[pdf]) (2.2.1)\n",
      "Requirement already satisfied: iopath in /home/snexus/projects/llm-search/.venv/lib64/python3.11/site-packages (from layoutparser[layoutmodels,tesseract]->unstructured-inference==0.7.23->unstructured[pdf]) (0.1.10)\n",
      "Requirement already satisfied: pdfplumber in /home/snexus/projects/llm-search/.venv/lib64/python3.11/site-packages (from layoutparser[layoutmodels,tesseract]->unstructured-inference==0.7.23->unstructured[pdf]) (0.11.0)\n",
      "Requirement already satisfied: torch in /home/snexus/projects/llm-search/.venv/lib64/python3.11/site-packages (from layoutparser[layoutmodels,tesseract]->unstructured-inference==0.7.23->unstructured[pdf]) (2.2.1)\n",
      "Requirement already satisfied: torchvision in /home/snexus/projects/llm-search/.venv/lib64/python3.11/site-packages (from layoutparser[layoutmodels,tesseract]->unstructured-inference==0.7.23->unstructured[pdf]) (0.17.1)\n",
      "Requirement already satisfied: effdet in /home/snexus/projects/llm-search/.venv/lib64/python3.11/site-packages (from layoutparser[layoutmodels,tesseract]->unstructured-inference==0.7.23->unstructured[pdf]) (0.4.1)\n",
      "Requirement already satisfied: pytesseract in /home/snexus/projects/llm-search/.venv/lib64/python3.11/site-packages (from layoutparser[layoutmodels,tesseract]->unstructured-inference==0.7.23->unstructured[pdf]) (0.3.10)\n",
      "Requirement already satisfied: pycparser in /home/snexus/projects/llm-search/.venv/lib64/python3.11/site-packages (from cffi>=1.12->cryptography>=36.0.0->pdfminer.six->unstructured[pdf]) (2.21)\n",
      "Requirement already satisfied: humanfriendly>=9.1 in /home/snexus/projects/llm-search/.venv/lib64/python3.11/site-packages (from coloredlogs->onnxruntime<1.16->unstructured-inference==0.7.23->unstructured[pdf]) (10.0)\n",
      "Requirement already satisfied: timm>=0.9.2 in /home/snexus/projects/llm-search/.venv/lib64/python3.11/site-packages (from effdet->layoutparser[layoutmodels,tesseract]->unstructured-inference==0.7.23->unstructured[pdf]) (0.9.16)\n",
      "Requirement already satisfied: pycocotools>=2.0.2 in /home/snexus/projects/llm-search/.venv/lib64/python3.11/site-packages (from effdet->layoutparser[layoutmodels,tesseract]->unstructured-inference==0.7.23->unstructured[pdf]) (2.0.7)\n",
      "Requirement already satisfied: omegaconf>=2.0 in /home/snexus/projects/llm-search/.venv/lib64/python3.11/site-packages (from effdet->layoutparser[layoutmodels,tesseract]->unstructured-inference==0.7.23->unstructured[pdf]) (2.3.0)\n",
      "Requirement already satisfied: networkx in /home/snexus/projects/llm-search/.venv/lib64/python3.11/site-packages (from torch->layoutparser[layoutmodels,tesseract]->unstructured-inference==0.7.23->unstructured[pdf]) (3.2.1)\n",
      "Requirement already satisfied: jinja2 in /home/snexus/projects/llm-search/.venv/lib64/python3.11/site-packages (from torch->layoutparser[layoutmodels,tesseract]->unstructured-inference==0.7.23->unstructured[pdf]) (3.1.3)\n",
      "Requirement already satisfied: nvidia-cuda-nvrtc-cu12==12.1.105 in /home/snexus/projects/llm-search/.venv/lib64/python3.11/site-packages (from torch->layoutparser[layoutmodels,tesseract]->unstructured-inference==0.7.23->unstructured[pdf]) (12.1.105)\n",
      "Requirement already satisfied: nvidia-cuda-runtime-cu12==12.1.105 in /home/snexus/projects/llm-search/.venv/lib64/python3.11/site-packages (from torch->layoutparser[layoutmodels,tesseract]->unstructured-inference==0.7.23->unstructured[pdf]) (12.1.105)\n",
      "Requirement already satisfied: nvidia-cuda-cupti-cu12==12.1.105 in /home/snexus/projects/llm-search/.venv/lib64/python3.11/site-packages (from torch->layoutparser[layoutmodels,tesseract]->unstructured-inference==0.7.23->unstructured[pdf]) (12.1.105)\n",
      "Requirement already satisfied: nvidia-cudnn-cu12==8.9.2.26 in /home/snexus/projects/llm-search/.venv/lib64/python3.11/site-packages (from torch->layoutparser[layoutmodels,tesseract]->unstructured-inference==0.7.23->unstructured[pdf]) (8.9.2.26)\n",
      "Requirement already satisfied: nvidia-cublas-cu12==12.1.3.1 in /home/snexus/projects/llm-search/.venv/lib64/python3.11/site-packages (from torch->layoutparser[layoutmodels,tesseract]->unstructured-inference==0.7.23->unstructured[pdf]) (12.1.3.1)\n",
      "Requirement already satisfied: nvidia-cufft-cu12==11.0.2.54 in /home/snexus/projects/llm-search/.venv/lib64/python3.11/site-packages (from torch->layoutparser[layoutmodels,tesseract]->unstructured-inference==0.7.23->unstructured[pdf]) (11.0.2.54)\n",
      "Requirement already satisfied: nvidia-curand-cu12==10.3.2.106 in /home/snexus/projects/llm-search/.venv/lib64/python3.11/site-packages (from torch->layoutparser[layoutmodels,tesseract]->unstructured-inference==0.7.23->unstructured[pdf]) (10.3.2.106)\n",
      "Requirement already satisfied: nvidia-cusolver-cu12==11.4.5.107 in /home/snexus/projects/llm-search/.venv/lib64/python3.11/site-packages (from torch->layoutparser[layoutmodels,tesseract]->unstructured-inference==0.7.23->unstructured[pdf]) (11.4.5.107)\n",
      "Requirement already satisfied: nvidia-cusparse-cu12==12.1.0.106 in /home/snexus/projects/llm-search/.venv/lib64/python3.11/site-packages (from torch->layoutparser[layoutmodels,tesseract]->unstructured-inference==0.7.23->unstructured[pdf]) (12.1.0.106)\n",
      "Requirement already satisfied: nvidia-nccl-cu12==2.19.3 in /home/snexus/projects/llm-search/.venv/lib64/python3.11/site-packages (from torch->layoutparser[layoutmodels,tesseract]->unstructured-inference==0.7.23->unstructured[pdf]) (2.19.3)\n",
      "Requirement already satisfied: nvidia-nvtx-cu12==12.1.105 in /home/snexus/projects/llm-search/.venv/lib64/python3.11/site-packages (from torch->layoutparser[layoutmodels,tesseract]->unstructured-inference==0.7.23->unstructured[pdf]) (12.1.105)\n",
      "Requirement already satisfied: triton==2.2.0 in /home/snexus/projects/llm-search/.venv/lib64/python3.11/site-packages (from torch->layoutparser[layoutmodels,tesseract]->unstructured-inference==0.7.23->unstructured[pdf]) (2.2.0)\n",
      "Requirement already satisfied: nvidia-nvjitlink-cu12 in /home/snexus/projects/llm-search/.venv/lib64/python3.11/site-packages (from nvidia-cusolver-cu12==11.4.5.107->torch->layoutparser[layoutmodels,tesseract]->unstructured-inference==0.7.23->unstructured[pdf]) (12.4.99)\n",
      "Requirement already satisfied: portalocker in /home/snexus/projects/llm-search/.venv/lib64/python3.11/site-packages (from iopath->layoutparser[layoutmodels,tesseract]->unstructured-inference==0.7.23->unstructured[pdf]) (2.8.2)\n",
      "Requirement already satisfied: pytz>=2020.1 in /home/snexus/projects/llm-search/.venv/lib64/python3.11/site-packages (from pandas->layoutparser[layoutmodels,tesseract]->unstructured-inference==0.7.23->unstructured[pdf]) (2024.1)\n",
      "Requirement already satisfied: tzdata>=2022.7 in /home/snexus/projects/llm-search/.venv/lib64/python3.11/site-packages (from pandas->layoutparser[layoutmodels,tesseract]->unstructured-inference==0.7.23->unstructured[pdf]) (2024.1)\n",
      "Requirement already satisfied: pypdfium2>=4.18.0 in /home/snexus/projects/llm-search/.venv/lib64/python3.11/site-packages (from pdfplumber->layoutparser[layoutmodels,tesseract]->unstructured-inference==0.7.23->unstructured[pdf]) (4.29.0)\n",
      "Requirement already satisfied: mpmath>=0.19 in /home/snexus/projects/llm-search/.venv/lib64/python3.11/site-packages (from sympy->onnxruntime<1.16->unstructured-inference==0.7.23->unstructured[pdf]) (1.3.0)\n",
      "Requirement already satisfied: antlr4-python3-runtime==4.9.* in /home/snexus/projects/llm-search/.venv/lib64/python3.11/site-packages (from omegaconf>=2.0->effdet->layoutparser[layoutmodels,tesseract]->unstructured-inference==0.7.23->unstructured[pdf]) (4.9.3)\n",
      "Requirement already satisfied: matplotlib>=2.1.0 in /home/snexus/projects/llm-search/.venv/lib64/python3.11/site-packages (from pycocotools>=2.0.2->effdet->layoutparser[layoutmodels,tesseract]->unstructured-inference==0.7.23->unstructured[pdf]) (3.8.4)\n",
      "Requirement already satisfied: MarkupSafe>=2.0 in /home/snexus/projects/llm-search/.venv/lib64/python3.11/site-packages (from jinja2->torch->layoutparser[layoutmodels,tesseract]->unstructured-inference==0.7.23->unstructured[pdf]) (2.1.5)\n",
      "Requirement already satisfied: contourpy>=1.0.1 in /home/snexus/projects/llm-search/.venv/lib64/python3.11/site-packages (from matplotlib>=2.1.0->pycocotools>=2.0.2->effdet->layoutparser[layoutmodels,tesseract]->unstructured-inference==0.7.23->unstructured[pdf]) (1.2.1)\n",
      "Requirement already satisfied: cycler>=0.10 in /home/snexus/projects/llm-search/.venv/lib64/python3.11/site-packages (from matplotlib>=2.1.0->pycocotools>=2.0.2->effdet->layoutparser[layoutmodels,tesseract]->unstructured-inference==0.7.23->unstructured[pdf]) (0.12.1)\n",
      "Requirement already satisfied: fonttools>=4.22.0 in /home/snexus/projects/llm-search/.venv/lib64/python3.11/site-packages (from matplotlib>=2.1.0->pycocotools>=2.0.2->effdet->layoutparser[layoutmodels,tesseract]->unstructured-inference==0.7.23->unstructured[pdf]) (4.51.0)\n",
      "Requirement already satisfied: kiwisolver>=1.3.1 in /home/snexus/projects/llm-search/.venv/lib64/python3.11/site-packages (from matplotlib>=2.1.0->pycocotools>=2.0.2->effdet->layoutparser[layoutmodels,tesseract]->unstructured-inference==0.7.23->unstructured[pdf]) (1.4.5)\n",
      "Requirement already satisfied: pyparsing>=2.3.1 in /home/snexus/projects/llm-search/.venv/lib64/python3.11/site-packages (from matplotlib>=2.1.0->pycocotools>=2.0.2->effdet->layoutparser[layoutmodels,tesseract]->unstructured-inference==0.7.23->unstructured[pdf]) (3.1.2)\n",
      "Requirement already satisfied: pytesseract in /home/snexus/projects/llm-search/.venv/lib64/python3.11/site-packages (0.3.10)\n",
      "Requirement already satisfied: packaging>=21.3 in /home/snexus/projects/llm-search/.venv/lib64/python3.11/site-packages (from pytesseract) (23.2)\n",
      "Requirement already satisfied: Pillow>=8.0.0 in /home/snexus/projects/llm-search/.venv/lib64/python3.11/site-packages (from pytesseract) (10.2.0)\n"
     ]
    }
   ],
   "source": [
    "%%sh\n",
    "\n",
    "pip install \"unstructured[pdf]\"\n",
    "pip install pytesseract"
   ]
  },
  {
   "cell_type": "code",
   "execution_count": 18,
   "metadata": {},
   "outputs": [],
   "source": [
    "from unstructured.partition.pdf import partition_pdf\n"
   ]
  },
  {
   "cell_type": "code",
   "execution_count": 19,
   "metadata": {},
   "outputs": [],
   "source": [
    "filename = \"example_report.pdf\"\n"
   ]
  },
  {
   "cell_type": "code",
   "execution_count": 20,
   "metadata": {},
   "outputs": [
    {
     "name": "stdout",
     "output_type": "stream",
     "text": [
      "Help on function partition_pdf in module unstructured.partition.pdf:\n",
      "\n",
      "partition_pdf(filename: 'str' = '', file: 'Optional[Union[BinaryIO, SpooledTemporaryFile]]' = None, include_page_breaks: 'bool' = False, strategy: 'str' = 'auto', infer_table_structure: 'bool' = False, ocr_languages: 'Optional[str]' = None, languages: 'Optional[List[str]]' = None, include_metadata: 'bool' = True, metadata_filename: 'Optional[str]' = None, metadata_last_modified: 'Optional[str]' = None, chunking_strategy: 'Optional[str]' = None, links: 'Sequence[Link]' = [], hi_res_model_name: 'Optional[str]' = None, extract_images_in_pdf: 'bool' = False, extract_image_block_types: 'Optional[List[str]]' = None, extract_image_block_output_dir: 'Optional[str]' = None, extract_image_block_to_payload: 'bool' = False, **kwargs) -> 'List[Element]'\n",
      "    Parses a pdf document into a list of interpreted elements.\n",
      "        Parameters\n",
      "        ----------\n",
      "        filename\n",
      "            A string defining the target filename path.\n",
      "        file\n",
      "            A file-like object as bytes --> open(filename, \"rb\").\n",
      "        strategy\n",
      "            The strategy to use for partitioning the PDF. Valid strategies are \"hi_res\",\n",
      "            \"ocr_only\", and \"fast\". When using the \"hi_res\" strategy, the function uses\n",
      "            a layout detection model to identify document elements. When using the\n",
      "            \"ocr_only\" strategy, partition_pdf simply extracts the text from the\n",
      "            document using OCR and processes it. If the \"fast\" strategy is used, the text\n",
      "            is extracted directly from the PDF. The default strategy `auto` will determine\n",
      "            when a page can be extracted using `fast` mode, otherwise it will fall back to `hi_res`.\n",
      "        infer_table_structure\n",
      "            Only applicable if `strategy=hi_res`.\n",
      "            If True, any Table elements that are extracted will also have a metadata field\n",
      "            named \"text_as_html\" where the table's text content is rendered into an html string.\n",
      "            I.e., rows and cells are preserved.\n",
      "            Whether True or False, the \"text\" field is always present in any Table element\n",
      "            and is the text content of the table (no structure).\n",
      "        languages\n",
      "            The languages present in the document, for use in partitioning and/or OCR. To use a language\n",
      "            with Tesseract, you'll first need to install the appropriate Tesseract language pack.\n",
      "        metadata_last_modified\n",
      "            The last modified date for the document.\n",
      "        hi_res_model_name\n",
      "            The layout detection model used when partitioning strategy is set to `hi_res`.\n",
      "        extract_images_in_pdf\n",
      "            Only applicable if `strategy=hi_res`.\n",
      "            If True, any detected images will be saved in the path specified by\n",
      "            'extract_image_block_output_dir' or stored as base64 encoded data within metadata fields.\n",
      "            Deprecation Note: This parameter is marked for deprecation. Future versions will use\n",
      "            'extract_image_block_types' for broader extraction capabilities.\n",
      "        extract_image_block_types\n",
      "            Only applicable if `strategy=hi_res`.\n",
      "            Images of the element type(s) specified in this list (e.g., [\"Image\", \"Table\"]) will be\n",
      "            saved in the path specified by 'extract_image_block_output_dir' or stored as base64\n",
      "            encoded data within metadata fields.\n",
      "        extract_image_block_to_payload\n",
      "            Only applicable if `strategy=hi_res`.\n",
      "            If True, images of the element type(s) defined in 'extract_image_block_types' will be\n",
      "            encoded as base64 data and stored in two metadata fields: 'image_base64' and\n",
      "            'image_mime_type'.\n",
      "            This parameter facilitates the inclusion of element data directly within the payload,\n",
      "            especially for web-based applications or APIs.\n",
      "        extract_image_block_output_dir\n",
      "            Only applicable if `strategy=hi_res` and `extract_image_block_to_payload=False`.\n",
      "            The filesystem path for saving images of the element type(s)\n",
      "            specified in 'extract_image_block_types'.\n",
      "        \n",
      "    chunking_strategy\n",
      "            Strategy used for chunking text into larger or smaller elements.\n",
      "            Defaults to `None` with optional arg of 'basic' or 'by_title'.\n",
      "            Additional Parameters:\n",
      "                    multipage_sections\n",
      "                            If True, sections can span multiple pages. Defaults to True.\n",
      "                    combine_text_under_n_chars\n",
      "                            Combines elements (for example a series of titles) until a section\n",
      "                            reaches a length of n characters. Only applies to 'by_title' strategy.\n",
      "                    new_after_n_chars\n",
      "                            Cuts off chunks once they reach a length of n characters; a soft max.\n",
      "                    max_characters\n",
      "                            Chunks elements text and text_as_html (if present) into chunks\n",
      "                            of length n characters, a hard max.\n",
      "            include_metadata:\n",
      "                    Determines whether or not metadata is included in the metadata\n",
      "                        attribute on the elements in the output.\n",
      "\n"
     ]
    }
   ],
   "source": [
    "help(partition_pdf)"
   ]
  },
  {
   "cell_type": "code",
   "execution_count": 22,
   "metadata": {},
   "outputs": [
    {
     "name": "stderr",
     "output_type": "stream",
     "text": [
      "Some weights of the model checkpoint at microsoft/table-transformer-structure-recognition were not used when initializing TableTransformerForObjectDetection: ['model.backbone.conv_encoder.model.layer2.0.downsample.1.num_batches_tracked', 'model.backbone.conv_encoder.model.layer3.0.downsample.1.num_batches_tracked', 'model.backbone.conv_encoder.model.layer4.0.downsample.1.num_batches_tracked']\n",
      "- This IS expected if you are initializing TableTransformerForObjectDetection from the checkpoint of a model trained on another task or with another architecture (e.g. initializing a BertForSequenceClassification model from a BertForPreTraining model).\n",
      "- This IS NOT expected if you are initializing TableTransformerForObjectDetection from the checkpoint of a model that you expect to be exactly identical (initializing a BertForSequenceClassification model from a BertForSequenceClassification model).\n"
     ]
    }
   ],
   "source": [
    "pdf_elements = partition_pdf(filename=filename, strategy=\"hi_res\", hi_res_model_name=\"detectron2_onnx\", infer_table_structure=True, )"
   ]
  },
  {
   "cell_type": "code",
   "execution_count": 23,
   "metadata": {},
   "outputs": [
    {
     "data": {
      "text/plain": [
       "1534"
      ]
     },
     "execution_count": 23,
     "metadata": {},
     "output_type": "execute_result"
    }
   ],
   "source": [
    "len(pdf_elements)"
   ]
  },
  {
   "cell_type": "code",
   "execution_count": 40,
   "metadata": {},
   "outputs": [],
   "source": [
    "tables = [p for p in pdf_elements if p.category == 'Table']"
   ]
  },
  {
   "cell_type": "code",
   "execution_count": 41,
   "metadata": {},
   "outputs": [],
   "source": [
    "tables = sorted(tables, key= lambda k: k.metadata.to_dict()['page_number'])"
   ]
  },
  {
   "cell_type": "code",
   "execution_count": 43,
   "metadata": {},
   "outputs": [
    {
     "data": {
      "text/plain": [
       "{'detection_class_prob': 0.9872491955757141,\n",
       " 'coordinates': {'points': ((107.27036483764648, 1290.5960068265022),\n",
       "   (107.27036483764648, 2044.5273064802236),\n",
       "   (1537.4617231750487, 2044.5273064802236),\n",
       "   (1537.4617231750487, 1290.5960068265022)),\n",
       "  'system': 'PixelSpace',\n",
       "  'layout_width': 1654,\n",
       "  'layout_height': 2339},\n",
       " 'last_modified': '2024-05-06T17:46:02',\n",
       " 'text_as_html': '<table><tr><td rowspan=\"3\">Risk type Physical Transitional</td><td>Risks</td><td>Description</td><td>Timescale</td><td>Likelihood</td><td>Impact</td><td>Impact</td><td>process</td></tr><tr><td></td><td>Extreme weather - retail Extreme</td><td>If the frequency and severity of events like flooding and hurricanes increase then this may interrupt operations and damage assets and facilities,</td><td>— 1-3 years</td><td>Medium Low</td><td>Low High</td><td>Increased capital expenditure and loss of revenue</td><td>Consideration of weather resilience in site selection and building design</td></tr><tr><td></td><td>weather - logistics Carbon</td><td>leading to revenue loss and repairs costs, respectively. If carbon taxes are</td><td>1-3</td><td>Low</td><td>High</td><td>Increased</td><td>Development of low</td></tr><tr><td></td><td>pricing</td><td>implemented or increased in certain countries then this could cause our cost base to increase.</td><td>years</td><td></td><td></td><td>operating costs</td><td>carbon alternatives for materials and operations (e.g. sourcing on-site renewables)</td></tr><tr><td>Physical</td><td>Supply chain _ disruption</td><td>If the indirect effects of climate change increase in frequency or severity (e.g. conflict or geopolitical issues) then logistics services may be interrupted and/or their costs may increase.</td><td>&gt;3 years</td><td>High</td><td>Medium</td><td>Increased operating costs</td><td>Consideration of benefits of production and warehousing expansion and diversification</td></tr><tr><td>Transitional</td><td>Access to resources</td><td>If there is an increased scrutiny in the use of fossil fuels then this could impact the availability and/or cost of the materials needed to</td><td>&gt;3 years</td><td>Low</td><td>High</td><td>Increased operating costs</td><td>R&amp;D programmes to increase closed loop recycling and evaluate alternatives</td></tr></table>',\n",
       " 'filetype': 'application/pdf',\n",
       " 'languages': ['eng'],\n",
       " 'page_number': 20,\n",
       " 'parent_id': '9038fb16fc48c5b13215a01a427c732f',\n",
       " 'filename': 'example_report.pdf'}"
      ]
     },
     "execution_count": 43,
     "metadata": {},
     "output_type": "execute_result"
    }
   ],
   "source": [
    "tables[1].metadata.to_dict()"
   ]
  },
  {
   "cell_type": "code",
   "execution_count": 45,
   "metadata": {},
   "outputs": [
    {
     "data": {
      "text/plain": [
       "'<table><tr><td rowspan=\"3\">Risk type Physical Transitional</td><td>Risks</td><td>Description</td><td>Timescale</td><td>Likelihood</td><td>Impact</td><td>Impact</td><td>process</td></tr><tr><td></td><td>Extreme weather - retail Extreme</td><td>If the frequency and severity of events like flooding and hurricanes increase then this may interrupt operations and damage assets and facilities,</td><td>— 1-3 years</td><td>Medium Low</td><td>Low High</td><td>Increased capital expenditure and loss of revenue</td><td>Consideration of weather resilience in site selection and building design</td></tr><tr><td></td><td>weather - logistics Carbon</td><td>leading to revenue loss and repairs costs, respectively. If carbon taxes are</td><td>1-3</td><td>Low</td><td>High</td><td>Increased</td><td>Development of low</td></tr><tr><td></td><td>pricing</td><td>implemented or increased in certain countries then this could cause our cost base to increase.</td><td>years</td><td></td><td></td><td>operating costs</td><td>carbon alternatives for materials and operations (e.g. sourcing on-site renewables)</td></tr><tr><td>Physical</td><td>Supply chain _ disruption</td><td>If the indirect effects of climate change increase in frequency or severity (e.g. conflict or geopolitical issues) then logistics services may be interrupted and/or their costs may increase.</td><td>&gt;3 years</td><td>High</td><td>Medium</td><td>Increased operating costs</td><td>Consideration of benefits of production and warehousing expansion and diversification</td></tr><tr><td>Transitional</td><td>Access to resources</td><td>If there is an increased scrutiny in the use of fossil fuels then this could impact the availability and/or cost of the materials needed to</td><td>&gt;3 years</td><td>Low</td><td>High</td><td>Increased operating costs</td><td>R&amp;D programmes to increase closed loop recycling and evaluate alternatives</td></tr></table>'"
      ]
     },
     "execution_count": 45,
     "metadata": {},
     "output_type": "execute_result"
    }
   ],
   "source": [
    "tables[1].metadata.text_as_html"
   ]
  },
  {
   "cell_type": "code",
   "execution_count": 48,
   "metadata": {},
   "outputs": [],
   "source": [
    "from IPython.display import display, HTML"
   ]
  },
  {
   "cell_type": "code",
   "execution_count": 52,
   "metadata": {},
   "outputs": [
    {
     "data": {
      "text/html": [
       "<table><thead><th>TCFD recommendation</th><th>Summary of approach to disclosure</th><th>Signpost to detailed disclosure</th></thead><tr><td colspan=\"3\">Governance</td></tr><tr><td rowspan=\"4\">Describe the board’s oversight of climate- related risks and opportunities</td><td>Ultimate accountability for and oversight of climate-related risks and opportunities sits with the board.</td><td rowspan=\"4\">Pages 29 and 30 - Board committees Page 33 - Significant issues considered by the audit and risk committee</td></tr><tr><td></td><td>Strategic oversight of climate-related risks is provided by the Sustainability Steering Group (SSG), chaired by the CFO, who forward any significant risks on to the audit and risk committee (see below for more detail).</td><td></td></tr><tr><td></td><td>The board will review all strategic and financially substantive risks at least twice a year through the audit and risk committee, which includes current progress on any targets defined to manage climate-related issues associated with these risks.</td><td></td></tr><tr><td></td><td>The outputs from these committee meetings will help refine and plan the changes to the strategy, risk management processes, policies and future investment. Strategic oversight of climate-related risks is provided by the SSG. The SSG is chaired by the</td><td></td></tr><tr><td rowspan=\"2\">Describe management's role in assessing and managing climate- related risks and opportunities</td><td>CFO and meets quarterly. It reviews climate-related and other sustainability risks collated from across Games Workshop, with any significant risks forwarded on to the audit and risk committee for consideration alongside other risks that could impact on the Group's strategic or financial planning.</td><td rowspan=\"3\">Page 33 - Significant issues considered by the audit and risk committee Page 34 - Risk management</td><td></td></tr><tr><td></td><td>The SSG also monitors progress on risk management activities undertaken by the specific areas across the business as part of their efforts to manage climate-related issues associated with their activities. Our head of SRS is responsible for co-ordinating the management of climate-related risks and opportunities via the Carbon Management Group (CMG).</td><td></td></tr><tr><td colspan=\"3\">Strategy -</td><td rowspan=\"7\">Describe the climate- related risks and opportunities the</td></tr><tr><td></td><td>We have carried out a CSA. This CSA helps us understand the potential context in which our</td><td rowspan=\"6\">Pages 18 and 19 Environment Pages 18 and 19 - Strategy</td></tr><tr><td></td><td></td><td></td></tr><tr><td></td><td>business will be operating in the future and allows us to prepare for a variety of different possible outcomes.</td><td></td></tr><tr><td rowspan=\"3\">organisation has identified over the short, medium and long term Describe the impact of climate-related risks</td><td></td><td>The analysis uses existing climate change science and applies projections to suggest how our business be impacted by climate change.</td><td></td></tr><tr><td></td><td></td><td>may The ultimate outcome of this CSA was the identification of the most relevant climate-related</td><td></td></tr><tr><td></td><td></td><td>risks for our business (summarised on page 19 ‘Identified risks’) and a stronger understanding of their potential impacts across the different selected scenarios. Of the risks that were identified, all were found to have global potential. However, the most significant impacts were focused on the UK and US where the bulk of our manufacturing and</td><td></td></tr><tr><td>and opportunities on the organisation’s business, strategy and financial planning</td><td>distribution operations are. Whilst some of the risks identified have the potential to have a significant impact, the likelihood of these are considered to be low at this time. We recognise that for this conclusion to be valid, it needs to be kept up to date with the most recent science and understanding of climate change. As such, the CSA and the scenarios used will be reviewed each year and undergo a full refresh every three years to ensure they remain relevant and appropriate for our business. Following the 2022/23 review, an additional risk regarding access to resources has been included below.</td><td></td></tr><tr><td>Describe the resilience of the organisation’s strategy, taking into consideration different climate-related scenarios, including a 2°C or lower scenario</td><td>Based on the response to the recommendation above, the Group considers that its strategy is resilient to the potential impacts of the scenarios identified.</td><td>Pages 18 and 19 - Strategy</td></tr></table>"
      ],
      "text/plain": [
       "<IPython.core.display.HTML object>"
      ]
     },
     "metadata": {},
     "output_type": "display_data"
    }
   ],
   "source": [
    "display(HTML(tables[2].metadata.text_as_html))"
   ]
  },
  {
   "cell_type": "code",
   "execution_count": null,
   "metadata": {},
   "outputs": [],
   "source": []
  }
 ],
 "metadata": {
  "kernelspec": {
   "display_name": ".venv",
   "language": "python",
   "name": "python3"
  },
  "language_info": {
   "codemirror_mode": {
    "name": "ipython",
    "version": 3
   },
   "file_extension": ".py",
   "mimetype": "text/x-python",
   "name": "python",
   "nbconvert_exporter": "python",
   "pygments_lexer": "ipython3",
   "version": "3.11.8"
  }
 },
 "nbformat": 4,
 "nbformat_minor": 2
}
