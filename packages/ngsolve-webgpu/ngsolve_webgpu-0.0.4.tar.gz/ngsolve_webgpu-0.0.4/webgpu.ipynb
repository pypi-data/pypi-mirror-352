{
 "cells": [
  {
   "cell_type": "code",
   "execution_count": null,
   "id": "b9f67305-3c9c-4b7d-bf86-80630a649b41",
   "metadata": {},
   "outputs": [],
   "source": [
    "# draw function on 2d elements\n",
    "\n",
    "import webgpu.jupyter as wj\n",
    "from webgpu.colormap import Colorbar\n",
    "from ngsolve import *\n",
    "from ngsolve_webgpu.mesh import MeshData, PointNumbers\n",
    "from ngsolve_webgpu.cf import FunctionData, CFRenderer\n",
    "\n",
    "def draw_func_with_vert_numbers(mesh, cf, order=2):\n",
    "    mesh_data = MeshData(mesh.ngmesh)\n",
    "    function_data = FunctionData(mesh_data, cf, order)\n",
    "    cfrenderer = CFRenderer(function_data)\n",
    "    point_numbers = PointNumbers(mesh_data, 13)\n",
    "    cfrenderer.colormap.set_min_max(-1,1)\n",
    "    wj.Draw([ cfrenderer, Colorbar(cfrenderer.colormap), point_numbers])\n",
    "\n",
    "\n",
    "from netgen.occ import *\n",
    "\n",
    "box = Box(Pnt(0,0,0), Pnt(1,1,1))\n",
    "cyl = Cylinder(Pnt(0,0.0,0.0), X, r=0.3, h=0.5)\n",
    "geo = OCCGeometry(cyl)\n",
    "m = Mesh(geo.GenerateMesh(maxh=6))\n",
    "m.Curve(5)\n",
    "\n",
    "cf=sin(20*x)\n",
    "\n",
    "draw_func_with_vert_numbers(m, cf, order=5)\n",
    "ngm = m.ngmesh\n"
   ]
  },
  {
   "cell_type": "code",
   "execution_count": null,
   "id": "7e3b45c3-d7ba-4487-bebd-5eedbdcaeec6",
   "metadata": {},
   "outputs": [],
   "source": []
  },
  {
   "cell_type": "code",
   "execution_count": null,
   "id": "ebd100f7-36eb-4178-869a-5fade1604ce9",
   "metadata": {},
   "outputs": [],
   "source": [
    "# draw geometry\n",
    "\n",
    "import webgpu.jupyter as wj\n",
    "from netgen.occ import *\n",
    "from ngsolve import *\n",
    "import webgpu.jupyter\n",
    "\n",
    "box = Box((-1,-1,-1), (1,1,1)) + Sphere((1,1,1), 0.4)\n",
    "\n",
    "def draw_geo(geo):\n",
    "    import ngsolve_webgpu.geometry\n",
    "    if isinstance(geo, TopoDS_Shape):\n",
    "        geo = OCCGeometry(geo)\n",
    "    obj = ngsolve_webgpu.geometry.GeometryRenderer(geo)\n",
    "    wj.Draw([obj])\n",
    "\n",
    "draw_geo(box)"
   ]
  },
  {
   "cell_type": "code",
   "execution_count": null,
   "id": "92a2c610-652b-4cfa-b933-a7ab361f206a",
   "metadata": {},
   "outputs": [],
   "source": [
    "# draw isosurface\n",
    "import webgpu.jupyter\n",
    "from netgen.occ import *\n",
    "from ngsolve import *\n",
    "import ngsolve_webgpu.cf\n",
    "import numpy as np\n",
    "\n",
    "box = Box((-1,-1,-1), (1,1,1))\n",
    "geo = OCCGeometry(box)\n",
    "mesh = Mesh(geo.GenerateMesh(maxh=.2))\n",
    "gf = GridFunction(H1(mesh, order=2))\n",
    "cf = 1.2**2 - (x**2 + y**2 + z**2)\n",
    "gf.Set(cf)\n",
    "\n",
    "def draw_iso(levelset, func, mesh, order=2):\n",
    "    import ngsolve_webgpu.isosurface\n",
    "    import ngsolve_webgpu.mesh\n",
    "    import ngsolve_webgpu.cf\n",
    "    meshdata = ngsolve_webgpu.mesh.MeshData(mesh.ngmesh)\n",
    "    data = ngsolve_webgpu.cf.FunctionData(meshdata, func, order=order)   \n",
    "    levelset_data = ngsolve_webgpu.cf.FunctionData(meshdata, -levelset, order=order)\n",
    "    clipping = ngsolve_webgpu.cf.Clipping()\n",
    "    colormap = ngsolve_webgpu.cf.Colormap()\n",
    "    clipsol = ngsolve_webgpu.isosurface.NegativeClippingRenderer(data, levelset_data, clipping, colormap)\n",
    "    neg_outer = ngsolve_webgpu.isosurface.NegativeSurfaceRenderer(data, levelset_data, clipping=clipping, colormap=colormap)\n",
    "    iso = ngsolve_webgpu.isosurface.IsoSurfaceRenderer(data, levelset_data, clipping, colormap)\n",
    "    clipping.mode = clipping.Mode.PLANE\n",
    "    iso.colormap = neg_outer.colormap\n",
    "    clipsol.colormap = neg_outer.colormap\n",
    "    iso.clipping = clipping\n",
    "    scene = webgpu.jupyter.Draw([iso, clipsol, neg_outer, Colorbar(neg_outer.colormap)])\n",
    "    clipping.add_options_to_gui(scene.gui)\n",
    "    return scene\n",
    "\n",
    "scene = draw_iso(gf, x, mesh)"
   ]
  },
  {
   "cell_type": "code",
   "execution_count": null,
   "id": "7c5c359b-33b0-4518-a395-2d05fe7f51cd",
   "metadata": {},
   "outputs": [],
   "source": [
    "gf.Set(0.7**2 - (x**2 + y**2 + z**2))\n",
    "scene.redraw()"
   ]
  },
  {
   "cell_type": "markdown",
   "id": "4683a244-feaa-43bf-be62-827b4bc6cfaf",
   "metadata": {},
   "source": [
    "Animate time dependent data (or eigenvectors,...)"
   ]
  },
  {
   "cell_type": "code",
   "execution_count": null,
   "id": "2df30ea7-82b6-4114-ad0b-8078fda62c16",
   "metadata": {},
   "outputs": [],
   "source": [
    "import webgpu.jupyter as wj\n",
    "from ngsolve import *\n",
    "from ngsolve_webgpu.mesh import MeshData, PointNumbers\n",
    "from ngsolve_webgpu.cf import FunctionData, CFRenderer\n",
    "from ngsolve_webgpu.animate import Animation\n",
    "\n",
    "def draw(cf, mesh):\n",
    "    md = MeshData(mesh)\n",
    "    fd = FunctionData(md, cf, order=3)\n",
    "    cfr = CFRenderer(fd)\n",
    "    ani = Animation(cfr)\n",
    "    colormap = cfr.colormap\n",
    "    colormap.set_min_max(-1,1)\n",
    "    scene = wj.Draw([ani, Colorbar(colormap)])\n",
    "    ani.add_options_to_gui(scene.gui)\n",
    "    ani.add_time()\n",
    "    return scene, ani\n",
    "\n",
    "mesh = Mesh(unit_square.GenerateMesh(maxh=0.1))\n",
    "gf = GridFunction(H1(mesh, order=3))\n",
    "t = Parameter(0)\n",
    "f = sin(10*(x-0.1 * t))\n",
    "gf.Interpolate(f)\n",
    "scene, animation = draw(cos(10*(y-0.05*t))*gf*gf, mesh)"
   ]
  },
  {
   "cell_type": "code",
   "execution_count": null,
   "id": "1a4e59ce-b622-4bd0-8a0e-8135accd7545",
   "metadata": {},
   "outputs": [],
   "source": [
    "for tval in range(1, 101):\n",
    "    t.Set(tval)\n",
    "    gf.Interpolate(f)\n",
    "    store = tval % 10 == 0\n",
    "    if store:\n",
    "        animation.add_time()\n",
    "    scene.redraw(store)\n",
    "    "
   ]
  },
  {
   "cell_type": "markdown",
   "id": "d6f18d8d-cba7-4b07-af38-58d1f8c39091",
   "metadata": {},
   "source": [
    "3d volume elements (only tets for now)"
   ]
  },
  {
   "cell_type": "code",
   "execution_count": null,
   "id": "ae3e1b2f-4e17-4331-9d72-362494e5d2f2",
   "metadata": {},
   "outputs": [],
   "source": [
    "import webgpu.jupyter as wj\n",
    "from ngsolve import *\n",
    "\n",
    "def draw(mesh):\n",
    "    from ngsolve_webgpu.mesh import MeshData, MeshElements3d\n",
    "    data = MeshData(mesh)\n",
    "    render = MeshElements3d(data)\n",
    "    scene = wj.Draw(render)\n",
    "    render.add_options_to_gui(scene.gui)\n",
    "    render.clipping.add_options_to_gui(scene.gui)\n",
    "    return scene\n",
    "\n",
    "mesh = Mesh(unit_cube.GenerateMesh(maxh=0.2))\n",
    "draw(mesh)"
   ]
  },
  {
   "cell_type": "code",
   "execution_count": null,
   "id": "29317271-5ffc-42c3-9ff3-60ecdfa43e7b",
   "metadata": {},
   "outputs": [],
   "source": [
    "import webgpu.jupyter as wj\n",
    "from ngsolve import *\n",
    "\n",
    "\n",
    "def draw(mesh, cf, order=5):\n",
    "    from ngsolve_webgpu.mesh import MeshData\n",
    "    from ngsolve_webgpu.cf import FunctionData, CFRenderer\n",
    "    from ngsolve_webgpu.clipping import VolumeCF, ClippingCF\n",
    "    from webgpu.colormap import Colorbar\n",
    "    mesh_data = MeshData(mesh)\n",
    "    function_data = FunctionData(mesh_data, cf, order)\n",
    "    clip = ClippingCF(function_data)\n",
    "    colormap, clipping = clip.colormap, clip.clipping\n",
    "    cfr = CFRenderer(function_data)\n",
    "    clipping.mode = clipping.Mode.PLANE\n",
    "    cfr.clipping = clipping\n",
    "    cfr.colormap = colormap\n",
    "    colormap.set_min_max(0,1)\n",
    "    clipping.center = [0.7,0.5,0.5]\n",
    "    clipping.normal = [1,-1,1]\n",
    "    scene = wj.Draw([cfr, clip, Colorbar(colormap)])\n",
    "    clipping.add_options_to_gui(scene.gui)\n",
    "\n",
    "\n",
    "m = Mesh(unit_cube.GenerateMesh(maxh=0.2))\n",
    "draw(m, sin(10*z) * cos(15*x))\n",
    "    "
   ]
  },
  {
   "cell_type": "code",
   "execution_count": null,
   "id": "21ec8720-3354-4c42-9559-9ee6169b1d9f",
   "metadata": {},
   "outputs": [],
   "source": []
  },
  {
   "cell_type": "code",
   "execution_count": null,
   "id": "f6443956-12c6-4417-9643-fc4567b341c0",
   "metadata": {},
   "outputs": [],
   "source": []
  }
 ],
 "metadata": {
  "kernelspec": {
   "display_name": "Python 3 (ipykernel)",
   "language": "python",
   "name": "python3"
  },
  "language_info": {
   "codemirror_mode": {
    "name": "ipython",
    "version": 3
   },
   "file_extension": ".py",
   "mimetype": "text/x-python",
   "name": "python",
   "nbconvert_exporter": "python",
   "pygments_lexer": "ipython3",
   "version": "3.13.3"
  }
 },
 "nbformat": 4,
 "nbformat_minor": 5
}
