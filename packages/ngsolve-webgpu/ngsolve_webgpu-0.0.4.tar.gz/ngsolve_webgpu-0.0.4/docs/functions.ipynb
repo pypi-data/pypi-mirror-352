{
 "cells": [
  {
   "cell_type": "markdown",
   "id": "e67b76e6-46a8-4971-8a08-adfd410c64ad",
   "metadata": {},
   "source": [
    "## Draw functions manually\n",
    "\n",
    "Using `webgpu.jupyter.Draw` instead of `ngsolve_webgpu.jupyter.Draw`\n",
    "\n",
    "Rendering a function on a surface"
   ]
  },
  {
   "cell_type": "code",
   "execution_count": null,
   "id": "b29cc940-81c5-4843-9795-8ff66c008c43",
   "metadata": {},
   "outputs": [],
   "source": [
    "from netgen.occ import *\n",
    "from ngsolve import *\n",
    "\n",
    "from ngsolve_webgpu import *\n",
    "from webgpu.jupyter import Draw\n",
    "\n",
    "geo = OCCGeometry(Cylinder((0, 0.0, 0.0), X, r=0.3, h=0.5))\n",
    "mesh = Mesh(geo.GenerateMesh(maxh=6))\n",
    "mesh.Curve(5)\n",
    "\n",
    "cf = sin(20 * x)\n",
    "\n",
    "mesh_data = MeshData(mesh)\n",
    "function_data = FunctionData(mesh_data, cf, order=5)\n",
    "cfrenderer = CFRenderer(function_data)\n",
    "cfrenderer.colormap.set_min_max(-1, 1)\n",
    "Draw([cfrenderer, Colorbar(cfrenderer.colormap)])"
   ]
  },
  {
   "cell_type": "code",
   "execution_count": null,
   "id": "4cd6ef7a-4cab-4858-a39b-17c0d1debe30",
   "metadata": {},
   "outputs": [],
   "source": [
    "from ngsolve import *\n",
    "\n",
    "from webgpu.jupyter import Draw\n",
    "from ngsolve_webgpu import *\n",
    "\n",
    "mesh = Mesh(unit_cube.GenerateMesh(maxh=0.1))\n",
    "cf = sin(10 * z) * cos(15 * x)\n",
    "\n",
    "mesh_data = MeshData(mesh)\n",
    "function_data = FunctionData(mesh_data, cf, order=5)\n",
    "\n",
    "clip = ClippingCF(function_data)\n",
    "colormap, clipping = clip.colormap, clip.clipping\n",
    "cfr = CFRenderer(function_data, colormap=colormap, clipping=clipping)\n",
    "\n",
    "colormap.set_min_max(0, 1)\n",
    "clipping.mode = clipping.Mode.PLANE\n",
    "clipping.center = [0.7, 0.5, 0.5]\n",
    "clipping.normal = [1, -1, 1]\n",
    "scene = Draw([cfr, clip, Colorbar(colormap)])\n",
    "\n",
    "clipping.add_options_to_gui(scene.gui)"
   ]
  },
  {
   "cell_type": "code",
   "execution_count": null,
   "id": "8cea4e67-8bb6-4b10-8d13-696b0064cbef",
   "metadata": {},
   "outputs": [],
   "source": []
  }
 ],
 "metadata": {
  "kernelspec": {
   "display_name": "Python 3 (ipykernel)",
   "language": "python",
   "name": "python3"
  },
  "language_info": {
   "codemirror_mode": {
    "name": "ipython",
    "version": 3
   },
   "file_extension": ".py",
   "mimetype": "text/x-python",
   "name": "python",
   "nbconvert_exporter": "python",
   "pygments_lexer": "ipython3",
   "version": "3.13.3"
  }
 },
 "nbformat": 4,
 "nbformat_minor": 5
}
