{
 "cells": [
  {
   "cell_type": "code",
   "execution_count": null,
   "id": "a3c73c8a-52fd-452f-b56f-c598e94aa02a",
   "metadata": {},
   "outputs": [],
   "source": [
    "from ngsolve import *\n",
    "from ngsolve_webgpu.jupyter import Draw\n",
    "from IPython.display import display, clear_output\n",
    "import ipywidgets as widgets"
   ]
  },
  {
   "cell_type": "code",
   "execution_count": null,
   "id": "712999a6-eeee-458c-bcca-7c5dac88a017",
   "metadata": {},
   "outputs": [],
   "source": [
    "m = Mesh(unit_square.GenerateMesh(maxh=.1))\n",
    "#m = Mesh(unit_cube.GenerateMesh(maxh=.3))\n",
    "p = Parameter(10)\n",
    "cf=sin(p*x)*sin(10*y)\n",
    "w = widgets.IntSlider(\n",
    "    value=7,\n",
    "    min=1,\n",
    "    max=30,\n",
    "    step=1,\n",
    "    description='Test:',\n",
    "    orientation='horizontal',\n",
    "    continuous_update=True\n",
    ")\n",
    "output = widgets.Output()\n",
    "display(w)\n",
    "scene = Draw(cf, m, order=3)\n",
    "display(output)\n",
    "def on_value_change(change):\n",
    "    p.Set(change[\"new\"])\n",
    "    with output:\n",
    "        scene.redraw()\n",
    "        clear_output()\n",
    "w.observe(on_value_change, names=\"value\")"
   ]
  },
  {
   "cell_type": "code",
   "execution_count": null,
   "id": "73773e52-452c-4584-96c0-0a5d754f6c50",
   "metadata": {},
   "outputs": [],
   "source": [
    "#p.Set(20)\n",
    "#scene.redraw()"
   ]
  },
  {
   "cell_type": "code",
   "execution_count": null,
   "id": "85027cc6-446b-4552-a215-9774539c2008",
   "metadata": {},
   "outputs": [],
   "source": [
    "\n",
    "#scene.redraw()"
   ]
  },
  {
   "cell_type": "code",
   "execution_count": null,
   "id": "0abbebbe-d4f7-4aef-a8e3-fb8a67c4288f",
   "metadata": {},
   "outputs": [],
   "source": []
  }
 ],
 "metadata": {
  "kernelspec": {
   "display_name": "Python 3 (ipykernel)",
   "language": "python",
   "name": "python3"
  },
  "language_info": {
   "codemirror_mode": {
    "name": "ipython",
    "version": 3
   },
   "file_extension": ".py",
   "mimetype": "text/x-python",
   "name": "python",
   "nbconvert_exporter": "python",
   "pygments_lexer": "ipython3",
   "version": "3.13.1"
  }
 },
 "nbformat": 4,
 "nbformat_minor": 5
}
