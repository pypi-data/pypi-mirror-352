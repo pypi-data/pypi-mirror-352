{
 "cells": [
  {
   "cell_type": "markdown",
   "id": "1ebff684-7942-44f9-bb32-706483d5e227",
   "metadata": {},
   "source": [
    "# Mesh Visualization\n",
    "\n",
    "Here building blocks for mesh visualization are introduced."
   ]
  },
  {
   "cell_type": "markdown",
   "id": "dd611be7-6ad8-4aa9-a022-ad35cc6814db",
   "metadata": {},
   "source": [
    "## 2D Elements & Wireframe\n",
    "\n",
    "The `MeshData` object stores gpu-data of the mesh and makes it accessible to multiple renderers (surface/volume elements, wireframe data, coefficient function, ...)\n",
    "The mesh can be high order curved.\n"
   ]
  },
  {
   "cell_type": "code",
   "execution_count": null,
   "id": "cc50e9c2-06bd-4ffc-8c34-06a6b0e38a26",
   "metadata": {},
   "outputs": [],
   "source": [
    "from ngsolve import *\n",
    "from netgen.occ import *\n",
    "from ngsolve_webgpu import *\n",
    "from webgpu.jupyter import Draw\n",
    "\n",
    "sphere = Sphere((0, 0, 0), 1)\n",
    "geo = OCCGeometry(sphere)\n",
    "mesh = Mesh(geo.GenerateMesh(maxh=0.3))\n",
    "mesh.Curve(4)\n",
    "meshdata = MeshData(mesh)\n",
    "clipping = Clipping()\n",
    "surface_elements = MeshElements2d(meshdata, clipping=clipping)\n",
    "wireframe = MeshWireframe2d(meshdata, clipping=clipping)\n",
    "\n",
    "scene = Draw([surface_elements, wireframe])\n",
    "clipping.add_options_to_gui(scene.gui)"
   ]
  },
  {
   "cell_type": "markdown",
   "id": "9d295ae5-9b37-4b39-b1fb-c8e890313455",
   "metadata": {},
   "source": [
    "## 3D Elements\n",
    "\n",
    "The renderer for 3d elements automatically sets the mesh data to also write 3d volume element information to the GPU.\n",
    "When adding options from the volume renderer to the gui a slider for shrinking the elements is added."
   ]
  },
  {
   "cell_type": "code",
   "execution_count": null,
   "id": "2976de0f-56d4-4c08-b35b-20fe6d768ede",
   "metadata": {},
   "outputs": [],
   "source": [
    "from ngsolve import *\n",
    "from ngsolve_webgpu import *\n",
    "from webgpu.jupyter import Draw\n",
    "\n",
    "mesh = Mesh(unit_cube.GenerateMesh(maxh=0.2))\n",
    "meshdata = MeshData(mesh)\n",
    "clipping = Clipping()\n",
    "clipping.center = [0.5, 0.5, 0.5]\n",
    "# clipping.mode = clipping.Mode.PLANE # enables clipping\n",
    "volume_elements = MeshElements3d(meshdata, clipping=clipping)\n",
    "volume_elements.shrink = 0.8\n",
    "scene = Draw(volume_elements)\n",
    "volume_elements.add_options_to_gui(scene.gui)\n",
    "clipping.add_options_to_gui(scene.gui)"
   ]
  },
  {
   "cell_type": "markdown",
   "id": "464c3efb-9ea9-41ed-b557-ab11b54dd3d6",
   "metadata": {},
   "source": [
    "## Mesh Deformation\n",
    "\n",
    "we can deform the mesh with a function. Here we use `FunctionData`, similar to the `MeshData` before. It allows the function to be used by multiple renderer and even in multiple scenes with the data being only once on the GPU.\n",
    "The deformation data must be a 3 dim CF."
   ]
  },
  {
   "cell_type": "code",
   "execution_count": null,
   "id": "a89dfad8-1dfd-418d-98d1-bc5ff8f03519",
   "metadata": {},
   "outputs": [],
   "source": [
    "from ngsolve import *\n",
    "from ngsolve_webgpu import *\n",
    "from webgpu.jupyter import Draw\n",
    "\n",
    "deformation = CF((0, 0, 0.2 * sin(10 * x)))\n",
    "mesh = Mesh(unit_square.GenerateMesh(maxh=0.2))\n",
    "meshdata = MeshData(mesh)\n",
    "def_data = FunctionData(meshdata, deformation, order=5)\n",
    "meshdata.deformation_data = def_data\n",
    "surface_elements = MeshElements2d(meshdata)\n",
    "wireframe = MeshWireframe2d(meshdata)\n",
    "scene = Draw([surface_elements, wireframe])"
   ]
  },
  {
   "cell_type": "markdown",
   "id": "a7f5228f-44e3-4a44-a547-680a5462cdf0",
   "metadata": {},
   "source": [
    "## Point Numbers\n"
   ]
  },
  {
   "cell_type": "code",
   "execution_count": null,
   "id": "22271402-675f-4675-ace1-570c066502b4",
   "metadata": {},
   "outputs": [],
   "source": [
    "from ngsolve import *\n",
    "from ngsolve_webgpu import *\n",
    "from webgpu.jupyter import Draw\n",
    "\n",
    "mesh = Mesh(unit_square.GenerateMesh(maxh=0.2))\n",
    "meshdata = MeshData(mesh)\n",
    "point_numbers = PointNumbers(meshdata, font_size=15)\n",
    "wireframe = MeshWireframe2d(meshdata)\n",
    "scene = Draw([wireframe, point_numbers])"
   ]
  },
  {
   "cell_type": "code",
   "execution_count": null,
   "id": "8acfa10d-4f7c-491a-9fa2-cf7451284867",
   "metadata": {},
   "outputs": [],
   "source": []
  }
 ],
 "metadata": {
  "kernelspec": {
   "display_name": "Python 3 (ipykernel)",
   "language": "python",
   "name": "python3"
  },
  "language_info": {
   "codemirror_mode": {
    "name": "ipython",
    "version": 3
   },
   "file_extension": ".py",
   "mimetype": "text/x-python",
   "name": "python",
   "nbconvert_exporter": "python",
   "pygments_lexer": "ipython3",
   "version": "3.13.3"
  }
 },
 "nbformat": 4,
 "nbformat_minor": 5
}
