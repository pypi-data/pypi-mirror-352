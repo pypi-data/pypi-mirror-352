{
 "cells": [
  {
   "cell_type": "markdown",
   "id": "4c3e5a9b-49e9-4803-90c3-a376f5137b34",
   "metadata": {},
   "source": [
    "# The Draw Function (Quickstart)\n",
    "\n",
    "`ngsolve_webgpu.jupyter` provides a convenience `Draw` function that mimics behaviour of the webgui `Draw` function."
   ]
  },
  {
   "cell_type": "code",
   "execution_count": null,
   "id": "224fe29b-b997-4318-9393-92e3033492b1",
   "metadata": {},
   "outputs": [],
   "source": [
    "from ngsolve import *\n",
    "from ngsolve_webgpu.jupyter import Draw\n",
    "\n",
    "mesh = Mesh(unit_cube.GenerateMesh(maxh=0.2))\n",
    "Draw(mesh)"
   ]
  },
  {
   "cell_type": "code",
   "execution_count": null,
   "id": "ce344753-a4c3-4f9c-9d35-10148579fb43",
   "metadata": {},
   "outputs": [],
   "source": [
    "mesh = Mesh(unit_square.GenerateMesh(maxh=0.2))\n",
    "Draw(sin(10 * x), mesh)"
   ]
  },
  {
   "cell_type": "code",
   "execution_count": null,
   "id": "4d493576-10e7-4796-aca1-9f149d8efa3e",
   "metadata": {},
   "outputs": [],
   "source": [
    "mesh = Mesh(unit_square.GenerateMesh(maxh=0.2))\n",
    "deformation = CF((0, 0, 0.1 * cos(10 * y)))\n",
    "Draw(sin(10 * x), mesh, deformation=deformation, order=5)"
   ]
  }
 ],
 "metadata": {
  "kernelspec": {
   "display_name": "Python 3 (ipykernel)",
   "language": "python",
   "name": "python3"
  },
  "language_info": {
   "codemirror_mode": {
    "name": "ipython",
    "version": 3
   },
   "file_extension": ".py",
   "mimetype": "text/x-python",
   "name": "python",
   "nbconvert_exporter": "python",
   "pygments_lexer": "ipython3",
   "version": "3.13.3"
  }
 },
 "nbformat": 4,
 "nbformat_minor": 5
}
