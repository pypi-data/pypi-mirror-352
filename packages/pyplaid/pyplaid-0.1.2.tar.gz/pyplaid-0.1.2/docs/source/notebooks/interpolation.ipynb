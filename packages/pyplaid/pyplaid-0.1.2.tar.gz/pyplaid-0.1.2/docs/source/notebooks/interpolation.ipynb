{
 "cells": [
  {
   "cell_type": "markdown",
   "metadata": {},
   "source": [
    "# Interpolation Examples\n",
    "\n",
    "This Jupyter Notebook demonstrates the usage and functionality of interpolation functions in the PLAID library. It includes examples of:\n",
    "\n",
    "1. Piece-wise linear interpolation\n",
    "2. Piece-wise linear interpolation with mapping\n",
    "3. Vectorized interpolation with mapping\n",
    "4. Vectorized interpolation\n",
    "5. Binary Search\n",
    "\n",
    "This function provides comprehensive examples and tests for interpolation functions, including piece-wise linear interpolation, interpolation with mapping, vectorized interpolation, and binary search."
   ]
  },
  {
   "cell_type": "code",
   "execution_count": 2,
   "metadata": {},
   "outputs": [],
   "source": [
    "# Import required libraries\n",
    "import numpy as np"
   ]
  },
  {
   "cell_type": "code",
   "execution_count": 3,
   "metadata": {},
   "outputs": [],
   "source": [
    "# Import necessary libraries and functions\n",
    "from plaid.utils.interpolation import (\n",
    "    binary_search, binary_search_vectorized, piece_wise_linear_interpolation,\n",
    "    piece_wise_linear_interpolation_vectorized,\n",
    "    piece_wise_linear_interpolation_vectorized_with_map,\n",
    "    piece_wise_linear_interpolation_with_map)"
   ]
  },
  {
   "cell_type": "markdown",
   "metadata": {},
   "source": [
    "## Section 1: Piece-wise Linear Interpolation"
   ]
  },
  {
   "cell_type": "code",
   "execution_count": 4,
   "metadata": {},
   "outputs": [
    {
     "name": "stdout",
     "output_type": "stream",
     "text": [
      "time_indices = array([0. , 1. , 2.5])\n",
      "vectors = array([[1., 1., 1., 1., 1.],\n",
      "       [2., 2., 2., 2., 2.],\n",
      "       [3., 3., 3., 3., 3.]])\n"
     ]
    }
   ],
   "source": [
    "# Init example variables\n",
    "time_indices = np.array([0.0, 1.0, 2.5])\n",
    "vectors = np.array([np.ones(5), 2.0 * np.ones(5), 3.0 * np.ones(5)])\n",
    "\n",
    "print(f\"{time_indices = }\")\n",
    "print(f\"{vectors = }\")"
   ]
  },
  {
   "cell_type": "code",
   "execution_count": 5,
   "metadata": {},
   "outputs": [
    {
     "name": "stdout",
     "output_type": "stream",
     "text": [
      "result = array([1., 1., 1., 1., 1.])\n"
     ]
    }
   ],
   "source": [
    "# Test piece-wise linear interpolation for various inputs\n",
    "result = piece_wise_linear_interpolation(-1.0, time_indices, vectors)\n",
    "print(f\"{result = }\")\n",
    "\n",
    "np.testing.assert_almost_equal(result, [1., 1., 1., 1., 1.])"
   ]
  },
  {
   "cell_type": "code",
   "execution_count": 6,
   "metadata": {},
   "outputs": [
    {
     "name": "stdout",
     "output_type": "stream",
     "text": [
      "result = array([2., 2., 2., 2., 2.])\n"
     ]
    }
   ],
   "source": [
    "result = piece_wise_linear_interpolation(1.0, time_indices, vectors)\n",
    "print(f\"{result = }\")\n",
    "\n",
    "np.testing.assert_almost_equal(result, [2., 2., 2., 2., 2.])"
   ]
  },
  {
   "cell_type": "code",
   "execution_count": 7,
   "metadata": {},
   "outputs": [
    {
     "name": "stdout",
     "output_type": "stream",
     "text": [
      "result = array([1.4, 1.4, 1.4, 1.4, 1.4])\n"
     ]
    }
   ],
   "source": [
    "result = piece_wise_linear_interpolation(0.4, time_indices, vectors)\n",
    "print(f\"{result = }\")\n",
    "\n",
    "np.testing.assert_almost_equal(result, [1.4, 1.4, 1.4, 1.4, 1.4])"
   ]
  },
  {
   "cell_type": "markdown",
   "metadata": {},
   "source": [
    "## Section 2: Piece-wise Linear Interpolation with Mapping"
   ]
  },
  {
   "cell_type": "code",
   "execution_count": 8,
   "metadata": {},
   "outputs": [
    {
     "name": "stdout",
     "output_type": "stream",
     "text": [
      "vectors_map = ['vec1', 'vec2', 'vec1']\n",
      "vectors_dict = {'vec1': array([1., 1., 1., 1., 1.]), 'vec2': array([2., 2., 2., 2., 2.])}\n"
     ]
    }
   ],
   "source": [
    "# Init vectors variables\n",
    "vectors_map = [\"vec1\", \"vec2\", \"vec1\"]\n",
    "vectors_dict = {\n",
    "    \"vec1\": np.ones(5),\n",
    "    \"vec2\": 2.0 * np.ones(5)\n",
    "}\n",
    "\n",
    "print(f\"{vectors_map = }\")\n",
    "print(f\"{vectors_dict = }\")"
   ]
  },
  {
   "cell_type": "code",
   "execution_count": 9,
   "metadata": {},
   "outputs": [
    {
     "name": "stdout",
     "output_type": "stream",
     "text": [
      "result = array([1., 1., 1., 1., 1.])\n"
     ]
    }
   ],
   "source": [
    "# Test interpolation with mapping to named vectors\n",
    "result = piece_wise_linear_interpolation_with_map(\n",
    "    3.0, time_indices, vectors_dict, vectors_map)\n",
    "print(f\"{result = }\")\n",
    "\n",
    "np.testing.assert_almost_equal(result, [1., 1., 1., 1., 1.])"
   ]
  },
  {
   "cell_type": "code",
   "execution_count": 10,
   "metadata": {},
   "outputs": [
    {
     "name": "stdout",
     "output_type": "stream",
     "text": [
      "result = array([2., 2., 2., 2., 2.])\n"
     ]
    }
   ],
   "source": [
    "result = piece_wise_linear_interpolation_with_map(\n",
    "    1.0, time_indices, vectors_dict, vectors_map)\n",
    "print(f\"{result = }\")\n",
    "\n",
    "np.testing.assert_almost_equal(result, [2., 2., 2., 2., 2.])"
   ]
  },
  {
   "cell_type": "code",
   "execution_count": 11,
   "metadata": {},
   "outputs": [
    {
     "name": "stdout",
     "output_type": "stream",
     "text": [
      "result = array([1.6, 1.6, 1.6, 1.6, 1.6])\n"
     ]
    }
   ],
   "source": [
    "result = piece_wise_linear_interpolation_with_map(\n",
    "    0.6, time_indices, vectors_dict, vectors_map)\n",
    "print(f\"{result = }\")\n",
    "\n",
    "np.testing.assert_almost_equal(result, [1.6, 1.6, 1.6, 1.6, 1.6])"
   ]
  },
  {
   "cell_type": "markdown",
   "metadata": {},
   "source": [
    "## Section 3: Vectorized Interpolation with Mapping"
   ]
  },
  {
   "cell_type": "code",
   "execution_count": 12,
   "metadata": {},
   "outputs": [],
   "source": [
    "# Init input values\n",
    "input_values = np.array([-0.1, 2.0, 3.0])"
   ]
  },
  {
   "cell_type": "code",
   "execution_count": 13,
   "metadata": {},
   "outputs": [
    {
     "name": "stdout",
     "output_type": "stream",
     "text": [
      "result = [array([1., 1., 1., 1., 1.]), array([1.33333333, 1.33333333, 1.33333333, 1.33333333, 1.33333333]), array([1., 1., 1., 1., 1.])]\n"
     ]
    }
   ],
   "source": [
    "result = piece_wise_linear_interpolation_vectorized_with_map(\n",
    "    input_values, time_indices, vectors_dict, vectors_map)\n",
    "print(f\"{result = }\")\n",
    "\n",
    "expected_result = [\n",
    "    np.array([1., 1., 1., 1., 1.]),\n",
    "    np.array([1.33333333, 1.33333333, 1.33333333, 1.33333333, 1.33333333]),\n",
    "    np.array([1., 1., 1., 1., 1.])\n",
    "]\n",
    "\n",
    "np.testing.assert_almost_equal(result, expected_result)"
   ]
  },
  {
   "cell_type": "code",
   "execution_count": 14,
   "metadata": {},
   "outputs": [],
   "source": [
    "\"\"\"\n",
    "Checks the accuracy of a piecewise linear interpolation function\n",
    "by comparing its output for a set of input values to a set of precomputed\n",
    "expected values.\n",
    "\"\"\"\n",
    "\n",
    "time_indices = np.array([0., 100., 200., 300., 400., 500., 600., 700.,\n",
    "                         800., 900., 1000., 2000.])\n",
    "\n",
    "coefficients = np.array([2000000., 2200000., 2400000., 2000000., 2400000.,\n",
    "                            3000000., 2500000., 2400000., 2100000., 2800000.,\n",
    "                            4000000., 3000000.])\n",
    "\n",
    "vals = np.array([-10., 0., 100., 150., 200., 300., 400., 500., 600., 700.,\n",
    "                    800., 900., 1000., 3000., 701.4752695491923])\n",
    "\n",
    "res = np.array([2000000., 2000000., 2200000., 2300000., 2400000., 2000000.,\n",
    "                    2400000., 3000000., 2500000., 2400000., 2100000., 2800000.,\n",
    "                    4000000., 3000000., 2395574.19135242])\n",
    "\n",
    "for i in range(vals.shape[0]):\n",
    "    assert (\n",
    "        piece_wise_linear_interpolation(\n",
    "            vals[i],\n",
    "            time_indices,\n",
    "            coefficients) - res[i]) / res[i] < 1.e-10"
   ]
  },
  {
   "cell_type": "markdown",
   "metadata": {},
   "source": [
    "## Section 4: Vectorized Interpolation"
   ]
  },
  {
   "cell_type": "code",
   "execution_count": 15,
   "metadata": {},
   "outputs": [],
   "source": [
    "result = piece_wise_linear_interpolation_vectorized(\n",
    "        np.array(vals), time_indices, coefficients)\n",
    "\n",
    "expected_result = [2000000.0, 2000000.0, 2200000.0, 2300000.0, 2400000.0, 2000000.0,\n",
    "                   2400000.0, 3000000.0, 2500000.0, 2400000.0, 2100000.0, 2800000.0,\n",
    "                   4000000.0, 3000000.0, 2395574.1913524233]\n",
    "\n",
    "np.testing.assert_almost_equal(result, expected_result)"
   ]
  },
  {
   "cell_type": "markdown",
   "metadata": {},
   "source": [
    "## Section 5: Binary Search"
   ]
  },
  {
   "cell_type": "code",
   "execution_count": 16,
   "metadata": {},
   "outputs": [],
   "source": [
    "test_list = np.array([0.0, 1.0, 2.5, 10.])\n",
    "val_list = np.array([-1., 11., 0.6, 2.0, 2.6, 9.9, 1.0])\n",
    "\n",
    "# Apply binary search to find indices for given values within a reference list\n",
    "ref = np.array([0, 3, 0, 1, 2, 2, 1], dtype=int)\n",
    "result = binary_search_vectorized(test_list, val_list)\n",
    "\n",
    "for i, val in enumerate(val_list):\n",
    "    assert binary_search(test_list, val) == ref[i]\n",
    "    assert result[i] == ref[i]"
   ]
  }
 ],
 "metadata": {
  "kernelspec": {
   "display_name": "Python 3",
   "language": "python",
   "name": "python3"
  },
  "language_info": {
   "codemirror_mode": {
    "name": "ipython",
    "version": 3
   },
   "file_extension": ".py",
   "mimetype": "text/x-python",
   "name": "python",
   "nbconvert_exporter": "python",
   "pygments_lexer": "ipython3",
   "version": "3.11.5"
  }
 },
 "nbformat": 4,
 "nbformat_minor": 2
}
