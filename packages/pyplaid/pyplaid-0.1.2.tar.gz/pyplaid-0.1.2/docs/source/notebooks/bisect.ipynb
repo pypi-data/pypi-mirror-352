{
 "cells": [
  {
   "cell_type": "markdown",
   "metadata": {},
   "source": [
    "# Bisect Plot Examples\n",
    "\n",
    "## Introduction\n",
    "This notebook explains the use case of the `prepare_datasets`, and `plot_bisect` functions from the Plaid library. The function is used to generate bisect plots for different scenarios using file paths and PLAID objects.\n"
   ]
  },
  {
   "cell_type": "code",
   "execution_count": null,
   "metadata": {},
   "outputs": [],
   "source": [
    "# Importing Required Libraries\n",
    "import os\n",
    "from plaid.containers.dataset import Dataset\n",
    "from plaid.post.bisect import plot_bisect, prepare_datasets\n",
    "from plaid.problem_definition import ProblemDefinition"
   ]
  },
  {
   "cell_type": "code",
   "execution_count": null,
   "metadata": {},
   "outputs": [],
   "source": [
    "def get_project_root(path: str, index = 3) -> str:\n",
    "    \"\"\"Find the project root path\n",
    "\n",
    "    Args:\n",
    "        path (str): Current path of the notebook\n",
    "        index (int, optional): The number of parents to go back. Defaults to 3.\n",
    "\n",
    "    Returns:\n",
    "        str: The project root path\n",
    "    \"\"\"\n",
    "    if index == 0:\n",
    "        return path\n",
    "    return get_project_root(os.path.dirname(path), index - 1)\n",
    "\n",
    "# Setting up Directories\n",
    "current_directory = os.getcwd()\n",
    "dataset_directory = os.path.join(get_project_root(current_directory), \"tests\", \"post\")"
   ]
  },
  {
   "cell_type": "markdown",
   "metadata": {},
   "source": [
    "## Prepare Datasets for comparision\n",
    "\n",
    "Assuming you have reference and predicted datasets, and a problem definition, The `prepare_datasets` function is used to obtain output scalars for subsequent analysis.\n"
   ]
  },
  {
   "cell_type": "code",
   "execution_count": null,
   "metadata": {},
   "outputs": [],
   "source": [
    "# Load PLAID datasets and problem metadata objects\n",
    "ref_ds = Dataset(os.path.join(dataset_directory, \"dataset_ref\"))\n",
    "pred_ds = Dataset(os.path.join(dataset_directory, \"dataset_near_pred\"))\n",
    "problem = ProblemDefinition(os.path.join(dataset_directory, \"problem_definition\"))\n",
    "\n",
    "# Get output scalars from reference and prediction dataset\n",
    "ref_out_scalars, pred_out_scalars, out_scalars_names = \\\n",
    "prepare_datasets(\n",
    "    ref_ds,\n",
    "    pred_ds,\n",
    "    problem,\n",
    "    verbose=True)\n",
    "\n",
    "print(f\"{out_scalars_names = }\\n\")"
   ]
  },
  {
   "cell_type": "code",
   "execution_count": null,
   "metadata": {},
   "outputs": [],
   "source": [
    "# Get output scalar\n",
    "key = out_scalars_names[0]\n",
    "\n",
    "print(f\"KEY '{key}':\\n\")\n",
    "print(f\"ID{' ' * 5}--REF_out_scalars--{' ' * 7}--PRED_out_scalars--\")\n",
    "\n",
    "# Print output scalar values for both datasets\n",
    "index = 0\n",
    "for item1, item2 in zip(ref_out_scalars[key], pred_out_scalars[key]):\n",
    "    print(f\"{str(index).ljust(2)}  |  {str(item1).ljust(20)}  |   {str(item2).ljust(20)}\")\n",
    "    index += 1"
   ]
  },
  {
   "cell_type": "markdown",
   "metadata": {},
   "source": [
    "## Plotting with File Paths\n",
    "\n",
    "Here, we load the datasets and problem metadata from file paths and use the `plot_bisect` function to generate a bisect plot for a specific scalar, in this case, \"scalar_2.\""
   ]
  },
  {
   "cell_type": "code",
   "execution_count": null,
   "metadata": {},
   "outputs": [],
   "source": [
    "print(\"=== Plot with file paths ===\")\n",
    "\n",
    "# Load PLAID datasets and problem metadata from files\n",
    "ref_path = os.path.join(dataset_directory, \"dataset_ref\")\n",
    "pred_path = os.path.join(dataset_directory, \"dataset_pred\")\n",
    "problem_path = os.path.join(dataset_directory, \"problem_definition\")\n",
    "\n",
    "# Using file paths to generate bisect plot on scalar_2\n",
    "plot_bisect(\n",
    "    ref_path,\n",
    "    pred_path,\n",
    "    problem_path,\n",
    "    \"scalar_2\",\n",
    "    \"differ_bisect_plot\")"
   ]
  },
  {
   "cell_type": "markdown",
   "metadata": {},
   "source": [
    "## Plotting with PLAID \n",
    "\n",
    "In this section, we demonstrate how to use PLAID objects directly to generate a bisect plot. This can be advantageous when working with PLAID datasets in memory."
   ]
  },
  {
   "cell_type": "code",
   "execution_count": null,
   "metadata": {},
   "outputs": [],
   "source": [
    "print(\"=== Plot with PLAID objects ===\")\n",
    "\n",
    "# Load PLAID datasets and problem metadata objects\n",
    "ref_path = Dataset(os.path.join(dataset_directory, \"dataset_ref\"))\n",
    "pred_path = Dataset(os.path.join(dataset_directory, \"dataset_ref\"))\n",
    "problem_path = ProblemDefinition(os.path.join(dataset_directory, \"problem_definition\"))\n",
    "\n",
    "# Using PLAID objects to generate bisect plot on scalar_2\n",
    "plot_bisect(\n",
    "    ref_path,\n",
    "    pred_path,\n",
    "    problem_path,\n",
    "    \"scalar_2\",\n",
    "    \"equal_bisect_plot\")"
   ]
  },
  {
   "cell_type": "markdown",
   "metadata": {},
   "source": [
    "## Mixing with Scalar Index and Verbose\n",
    "\n",
    "In this final section, we showcase a mix of file paths and PLAID objects, incorporating a scalar index and enabling the verbose option when generating a bisect plot. This can provide more detailed information during the plotting process."
   ]
  },
  {
   "cell_type": "code",
   "execution_count": null,
   "metadata": {},
   "outputs": [],
   "source": [
    "print(\"=== Mix with scalar index and verbose ===\")\n",
    "\n",
    "# Mix\n",
    "ref_path = os.path.join(dataset_directory, \"dataset_ref\")\n",
    "pred_path = os.path.join(dataset_directory, \"dataset_near_pred\")\n",
    "problem_path = ProblemDefinition(os.path.join(dataset_directory, \"problem_definition\"))\n",
    "\n",
    "# Using scalar index and verbose option to generate bisect plot\n",
    "scalar_index = 0\n",
    "plot_bisect(\n",
    "    ref_path,\n",
    "    pred_path,\n",
    "    problem_path,\n",
    "    scalar_index,\n",
    "    \"converge_bisect_plot\",\n",
    "    verbose=True)"
   ]
  }
 ],
 "metadata": {
  "kernelspec": {
   "display_name": "Python 3",
   "language": "python",
   "name": "python3"
  },
  "language_info": {
   "codemirror_mode": {
    "name": "ipython",
    "version": 3
   },
   "file_extension": ".py",
   "mimetype": "text/x-python",
   "name": "python",
   "nbconvert_exporter": "python",
   "pygments_lexer": "ipython3",
   "version": "3.12.3"
  }
 },
 "nbformat": 4,
 "nbformat_minor": 2
}
