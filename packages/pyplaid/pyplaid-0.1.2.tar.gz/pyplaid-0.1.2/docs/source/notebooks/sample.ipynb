{
 "cells": [
  {
   "cell_type": "markdown",
   "metadata": {},
   "source": [
    "# Sample Examples\n",
    "\n",
    "This Jupyter Notebook demonstrates various operations and methods involving a sample data structure using the PLAID library. It includes examples of:\n",
    "\n",
    "1. Initializing an Empty Sample and Adding Data\n",
    "2. Accessing and Modifying Sample Data\n",
    "3. Set and Get default values\n",
    "4. Saving and Loading Samples\n",
    "\n",
    "This notebook provides detailed examples of using the Sample class to manage and manipulate sample data structures.\n",
    "\n",
    "**Each section is documented and explained.**"
   ]
  },
  {
   "cell_type": "code",
   "execution_count": null,
   "metadata": {},
   "outputs": [],
   "source": [
    "# Import required libraries\n",
    "import numpy as np\n",
    "import os"
   ]
  },
  {
   "cell_type": "code",
   "execution_count": null,
   "metadata": {},
   "outputs": [],
   "source": [
    "# Import necessary libraries and functions\n",
    "import CGNS.PAT.cgnskeywords as CGK\n",
    "from Muscat.Bridges.CGNSBridge import MeshToCGNS\n",
    "from Muscat.Containers import MeshCreationTools as MCT\n",
    "from plaid.containers.sample import Sample, show_cgns_tree\n"
   ]
  },
  {
   "cell_type": "code",
   "execution_count": null,
   "metadata": {},
   "outputs": [],
   "source": [
    "# Print Sample util\n",
    "def show_sample(sample: Sample):\n",
    "    print(f\"sample = {sample}\")\n",
    "    sample.show_tree()\n",
    "    print(f\"{sample.get_scalar_names() = }\")\n",
    "    print(f\"{sample.get_field_names() = }\")\n"
   ]
  },
  {
   "cell_type": "markdown",
   "metadata": {},
   "source": [
    "## Section 1: Initializing an Empty Sample and Adding Data\n",
    "\n",
    "This section demonstrates how to initialize an empty Sample and add scalars, time series data, and meshes / CGNS trees."
   ]
  },
  {
   "cell_type": "markdown",
   "metadata": {},
   "source": [
    "### Create and display CGNS tree from an unstructured mesh"
   ]
  },
  {
   "cell_type": "code",
   "execution_count": null,
   "metadata": {},
   "outputs": [],
   "source": [
    "# Input data\n",
    "points = np.array([\n",
    "    [0.0, 0.0],\n",
    "    [1.0, 0.0],\n",
    "    [1.0, 1.0],\n",
    "    [0.0, 1.0],\n",
    "    [0.5, 1.5],\n",
    "])\n",
    "\n",
    "triangles = np.array([\n",
    "    [0, 1, 2],\n",
    "    [0, 2, 3],\n",
    "    [2, 4, 3],\n",
    "])\n",
    "\n",
    "Mesh = MCT.CreateMeshOfTriangles(points, triangles)\n",
    "Mesh.nodeFields['test_node_field_1'] = np.random.randn(5)\n",
    "Mesh.elemFields['test_elem_field_1'] = np.random.randn(3)\n",
    "tree = MeshToCGNS(Mesh)\n",
    "\n",
    "# Display CGNS Tree\n",
    "show_cgns_tree(tree)\n"
   ]
  },
  {
   "cell_type": "markdown",
   "metadata": {},
   "source": [
    "### Initialize a new empty Sample and print it"
   ]
  },
  {
   "cell_type": "code",
   "execution_count": null,
   "metadata": {},
   "outputs": [],
   "source": [
    "# Initialize an empty Sample\n",
    "print(\"#---# Empty Sample\")\n",
    "sample = Sample()\n",
    "\n",
    "print(sample, end=\"\\n\\n\")\n",
    "show_sample(sample)\n"
   ]
  },
  {
   "cell_type": "markdown",
   "metadata": {},
   "source": [
    "### Add a scalars to a Sample"
   ]
  },
  {
   "cell_type": "code",
   "execution_count": null,
   "metadata": {},
   "outputs": [],
   "source": [
    "# Add a rotation scalar to this Sample\n",
    "sample.add_scalar('rotation', np.random.randn())\n",
    "\n",
    "show_sample(sample)\n"
   ]
  },
  {
   "cell_type": "code",
   "execution_count": null,
   "metadata": {},
   "outputs": [],
   "source": [
    "# Add a more scalars to this Sample\n",
    "sample.add_scalar('speed', np.random.randn())\n",
    "sample.add_scalar('other', np.random.randn())\n",
    "\n",
    "show_sample(sample)\n"
   ]
  },
  {
   "cell_type": "markdown",
   "metadata": {},
   "source": [
    "### Add time series to a Sample"
   ]
  },
  {
   "cell_type": "code",
   "execution_count": null,
   "metadata": {},
   "outputs": [],
   "source": [
    "# Add a time series named 'stuff'\n",
    "sample.add_time_series('stuff', np.arange(10), np.random.randn(10))\n",
    "\n",
    "# Add a time series named 'bluff'\n",
    "sample.add_time_series('bluff', np.arange(2, 6), np.random.randn(4))\n",
    "\n",
    "# As you can see it is not displayed when printing\n",
    "show_sample(sample)\n"
   ]
  },
  {
   "cell_type": "markdown",
   "metadata": {},
   "source": [
    "### Add a CGNS Tree to a Sample and display it"
   ]
  },
  {
   "cell_type": "code",
   "execution_count": null,
   "metadata": {},
   "outputs": [],
   "source": [
    "# Add the previously created CGNS tree to the sample\n",
    "sample.add_tree(tree)\n",
    "\n",
    "# Display the Sample CGNS tree\n",
    "sample.show_tree()\n"
   ]
  },
  {
   "cell_type": "markdown",
   "metadata": {},
   "source": [
    "### Set all meshes with their corresponding time step"
   ]
  },
  {
   "cell_type": "code",
   "execution_count": null,
   "metadata": {},
   "outputs": [],
   "source": [
    "# Init an empty Sample\n",
    "new_sample_mult_mesh = Sample()\n",
    "\n",
    "# All meshes with their corresponding time step\n",
    "meshes_dict = {\n",
    "    0. : tree,\n",
    "    0.5 : tree,\n",
    "    1. : tree\n",
    "    }\n",
    "\n",
    "# Set meshes in the Sample\n",
    "new_sample_mult_mesh.set_meshes(meshes_dict)\n",
    "\n",
    "print(f\"{new_sample_mult_mesh.get_all_mesh_times() = }\")"
   ]
  },
  {
   "cell_type": "markdown",
   "metadata": {},
   "source": [
    "### Link tree from another sample"
   ]
  },
  {
   "cell_type": "code",
   "execution_count": null,
   "metadata": {},
   "outputs": [],
   "source": [
    "path_linked_sample = os.path.join(os.getcwd(), \"dataset/samples/sample_000000000/meshes/mesh_000000000.cgns\")\n",
    "new_sample_mult_mesh.link_tree(path_linked_sample, linked_sample = sample, linked_time = 0., time=1.5)\n",
    "print(f\"{new_sample_mult_mesh.get_all_mesh_times() = }\")"
   ]
  },
  {
   "cell_type": "markdown",
   "metadata": {},
   "source": [
    "## Section 2: Accessing and Modifying Sample Data\n",
    "\n",
    "This section demonstrates how to access and modify base, zone, node, scalar, field and time series data within the Sample."
   ]
  },
  {
   "cell_type": "markdown",
   "metadata": {},
   "source": [
    "### Initialize CGNS tree base"
   ]
  },
  {
   "cell_type": "code",
   "execution_count": null,
   "metadata": {},
   "outputs": [],
   "source": [
    "# Initialize an new empty Sample\n",
    "print(\"#---# Empty Sample\")\n",
    "sample = Sample()\n",
    "print(sample, end=\"\\n\\n\")\n",
    "\n",
    "# Init CGNS tree base at time 0.\n",
    "sample.init_base(2, 3, 'SurfaceMesh', time=0.)\n",
    "\n",
    "show_sample(sample)\n"
   ]
  },
  {
   "cell_type": "markdown",
   "metadata": {},
   "source": [
    "### Initialize CGNS tree zone"
   ]
  },
  {
   "cell_type": "code",
   "execution_count": null,
   "metadata": {},
   "outputs": [],
   "source": [
    "# Init CGNS tree zone to a base at time 0.\n",
    "shape = np.array((len(points), len(triangles), 0))\n",
    "sample.init_zone(\n",
    "    shape,\n",
    "    zone_name='TestZoneName',\n",
    "    base_name='SurfaceMesh',\n",
    "    time=0.)\n",
    "\n",
    "show_sample(sample)\n"
   ]
  },
  {
   "cell_type": "markdown",
   "metadata": {},
   "source": [
    "### Set the coordinates of nodes for a specified base and zone"
   ]
  },
  {
   "cell_type": "code",
   "execution_count": null,
   "metadata": {},
   "outputs": [],
   "source": [
    "points = np.array([\n",
    "    [0.0, 0.0],\n",
    "    [1.0, 0.0],\n",
    "    [1.0, 1.0],\n",
    "    [0.0, 1.0],\n",
    "    [0.5, 1.5],\n",
    "])\n",
    "\n",
    "# Set the coordinates of nodes for a specified base and zone at a given time.\n",
    "# set_points == set_nodes == set_vertices\n",
    "sample.set_nodes(\n",
    "    points,\n",
    "    base_name='SurfaceMesh',\n",
    "    zone_name='TestZoneName',\n",
    "    time=0.)\n",
    "\n",
    "show_sample(sample)\n"
   ]
  },
  {
   "cell_type": "markdown",
   "metadata": {},
   "source": [
    "### Add a field to a specified zone in the grid"
   ]
  },
  {
   "cell_type": "code",
   "execution_count": null,
   "metadata": {},
   "outputs": [],
   "source": [
    "# Add a field to a specified zone\n",
    "sample.add_field(\n",
    "    'Pressure',\n",
    "    np.random.randn(\n",
    "        len(points)),\n",
    "    base_name='SurfaceMesh',\n",
    "    zone_name='TestZoneName',\n",
    "    time=0.)\n",
    "\n",
    "show_sample(sample)\n"
   ]
  },
  {
   "cell_type": "code",
   "execution_count": null,
   "metadata": {},
   "outputs": [],
   "source": [
    "# Add another field\n",
    "sample.add_field(\n",
    "    'Temperature',\n",
    "    np.random.randn(\n",
    "        len(points)),\n",
    "    base_name='SurfaceMesh',\n",
    "    zone_name='TestZoneName',\n",
    "    time=0.)\n",
    "\n",
    "show_sample(sample)\n"
   ]
  },
  {
   "cell_type": "markdown",
   "metadata": {},
   "source": [
    "### Access scalars data in Sample"
   ]
  },
  {
   "cell_type": "code",
   "execution_count": null,
   "metadata": {},
   "outputs": [],
   "source": [
    "# It will look for a default base if no base and zone are given\n",
    "print(f\"{sample.get_scalar_names() = }\")\n",
    "print(f\"{sample.get_scalar('omega') = }\")\n",
    "print(f\"{sample.get_scalar('rotation') = }\")\n"
   ]
  },
  {
   "cell_type": "markdown",
   "metadata": {},
   "source": [
    "### Access fields data in Sample"
   ]
  },
  {
   "cell_type": "code",
   "execution_count": null,
   "metadata": {},
   "outputs": [],
   "source": [
    "# It will look for a default base if no base and zone are given\n",
    "print(f\"{sample.get_field_names() = }\")\n",
    "print(f\"{sample.get_field('T') = }\")\n",
    "print(f\"{sample.get_field('Temperature') = }\")\n"
   ]
  },
  {
   "cell_type": "markdown",
   "metadata": {},
   "source": [
    "### Access time series data in Sample"
   ]
  },
  {
   "cell_type": "code",
   "execution_count": null,
   "metadata": {},
   "outputs": [],
   "source": [
    "# It will look for a default base if no base and zone are given\n",
    "sample.add_time_series('stuff', np.arange(10), np.random.randn(10))\n",
    "\n",
    "print(f\"{sample.get_time_series_names() = }\")\n",
    "print(f\"{sample.get_time_series('S') = }\")\n",
    "print(f\"{sample.get_time_series('stuff') = }\")\n"
   ]
  },
  {
   "cell_type": "markdown",
   "metadata": {},
   "source": [
    "### Access to points coordinates"
   ]
  },
  {
   "cell_type": "code",
   "execution_count": null,
   "metadata": {},
   "outputs": [],
   "source": [
    "# It will look for a default base if no base and zone are given\n",
    "print(f\"{sample.get_nodes() = }\")\n",
    "print(f\"{sample.get_points() = }\") # same as get_nodes\n",
    "print(f\"{sample.get_vertices() = }\") # same as get_nodes\n"
   ]
  },
  {
   "cell_type": "markdown",
   "metadata": {},
   "source": [
    "### Retrieve element connectivity data"
   ]
  },
  {
   "cell_type": "code",
   "execution_count": null,
   "metadata": {},
   "outputs": [],
   "source": [
    "# Create an empty Sample\n",
    "tmp_sample = Sample()\n",
    "\n",
    "# Add the previously created CGNS tree in the Sample\n",
    "tmp_sample.add_tree(tree)\n",
    "\n",
    "print(\"element connectivity = \\n\", f\"{tmp_sample.get_elements()}\")\n"
   ]
  },
  {
   "cell_type": "markdown",
   "metadata": {},
   "source": [
    "### Access the available base of the CGNS tree"
   ]
  },
  {
   "cell_type": "code",
   "execution_count": null,
   "metadata": {},
   "outputs": [],
   "source": [
    "# Get base names\n",
    "bases_names = sample.get_base_names()\n",
    "# Get full base path\n",
    "full_bases_names = sample.get_base_names(full_path=True)\n",
    "\n",
    "print(f\"{bases_names=}\")\n",
    "print(f\"{full_bases_names=}\")\n"
   ]
  },
  {
   "cell_type": "code",
   "execution_count": null,
   "metadata": {},
   "outputs": [],
   "source": [
    "# Get the first base name\n",
    "base_name = sample.get_base_names()[0]\n",
    "# Get base node\n",
    "base_node_content = sample.get_base(base_name)\n",
    "\n",
    "print(f\"{base_node_content = }\")\n"
   ]
  },
  {
   "cell_type": "markdown",
   "metadata": {},
   "source": [
    "### Check if a base exists in a Sample"
   ]
  },
  {
   "cell_type": "code",
   "execution_count": null,
   "metadata": {},
   "outputs": [],
   "source": [
    "# Get the first base name\n",
    "base_name = sample.get_base_names()[0]\n",
    "\n",
    "print(f\"{sample.has_base(base_name) = }\")\n",
    "print(f\"{sample.has_base('unknown_base_name') = }\")\n"
   ]
  },
  {
   "cell_type": "markdown",
   "metadata": {},
   "source": [
    "### Access the available zone from a CGNS tree base"
   ]
  },
  {
   "cell_type": "code",
   "execution_count": null,
   "metadata": {},
   "outputs": [],
   "source": [
    "# Get the first base name\n",
    "base_name = sample.get_base_names()[0]\n",
    "\n",
    "# Get zones associated with the first base\n",
    "zones_names = sample.get_zone_names(base_name)\n",
    "# Get full path of zones associated with the first base\n",
    "full_zones_names = sample.get_zone_names(base_name, full_path=True)\n",
    "\n",
    "print(f\" - Base : {base_name}\")\n",
    "print(f\"    - Zone(s): {zones_names}\")\n",
    "print(f\"    - Zone(s) full path: {full_zones_names}\")\n"
   ]
  },
  {
   "cell_type": "code",
   "execution_count": null,
   "metadata": {},
   "outputs": [],
   "source": [
    "# Get the first zone name from a base name\n",
    "zone_name = zones_names[0]\n",
    "# Get base node\n",
    "zone_node_content = sample.get_zone(zone_name, base_name)\n",
    "\n",
    "print(f\"{zone_node_content = }\")\n"
   ]
  },
  {
   "cell_type": "markdown",
   "metadata": {},
   "source": [
    "### Get the zone type "
   ]
  },
  {
   "cell_type": "code",
   "execution_count": null,
   "metadata": {},
   "outputs": [],
   "source": [
    "# Get the first zone name from a base name\n",
    "zone_name = zones_names[0]\n",
    "z_type = sample.get_zone_type(zone_name, base_name)\n",
    "\n",
    "print(f\"zone type = {z_type}\")\n"
   ]
  },
  {
   "cell_type": "markdown",
   "metadata": {},
   "source": [
    "### Check if a zone exists in a Sample"
   ]
  },
  {
   "cell_type": "code",
   "execution_count": null,
   "metadata": {},
   "outputs": [],
   "source": [
    "# Get the first zone name from a base name\n",
    "zone_name = zones_names[0]\n",
    "\n",
    "print(f\"{sample.has_zone(zone_name, base_name) = }\")\n",
    "print(f\"{sample.has_zone('unknown_zone_name', base_name) = }\")\n"
   ]
  },
  {
   "cell_type": "markdown",
   "metadata": {},
   "source": [
    "### Get mesh from sample"
   ]
  },
  {
   "cell_type": "code",
   "execution_count": null,
   "metadata": {},
   "outputs": [],
   "source": [
    "sample_mesh = sample.get_mesh()\n",
    "print(sample_mesh)\n"
   ]
  },
  {
   "cell_type": "markdown",
   "metadata": {},
   "source": [
    "### Get all mesh time available in Sample"
   ]
  },
  {
   "cell_type": "code",
   "execution_count": null,
   "metadata": {},
   "outputs": [],
   "source": [
    "# Before adding new tree\n",
    "print(f\"{sample.get_all_mesh_times() = }\")\n",
    "\n",
    "# Add one CGNS tree at time 1.\n",
    "sample.add_tree(tree, 1.)\n",
    "\n",
    "# After adding new tree\n",
    "print(f\"{sample.get_all_mesh_times() = }\")\n"
   ]
  },
  {
   "cell_type": "markdown",
   "metadata": {},
   "source": [
    "### Creating a Sample Hierarchy with bases, zones, and associated data."
   ]
  },
  {
   "cell_type": "code",
   "execution_count": null,
   "metadata": {},
   "outputs": [],
   "source": [
    "bases_names = sample.get_base_names()\n",
    "full_bases_names = sample.get_base_names(full_path=True)\n",
    "print(f\"{bases_names = }\")\n",
    "print(f\"{full_bases_names = }\", end=\"\\n\\n\")\n",
    "\n",
    "for b_name in bases_names:\n",
    "    zones_names = sample.get_zone_names(b_name)\n",
    "    full_zones_names = sample.get_zone_names(b_name, full_path=True)\n",
    "    print(f\" - Base : {b_name}\")\n",
    "    for z_name, f_z_name in zip(zones_names, full_zones_names):\n",
    "        print(\n",
    "            f\"    - {z_name} -> type: {sample.get_zone_type(z_name, b_name)} | full: {f_z_name}\")\n"
   ]
  },
  {
   "cell_type": "markdown",
   "metadata": {},
   "source": [
    "## Section 3: Set and Get default values\n",
    "\n",
    "This section demonstrates how to use default CGNS values in a Sample."
   ]
  },
  {
   "cell_type": "markdown",
   "metadata": {},
   "source": [
    "### Set and use default time in a Sample"
   ]
  },
  {
   "cell_type": "code",
   "execution_count": null,
   "metadata": {},
   "outputs": [],
   "source": [
    "# Without a provided default time, it searches the first time available in all mesh times\n",
    "print(f\"{sample.get_all_mesh_times() = }\")\n",
    "print(f\"{sample.get_time_assignment() = }\", end=\"\\n\\n\")\n",
    "\n",
    "# Set default time\n",
    "sample.set_default_time(1.0)\n",
    "# Now that default time has been assigned, there's no need to specify it in function calls.\n",
    "print(f\"{sample.get_time_assignment() = }\", end=\"\\n\\n\")\n",
    "\n",
    "# Print the tree at time 1.0\n",
    "sample.show_tree() # == sample.show_tree(1.0)\n"
   ]
  },
  {
   "cell_type": "code",
   "execution_count": null,
   "metadata": {},
   "outputs": [],
   "source": [
    "# If time is specified as an argument in a function, it takes precedence over the default time.\n",
    "sample.show_tree(0.0) # Print the tree at time 0.0 even if default time is 1.0\n"
   ]
  },
  {
   "cell_type": "markdown",
   "metadata": {},
   "source": [
    "### Set and use default base and time in a Sample"
   ]
  },
  {
   "cell_type": "code",
   "execution_count": null,
   "metadata": {},
   "outputs": [],
   "source": [
    "# Reset default time\n",
    "sample._defaults[\"active_time\"] = None\n",
    "\n",
    "# Without a provided default time, it searches the first time available in all mesh times\n",
    "print(f\"{sample.get_time_assignment() = }\", end=\"\\n\\n\")\n",
    "\n",
    "# Create new bases\n",
    "sample.init_base(1, 1, 'new_base', 0.0)\n",
    "print(f\"{sample.get_topological_dim('new_base', 0.0) = }\")\n",
    "print(f\"{sample.get_physical_dim('new_base', 0.0) = }\")\n"
   ]
  },
  {
   "cell_type": "code",
   "execution_count": null,
   "metadata": {},
   "outputs": [],
   "source": [
    "# Attempting to get a base when the default base is not set, and there are multiple bases available.\n",
    "print(f\"{sample.get_base_names() = }\", end=\"\\n\\n\")\n",
    "try:\n",
    "    sample.get_base_assignment()\n",
    "except KeyError as e:\n",
    "    print(str(e))\n"
   ]
  },
  {
   "cell_type": "code",
   "execution_count": null,
   "metadata": {},
   "outputs": [],
   "source": [
    "# Set default base and time\n",
    "sample.set_default_base('SurfaceMesh', 0.0)\n",
    "\n",
    "# Now that default base and time have been assigned, it is no longer necessary to specify them in function calls.\n",
    "print(f\"{sample.get_time_assignment() = }\")\n",
    "print(f\"{sample.get_base_assignment() = }\", end=\"\\n\\n\")\n",
    "\n",
    "# Print the topological and physical dim for the default base == 'SurfaceMesh'\n",
    "print(f\"{sample.get_topological_dim() = }\")\n",
    "print(f\"{sample.get_physical_dim() = }\")\n"
   ]
  },
  {
   "cell_type": "code",
   "execution_count": null,
   "metadata": {},
   "outputs": [],
   "source": [
    "# If base is specified as an argument in a function, it takes precedence over the default base.\n",
    "print(f\"{sample.get_physical_dim('new_base') = }\") # Print the 'new_base' physical dim instead of the default base physical dim\n"
   ]
  },
  {
   "cell_type": "markdown",
   "metadata": {},
   "source": [
    "### Set and use default base, zone and time in a Sample"
   ]
  },
  {
   "cell_type": "code",
   "execution_count": null,
   "metadata": {},
   "outputs": [],
   "source": [
    "# Reset default base and time\n",
    "sample._defaults[\"active_time\"] = None\n",
    "sample._defaults[\"active_base\"] = None\n",
    "\n",
    "# Without a provided default time, it searches the first time available in all mesh times\n",
    "print(f\"{sample.get_time_assignment() = }\", end=\"\\n\\n\")\n",
    "\n",
    "# Create a new zone in 'SurfaceMesh' base\n",
    "sample.init_zone(zone_shape=np.array([5, 3, 0]), zone_type=CGK.Structured_s, zone_name='new_zone', base_name='SurfaceMesh')\n",
    "print(f\"{sample.get_zone_type('TestZoneName', 'SurfaceMesh') = }\")\n",
    "print(f\"{sample.get_zone_type('new_zone', 'SurfaceMesh') = }\")\n"
   ]
  },
  {
   "cell_type": "code",
   "execution_count": null,
   "metadata": {},
   "outputs": [],
   "source": [
    "# Set default base\n",
    "sample.set_default_base('SurfaceMesh')\n",
    "\n",
    "# Attempting to get a zone when the default zone is not set, and there are multiple zones available in the default base.\n",
    "print(f\"{sample.get_zone_names() = }\", end=\"\\n\\n\")\n",
    "try:\n",
    "    sample.get_zone_assignment()\n",
    "except KeyError as e:\n",
    "    print(str(e))\n"
   ]
  },
  {
   "cell_type": "code",
   "execution_count": null,
   "metadata": {},
   "outputs": [],
   "source": [
    "# Reset default base and time\n",
    "sample._defaults[\"active_time\"] = None\n",
    "sample._defaults[\"active_base\"] = None\n",
    "\n",
    "# Set default base, zone and time\n",
    "sample.set_default_zone_base('TestZoneName', 'SurfaceMesh', 0.0)\n",
    "\n",
    "# Now that default base, zone and time have been assigned, it is no longer necessary to specify them in function calls.\n",
    "print(f\"{sample.get_time_assignment() = }\")\n",
    "print(f\"{sample.get_base_assignment() = }\")\n",
    "print(f\"{sample.get_zone_assignment() = }\", end=\"\\n\\n\")\n",
    "\n",
    "# Print the type of the default zone (from the default base)\n",
    "print(f\"{sample.get_zone_type() = }\")\n",
    "\n",
    "# Print the default zone content (from the default base)\n",
    "print(f\"{sample.get_zone() = }\")\n"
   ]
  },
  {
   "cell_type": "code",
   "execution_count": null,
   "metadata": {},
   "outputs": [],
   "source": [
    "# If zone is specified as an argument in a function, it takes precedence over the default zone.\n",
    "print(f\"{sample.get_zone_type('new_zone') = }\") # Print the 'new_zone' type instead of the default zone type\n"
   ]
  },
  {
   "cell_type": "markdown",
   "metadata": {},
   "source": [
    "### More information on how default values work"
   ]
  },
  {
   "cell_type": "markdown",
   "metadata": {},
   "source": [
    "![Alt text](../images/default_value_selection.png \"default values flowchart\")"
   ]
  },
  {
   "cell_type": "markdown",
   "metadata": {},
   "source": [
    "## Section 4: Saving and Loading Sample\n",
    "\n",
    "This section demonstrates how to save and load a Sample from a directory."
   ]
  },
  {
   "cell_type": "markdown",
   "metadata": {},
   "source": [
    "### Save Sample to as a file tree"
   ]
  },
  {
   "cell_type": "code",
   "execution_count": null,
   "metadata": {},
   "outputs": [],
   "source": [
    "test_pth = f'/tmp/test_safe_to_delete_{np.random.randint(1e10, 1e12)}'\n",
    "os.makedirs(test_pth)\n",
    "\n",
    "sample_save_fname = os.path.join(test_pth, 'test')\n",
    "print(f\"saving path: {sample_save_fname}\")\n",
    "\n",
    "sample.save(sample_save_fname)\n"
   ]
  },
  {
   "cell_type": "markdown",
   "metadata": {},
   "source": [
    "### Load a Sample from a directory via initialization"
   ]
  },
  {
   "cell_type": "code",
   "execution_count": null,
   "metadata": {},
   "outputs": [],
   "source": [
    "new_sample = Sample(sample_save_fname)\n",
    "\n",
    "show_sample(new_sample)\n"
   ]
  },
  {
   "cell_type": "markdown",
   "metadata": {},
   "source": [
    "### Load a Sample from a directory via the Sample class"
   ]
  },
  {
   "cell_type": "code",
   "execution_count": null,
   "metadata": {},
   "outputs": [],
   "source": [
    "new_sample_2 = Sample.load_from_dir(os.path.join(test_pth, 'test'))\n",
    "\n",
    "show_sample(new_sample)\n"
   ]
  },
  {
   "cell_type": "markdown",
   "metadata": {},
   "source": [
    "### Load the Sample from a directory via a Sample instance"
   ]
  },
  {
   "cell_type": "code",
   "execution_count": null,
   "metadata": {},
   "outputs": [],
   "source": [
    "new_sample = Sample()\n",
    "new_sample.load(sample_save_fname)\n",
    "\n",
    "show_sample(new_sample)\n"
   ]
  }
 ],
 "metadata": {
  "kernelspec": {
   "display_name": "Python 3",
   "language": "python",
   "name": "python3"
  },
  "language_info": {
   "codemirror_mode": {
    "name": "ipython",
    "version": 3
   },
   "file_extension": ".py",
   "mimetype": "text/x-python",
   "name": "python",
   "nbconvert_exporter": "python",
   "pygments_lexer": "ipython3",
   "version": "3.11.6"
  }
 },
 "nbformat": 4,
 "nbformat_minor": 2
}
