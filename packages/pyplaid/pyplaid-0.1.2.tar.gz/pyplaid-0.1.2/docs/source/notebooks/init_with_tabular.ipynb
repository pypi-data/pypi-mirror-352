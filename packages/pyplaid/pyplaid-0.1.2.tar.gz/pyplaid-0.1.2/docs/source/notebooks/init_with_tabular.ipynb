{
 "cells": [
  {
   "cell_type": "markdown",
   "metadata": {},
   "source": [
    "# Initializing a Dataset with Tabular Data\n",
    "\n",
    "1. Initializing a Dataset with Tabular Data:\n",
    "- Generate random tabular data for multiple scalars.\n",
    "- Initialize a dataset with the tabular data.\n",
    "\n",
    "2. Accessing and Manipulating Data in the Dataset:\n",
    "- Retrieve and print the dataset and specific samples.\n",
    "- Access and display the value of a particular scalar within a sample.\n",
    "- Retrieve tabular data from the dataset based on scalar names.\n",
    "\n",
    "This example demonstrates how to initialize a dataset with tabular data, access specific samples, retrieve scalar values, and extract tabular data based on scalar names."
   ]
  },
  {
   "cell_type": "code",
   "execution_count": 2,
   "metadata": {},
   "outputs": [],
   "source": [
    "# Import required libraries\n",
    "import numpy as np"
   ]
  },
  {
   "cell_type": "code",
   "execution_count": 3,
   "metadata": {},
   "outputs": [],
   "source": [
    "# Import necessary libraries and functions\n",
    "from plaid.utils.init_with_tabular import initialize_dataset_with_tabular_data"
   ]
  },
  {
   "cell_type": "code",
   "execution_count": 4,
   "metadata": {},
   "outputs": [],
   "source": [
    "# Print dict util\n",
    "def dprint(name: str, dictio: dict):\n",
    "    print(name, '{')\n",
    "    for key, value in dictio.items():\n",
    "\t    print(\"    \", key, ':', value)\n",
    "\n",
    "    print('}')"
   ]
  },
  {
   "cell_type": "markdown",
   "metadata": {},
   "source": [
    "## Section 1: Initializing a Dataset with Tabular Data"
   ]
  },
  {
   "cell_type": "code",
   "execution_count": 5,
   "metadata": {},
   "outputs": [
    {
     "name": "stdout",
     "output_type": "stream",
     "text": [
      "tabular_data {\n",
      "     scalar_0 : [-0.19303611 -0.18965825  0.12534278  0.16366327 -1.06532803  0.16960836\n",
      " -0.50639747  0.35251503  1.61444411  0.20107186]\n",
      "     scalar_1 : [-0.38257908 -0.82167722  1.23050277  1.17466345  1.22704241 -0.17093516\n",
      "  0.30285162 -0.8562849  -1.27164055  0.34865076]\n",
      "     scalar_2 : [ 2.26466948  0.77352161  1.82261031  0.08872893  0.39298522 -0.88340464\n",
      " -0.29684834  0.48175612 -1.86906676 -0.87729029]\n",
      "     scalar_3 : [ 0.21884728 -0.7854321  -1.41677387 -0.89415003 -0.59955508 -0.65567448\n",
      " -0.98137585 -1.15201304 -1.28867388 -0.33766666]\n",
      "     scalar_4 : [ 0.76753223  0.14741383  1.08377073  0.15641287 -0.69648491  0.0851449\n",
      " -0.64294282  2.56287175  0.52314472 -1.41328651]\n",
      "     scalar_5 : [ 1.13479088 -0.65772577  0.71878731 -0.33928161  0.45507802 -0.16504924\n",
      " -1.05053809 -0.23645522 -2.18759612  1.12057703]\n",
      "     scalar_6 : [-0.94867932 -0.61500724 -1.61546653  2.35936912 -0.20271597 -1.67890531\n",
      "  0.45858461  1.73382506  0.71469664 -0.84691252]\n",
      "}\n"
     ]
    }
   ],
   "source": [
    "# Generate random tabular data for multiple scalars\n",
    "nb_scalars = 7\n",
    "nb_samples = 10\n",
    "names = [f\"scalar_{j}\" for j in range(nb_scalars)]\n",
    "\n",
    "tabular_data = {}\n",
    "for name in names:\n",
    "    tabular_data[name] = np.random.randn(nb_samples)\n",
    "\n",
    "dprint(\"tabular_data\", tabular_data)"
   ]
  },
  {
   "cell_type": "code",
   "execution_count": 6,
   "metadata": {},
   "outputs": [
    {
     "name": "stdout",
     "output_type": "stream",
     "text": [
      "Initialized Dataset:  Dataset(10 samples, 7 scalars, 0 fields)\n"
     ]
    }
   ],
   "source": [
    "# Initialize a dataset with the tabular data\n",
    "dataset = initialize_dataset_with_tabular_data(tabular_data)\n",
    "print(\"Initialized Dataset: \", dataset)"
   ]
  },
  {
   "cell_type": "markdown",
   "metadata": {},
   "source": [
    "## Section 2: Accessing and Manipulating Data in the Dataset"
   ]
  },
  {
   "cell_type": "code",
   "execution_count": 7,
   "metadata": {},
   "outputs": [
    {
     "name": "stdout",
     "output_type": "stream",
     "text": [
      "sample_1 = Sample(7 scalars, 0 timestamps, 0 fields, no tree)\n"
     ]
    }
   ],
   "source": [
    "# Retrieve and print the dataset and specific samples\n",
    "sample_1 = dataset[1]\n",
    "print(f\"{sample_1 = }\")\n"
   ]
  },
  {
   "cell_type": "code",
   "execution_count": 8,
   "metadata": {},
   "outputs": [
    {
     "name": "stdout",
     "output_type": "stream",
     "text": [
      "Scalar 'scalar_0' in Sample 1: -0.1896582515164902\n"
     ]
    }
   ],
   "source": [
    "# Access and display the value of a particular scalar within a sample\n",
    "scalar_value = sample_1.get_scalar(\"scalar_0\")\n",
    "print(\"Scalar 'scalar_0' in Sample 1:\", scalar_value)"
   ]
  },
  {
   "cell_type": "code",
   "execution_count": 9,
   "metadata": {},
   "outputs": [
    {
     "name": "stdout",
     "output_type": "stream",
     "text": [
      "Tabular Data Subset for Scalars 1, 3, and 5:\n",
      "tabular_data_subset {\n",
      "     scalar_1 : [-0.38257908 -0.82167722  1.23050277  1.17466345  1.22704241 -0.17093516\n",
      "  0.30285162 -0.8562849  -1.27164055  0.34865076]\n",
      "     scalar_3 : [ 0.21884728 -0.7854321  -1.41677387 -0.89415003 -0.59955508 -0.65567448\n",
      " -0.98137585 -1.15201304 -1.28867388 -0.33766666]\n",
      "     scalar_5 : [ 1.13479088 -0.65772577  0.71878731 -0.33928161  0.45507802 -0.16504924\n",
      " -1.05053809 -0.23645522 -2.18759612  1.12057703]\n",
      "}\n"
     ]
    }
   ],
   "source": [
    "# Retrieve tabular data from the dataset based on scalar names\n",
    "scalar_names = [\"scalar_1\", \"scalar_3\", \"scalar_5\"]\n",
    "tabular_data_subset = dataset.get_scalars_to_tabular(scalar_names)\n",
    "print(\"Tabular Data Subset for Scalars 1, 3, and 5:\")\n",
    "dprint(\"tabular_data_subset\", tabular_data_subset)"
   ]
  }
 ],
 "metadata": {
  "kernelspec": {
   "display_name": "Python 3",
   "language": "python",
   "name": "python3"
  },
  "language_info": {
   "codemirror_mode": {
    "name": "ipython",
    "version": 3
   },
   "file_extension": ".py",
   "mimetype": "text/x-python",
   "name": "python",
   "nbconvert_exporter": "python",
   "pygments_lexer": "ipython3",
   "version": "3.11.5"
  }
 },
 "nbformat": 4,
 "nbformat_minor": 2
}
