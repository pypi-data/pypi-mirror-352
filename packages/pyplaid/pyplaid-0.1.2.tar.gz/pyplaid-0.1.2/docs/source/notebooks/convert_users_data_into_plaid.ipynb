{
 "cells": [
  {
   "cell_type": "markdown",
   "metadata": {},
   "source": [
    "# Example of converting user data into PLAID\n",
    "\n",
    "This code provides an example for converting user data into the PLAID (Physics Informed AI Datamodel) format."
   ]
  },
  {
   "cell_type": "code",
   "execution_count": null,
   "metadata": {},
   "outputs": [],
   "source": [
    "import numpy as np\n",
    "import matplotlib.pyplot as plt\n",
    "\n",
    "from Muscat.Bridges.CGNSBridge import MeshToCGNS\n",
    "from Muscat.Containers import MeshCreationTools as MCT\n",
    "from plaid.containers.dataset import Dataset\n",
    "from plaid.containers.sample import Sample"
   ]
  },
  {
   "cell_type": "markdown",
   "metadata": {},
   "source": [
    "## Construction stages\n",
    "\n",
    "![Alt text](../images/to_plaid.png \"construction stages\")"
   ]
  },
  {
   "cell_type": "markdown",
   "metadata": {},
   "source": [
    "## Define a 3D Mesh\n",
    "\n",
    "Define nodes and triangles to create a 3D mesh."
   ]
  },
  {
   "cell_type": "code",
   "execution_count": null,
   "metadata": {},
   "outputs": [],
   "source": [
    "nodes_3D = np.array([\n",
    "        [0.0, 0.0, 0.0],\n",
    "        [1.0, 0.0, 0.0],\n",
    "        [1.0, 1.0, 0.0],\n",
    "        [0.0, 1.0, 0.0],\n",
    "        [0.5, 1.5, 1.0],\n",
    "    ])\n",
    "\n",
    "triangles = np.array([\n",
    "        [0, 1, 2],\n",
    "        [0, 1, 4],\n",
    "        [0, 2, 3],\n",
    "        [0, 3, 4],\n",
    "        [1, 2, 4],\n",
    "        [2, 4, 3],\n",
    "    ])\n",
    "\n",
    "print(f\"nb nodes: {len(nodes_3D)}\")\n",
    "print(f\"nb triangles: {len(triangles)}\")"
   ]
  },
  {
   "cell_type": "markdown",
   "metadata": {},
   "source": [
    "### Visualize the Mesh\n",
    "\n",
    "Create a 3D plot to visualize the mesh."
   ]
  },
  {
   "cell_type": "code",
   "execution_count": null,
   "metadata": {},
   "outputs": [],
   "source": [
    "# Create a 3D plot\n",
    "fig = plt.figure()\n",
    "ax = fig.add_subplot(111, projection='3d')\n",
    "\n",
    "ax.scatter(nodes_3D[:, 0], nodes_3D[:, 1], nodes_3D[:, 2], c='b', marker='o')\n",
    "\n",
    "for triangle in triangles:\n",
    "    triangle_nodes = nodes_3D[triangle]\n",
    "    triangle_nodes = np.concatenate((triangle_nodes, [triangle_nodes[0]]))\n",
    "    ax.plot(triangle_nodes[:, 0], triangle_nodes[:, 1], triangle_nodes[:, 2], c='g')\n",
    "\n",
    "ax.set_xlabel('X')\n",
    "ax.set_ylabel('Y')\n",
    "ax.set_zlabel('Z')\n",
    "\n",
    "# Show the plot\n",
    "plt.show()"
   ]
  },
  {
   "cell_type": "markdown",
   "metadata": {},
   "source": [
    "## Create Meshes Dataset from external data\n",
    "\n",
    "Generates a dataset (python list) of 3D meshes with random fields defined over nodes and elements"
   ]
  },
  {
   "cell_type": "code",
   "execution_count": null,
   "metadata": {},
   "outputs": [],
   "source": [
    "\n",
    "nb_meshes = 5000\n",
    "meshes = []\n",
    "\n",
    "print(\"Creating meshes dataset...\")\n",
    "for _ in range(nb_meshes):\n",
    "    \"\"\"Create a Unstructured mesh using only points\n",
    "    and the connectivity matrix for the triangles.\n",
    "    Nodes id are given by there position in the list\n",
    "    \"\"\"\n",
    "    Mesh = MCT.CreateMeshOfTriangles(nodes_3D, triangles)\n",
    "\n",
    "    \"\"\" Add field defined over the nodes (all the nodes).\n",
    "        The keys are the names of the fields\n",
    "        the values are the actual data of size (nb nodes, nb of components)\"\"\"\n",
    "    Mesh.nodeFields['node_field'] = np.random.randn(5)\n",
    "\n",
    "    \"\"\" Add field defined over the elements (all the elements).\n",
    "        The keys are the names of the fields\n",
    "        the values are the actual data of size (nb elements, nb of components)\"\"\"\n",
    "    Mesh.elemFields['elem_field'] = np.random.randn(6)\n",
    "\n",
    "    meshes.append(Mesh)\n",
    "\n",
    "print(f\"{len(meshes) = }\")"
   ]
  },
  {
   "cell_type": "markdown",
   "metadata": {},
   "source": [
    "## Convert to CGNS meshes"
   ]
  },
  {
   "cell_type": "code",
   "execution_count": null,
   "metadata": {},
   "outputs": [],
   "source": [
    "CGNS_meshes = []\n",
    "for mesh in meshes:\n",
    "    # Converts a Mesh (muscat mesh following vtk conventions) to a CGNS Mesh\n",
    "    CGNS_tree = MeshToCGNS(mesh)\n",
    "    CGNS_meshes.append(CGNS_tree)\n",
    "\n",
    "print(f\"{len(CGNS_meshes) = }\")"
   ]
  },
  {
   "cell_type": "markdown",
   "metadata": {},
   "source": [
    "## Create PLAID Samples from CGNS meshes"
   ]
  },
  {
   "cell_type": "code",
   "execution_count": null,
   "metadata": {},
   "outputs": [],
   "source": [
    "in_scalars_names = [\"P\", \"p1\", \"p2\", \"p3\", \"p4\", \"p5\"]\n",
    "out_scalars_names = [\"max_von_mises\",\"max_q\",\"max_U2_top\",\"max_sig22_top\"]\n",
    "out_fields_names = [\"U1\", \"U2\", \"q\", \"sig11\", \"sig22\", \"sig12\"]\n",
    "\n",
    "samples = []\n",
    "for cgns_tree in CGNS_meshes:\n",
    "    # Add CGNS Meshe to samples with specific time steps\n",
    "    sample = Sample()\n",
    "\n",
    "    sample.add_tree(cgns_tree)\n",
    "\n",
    "    # Add random scalar values to the sample\n",
    "    for sname in in_scalars_names:\n",
    "        sample.add_scalar(sname, np.random.randn())\n",
    "\n",
    "    for sname in out_scalars_names:\n",
    "        sample.add_scalar(sname, np.random.randn())\n",
    "\n",
    "    # Add random field values to the sample\n",
    "    for j, sname in enumerate(out_fields_names):\n",
    "        sample.add_field(sname, np.random.rand(1, len(nodes_3D)))\n",
    "\n",
    "    samples.append(sample)\n",
    "\n",
    "print(samples[0])"
   ]
  },
  {
   "cell_type": "markdown",
   "metadata": {},
   "source": [
    "## Create PLAID Dataset"
   ]
  },
  {
   "cell_type": "code",
   "execution_count": null,
   "metadata": {},
   "outputs": [],
   "source": [
    "infos: dict = {\n",
    "        \"legal\": {\n",
    "            \"owner\": \"Bob\",\n",
    "            \"license\": \"my_license\"},\n",
    "        \"data_production\": {\n",
    "            \"type\": \"simulation\",\n",
    "            \"physics\": \"3D example\"}\n",
    "    }\n",
    "\n",
    "\n",
    "dataset = Dataset()\n",
    "\n",
    "# Set information for the PLAID dataset\n",
    "dataset.set_infos(infos)\n",
    "dataset.print_infos()"
   ]
  },
  {
   "cell_type": "code",
   "execution_count": null,
   "metadata": {},
   "outputs": [],
   "source": [
    "# Add PLAID samples to the dataset\n",
    "sample_ids = dataset.add_samples(samples)\n",
    "print(sample_ids)\n",
    "print(dataset)"
   ]
  }
 ],
 "metadata": {
  "kernelspec": {
   "display_name": "Python 3",
   "language": "python",
   "name": "python3"
  },
  "language_info": {
   "codemirror_mode": {
    "name": "ipython",
    "version": 3
   },
   "file_extension": ".py",
   "mimetype": "text/x-python",
   "name": "python",
   "nbconvert_exporter": "python",
   "pygments_lexer": "ipython3",
   "version": "3.11.5"
  }
 },
 "nbformat": 4,
 "nbformat_minor": 2
}
