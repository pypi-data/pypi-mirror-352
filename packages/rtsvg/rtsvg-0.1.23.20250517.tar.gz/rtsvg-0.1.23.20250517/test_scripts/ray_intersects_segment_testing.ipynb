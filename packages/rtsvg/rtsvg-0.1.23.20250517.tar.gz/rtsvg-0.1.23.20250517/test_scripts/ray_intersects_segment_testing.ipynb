{
 "cells": [
  {
   "cell_type": "code",
   "execution_count": null,
   "id": "057b829b",
   "metadata": {},
   "outputs": [],
   "source": [
    "import random\n",
    "import sys\n",
    "import rtsvg\n",
    "rt = rtsvg.RACETrack()\n",
    "#_svg_ = rt.rayIntersectsSegmentSVG((0.7,0),(0.9,0.8),(1,0),(0.8,0.8))\n",
    "#rt.tile([_svg_]) "
   ]
  },
  {
   "cell_type": "code",
   "execution_count": null,
   "id": "850af894",
   "metadata": {},
   "outputs": [],
   "source": [
    "x = lambda: random.uniform(-1.0, 1.0)\n",
    "_tiles_ = []\n",
    "for i in range(16): _tiles_.append(rt.rayIntersectsSegmentSVG((x(),x()),(x(),x()),(x(),x()),(x(),x()), w=128, h=128))\n",
    "rt.table(_tiles_, per_row=16, spacer=10)"
   ]
  },
  {
   "cell_type": "code",
   "execution_count": null,
   "id": "e30e3e72",
   "metadata": {},
   "outputs": [],
   "source": [
    "# Works reliably when using p0 as the end point\n",
    "_tiles_ = []\n",
    "for i in range(16):\n",
    "    _xy_       = (x(),x())\n",
    "    _p0_, _p1_ = (x(),x()), (x(),x())\n",
    "    _uv_       = (_p0_[0]-_xy_[0], _p0_[1]-_xy_[1])\n",
    "    _tiles_.append(rt.rayIntersectsSegmentSVG(_xy_,_uv_,_p0_, _p1_, w=128, h=128))\n",
    "rt.table(_tiles_, per_row=16, spacer=10)"
   ]
  },
  {
   "cell_type": "code",
   "execution_count": null,
   "id": "4a1b4d5d",
   "metadata": {},
   "outputs": [],
   "source": [
    "# Fails intermitently when using p1 as the end point\n",
    "_tiles_ = []\n",
    "for i in range(16):\n",
    "    _xy_       = (x(),x())\n",
    "    _p0_, _p1_ = (x(),x()), (x(),x())\n",
    "    _uv_       = (_p1_[0]-_xy_[0], _p1_[1]-_xy_[1])\n",
    "    _tiles_.append(rt.rayIntersectsSegmentSVG(_xy_,_uv_,_p0_, _p1_, w=128, h=128))\n",
    "rt.table(_tiles_, per_row=16, spacer=10)"
   ]
  },
  {
   "cell_type": "code",
   "execution_count": null,
   "id": "a6a36e16",
   "metadata": {},
   "outputs": [],
   "source": [
    "# Measure the accuracy of the rayIntersectsSegment function\n",
    "_correct_, _incorrect_ = 0, 0\n",
    "for i in range(1_000_000):\n",
    "    _xy_       = (x(),x())\n",
    "    _p0_, _p1_ = (x(),x()), (x(),x())\n",
    "    _uv_       = (_p1_[0]-_xy_[0], _p1_[1]-_xy_[1])\n",
    "    _xy_inter_ = rt.rayIntersectsSegment(_xy_,_uv_,_p0_, _p1_)\n",
    "    if _xy_inter_ is not None: _correct_   += 1\n",
    "    else:                      _incorrect_ += 1\n",
    "print(f\"Correct: {_correct_} Incorrect: {_incorrect_} | {_correct_/(_incorrect_+_correct_)}\") # 78% correct rate for 10M iterations"
   ]
  },
  {
   "cell_type": "code",
   "execution_count": null,
   "id": "633c849c",
   "metadata": {},
   "outputs": [],
   "source": [
    "# Measure the accuracy of the rayIntersectsSegment function w/ slight epsilon\n",
    "_correct_, _incorrect_, _ep_ = 0, 0, 10e-9 # around 10e-12, you start seeing the issue... (1 incorrect out of 1M)\n",
    "# _ep_ = sys.float_info.min # smallest possible float ... you get about 78% correct rate here\n",
    "for i in range(1_000_000):\n",
    "    _xy_       = (x(),x())\n",
    "    _p0_, _p1_ = (x(),x()), (x(),x())\n",
    "    _p_        = (_p1_[0] - _ep_ * (_p1_[0] - _p0_[0]), _p1_[1] - _ep_ * (_p1_[1] - _p0_[1]))\n",
    "    _uv_       = (_p_[0]-_xy_[0], _p_[1]-_xy_[1])\n",
    "    _xy_inter_ = rt.rayIntersectsSegment(_xy_,_uv_,_p0_, _p1_)\n",
    "    if _xy_inter_ is not None: _correct_   += 1\n",
    "    else:                      _incorrect_ += 1\n",
    "print(f\"Correct: {_correct_} Incorrect: {_incorrect_} | {_correct_/(_incorrect_+_correct_)}\") # 78% correct rate for 10M iterations"
   ]
  },
  {
   "cell_type": "code",
   "execution_count": null,
   "id": "b9d2ce72",
   "metadata": {},
   "outputs": [],
   "source": [
    "def rayIntersectsSegment(self, xy_ray, uv_ray, xy0_segment, xy1_segment, include_xy1_endpoint=False, epsilon=1e-9):\n",
    "    x_r,  y_r  = xy_ray\n",
    "    dx_r, dy_r = uv_ray\n",
    "    x0,   y0   = xy0_segment\n",
    "    x1,   y1   = xy1_segment    \n",
    "    # Segment direction vector\n",
    "    dx_s, dy_s = x1 - x0, y1 - y0\n",
    "    # Compute determinant\n",
    "    det = -dx_r * dy_s + dy_r * dx_s\n",
    "    if abs(det) < 1e-10: return None # Lines are parallel or collinear\n",
    "    # Compute parameters t and u\n",
    "    t = ((x_r - x0) * dy_s - (y_r - y0) * dx_s) / det\n",
    "    u = ((x_r - x0) * dy_r - (y_r - y0) * dx_r) / det\n",
    "    # Check if intersection is valid (t >= 0 for ray, 0 <= u <= 1 for segment)\n",
    "    if t >= 0.0:\n",
    "        if include_xy1_endpoint:\n",
    "            if 0.0 <= u <= 1.0+epsilon: return (x_r + t * dx_r, y_r + t * dy_r)\n",
    "        else:\n",
    "            if 0.0 <= u <  1.0-epsilon: return (x_r + t * dx_r, y_r + t * dy_r)\n",
    "    return None\n",
    "\n",
    "case1_correct, case1_incorrect = 0, 0\n",
    "case2_correct, case2_incorrect = 0, 0\n",
    "case3_correct, case3_incorrect = 0, 0\n",
    "case4_correct, case4_incorrect = 0, 0\n",
    "case5_correct, case5_incorrect = 0, 0\n",
    "case6_correct, case6_incorrect = 0, 0\n",
    "\n",
    "_ep_ = 1e-8 # starts falling apart if smaller now... so 1e-9 has errors...\n",
    "for i in range(1_000_000):\n",
    "    _xy_       = (x(),x())\n",
    "    _p0_, _p1_ = (x(),x()), (x(),x())\n",
    "    # The P1 EndPoint (endpoint flag matters here)\n",
    "    _p_        = _p1_\n",
    "    _uv_       = (_p_[0]-_xy_[0], _p_[1]-_xy_[1])\n",
    "    _xy_inter_ = rt.rayIntersectsSegment(_xy_,_uv_,_p0_, _p1_, include_xy1_endpoint=False)\n",
    "    if _xy_inter_ is None:     case1_correct   += 1\n",
    "    else:                      case1_incorrect += 1    \n",
    "    _xy_inter_ = rt.rayIntersectsSegment(_xy_,_uv_,_p0_, _p1_, include_xy1_endpoint=True)\n",
    "    if _xy_inter_ is not None: case2_correct   += 1\n",
    "    else:                      case2_incorrect += 1\n",
    "\n",
    "    # The P1 EndPoint with epsilon (the endpoint flag shouldn't matter here - both should return an intersection)\n",
    "    _p_        = (_p1_[0] - _ep_ * (_p1_[0] - _p0_[0]), _p1_[1] - _ep_ * (_p1_[1] - _p0_[1]))\n",
    "    _uv_       = (_p_[0]-_xy_[0], _p_[1]-_xy_[1])\n",
    "    _xy_inter_ = rt.rayIntersectsSegment(_xy_,_uv_,_p0_, _p1_, include_xy1_endpoint=False)\n",
    "    if _xy_inter_ is None: case3_incorrect += 1\n",
    "    else:                  case3_correct   += 1\n",
    "    _xy_inter_ = rt.rayIntersectsSegment(_xy_,_uv_,_p0_, _p1_, include_xy1_endpoint=True)\n",
    "    if _xy_inter_ is None: case4_incorrect += 1\n",
    "    else:                  case4_correct   += 1\n",
    "\n",
    "    # The P1 EndPoint with added epsilon (the endpoint flag shouldn't matter here -- neither should return an intersection)\n",
    "    _p_        = (_p1_[0] + _ep_ * (_p1_[0] - _p0_[0]), _p1_[1] + _ep_ * (_p1_[1] - _p0_[1]))\n",
    "    _uv_       = (_p_[0]-_xy_[0], _p_[1]-_xy_[1])\n",
    "    _xy_inter_ = rt.rayIntersectsSegment(_xy_,_uv_,_p0_, _p1_, include_xy1_endpoint=False)\n",
    "    if _xy_inter_ is None: case5_correct   += 1\n",
    "    else:                  case5_incorrect += 1\n",
    "    _xy_inter_ = rt.rayIntersectsSegment(_xy_,_uv_,_p0_, _p1_, include_xy1_endpoint=True)\n",
    "    if _xy_inter_ is None: case6_correct   += 1\n",
    "    else:                  case6_incorrect += 1\n",
    "\n",
    "print(f\"Case 1: Correct: {case1_correct:8} Incorrect: {case1_incorrect:8} | {case1_correct/(case1_incorrect+case1_correct):.2f}\")\n",
    "print(f\"Case 2: Correct: {case2_correct:8} Incorrect: {case2_incorrect:8} | {case2_correct/(case2_incorrect+case2_correct):.2f}\")\n",
    "print(f\"Case 3: Correct: {case3_correct:8} Incorrect: {case3_incorrect:8} | {case3_correct/(case3_incorrect+case3_correct):.2f}\")\n",
    "print(f\"Case 4: Correct: {case4_correct:8} Incorrect: {case4_incorrect:8} | {case4_correct/(case4_incorrect+case4_correct):.2f}\")\n",
    "print(f\"Case 5: Correct: {case5_correct:8} Incorrect: {case5_incorrect:8} | {case5_correct/(case5_incorrect+case5_correct):.2f}\")\n",
    "print(f\"Case 6: Correct: {case6_correct:8} Incorrect: {case6_incorrect:8} | {case6_correct/(case6_incorrect+case6_correct):.2f}\")"
   ]
  },
  {
   "cell_type": "code",
   "execution_count": null,
   "id": "995deb28",
   "metadata": {},
   "outputs": [],
   "source": []
  }
 ],
 "metadata": {
  "kernelspec": {
   "display_name": ".venv",
   "language": "python",
   "name": "python3"
  },
  "language_info": {
   "codemirror_mode": {
    "name": "ipython",
    "version": 3
   },
   "file_extension": ".py",
   "mimetype": "text/x-python",
   "name": "python",
   "nbconvert_exporter": "python",
   "pygments_lexer": "ipython3",
   "version": "3.12.3"
  }
 },
 "nbformat": 4,
 "nbformat_minor": 5
}
