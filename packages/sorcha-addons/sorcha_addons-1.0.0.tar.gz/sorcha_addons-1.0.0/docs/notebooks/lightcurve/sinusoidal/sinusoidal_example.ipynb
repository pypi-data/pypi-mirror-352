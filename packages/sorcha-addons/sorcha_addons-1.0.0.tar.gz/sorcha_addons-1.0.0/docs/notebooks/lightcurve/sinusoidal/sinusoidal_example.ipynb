{
 "cells": [
  {
   "cell_type": "markdown",
   "metadata": {},
   "source": [
    "# Sinusoidal Lightcurve Example"
   ]
  },
  {
   "cell_type": "code",
   "execution_count": null,
   "metadata": {},
   "outputs": [],
   "source": [
    "# Import the SinusoidalLightCurve class into the current scope\n",
    "from sorcha_addons.lightcurve.sinusoidal.sinusoidal_lightcurve import SinusoidalLightCurve\n",
    "from sorcha.lightcurves.lightcurve_registration import update_lc_subclasses, LC_METHODS"
   ]
  },
  {
   "cell_type": "code",
   "execution_count": null,
   "metadata": {},
   "outputs": [],
   "source": [
    "# Update the `LC_METHODS` registration dictionary\n",
    "update_lc_subclasses()\n",
    "\n",
    "# Show that SinusoidalLightcurve is now registered and available.\n",
    "print(LC_METHODS['sinusoidal'])"
   ]
  },
  {
   "cell_type": "code",
   "execution_count": null,
   "metadata": {},
   "outputs": [],
   "source": [
    "# make a small pandas dataframe with ~5 rows\n",
    "import pandas as pd\n",
    "\n",
    "data_dict = {\n",
    "    'fieldMJD_TAI': [60277.351867, 60289.319749, 60289.330920, 60292.334497, 60292.346208],\n",
    "    'LCA': [1, 1, 1, 1, 1],\n",
    "    'Period': [0.001, 0.001, 0.001, 0.001, 0.001],\n",
    "    'Time0': [60277.351867, 60277.351867, 60277.351867, 60277.351867, 60277.351867],\n",
    "    }\n",
    "\n",
    "df = pd.DataFrame.from_dict(data_dict)\n",
    "print(df)"
   ]
  },
  {
   "cell_type": "code",
   "execution_count": null,
   "metadata": {},
   "outputs": [],
   "source": [
    "# instantiate the sinusoidal class\n",
    "lc_model = LC_METHODS['sinusoidal']()\n",
    "\n",
    "# compute the change in magnitude using the dataframe created above\n",
    "output = lc_model.compute(df)\n",
    "\n",
    "print(output)"
   ]
  }
 ],
 "metadata": {
  "kernelspec": {
   "display_name": "Python 3 (ipykernel)",
   "language": "python",
   "name": "python3"
  },
  "language_info": {
   "codemirror_mode": {
    "name": "ipython",
    "version": 3
   },
   "file_extension": ".py",
   "mimetype": "text/x-python",
   "name": "python",
   "nbconvert_exporter": "python",
   "pygments_lexer": "ipython3",
   "version": "3.10.13"
  }
 },
 "nbformat": 4,
 "nbformat_minor": 4
}
