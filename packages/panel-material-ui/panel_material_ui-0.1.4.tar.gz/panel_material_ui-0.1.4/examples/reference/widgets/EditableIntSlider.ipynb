{
 "cells": [
  {
   "cell_type": "code",
   "execution_count": null,
   "metadata": {},
   "outputs": [],
   "source": [
    "import panel as pn\n",
    "import panel_material_ui as pmui\n",
    "\n",
    "pn.extension()"
   ]
  },
  {
   "cell_type": "markdown",
   "metadata": {},
   "source": [
    "The ``EditableIntSlider`` widget allows selecting selecting an integer value within a set bounds using a slider and for more precise control offers an editable number input box.\n",
    "\n",
    "Discover more on using widgets to add interactivity to your applications in the [how-to guides on interactivity](https://panel.holoviz.org/how_to/interactivity/index.html). Alternatively, learn [how to set up callbacks and (JS-)links between parameters](https://panel.holoviz.org/how_to/links/index.html) or [how to use them as part of declarative UIs with Param](https://panel.holoviz.org/how_to/param/index.html).\n",
    "\n",
    "#### Parameters:\n",
    "\n",
    "For details on other options for customizing the component see the [customization guides](https://panel-material-ui.holoviz.org/customization/index.html).\n",
    "\n",
    "##### Core\n",
    "\n",
    "* **`disabled`** (boolean): Whether the widget is editable\n",
    "* **`end`** (int): The upper bound for the slider, can be overridden by a higher `value`. \n",
    "* **`fixed_start`** (int | None): A fixed lower bound for the slider and input, `value` cannot exceed this.\n",
    "* **`fixed_end`** (int | None): A fixed upper bound for the slider and input, `value` cannot exceed this.\n",
    "* **`start`** (int): The lower bound for the slider, can be overridden by a lower `value`. \n",
    "* **`step`** (int): The interval between values\n",
    "* **`value`** (int): The selected value as an int type\n",
    "* **`value_throttled`** (int): The selected value as a int type throttled until mouseup\n",
    "\n",
    "##### Display\n",
    "\n",
    "* **`bar_color`** (color): Color of the slider bar as a hexadecimal RGB value\n",
    "* **`direction`** (str): Whether the slider should go from left to right ('ltr') or right to left ('rtl')\n",
    "* **`format`** (str, bokeh.models.TickFormatter): Formatter to apply to the slider value\n",
    "* **`label`** (str): The title of the widget\n",
    "* **`orientation`** (str): Whether the slider should be displayed in a 'horizontal' or 'vertical' orientation.\n",
    "* **`tooltips`** (boolean): Whether to display tooltips on the slider handle\n",
    "\n",
    "##### Styling\n",
    "\n",
    "- **`sx`** (dict): Component level styling API.\n",
    "- **`theme_config`** (dict): Theming API.\n",
    "\n",
    "##### Aliases\n",
    "\n",
    "For compatibility with Panel certain parameters are allowed as aliases:\n",
    "\n",
    "- **`button_style`**: Alias for `variant`\n",
    "- **`button_type`**: Alias for `color`\n",
    "- **`name`**: Alias for `label`\n",
    "\n",
    "___"
   ]
  },
  {
   "cell_type": "code",
   "execution_count": null,
   "metadata": {},
   "outputs": [],
   "source": [
    "int_slider = pn.widgets.EditableIntSlider(name='Integer Slider', start=0, end=8, step=2, value=4)\n",
    "\n",
    "int_slider"
   ]
  },
  {
   "cell_type": "markdown",
   "metadata": {},
   "source": [
    "Here the `value` has no bounds and can exceed `end` and go below `start`. If `value` should be fixed to a certain range it can be set with `fixed_start` and `fixed_end`:"
   ]
  },
  {
   "cell_type": "code",
   "execution_count": null,
   "metadata": {},
   "outputs": [],
   "source": [
    "int_slider.fixed_start = -2"
   ]
  },
  {
   "cell_type": "markdown",
   "metadata": {},
   "source": [
    "The `value` of the widget returns a integer and can be accessed and set like any other widget:"
   ]
  },
  {
   "cell_type": "code",
   "execution_count": null,
   "metadata": {},
   "outputs": [],
   "source": [
    "int_slider.value"
   ]
  },
  {
   "cell_type": "markdown",
   "metadata": {},
   "source": [
    "A custom format string or bokeh TickFormatter may be used to format the slider values:"
   ]
  },
  {
   "cell_type": "code",
   "execution_count": null,
   "metadata": {},
   "outputs": [],
   "source": [
    "from bokeh.models.formatters import PrintfTickFormatter\n",
    "\n",
    "str_format = pn.widgets.EditableIntSlider(name='Rank', format='0o', start=0, end=100)\n",
    "\n",
    "tick_format = pn.widgets.EditableIntSlider(name='Count', format=PrintfTickFormatter(format='%d ducks'), start=0, end=100)\n",
    "\n",
    "pn.Column(str_format, tick_format)"
   ]
  },
  {
   "cell_type": "markdown",
   "metadata": {},
   "source": [
    "### Controls\n",
    "\n",
    "Since the `EditableIntSlider` widget is a composite widget its options can only be controlled from Python. Try out the effect of these parameters interactively:"
   ]
  },
  {
   "cell_type": "code",
   "execution_count": null,
   "metadata": {},
   "outputs": [],
   "source": [
    "pn.Row(int_slider.controls(jslink=False), int_slider)"
   ]
  }
 ],
 "metadata": {
  "kernelspec": {
   "display_name": "Python 3 (ipykernel)",
   "language": "python",
   "name": "python3"
  },
  "language_info": {
   "codemirror_mode": {
    "name": "ipython",
    "version": 3
   },
   "file_extension": ".py",
   "mimetype": "text/x-python",
   "name": "python",
   "nbconvert_exporter": "python",
   "pygments_lexer": "ipython3",
   "version": "3.12.2"
  }
 },
 "nbformat": 4,
 "nbformat_minor": 4
}
