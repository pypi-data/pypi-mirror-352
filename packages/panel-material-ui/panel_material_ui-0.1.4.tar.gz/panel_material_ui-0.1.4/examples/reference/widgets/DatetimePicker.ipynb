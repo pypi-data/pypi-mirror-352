{
 "cells": [
  {
   "cell_type": "code",
   "execution_count": null,
   "metadata": {},
   "outputs": [],
   "source": [
    "import datetime as dt\n",
    "\n",
    "import panel as pn\n",
    "import panel_material_ui as pmui\n",
    "\n",
    "pn.extension()"
   ]
  },
  {
   "cell_type": "markdown",
   "metadata": {},
   "source": [
    "The `DatetimePicker` widget allows selecting selecting a datetime value using a text box and the browser's datetime-picking utility.\n",
    "\n",
    "Discover more on using widgets to add interactivity to your applications in the [how-to guides on interactivity](https://panel.holoviz.org/how_to/interactivity/index.html). Alternatively, learn [how to set up callbacks and (JS-)links between parameters](https://panel.holoviz.org/how_to/links/index.html) or [how to use them as part of declarative UIs with Param](https://panel.holoviz.org/how_to/param/index.html).\n",
    "\n",
    "#### Parameters:\n",
    "\n",
    "For details on other options for customizing the component see the [customization guides](https://panel-material-ui.holoviz.org/customization/index.html).\n",
    "\n",
    "##### Core\n",
    "\n",
    "* **`disabled`** (boolean): Whether the widget is editable\n",
    "* **`disabled_dates`** (list): Dates to make unavailable for selection; others will be available\n",
    "* **`enabled_dates`** (list): Dates to make available for selection; others will be unavailable\n",
    "* **`enable_time`** (boolean): Enable editing of the time in the widget, default is True\n",
    "* **`enable_seconds`** (boolean): Enable editing of seconds in the widget, default is True\n",
    "* **`end`** (date or datetime): Inclusive upper bound of the allowed date selection.\n",
    "* **`military_time`** (boolean): Enable 24 hours time in the widget, default is True\n",
    "* **`start`** (date or datetime): Inclusive lower bound of the allowed date selection.\n",
    "* **`value`** (datetime): The selected value as a datetime type\n",
    "\n",
    "##### Display\n",
    "\n",
    "* **`label`** (str): The title of the widget\n",
    "* **`visible`** (boolean): Whether the widget is visible\n",
    "\n",
    "##### Styling\n",
    "\n",
    "- **`sx`** (dict): Component level styling API.\n",
    "- **`theme_config`** (dict): Theming API.\n",
    "\n",
    "##### Aliases\n",
    "\n",
    "For compatibility with Panel certain parameters are allowed as aliases:\n",
    "\n",
    "- **`button_style`**: Alias for `variant`\n",
    "- **`button_type`**: Alias for `color`\n",
    "- **`name`**: Alias for `label`\n",
    "\n",
    "___"
   ]
  },
  {
   "cell_type": "markdown",
   "metadata": {},
   "source": [
    "`DatetimePicker` uses a browser-dependent calendar widget to select the datetime:"
   ]
  },
  {
   "cell_type": "code",
   "execution_count": null,
   "metadata": {},
   "outputs": [],
   "source": [
    "datetime_picker = pmui.DatetimePicker(\n",
    "    name='Datetime Picker', value=dt.datetime(2021, 3, 2, 12, 10)\n",
    ")\n",
    "\n",
    "pn.Column(datetime_picker, height=450)"
   ]
  },
  {
   "cell_type": "markdown",
   "metadata": {},
   "source": [
    "To ensure it is visible in a notebook we have placed it in a `Column` with a fixed height.\n",
    "\n",
    "`DatetimePicker.value` returns a datetime type that can be read out or set like other widgets:"
   ]
  },
  {
   "cell_type": "code",
   "execution_count": null,
   "metadata": {},
   "outputs": [],
   "source": [
    "datetime_picker.value"
   ]
  },
  {
   "cell_type": "markdown",
   "metadata": {},
   "source": [
    "### Controls\n",
    "\n",
    "The `DatetimePicker` widget exposes a number of options which can be changed from both Python and Javascript. Try out the effect of these parameters interactively:"
   ]
  },
  {
   "cell_type": "code",
   "execution_count": null,
   "metadata": {},
   "outputs": [],
   "source": [
    "pn.Row(datetime_picker.controls(jslink=True), datetime_picker)"
   ]
  }
 ],
 "metadata": {
  "kernelspec": {
   "display_name": "Python 3 (ipykernel)",
   "language": "python",
   "name": "python3"
  },
  "language_info": {
   "codemirror_mode": {
    "name": "ipython",
    "version": 3
   },
   "file_extension": ".py",
   "mimetype": "text/x-python",
   "name": "python",
   "nbconvert_exporter": "python",
   "pygments_lexer": "ipython3",
   "version": "3.12.2"
  }
 },
 "nbformat": 4,
 "nbformat_minor": 4
}
