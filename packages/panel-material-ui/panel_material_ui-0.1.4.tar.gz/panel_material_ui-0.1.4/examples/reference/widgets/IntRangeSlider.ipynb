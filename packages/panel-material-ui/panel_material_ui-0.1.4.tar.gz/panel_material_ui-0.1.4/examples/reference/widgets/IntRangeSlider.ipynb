{
 "cells": [
  {
   "cell_type": "code",
   "execution_count": null,
   "metadata": {},
   "outputs": [],
   "source": [
    "import panel as pn\n",
    "import panel_material_ui as pmui\n",
    "\n",
    "pn.extension()"
   ]
  },
  {
   "cell_type": "markdown",
   "metadata": {},
   "source": [
    "The `IntRangeSlider` widget allows selecting an integer range using a slider with two handles.\n",
    "\n",
    "Discover more on using widgets to add interactivity to your applications in the [how-to guides on interactivity](https://panel.holoviz.org/how_to/interactivity/index.html). Alternatively, learn [how to set up callbacks and (JS-)links between parameters](https://panel.holoviz.org/how_to/links/index.html) or [how to use them as part of declarative UIs with Param](https://panel.holoviz.org/how_to/param/index.html).\n",
    "\n",
    "#### Parameters:\n",
    "\n",
    "For details on other options for customizing the component see the [customization guides](https://panel-material-ui.holoviz.org/customization/index.html).\n",
    "\n",
    "##### Core\n",
    "\n",
    "* **`disabled`** (boolean): Whether the widget is editable\n",
    "* **`start`** (int): The range's lower bound\n",
    "* **`end`** (int): The range's upper bound\n",
    "* **`step`** (int): The interval between values\n",
    "* **`value`** (tuple): Tuple of upper and lower bounds of the selected range\n",
    "* **`value_throttled`** (tuple): Tuple of upper and lower bounds of the selected range throttled until mouseup\n",
    "\n",
    "##### Display\n",
    "\n",
    "* **`bar_color`** (color): Color of the slider bar as a hexadecimal RGB value.\n",
    "* **`direction`** (`str`): Whether the slider should go from left to right ('ltr') or right to left ('rtl').\n",
    "* **`format`** (string): The datetime's format\n",
    "* **`label`** (`str`): The title of the widget.\n",
    "* **`marks`** (`boolean | list[dict]`):  Marks indicate predetermined values to which the user can move the slider. If True the `options` are shown as marks. If a list, it should contain dicts with 'value' and an optional 'label' keys.\n",
    "* **`orientation`** (`Literal[\"horizonta\", \"vertical\"]`): Whether the slider should be displayed in a 'horizontal' or 'vertical' orientation.\n",
    "* **`show_value`** (`boolean`): Whether to show the widget value as a label or not. \n",
    "* **`tooltips`** (`boolean | Literal[\"auto\"]`): Whether to display tooltips on the slider handle.\n",
    "* **`track`** (`Literal[\"normal\", \"inverted\"]`): Whether to display 'normal' or 'inverted'.\n",
    "\n",
    "##### Styling\n",
    "\n",
    "- **`sx`** (dict): Component level styling API.\n",
    "- **`theme_config`** (dict): Theming API.\n",
    "\n",
    "##### Aliases\n",
    "\n",
    "For compatibility with Panel certain parameters are allowed as aliases:\n",
    "\n",
    "- **`name`**: Alias for `label`\n",
    "\n",
    "___"
   ]
  },
  {
   "cell_type": "code",
   "execution_count": null,
   "metadata": {},
   "outputs": [],
   "source": [
    "int_range_slider = pmui.IntRangeSlider(\n",
    "    label='Integer Range Slider',\n",
    "    start=0, end=10, value=(2, 8), step=2)\n",
    "\n",
    "int_range_slider"
   ]
  },
  {
   "cell_type": "markdown",
   "metadata": {},
   "source": [
    "``IntRangeSlider.value`` returns a tuple of integer values that can be read out but cannot be set like other widgets:"
   ]
  },
  {
   "cell_type": "code",
   "execution_count": null,
   "metadata": {},
   "outputs": [],
   "source": [
    "int_range_slider.value"
   ]
  },
  {
   "cell_type": "markdown",
   "metadata": {},
   "source": [
    "### Controls\n",
    "\n",
    "The `IntRangeSlider` widget exposes a number of options which can be changed from both Python and Javascript. Try out the effect of these parameters interactively:"
   ]
  },
  {
   "cell_type": "code",
   "execution_count": null,
   "metadata": {},
   "outputs": [],
   "source": [
    "pn.Row(int_range_slider.controls(jslink=True), int_range_slider)"
   ]
  }
 ],
 "metadata": {
  "kernelspec": {
   "display_name": "Python 3 (ipykernel)",
   "language": "python",
   "name": "python3"
  },
  "language_info": {
   "codemirror_mode": {
    "name": "ipython",
    "version": 3
   },
   "file_extension": ".py",
   "mimetype": "text/x-python",
   "name": "python",
   "nbconvert_exporter": "python",
   "pygments_lexer": "ipython3",
   "version": "3.12.2"
  }
 },
 "nbformat": 4,
 "nbformat_minor": 4
}
