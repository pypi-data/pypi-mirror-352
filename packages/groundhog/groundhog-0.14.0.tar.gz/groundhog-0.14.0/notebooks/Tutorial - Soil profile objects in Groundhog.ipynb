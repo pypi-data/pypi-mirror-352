{
 "cells": [
  {
   "cell_type": "markdown",
   "metadata": {},
   "source": [
    "# Tutorial - Soil profile objects in Groundhog\n",
    "\n",
    "A soil profile is a table with several layers where the bottom depth of the previous layer corresponds to the top depth of the next layer.\n",
    "\n",
    "Because a soil profile is a dataframe with additional functionality, the ```SoilProfile``` class inherits from the ```DataFrame``` class.\n",
    "\n",
    "Additional functionality is implemented to enable all common soil profile manipulations such:\n",
    "   - Retrieving minimum and maximum depth;\n",
    "   - Changing depth coordinate signs;\n",
    "   - Changing the mudline level;\n",
    "   - Retrieving the soil parameters available in the dataframe;\n",
    "   - Mapping the soil parameters to a grid;\n",
    "   - Plotting the soil profile;\n",
    "   \n",
    "This tutorial demonstrates this functionality."
   ]
  },
  {
   "cell_type": "code",
   "execution_count": null,
   "metadata": {},
   "outputs": [],
   "source": [
    "import numpy as np\n",
    "from groundhog.general import soilprofile as sp\n",
    "from groundhog.general.plotting import LogPlot\n",
    "from groundhog.__version__ import __version__\n",
    "__version__"
   ]
  },
  {
   "cell_type": "markdown",
   "metadata": {},
   "source": [
    "```groundhog``` uses Plotly as the plotting backend. Please note that you may still need to install Plotly in your Python environment."
   ]
  },
  {
   "cell_type": "code",
   "execution_count": null,
   "metadata": {},
   "outputs": [],
   "source": [
    "from plotly import tools, subplots\n",
    "import plotly.express as px\n",
    "import plotly.graph_objs as go\n",
    "import plotly.io as pio\n",
    "import plotly.figure_factory as ff\n",
    "from plotly.colors import DEFAULT_PLOTLY_COLORS\n",
    "from plotly.offline import download_plotlyjs, init_notebook_mode, plot, iplot\n",
    "init_notebook_mode()\n",
    "pio.templates.default = 'plotly_white'\n",
    "pio.templates['plotly'].layout['autosize'] = False\n",
    "for key in pio.templates.keys():\n",
    "    pio.templates[key].layout['autosize'] = False"
   ]
  },
  {
   "cell_type": "markdown",
   "metadata": {},
   "source": [
    "## 1. Soil profile creation\n",
    "\n",
    "There are a couple of standard scenarios for creating soil profiles:\n",
    "\n",
    "   - Soil profile definition based on a Python dictionary;\n",
    "   - Soil profile reading from Excel file\n",
    "  \n",
    "These two scenarios are demonstrated here."
   ]
  },
  {
   "cell_type": "markdown",
   "metadata": {},
   "source": [
    "### 1.1. Soil profile creation from Excel file\n",
    "\n",
    "When a soil profile is created from Excel, the layer are encoded as rows and soil parameters names are put on the first row. The coordinate of the top of the next layer should always correspond to the coordinate of the bottom of the previous layer. There is one all-important convention for soil parameters:\n",
    "\n",
    "   - Numerical soil parameters have units between square brackets (e.g. ```qc [MPa]```)\n",
    "   - Numerical soil parameters can have linear variations using the ```from``` and ```to``` words in the title (e.g. ```qc from [MPa]``` and ```qc to [MPa]```)\n",
    "   - String soil parameters are specified without units, square brackets should not be used in the title\n",
    "   \n",
    "The user can use several names for the depth from and depth to columns. ```Depth from [m]``` and ```Depth to [m]``` are used by default but different names and units can be used by specifying the ```depth_key``` and ```unit``` keyword arguments.\n",
    "\n",
    "As an example a file with depth (z) specified in imperial units can be read."
   ]
  },
  {
   "cell_type": "code",
   "execution_count": null,
   "metadata": {},
   "outputs": [],
   "source": [
    "profile_1 = sp.read_excel(\"Data/soilprofile_basic.xlsx\")\n",
    "profile_1"
   ]
  },
  {
   "cell_type": "code",
   "execution_count": null,
   "metadata": {},
   "outputs": [],
   "source": [
    "profile_1.calculate_overburden()\n",
    "profile_1[['Depth from [m]', 'Depth to [m]',\n",
    "           'Vertical effective stress from [kPa]', 'Vertical effective stress to [kPa]',\n",
    "           'Vertical total stress from [kPa]', 'Vertical total stress to [kPa]']]"
   ]
  },
  {
   "cell_type": "markdown",
   "metadata": {},
   "source": [
    "### 1.2. Soil profile from dictionary\n",
    "\n",
    "A soil profile can be directly specified in the notebook through a dictionary. The same profile can be loaded but in SI units. Note that ```Depth from [m]``` and ```Depth to [m]``` are required here."
   ]
  },
  {
   "cell_type": "code",
   "execution_count": null,
   "metadata": {},
   "outputs": [],
   "source": [
    "profile_2 = sp.SoilProfile({\n",
    "    'Depth from [m]': [0, 1, 3, 4],\n",
    "    'Depth to [m]': [1, 3, 4, 10],\n",
    "    'Soil type': ['SAND', 'CLAY', 'SILT', 'SAND'],\n",
    "    'Relative density': ['Loose', None, 'Medium dense', 'Dense'],\n",
    "    'qc from [MPa]': [3, 1, 4, 40],\n",
    "    'qc to [MPa]': [4, 1.5, 8, 50],\n",
    "    'qt [MPa]': [3.5, 1.25, 6, 45],\n",
    "    'Total unit weight [kN/m3]': [19, 18, 19, 20]\n",
    "})\n",
    "logplot = LogPlot(profile_2, no_panels=2, fillcolordict={'SAND': 'yellow', 'CLAY': 'brown', 'SILT': 'green'})\n",
    "logplot.add_soilparameter_trace(\n",
    "    parametername=\"Total unit weight [kN/m3]\",\n",
    "    panel_no=1)\n",
    "logplot.add_soilparameter_trace(\n",
    "    parametername=\"qc [MPa]\",\n",
    "    panel_no=2)\n",
    "logplot.add_soilparameter_trace(\n",
    "    parametername=\"qt [MPa]\",\n",
    "    panel_no=2)\n",
    "logplot.set_xaxis(title=r'$ \\gamma \\ \\text{[kN/m} ^3 \\text{]} $', panel_no=1, range=(15, 23))\n",
    "logplot.set_xaxis(title=r'$ q_c, \\ q_t \\ \\text{[MPa]} $', panel_no=2)\n",
    "logplot.set_zaxis(title=r'$ z \\ \\text{[m]} $', range=(10, 0))\n",
    "logplot.set_size(width=900, height=600)\n",
    "logplot.show()"
   ]
  },
  {
   "cell_type": "markdown",
   "metadata": {},
   "source": [
    "## 2. Retrieving information from ```SoilProfile``` objects\n",
    "\n",
    "```SoilProfile``` objects have properties which allow the user to quickly assess the contents of the soil profile.\n",
    "\n",
    "### 2.1. Top and bottom depth\n",
    "\n",
    "The minimum and maximum depth of the soil profile can be retrieved using ```min_depth``` and ```max_depth``` attributes."
   ]
  },
  {
   "cell_type": "code",
   "execution_count": null,
   "metadata": {},
   "outputs": [],
   "source": [
    "profile_2.min_depth, profile_2.max_depth"
   ]
  },
  {
   "cell_type": "markdown",
   "metadata": {},
   "source": [
    "### 2.2. Soil parameters\n",
    "\n",
    "The ```SoilProfile``` objects has a method to retrieve the numerical and string soil parameters."
   ]
  },
  {
   "cell_type": "code",
   "execution_count": null,
   "metadata": {},
   "outputs": [],
   "source": [
    "profile_2.numerical_soil_parameters()"
   ]
  },
  {
   "cell_type": "code",
   "execution_count": null,
   "metadata": {},
   "outputs": [],
   "source": [
    "profile_2.string_soil_parameters()"
   ]
  },
  {
   "cell_type": "markdown",
   "metadata": {},
   "source": [
    "For the numerical soil parameters, the method ```check_linear_variation``` allows to check whether the parameter is constant in the layer or whether is has a linear variation. Linear variations are encoded in the soil profile by using the ```to``` and ```from``` column keys (e.g. ```qc from [MPa]``` and ```qc to [MPa] ```)."
   ]
  },
  {
   "cell_type": "code",
   "execution_count": null,
   "metadata": {},
   "outputs": [],
   "source": [
    "for _param in profile_2.numerical_soil_parameters():\n",
    "    if profile_2.check_linear_variation(_param):\n",
    "        print(\"Parameter %s shows a linear variation\" % _param)\n",
    "    else:\n",
    "        print(\"Parameter %s is constant in each layer\" % _param)"
   ]
  },
  {
   "cell_type": "markdown",
   "metadata": {},
   "source": [
    "## 3. Selection of soil parameters\n",
    "\n",
    "The ```SoilProfile``` object has a method for automatic selection of design lines based on parameter values in the layer. This can be demonstrated using a couple of randomly selected value for the undrained shear strength."
   ]
  },
  {
   "cell_type": "code",
   "execution_count": null,
   "metadata": {},
   "outputs": [],
   "source": [
    "depths = np.linspace(1.1, 2.9, 25)\n",
    "su_values = 20 + 20 * np.random.rand(25)"
   ]
  },
  {
   "cell_type": "code",
   "execution_count": null,
   "metadata": {},
   "outputs": [],
   "source": [
    "profile_2.selection_soilparameter(\n",
    "    parameter='Su [kPa]',\n",
    "    depths=depths,\n",
    "    values=su_values,\n",
    "    rule='mean',\n",
    "    linearvariation=True)\n",
    "profile_2"
   ]
  },
  {
   "cell_type": "markdown",
   "metadata": {},
   "source": [
    "The selected line can be plotted by adding a trace to a plot with a mini-log."
   ]
  },
  {
   "cell_type": "code",
   "execution_count": null,
   "metadata": {},
   "outputs": [],
   "source": [
    "logplot = LogPlot(profile_2, no_panels=3, fillcolordict={'SAND': 'yellow', 'CLAY': 'brown', 'SILT': 'green'})\n",
    "logplot.add_soilparameter_trace(\n",
    "    parametername=\"Total unit weight [kN/m3]\",\n",
    "    panel_no=1)\n",
    "logplot.add_soilparameter_trace(\n",
    "    parametername=\"qc [MPa]\",\n",
    "    panel_no=2)\n",
    "logplot.add_soilparameter_trace(\n",
    "    parametername=\"qt [MPa]\",\n",
    "    panel_no=2)\n",
    "logplot.add_soilparameter_trace(\n",
    "    parametername=\"Su [kPa]\",\n",
    "    panel_no=3)\n",
    "logplot.add_trace(\n",
    "    x=su_values,\n",
    "    z=depths,\n",
    "    name='Su data',\n",
    "    mode='markers',\n",
    "    showlegend=True,\n",
    "    panel_no=3)\n",
    "logplot.set_xaxis(title=r'$ \\gamma \\ \\text{[kN/m} ^3 \\text{]} $', panel_no=1, range=(15, 23))\n",
    "logplot.set_xaxis(title=r'$ q_c, \\ q_t \\ \\text{[MPa]} $', panel_no=2)\n",
    "logplot.set_xaxis(title=r'$ S_u \\ \\text{[kPa]} $', panel_no=3)\n",
    "logplot.set_zaxis(title=r'$ z \\ \\text{[m]} $', range=(10, 0))\n",
    "logplot.set_size(width=900, height=600)\n",
    "logplot.show()"
   ]
  },
  {
   "cell_type": "markdown",
   "metadata": {},
   "source": [
    "## 4. Soil profile manipulations\n",
    "\n",
    "A number of manipulations with soil profiles are possible using the ```SoilProfile``` class.\n",
    "\n",
    "### 4.1. Shifting vs depth\n",
    "\n",
    "The profile can be shifted vs depth using the ```shift_depths``` method. For example we can move the profile up by 5m. Note: Moving up requires a negative offset to be specified (depth axis is positive in the downward direction)."
   ]
  },
  {
   "cell_type": "code",
   "execution_count": null,
   "metadata": {},
   "outputs": [],
   "source": [
    "profile_2.shift_depths(offset=-4)\n",
    "logplot = LogPlot(profile_2, no_panels=3, fillcolordict={'SAND': 'yellow', 'CLAY': 'brown', 'SILT': 'green'})\n",
    "logplot.add_soilparameter_trace(\n",
    "    parametername=\"Total unit weight [kN/m3]\",\n",
    "    panel_no=1)\n",
    "logplot.add_soilparameter_trace(\n",
    "    parametername=\"qc [MPa]\",\n",
    "    panel_no=2)\n",
    "logplot.add_soilparameter_trace(\n",
    "    parametername=\"qt [MPa]\",\n",
    "    panel_no=2)\n",
    "logplot.add_soilparameter_trace(\n",
    "    parametername=\"Su [kPa]\",\n",
    "    panel_no=3)\n",
    "logplot.add_trace(\n",
    "    x=su_values,\n",
    "    z=depths,\n",
    "    name='Su data',\n",
    "    mode='markers',\n",
    "    showlegend=True,\n",
    "    panel_no=3)\n",
    "logplot.set_xaxis(title=r'$ \\gamma \\ \\text{[kN/m} ^3 \\text{]} $', panel_no=1, range=(15, 23))\n",
    "logplot.set_xaxis(title=r'$ q_c, \\ q_t \\ \\text{[MPa]} $', panel_no=2)\n",
    "logplot.set_xaxis(title=r'$ S_u \\ \\text{[kPa]} $', panel_no=3)\n",
    "logplot.set_zaxis(title=r'$ z \\ \\text{[m]} $', range=(16, -4))\n",
    "logplot.set_size(width=900, height=600)\n",
    "logplot.show()"
   ]
  },
  {
   "cell_type": "markdown",
   "metadata": {},
   "source": [
    "Each time the ```shift_depths``` method is applied, a further shift is applied, so be careful not to repeat code containing this method inadvertently."
   ]
  },
  {
   "cell_type": "markdown",
   "metadata": {},
   "source": [
    "### 4.2. Flipping the depth axis\n",
    "\n",
    "In certain cases (e.g. when working with depths in mLAT), flipping of the depth axis is required. This can be done using the ```convert_depth_sign```."
   ]
  },
  {
   "cell_type": "code",
   "execution_count": null,
   "metadata": {},
   "outputs": [],
   "source": [
    "profile_2.convert_depth_sign()\n",
    "logplot = LogPlot(profile_2, no_panels=3, fillcolordict={'SAND': 'yellow', 'CLAY': 'brown', 'SILT': 'green'})\n",
    "logplot.add_soilparameter_trace(\n",
    "    parametername=\"Total unit weight [kN/m3]\",\n",
    "    panel_no=1)\n",
    "logplot.add_soilparameter_trace(\n",
    "    parametername=\"qc [MPa]\",\n",
    "    panel_no=2)\n",
    "logplot.add_soilparameter_trace(\n",
    "    parametername=\"qt [MPa]\",\n",
    "    panel_no=2)\n",
    "logplot.add_soilparameter_trace(\n",
    "    parametername=\"Su [kPa]\",\n",
    "    panel_no=3)\n",
    "logplot.add_trace(\n",
    "    x=su_values,\n",
    "    z=depths,\n",
    "    name='Su data',\n",
    "    mode='markers',\n",
    "    showlegend=True,\n",
    "    panel_no=3)\n",
    "logplot.set_xaxis(title=r'$ \\gamma \\ \\text{[kN/m} ^3 \\text{]} $', panel_no=1, range=(15, 23))\n",
    "logplot.set_xaxis(title=r'$ q_c, \\ q_t \\ \\text{[MPa]} $', panel_no=2)\n",
    "logplot.set_xaxis(title=r'$ S_u \\ \\text{[kPa]} $', panel_no=3)\n",
    "logplot.set_zaxis(title=r'$ z \\ \\text{[m]} $', range=(-10, 4))\n",
    "logplot.set_size(width=900, height=600)\n",
    "logplot.show()"
   ]
  },
  {
   "cell_type": "markdown",
   "metadata": {},
   "source": [
    "This statement can also be repeated. Note that most other methods of the ```SoilProfile``` object expect depths increasing downward!\n",
    "\n",
    "For the further demonstrations of the functionality, we will reset the depth reference:"
   ]
  },
  {
   "cell_type": "code",
   "execution_count": null,
   "metadata": {},
   "outputs": [],
   "source": [
    "profile_2.convert_depth_sign()\n",
    "profile_2.shift_depths(offset=4)\n",
    "logplot = LogPlot(profile_2, no_panels=3, fillcolordict={'SAND': 'yellow', 'CLAY': 'brown', 'SILT': 'green'})\n",
    "logplot.add_soilparameter_trace(\n",
    "    parametername=\"Total unit weight [kN/m3]\",\n",
    "    panel_no=1)\n",
    "logplot.add_soilparameter_trace(\n",
    "    parametername=\"qc [MPa]\",\n",
    "    panel_no=2)\n",
    "logplot.add_soilparameter_trace(\n",
    "    parametername=\"qt [MPa]\",\n",
    "    panel_no=2)\n",
    "logplot.add_soilparameter_trace(\n",
    "    parametername=\"Su [kPa]\",\n",
    "    panel_no=3)\n",
    "logplot.add_trace(\n",
    "    x=su_values,\n",
    "    z=depths,\n",
    "    name='Su data',\n",
    "    mode='markers',\n",
    "    showlegend=True,\n",
    "    panel_no=3)\n",
    "logplot.set_xaxis(title=r'$ \\gamma \\ \\text{[kN/m} ^3 \\text{]} $', panel_no=1, range=(15, 23))\n",
    "logplot.set_xaxis(title=r'$ q_c, \\ q_t \\ \\text{[MPa]} $', panel_no=2)\n",
    "logplot.set_xaxis(title=r'$ S_u \\ \\text{[kPa]} $', panel_no=3)\n",
    "logplot.set_zaxis(title=r'$ z \\ \\text{[m]} $', range=(10, 0))\n",
    "logplot.set_size(width=900, height=600)\n",
    "logplot.show()"
   ]
  },
  {
   "cell_type": "markdown",
   "metadata": {},
   "source": [
    "### 4.3. Inserting a layer transition\n",
    "\n",
    "Inserting a layer transition is easily achieved using the ```insert_layer_transition``` method."
   ]
  },
  {
   "cell_type": "code",
   "execution_count": null,
   "metadata": {},
   "outputs": [],
   "source": [
    "profile_2.insert_layer_transition(depth=8)\n",
    "logplot = LogPlot(profile_2, no_panels=3, fillcolordict={'SAND': 'yellow', 'CLAY': 'brown', 'SILT': 'green'})\n",
    "logplot.add_soilparameter_trace(\n",
    "    parametername=\"Total unit weight [kN/m3]\",\n",
    "    panel_no=1)\n",
    "logplot.add_soilparameter_trace(\n",
    "    parametername=\"qc [MPa]\",\n",
    "    panel_no=2)\n",
    "logplot.add_soilparameter_trace(\n",
    "    parametername=\"qt [MPa]\",\n",
    "    panel_no=2)\n",
    "logplot.add_soilparameter_trace(\n",
    "    parametername=\"Su [kPa]\",\n",
    "    panel_no=3)\n",
    "logplot.add_trace(\n",
    "    x=su_values,\n",
    "    z=depths,\n",
    "    name='Su data',\n",
    "    mode='markers',\n",
    "    showlegend=True,\n",
    "    panel_no=3)\n",
    "logplot.set_xaxis(title=r'$ \\gamma \\ \\text{[kN/m} ^3 \\text{]} $', panel_no=1, range=(15, 23))\n",
    "logplot.set_xaxis(title=r'$ q_c, \\ q_t \\ \\text{[MPa]} $', panel_no=2)\n",
    "logplot.set_xaxis(title=r'$ S_u \\ \\text{[kPa]} $', panel_no=3)\n",
    "logplot.set_zaxis(title=r'$ z \\ \\text{[m]} $', range=(10, 0))\n",
    "logplot.set_size(width=900, height=600)\n",
    "logplot.show()"
   ]
  },
  {
   "cell_type": "markdown",
   "metadata": {},
   "source": [
    "### 4.4. Merging layers\n",
    "\n",
    "Layers can be merged using their index (starting from 0 for the top layer). Note that the functionality still needs to be completed for layers with linearly varying properties. By default, the properties of the top layer are kept."
   ]
  },
  {
   "cell_type": "code",
   "execution_count": null,
   "metadata": {},
   "outputs": [],
   "source": [
    "profile_2.merge_layers(layer_ids=(3, 4))\n",
    "logplot = LogPlot(profile_2, no_panels=3, fillcolordict={'SAND': 'yellow', 'CLAY': 'brown', 'SILT': 'green'})\n",
    "logplot.add_soilparameter_trace(\n",
    "    parametername=\"Total unit weight [kN/m3]\",\n",
    "    panel_no=1)\n",
    "logplot.add_soilparameter_trace(\n",
    "    parametername=\"qc [MPa]\",\n",
    "    panel_no=2)\n",
    "logplot.add_soilparameter_trace(\n",
    "    parametername=\"qt [MPa]\",\n",
    "    panel_no=2)\n",
    "logplot.add_soilparameter_trace(\n",
    "    parametername=\"Su [kPa]\",\n",
    "    panel_no=3)\n",
    "logplot.add_trace(\n",
    "    x=su_values,\n",
    "    z=depths,\n",
    "    name='Su data',\n",
    "    mode='markers',\n",
    "    showlegend=True,\n",
    "    panel_no=3)\n",
    "logplot.set_xaxis(title=r'$ \\gamma \\ \\text{[kN/m} ^3 \\text{]} $', panel_no=1, range=(15, 23))\n",
    "logplot.set_xaxis(title=r'$ q_c, \\ q_t \\ \\text{[MPa]} $', panel_no=2)\n",
    "logplot.set_xaxis(title=r'$ S_u \\ \\text{[kPa]} $', panel_no=3)\n",
    "logplot.set_zaxis(title=r'$ z \\ \\text{[m]} $', range=(10, 0))\n",
    "logplot.set_size(width=900, height=600)\n",
    "logplot.show()"
   ]
  },
  {
   "cell_type": "markdown",
   "metadata": {},
   "source": [
    "### 4.5. Removing soil parameters\n",
    "\n",
    "A soil parameter can be removed using its name."
   ]
  },
  {
   "cell_type": "code",
   "execution_count": null,
   "metadata": {},
   "outputs": [],
   "source": [
    "profile_2.remove_parameter(parameter=\"qt [MPa]\")\n",
    "profile_2"
   ]
  },
  {
   "cell_type": "markdown",
   "metadata": {},
   "source": [
    "### 4.6. Cutting a soil profile\n",
    "\n",
    "A specific section of the soil profile can be ```cut_profile``` method. A deep copy of the soil profile is then returned which is a ```SoilProfile``` object in itself. The cutting process takes linearly varying parameters into consideration."
   ]
  },
  {
   "cell_type": "code",
   "execution_count": null,
   "metadata": {},
   "outputs": [],
   "source": [
    "profile_extract = profile_2.cut_profile(top_depth=0.5, bottom_depth=8)\n",
    "logplot = LogPlot(profile_2, no_panels=3, fillcolordict={'SAND': 'yellow', 'CLAY': 'brown', 'SILT': 'green'})\n",
    "logplot.add_soilparameter_trace(\n",
    "    parametername=\"Total unit weight [kN/m3]\",\n",
    "    panel_no=1)\n",
    "logplot.add_soilparameter_trace(\n",
    "    parametername=\"qc [MPa]\",\n",
    "    panel_no=2)\n",
    "logplot.add_soilparameter_trace(\n",
    "    parametername=\"Su [kPa]\",\n",
    "    panel_no=3)\n",
    "logplot.add_trace(\n",
    "    x=su_values,\n",
    "    z=depths,\n",
    "    name='Su data',\n",
    "    mode='markers',\n",
    "    showlegend=True,\n",
    "    panel_no=3)\n",
    "logplot.set_xaxis(title=r'$ \\gamma \\ \\text{[kN/m} ^3 \\text{]} $', panel_no=1, range=(15, 23))\n",
    "logplot.set_xaxis(title=r'$ q_c, \\ q_t \\ \\text{[MPa]} $', panel_no=2)\n",
    "logplot.set_xaxis(title=r'$ S_u \\ \\text{[kPa]} $', panel_no=3)\n",
    "logplot.set_zaxis(title=r'$ z \\ \\text{[m]} $', range=(10, 0))\n",
    "logplot.set_size(width=900, height=600)\n",
    "logplot.show()"
   ]
  },
  {
   "cell_type": "markdown",
   "metadata": {},
   "source": [
    "### 4.7. Integration of a soil parameter vs depth\n",
    "\n",
    "A soil parameter can be integrated over the depth and the resulting property can be added to the ```SoilProfile``` dataframe. This only works for soil parameters with a constant value in each layer and with properties specified in each layer (no NaN values). This can be demonstrated for the vertical effective stress, as integrated from the effective unit weight."
   ]
  },
  {
   "cell_type": "code",
   "execution_count": null,
   "metadata": {},
   "outputs": [],
   "source": [
    "profile_2.depth_integration(parameter='Total unit weight [kN/m3]', outputparameter='Vertical total stress [kPa]')\n",
    "logplot = LogPlot(profile_2, no_panels=4, fillcolordict={'SAND': 'yellow', 'CLAY': 'brown', 'SILT': 'green'})\n",
    "logplot.add_soilparameter_trace(\n",
    "    parametername=\"Total unit weight [kN/m3]\",\n",
    "    panel_no=1)\n",
    "logplot.add_soilparameter_trace(\n",
    "    parametername=\"Vertical total stress [kPa]\",\n",
    "    panel_no=2)\n",
    "logplot.add_soilparameter_trace(\n",
    "    parametername=\"qc [MPa]\",\n",
    "    panel_no=3)\n",
    "logplot.add_soilparameter_trace(\n",
    "    parametername=\"Su [kPa]\",\n",
    "    panel_no=4)\n",
    "logplot.set_xaxis(title=r'$ \\gamma \\ \\text{[kN/m} ^3 \\text{]} $', panel_no=1, range=(15, 23))\n",
    "logplot.set_xaxis(title=r'$ \\sigma_{v0} \\ \\text{[kPa]} $', panel_no=2)\n",
    "logplot.set_xaxis(title=r'$ q_c \\ \\text{[MPa]} $', panel_no=3)\n",
    "logplot.set_xaxis(title=r'$ S_u \\ \\text{[kPa]} $', panel_no=4)\n",
    "logplot.set_zaxis(title=r'$ z \\ \\text{[m]} $', range=(10, 0))\n",
    "logplot.set_size(width=900, height=600)\n",
    "logplot.show()"
   ]
  },
  {
   "cell_type": "markdown",
   "metadata": {},
   "source": [
    "Since calculation of overburden is a recurring task in geotechnical analyses, the method ```calculate_overburden``` is implemented to calculate hydrostatic water pressure, total and effective vertical stress with a single statement.\n",
    "\n",
    "The water level can be adjusted. If a layer interface is not present at the location of the water level, an additional interface is created. The soil profile needs to contain a column with the total unit weight to allow the calculation to happen. In layers above the water level, the total unit weight is the dry unit weight and the effective unit weight is equal to this value. In the layers below the water table, the effective unit weight is obtained by subtracting the water unit weight (default 10kN/m$^3$) from the total unit weight."
   ]
  },
  {
   "cell_type": "code",
   "execution_count": null,
   "metadata": {},
   "outputs": [],
   "source": [
    "profile_2.calculate_overburden(waterlevel=2.5)"
   ]
  },
  {
   "cell_type": "code",
   "execution_count": null,
   "metadata": {},
   "outputs": [],
   "source": [
    "profile_2.depth_integration(parameter='Total unit weight [kN/m3]', outputparameter='Vertical total stress [kPa]')\n",
    "logplot = LogPlot(profile_2, no_panels=4, fillcolordict={'SAND': 'yellow', 'CLAY': 'brown', 'SILT': 'green'})\n",
    "logplot.add_soilparameter_trace(\n",
    "    parametername=\"Total unit weight [kN/m3]\",\n",
    "    panel_no=1)\n",
    "logplot.add_soilparameter_trace(\n",
    "    parametername=\"Vertical total stress [kPa]\",\n",
    "    panel_no=2)\n",
    "logplot.add_soilparameter_trace(\n",
    "    parametername=\"Vertical effective stress [kPa]\",\n",
    "    panel_no=2)\n",
    "logplot.add_soilparameter_trace(\n",
    "    parametername=\"qc [MPa]\",\n",
    "    panel_no=3)\n",
    "logplot.add_soilparameter_trace(\n",
    "    parametername=\"Su [kPa]\",\n",
    "    panel_no=4)\n",
    "logplot.set_xaxis(title=r'$ \\gamma \\ \\text{[kN/m} ^3 \\text{]} $', panel_no=1, range=(15, 23))\n",
    "logplot.set_xaxis(title=r'$ \\sigma_{v0}, \\ \\sigma_{v0}^{\\prime} \\ \\text{[kPa]} $', panel_no=2)\n",
    "logplot.set_xaxis(title=r'$ q_c \\ \\text{[MPa]} $', panel_no=3)\n",
    "logplot.set_xaxis(title=r'$ S_u \\ \\text{[kPa]} $', panel_no=4)\n",
    "logplot.set_zaxis(title=r'$ z \\ \\text{[m]} $', range=(10, 0))\n",
    "logplot.set_size(width=900, height=600)\n",
    "logplot.show()"
   ]
  },
  {
   "cell_type": "markdown",
   "metadata": {},
   "source": [
    "## 5. Gridding functionality\n",
    "\n",
    "The ```SoilProfile``` object can be mapped onto a grid. All that is required is a list or Numpy array with the depth coordinates of the grid. The method ```map_soilprofile``` returns a dataframe with the mapped soil parameters."
   ]
  },
  {
   "cell_type": "code",
   "execution_count": null,
   "metadata": {},
   "outputs": [],
   "source": [
    "grid = profile_2.map_soilprofile(\n",
    "    nodalcoords=np.linspace(0, 10, 21))"
   ]
  },
  {
   "cell_type": "code",
   "execution_count": null,
   "metadata": {},
   "outputs": [],
   "source": [
    "logplot = LogPlot(profile_2, no_panels=4, fillcolordict={'SAND': 'yellow', 'CLAY': 'brown', 'SILT': 'green'})\n",
    "logplot.add_soilparameter_trace(\n",
    "    parametername=\"Total unit weight [kN/m3]\",\n",
    "    panel_no=1)\n",
    "logplot.add_soilparameter_trace(\n",
    "    parametername=\"Vertical total stress [kPa]\",\n",
    "    panel_no=2)\n",
    "logplot.add_soilparameter_trace(\n",
    "    parametername=\"Vertical effective stress [kPa]\",\n",
    "    panel_no=2)\n",
    "logplot.add_soilparameter_trace(\n",
    "    parametername=\"qc [MPa]\",\n",
    "    panel_no=3)\n",
    "logplot.add_trace(\n",
    "    x=grid['qc [MPa]'],\n",
    "    z=grid['z [m]'],\n",
    "    name='Gridded qc',\n",
    "    mode='markers',\n",
    "    showlegend=True,\n",
    "    panel_no=3)\n",
    "logplot.add_soilparameter_trace(\n",
    "    parametername=\"Su [kPa]\",\n",
    "    panel_no=4)\n",
    "logplot.set_xaxis(title=r'$ \\gamma \\ \\text{[kN/m} ^3 \\text{]} $', panel_no=1, range=(15, 23))\n",
    "logplot.set_xaxis(title=r'$ \\sigma_{v0}, \\ \\sigma_{v0}^{\\prime} \\ \\text{[kPa]} $', panel_no=2)\n",
    "logplot.set_xaxis(title=r'$ q_c \\ \\text{[MPa]} $', panel_no=3)\n",
    "logplot.set_xaxis(title=r'$ S_u \\ \\text{[kPa]} $', panel_no=4)\n",
    "logplot.set_zaxis(title=r'$ z \\ \\text{[m]} $', range=(10, 0))\n",
    "logplot.set_size(width=900, height=600)\n",
    "logplot.show()"
   ]
  },
  {
   "cell_type": "code",
   "execution_count": null,
   "metadata": {},
   "outputs": [],
   "source": [
    "grid.head()"
   ]
  },
  {
   "cell_type": "markdown",
   "metadata": {},
   "source": [
    "## 6. Changing the depth scale\n",
    "\n",
    "When converting from metric to imperial units and vice versa, depth scales need to be converted from m to ft.\n",
    "\n",
    "This can be done using the ```.convert_depth_reference``` method. The new unit name and the conversion factor need to be specified:"
   ]
  },
  {
   "cell_type": "code",
   "execution_count": null,
   "metadata": {},
   "outputs": [],
   "source": [
    "profile_2.convert_depth_reference(newunit='ft', multiplier=1/0.3048)"
   ]
  },
  {
   "cell_type": "code",
   "execution_count": null,
   "metadata": {},
   "outputs": [],
   "source": [
    "logplot = LogPlot(profile_2, no_panels=3, fillcolordict={'SAND': 'yellow', 'CLAY': 'brown', 'SILT': 'green'})\n",
    "logplot.add_soilparameter_trace(\n",
    "    parametername=\"Total unit weight [kN/m3]\",\n",
    "    panel_no=1)\n",
    "logplot.add_soilparameter_trace(\n",
    "    parametername=\"qc [MPa]\",\n",
    "    panel_no=2)\n",
    "logplot.add_soilparameter_trace(\n",
    "    parametername=\"Su [kPa]\",\n",
    "    panel_no=3)\n",
    "logplot.set_xaxis(title=r'$ \\gamma \\ \\text{[kN/m} ^3 \\text{]} $', panel_no=1, range=(15, 23))\n",
    "logplot.set_xaxis(title=r'$ q_c \\ \\text{[MPa]} $', panel_no=2)\n",
    "logplot.set_xaxis(title=r'$ S_u \\ \\text{[kPa]} $', panel_no=3)\n",
    "logplot.set_zaxis(title=r'$ z \\ \\text{[ft]} $', range=(10 / 0.3048, 0))\n",
    "logplot.set_size(width=900, height=600)\n",
    "logplot.show()"
   ]
  },
  {
   "cell_type": "markdown",
   "metadata": {},
   "source": [
    "The depth scale can be converted back to meters again:"
   ]
  },
  {
   "cell_type": "code",
   "execution_count": null,
   "metadata": {},
   "outputs": [],
   "source": [
    "profile_2.convert_depth_reference(newunit='m', multiplier=0.3048)"
   ]
  },
  {
   "cell_type": "code",
   "execution_count": null,
   "metadata": {},
   "outputs": [],
   "source": [
    "logplot = LogPlot(profile_2, no_panels=3, fillcolordict={'SAND': 'yellow', 'CLAY': 'brown', 'SILT': 'green'})\n",
    "logplot.add_soilparameter_trace(\n",
    "    parametername=\"Total unit weight [kN/m3]\",\n",
    "    panel_no=1)\n",
    "logplot.add_soilparameter_trace(\n",
    "    parametername=\"qc [MPa]\",\n",
    "    panel_no=2)\n",
    "logplot.add_soilparameter_trace(\n",
    "    parametername=\"Su [kPa]\",\n",
    "    panel_no=3)\n",
    "logplot.set_xaxis(title=r'$ \\gamma \\ \\text{[kN/m} ^3 \\text{]} $', panel_no=1, range=(15, 23))\n",
    "logplot.set_xaxis(title=r'$ q_c \\ \\text{[MPa]} $', panel_no=2)\n",
    "logplot.set_xaxis(title=r'$ S_u \\ \\text{[kPa]} $', panel_no=3)\n",
    "logplot.set_zaxis(title=r'$ z \\ \\text{[m]} $', range=(10, 0))\n",
    "logplot.set_size(width=900, height=600)\n",
    "logplot.show()"
   ]
  },
  {
   "cell_type": "code",
   "execution_count": null,
   "metadata": {},
   "outputs": [],
   "source": []
  }
 ],
 "metadata": {
  "hide_input": false,
  "kernelspec": {
   "display_name": "Python 3 (ipykernel)",
   "language": "python",
   "name": "python3"
  },
  "language_info": {
   "codemirror_mode": {
    "name": "ipython",
    "version": 3
   },
   "file_extension": ".py",
   "mimetype": "text/x-python",
   "name": "python",
   "nbconvert_exporter": "python",
   "pygments_lexer": "ipython3",
   "version": "3.10.9"
  },
  "toc": {
   "base_numbering": 1,
   "nav_menu": {},
   "number_sections": true,
   "sideBar": true,
   "skip_h1_title": false,
   "title_cell": "Table of Contents",
   "title_sidebar": "Contents",
   "toc_cell": false,
   "toc_position": {},
   "toc_section_display": true,
   "toc_window_display": false
  }
 },
 "nbformat": 4,
 "nbformat_minor": 4
}
