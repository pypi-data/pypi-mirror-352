{
 "cells": [
  {
   "cell_type": "markdown",
   "metadata": {},
   "source": [
    "# Tutorial - Fence diagrams with ```groundhog```\n",
    "\n",
    "Since version 0.3.0, ```groundhog``` offers the possibility to plot CPT data and ```SoilProfile``` objects along a profile line.\n",
    "\n",
    "The profile line is defined either by the name of a start and endpoint or through the specification of coordinates. To make use of the fence diagram plotting functionality, ```groundhog``` requires ```SoilProfile``` and ```PCPTProcessing``` objects to be georeferenced.\n",
    "\n",
    "A list of georeferenced ```SoilProfile``` or ```PCPTProcessing``` objects is passed to the the plotting functions and the routine will plot only the locations within a certain band around the profile line. The locations are projected on the profile line and the offsets from the profile line are indicated in the plot.\n",
    "\n",
    "This notebook demonstrates how the fence diagram plotting functionality works, based on the publically available data from Borssele I. This data is made available by RVO under a Creative Commons NC-BY-SA license."
   ]
  },
  {
   "cell_type": "markdown",
   "metadata": {},
   "source": [
    "## 1. Library imports\n",
    "\n",
    "The necessary functions for plotting the fence diagrams need to be imported from the ```groundhog.general.soilprofile``` and ```groundhog.siteinvestigation.insitutests.pcpt_processing``` modules. Since the CPT data is given in AGS 4.0 format, we need to load the ```AGSConverter```."
   ]
  },
  {
   "cell_type": "code",
   "execution_count": null,
   "metadata": {},
   "outputs": [],
   "source": [
    "from groundhog.general.soilprofile import SoilProfile, read_excel, plot_fence_diagram\n",
    "from groundhog.siteinvestigation.insitutests.pcpt_processing import PCPTProcessing, plot_longitudinal_profile, \\\n",
    "    plot_combined_longitudinal_profile\n",
    "from groundhog.general.agsconversion import AGSConverter"
   ]
  },
  {
   "cell_type": "markdown",
   "metadata": {},
   "source": [
    "Since Plotly figures will be rendered in the notebook, we need to call the ```init_notebook_mode``` function of Plotly."
   ]
  },
  {
   "cell_type": "code",
   "execution_count": null,
   "metadata": {},
   "outputs": [],
   "source": [
    "from plotly.offline import init_notebook_mode\n",
    "init_notebook_mode()"
   ]
  },
  {
   "cell_type": "markdown",
   "metadata": {},
   "source": [
    "## 2. Profile line location\n",
    "\n",
    "The profile line is drawn in the Souternmost portion of the windfarm.\n",
    "\n",
    "<img src=\"Images/BorsseleI_locations.png\">\n",
    "<br><center><b>Figure 1: CPT and borehole locations</b></center>\n",
    "\n",
    "We will plot data on two profiles, one from BH-WFS1-3 to BH-WFS1-6 and one defined based on the coordinates of a start and end point.\n",
    "\n",
    "The coordinates of the start and end point are defined."
   ]
  },
  {
   "cell_type": "code",
   "execution_count": null,
   "metadata": {},
   "outputs": [],
   "source": [
    "start_point = (499000, 5733000)\n",
    "end_point = (510000, 5728000)"
   ]
  },
  {
   "cell_type": "markdown",
   "metadata": {},
   "source": [
    "## 3. PCPT data\n",
    "\n",
    "The PCPT data can be read from the .asc data for locations, BH-WFS1-3, BH-WFS1-2A, BH-WFS1-5A and BH-WFS1-6. In this tutorial, we will plot the cone tip resistance from the downhole PCPTs along the profile.\n",
    "\n",
    "We can create a ```PCPTProcessing``` object for each of the downhole PCPTs."
   ]
  },
  {
   "cell_type": "code",
   "execution_count": null,
   "metadata": {},
   "outputs": [],
   "source": [
    "locations = ['BH-WFS1-3', 'BH-WFS1-2A', 'BH-WFS1-5A', 'BH-WFS1-6']"
   ]
  },
  {
   "cell_type": "markdown",
   "metadata": {},
   "source": [
    "Note that a loop could easily be written but we will leave this as a code optimisation for advanced Python users."
   ]
  },
  {
   "cell_type": "code",
   "execution_count": null,
   "metadata": {},
   "outputs": [],
   "source": [
    "cpt_3 = PCPTProcessing(title='PCPT BH-WFS1-3')\n",
    "converter = AGSConverter(path=\"Data/N6016_BH_WFS1-3_AGS4_150909.ags\")\n",
    "converter.create_dataframes(selectedgroups=['SCPT'], verbose_keys=True, use_shorthands=True)\n",
    "cpt_3.load_pandas(\n",
    "    df=converter.data['SCPT'],\n",
    "    z_key=\"Depth [m]\",\n",
    "    qc_key=\"qc [MN/m2]\",\n",
    "    fs_key=\"fs [kN/m2]\",\n",
    "    u2_key=\"u2 [kN/m2]\",\n",
    "    push_key=\"Test reference or push number\",\n",
    "    fs_multiplier=0.001, u2_multiplier=0.001)\n",
    "\n",
    "cpt_2A = PCPTProcessing(title='PCPT BH-WFS1-2A')\n",
    "converter = AGSConverter(path=\"Data/N6016_BH_WFS1-2A_AGS4_150909.ags\")\n",
    "converter.create_dataframes(selectedgroups=['SCPT'], verbose_keys=True, use_shorthands=True)\n",
    "cpt_2A.load_pandas(\n",
    "    df=converter.data['SCPT'],\n",
    "    z_key=\"Depth [m]\",\n",
    "    qc_key=\"qc [MN/m2]\",\n",
    "    fs_key=\"fs [kN/m2]\",\n",
    "    u2_key=\"u2 [kN/m2]\",\n",
    "    push_key=\"Test reference or push number\",\n",
    "    fs_multiplier=0.001, u2_multiplier=0.001)\n",
    "\n",
    "cpt_5A = PCPTProcessing(title='PCPT BH-WFS1-5A')\n",
    "converter = AGSConverter(path=\"Data/N6016_BH_WFS1-5A_AGS4_150909.ags\")\n",
    "converter.create_dataframes(selectedgroups=['SCPT'], verbose_keys=True, use_shorthands=True)\n",
    "cpt_5A.load_pandas(\n",
    "    df=converter.data['SCPT'],\n",
    "    z_key=\"Depth [m]\",\n",
    "    qc_key=\"qc [MN/m2]\",\n",
    "    fs_key=\"fs [kN/m2]\",\n",
    "    u2_key=\"u2 [kN/m2]\",\n",
    "    push_key=\"Test reference or push number\",\n",
    "    fs_multiplier=0.001, u2_multiplier=0.001)\n",
    "\n",
    "cpt_6 = PCPTProcessing(title='PCPT BH-WFS1-6')\n",
    "converter = AGSConverter(path=\"Data/N6016_BH_WFS1-6_AGS4_150909.ags\")\n",
    "converter.create_dataframes(selectedgroups=['SCPT'], verbose_keys=True, use_shorthands=True)\n",
    "cpt_6.load_pandas(\n",
    "    df=converter.data['SCPT'],\n",
    "    z_key=\"Depth [m]\",\n",
    "    qc_key=\"qc [MN/m2]\",\n",
    "    fs_key=\"fs [kN/m2]\",\n",
    "    u2_key=\"u2 [kN/m2]\",\n",
    "    push_key=\"Test reference or push number\",\n",
    "    fs_multiplier=0.001, u2_multiplier=0.001)"
   ]
  },
  {
   "cell_type": "markdown",
   "metadata": {},
   "source": [
    "We can set the positions of the ```PCPTProcessing``` objects using the ```set_position``` method. This requires the easting, northing and elevation (negative for water depth) of the test location. Horizontal positions are defined in a coordinate system with a given ```srid``` (more info on https://epsg.io/). The vertical datum can also be set. This is in mLAT by default."
   ]
  },
  {
   "cell_type": "code",
   "execution_count": null,
   "metadata": {},
   "outputs": [],
   "source": [
    "cpt_3.set_position(easting=499081.02, northing=5732354.88, elevation=-32.8, srid=25831)\n",
    "cpt_2A.set_position(easting=502763.64, northing=5732537.58, elevation=-24.6, srid=25831)\n",
    "cpt_5A.set_position(easting=505926.68, northing=5730101.12, elevation=-25.5, srid=25831)\n",
    "cpt_6.set_position(easting=508454.6, northing=5728133.69, elevation=-31.6, srid=25831)"
   ]
  },
  {
   "cell_type": "markdown",
   "metadata": {},
   "source": [
    "Plotting the cone tip resistance vs depth along the profile line between location BH-WFS1-3 and BH-WFS1-6 is a matter of filling in the correct arguments in the ```plot_longitudinal_profile``` function.\n",
    "\n",
    "First, a list with the ```PCPTProcessing``` objects is provided. These have a title and are georeferenced. The routine first check whether the locations are within a specified band surrounding the profile line. Since location BH-WFS1-2A is at an offset greater than 1000m (default for ```band```), we can increase this value.\n",
    "\n",
    "The ```scale_factor``` argument controls the magnitude of the $ q_c $ values on the longitudinal profile. This scale factor can be adjusted until the desired information is well visualised in the plot."
   ]
  },
  {
   "cell_type": "code",
   "execution_count": null,
   "metadata": {},
   "outputs": [],
   "source": [
    "pcpt_fig = plot_longitudinal_profile(\n",
    "    cpts=[cpt_3, cpt_2A, cpt_5A, cpt_6],\n",
    "    start='PCPT BH-WFS1-3', end='PCPT BH-WFS1-6',\n",
    "    band=2000, scale_factor=10\n",
    "    )"
   ]
  },
  {
   "cell_type": "markdown",
   "metadata": {},
   "source": [
    "We can see that the different water depths of the CPTs are taken into account. Lateral continuity of the layers can be inspected."
   ]
  },
  {
   "cell_type": "markdown",
   "metadata": {},
   "source": [
    "## 4. Soil profile\n",
    "\n",
    "A borehole log is available for the identified locations. We can import the borehole log information using the ```read_excel``` function. This function returns a ```SoilProfile``` objects."
   ]
  },
  {
   "cell_type": "code",
   "execution_count": null,
   "metadata": {},
   "outputs": [],
   "source": [
    "profile_3 = read_excel('Data/profile_BorsseleI_3.xlsx', title=\"BH-WFS1-3\")\n",
    "profile_2A = read_excel('Data/profile_BorsseleI_2A.xlsx', title=\"BH-WFS1-2A\")\n",
    "profile_5A = read_excel('Data/profile_BorsseleI_5A.xlsx', title=\"BH-WFS1-5A\")\n",
    "profile_6 = read_excel('Data/profile_BorsseleI_6.xlsx', title=\"BH-WFS1-6\")"
   ]
  },
  {
   "cell_type": "markdown",
   "metadata": {},
   "source": [
    "We can also georeference this boreholes using the ```set_position``` method of the ```SoilProfile``` object."
   ]
  },
  {
   "cell_type": "code",
   "execution_count": null,
   "metadata": {},
   "outputs": [],
   "source": [
    "profile_3.set_position(easting=499081.02, northing=5732354.88, elevation=-32.8, srid=25831)\n",
    "profile_2A.set_position(easting=502763.64, northing=5732537.58, elevation=-24.6, srid=25831)\n",
    "profile_5A.set_position(easting=505926.68, northing=5730101.12, elevation=-25.5, srid=25831)\n",
    "profile_6.set_position(easting=508454.6, northing=5728133.69, elevation=-31.6, srid=25831)"
   ]
  },
  {
   "cell_type": "markdown",
   "metadata": {},
   "source": [
    "For plotting the different soiltypes, we need to create a dictionary in which we assign a color to each soil type. We will use Hex color codes for this."
   ]
  },
  {
   "cell_type": "code",
   "execution_count": null,
   "metadata": {},
   "outputs": [],
   "source": [
    "color_dict = {\n",
    "    'SAND': '#ffe300', # Yellow\n",
    "    'Silty SAND': '#fff5a3', # Light yellow\n",
    "    'Clayey SAND': '#c2ae0c', # Dark yellow\n",
    "    'Gravelly SAND': '#868a44', # Yellow with a shade of grey\n",
    "    'CLAY': '#af7337' # Brown\n",
    "}"
   ]
  },
  {
   "cell_type": "markdown",
   "metadata": {},
   "source": [
    "We can now plot the profile by filling the correct arguments in the ```plot_fence_diagram``` function.\n",
    "\n",
    "A list with ```SoilProfile``` objects is provided as well as the start and end point name through the name of the corresponding soil profile title. The colors of each soil type are defined through the ```fillcolordict``` dictionary.\n",
    "\n",
    "The ```opacity``` argument can be varied from 0 to 1 and the ```logwidth``` argument can be adjusted until the logs are wide enough for good visual presentation."
   ]
  },
  {
   "cell_type": "code",
   "execution_count": null,
   "metadata": {},
   "outputs": [],
   "source": [
    "profile_fig = plot_fence_diagram(\n",
    "    profiles=[profile_3, profile_2A, profile_5A, profile_6],\n",
    "    start='BH-WFS1-3', end='BH-WFS1-6', band=2000,\n",
    "    fillcolordict=color_dict,\n",
    "    opacity=0.8, logwidth=250)"
   ]
  },
  {
   "cell_type": "markdown",
   "metadata": {},
   "source": [
    "The different water depths of the boreholes are again taken into account. Lateral continuity can be inspected although the interpretation of the soil type plays a role in the interpretation. Going back to the actual borehole logs is always a good idea."
   ]
  },
  {
   "cell_type": "markdown",
   "metadata": {},
   "source": [
    "## 5. Combined PCPT + soil profile plot\n",
    "\n",
    "PCPT data (cone tip resistance) and the layering can be visualised on the same profile plot through the ```plot_combined_longitudinal_profile``` function.\n",
    "\n",
    "Here, we will use the profile between the two speficied points by using the ```options='coords'``` argument. Instead of a now, a pair of coordinates is now passed to the function."
   ]
  },
  {
   "cell_type": "code",
   "execution_count": null,
   "metadata": {},
   "outputs": [],
   "source": [
    "cpt_profile_fig = plot_combined_longitudinal_profile(\n",
    "    cpts=[cpt_3, cpt_2A, cpt_5A, cpt_6],\n",
    "    profiles=[profile_3, profile_2A, profile_5A, profile_6],\n",
    "    option='coords', start=start_point, end=end_point, band=1500,\n",
    "    fillcolordict=color_dict,\n",
    "    opacity=0.8, logwidth=250, scale_factor=10)"
   ]
  },
  {
   "cell_type": "markdown",
   "metadata": {},
   "source": [
    "This demonstrates that the borehole logs are based on the CPT data to an important degree. Offsets are now different since the offsets have been calculated in relation to the coordinate-based profile line and not the line between BH-WFS1-3 and BH-WFS1-6."
   ]
  },
  {
   "cell_type": "code",
   "execution_count": null,
   "metadata": {},
   "outputs": [],
   "source": []
  }
 ],
 "metadata": {
  "hide_input": false,
  "kernelspec": {
   "display_name": "Python 3",
   "language": "python",
   "name": "python3"
  },
  "language_info": {
   "codemirror_mode": {
    "name": "ipython",
    "version": 3
   },
   "file_extension": ".py",
   "mimetype": "text/x-python",
   "name": "python",
   "nbconvert_exporter": "python",
   "pygments_lexer": "ipython3",
   "version": "3.7.6"
  },
  "toc": {
   "base_numbering": 1,
   "nav_menu": {},
   "number_sections": true,
   "sideBar": true,
   "skip_h1_title": false,
   "title_cell": "Table of Contents",
   "title_sidebar": "Contents",
   "toc_cell": false,
   "toc_position": {},
   "toc_section_display": true,
   "toc_window_display": true
  }
 },
 "nbformat": 4,
 "nbformat_minor": 4
}
