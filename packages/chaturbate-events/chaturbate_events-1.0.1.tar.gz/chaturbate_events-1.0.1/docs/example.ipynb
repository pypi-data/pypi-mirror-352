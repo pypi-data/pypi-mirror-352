{
 "cells": [
  {
   "cell_type": "markdown",
   "id": "b55f6736",
   "metadata": {},
   "source": [
    "# Chaturbate Events - Quick Start\n",
    "\n",
    "Basic example showing how to connect to the Chaturbate Events API.\n",
    "\n",
    "## Prerequisites\n",
    "\n",
    "- Chaturbate account with API token\n",
    "- Python 3.12+\n",
    "- `chaturbate_events` library installed\n"
   ]
  },
  {
   "cell_type": "code",
   "execution_count": null,
   "id": "c527a72f",
   "metadata": {},
   "outputs": [
    {
     "name": "stdout",
     "output_type": "stream",
     "text": [
      "Connected to Chaturbate Events API...\n",
      "Listening for events (press Ctrl+C to stop)...\n",
      "\n",
      "==================================================\n",
      "Event received!\n",
      "Method: userEnter\n",
      "ID: 1748919662520-0\n",
      "   Event type: BroadcastStartEvent\n",
      "\n",
      "==================================================\n",
      "Event received!\n",
      "Method: tip\n",
      "ID: 1748919662678-0\n",
      "\n",
      "TIP RECEIVED!\n",
      "   Amount: 25 tokens\n",
      "   From: mountaingod2\n",
      "\n",
      "Event stream cancelled.\n"
     ]
    }
   ],
   "source": [
    "from chaturbate_events import ChaturbateEventsClient, TipEvent\n",
    "\n",
    "\n",
    "async def main():\n",
    "    \"\"\"Stream events from Chaturbate API.\"\"\"\n",
    "    username = \"your_username\"\n",
    "    api_token = \"your_api_token\"\n",
    "\n",
    "    async with ChaturbateEventsClient(username, api_token, testbed=True) as client:\n",
    "        print(\"Connected. Listening for events...\")\n",
    "\n",
    "        async for event in client.stream_events():\n",
    "            print(f\"Event: {event.method} (ID: {event.id})\")\n",
    "\n",
    "            if isinstance(event, TipEvent):\n",
    "                print(f\"Tip: {event.tip.tokens} tokens from {event.user.username}\")\n",
    "                if event.tip.message:\n",
    "                    print(f\"Message: {event.tip.message}\")\n",
    "\n",
    "\n",
    "# Run the example\n",
    "try:\n",
    "    await main()\n",
    "except KeyboardInterrupt:\n",
    "    print(\"Stopped.\")"
   ]
  },
  {
   "cell_type": "markdown",
   "id": "a57585f4",
   "metadata": {},
   "source": [
    "## Configuration\n",
    "\n",
    "- `testbed=True` - Use testbed environment for development\n",
    "- `testbed=False` - Use production environment\n",
    "\n",
    "See the API documentation for all available event types and configuration options.\n"
   ]
  }
 ],
 "metadata": {
  "kernelspec": {
   "display_name": ".venv",
   "language": "python",
   "name": "python3"
  },
  "language_info": {
   "codemirror_mode": {
    "name": "ipython",
    "version": 3
   },
   "file_extension": ".py",
   "mimetype": "text/x-python",
   "name": "python",
   "nbconvert_exporter": "python",
   "pygments_lexer": "ipython3",
   "version": "3.13.2"
  }
 },
 "nbformat": 4,
 "nbformat_minor": 5
}
