{
 "cells": [
  {
   "cell_type": "code",
   "execution_count": null,
   "metadata": {},
   "outputs": [],
   "source": [
    "import os, sys\n",
    "path_to_add = os.path.dirname(os.path.abspath(os.getcwd()))\n",
    "\n",
    "if path_to_add not in sys.path:\n",
    "    sys.path.append(path_to_add)\n",
    "    \n",
    "from pathlib import Path\n",
    "import numpy as np\n",
    "from cellector.io import create_from_suite2p, create_from_suite3d, create_from_mask_volume, create_from_pixel_data\n",
    "from cellector.io import propagate_criteria\n",
    "from cellector.manager import CellectorManager\n",
    "from cellector.gui import SelectionGUI"
   ]
  },
  {
   "cell_type": "code",
   "execution_count": null,
   "metadata": {},
   "outputs": [],
   "source": [
    "suite2p_dir = Path(r\"C:\\Path\\to\\suite2p\\results\") # this is the one that contains folders for each plane!!!\n",
    "use_redcell = True # will load the redcell.npy files from each plane folder and use those as a \"feature\"\n",
    "clear_existing = False # if True, will delete any existing cellector files in the suite2p folder\n",
    "autocompute = True # if True, will automatically compute all the features and save them to the cellector files (this takes ~10 seconds depending on your number of ROIs)\n",
    "\n",
    "# build the roi_processor object\n",
    "# will load all mask and reference data, and will load saved features from the cellector folder if they exist instead of recomputing them \n",
    "# the save directory will be suite2p_dir / cellector\n",
    "roi_processor = create_from_suite2p(suite2p_dir, use_redcell=use_redcell, clear_existing=clear_existing, autocompute=autocompute)\n",
    "\n",
    "# if you want to recompute the features, you can either set clear_existing to True (which will remove all existing cellector files...)\n",
    "# or you can call the compute_features method with use_saved=False like follows\n",
    "# roi_processor.compute_features(use_saved=False)"
   ]
  },
  {
   "cell_type": "code",
   "execution_count": null,
   "metadata": {},
   "outputs": [],
   "source": [
    "# You can also use the outputs of suite3d, which produces volumetric ROIs\n",
    "suite3d_dir = Path(r\"C:\\Path\\to\\suite3d\\results\") # this is the one that contains folders for each plane!!!\n",
    "clear_existing = False # if True, will delete any existing cellector files in the suite2p folder\n",
    "autocompute = True # if True, will automatically compute all the features and save them to the cellector files (this takes ~10 seconds depending on your number of ROIs)\n",
    "\n",
    "# build the roi_processor object\n",
    "# will load all mask and reference data, and will load saved features from the cellector folder if they exist instead of recomputing them \n",
    "# the save directory will be suite3d_dir / cellector\n",
    "roi_processor = create_from_suite3d(suite3d_dir, clear_existing=clear_existing, autocompute=autocompute)"
   ]
  },
  {
   "cell_type": "code",
   "execution_count": null,
   "metadata": {},
   "outputs": [],
   "source": [
    "# Alternative to above, if you have mask data independent from suite2p, use one of the following\n",
    "save_dir = Path(r\"C:\\Path\\to\\save_direcotry\") # this is where results will be saved\n",
    "\n",
    "stats = # List of dictionaries containing mask data (lam, ypix, xpix, for each ROI)\n",
    "reference_images = # 3D array of reference images - one for each plane\n",
    "plane_idx = # 1D array relating each mask to the apppropriate reference image\n",
    "functional_reference_images = None # OPTIONAL! Same shape as reference images but for the functional channel\n",
    "\n",
    "# if you have stats already, use:\n",
    "roi_processor = create_from_pixel_data(save_dir, stats, reference_images, plane_idx, functional_references=functional_reference_images)\n",
    "\n",
    "# if you have a mask volume but not stats, use:\n",
    "mask_volume = # 3D array, where each slice is an image of the mask for your ROIs\n",
    "roi_processor = create_from_mask_volume(save_dir, mask_volume, reference_images, plane_idx, functional_references=functional_reference_images)"
   ]
  },
  {
   "cell_type": "code",
   "execution_count": 5,
   "metadata": {},
   "outputs": [],
   "source": [
    "# Open the GUI\n",
    "gui = SelectionGUI(roi_processor)"
   ]
  },
  {
   "cell_type": "code",
   "execution_count": null,
   "metadata": {},
   "outputs": [],
   "source": [
    "# If you want to use the criteria selected in the GUI for other sessions, you can propagate them like this:\n",
    "other_directories = [Path(r\"C:\\Path\\to\\other\\suite2p\"), Path(r\"C:\\Path\\to\\another\\suite2\"), ...] # as many as you like\n",
    "\n",
    "# First you have to process each folder so the features are computed and stored\n",
    "# You can do it like this:\n",
    "for directory in other_directories:\n",
    "    roi_processor = create_from_suite2p(directory, autocompute=True) # or whichever method you used to create the roi_processor\n",
    "\n",
    "# Then propagate the criteria from a session you manually curated to all the others like this:\n",
    "success, failure = propagate_criteria(suite2p_dir, *other_directories)\n",
    "\n",
    "# Success is a dictionary with keys equal to successful target directories and values set to the names of criteria that were propagated\n",
    "# Failure is a dictionary with keys equal to failed target directories and values set to the error message for each one"
   ]
  },
  {
   "cell_type": "code",
   "execution_count": null,
   "metadata": {},
   "outputs": [],
   "source": [
    "# Optional: if you want to update the criteria programmatically, you can choose a \n",
    "# feature (or multiple) and set new criteria like this:\n",
    "\n",
    "# Criteria have to be a 2 element list or numpy array, with increasing float values,\n",
    "# where the first element is the lower bound and the second element is the upper bound\n",
    "# If you want to ignore the lower / upper bound, set that one to None\n",
    "feature_with_criteria_to_update = \"dot_product\"\n",
    "new_criteria = [None, np.inf] # this will set the criteria to be \"dot_product < np.inf\" e.g. not use a negative threshold and keep everything below infinity\n",
    "\n",
    "# Then, if you want to automatically apply the criteria without opening the GUI, you can do this:\n",
    "for directory in other_directories:\n",
    "    roi_processor = create_from_suite2p(directory) # or whichever method you used to create the roi_processor\n",
    "    manager = CellectorManager.make_from_roi_processor(roi_processor)\n",
    "    \n",
    "    # you can update criteria programmatically like this\n",
    "    manager.update_criteria(feature_with_criteria_to_update, new_criteria)\n",
    "    \n",
    "    # this will save the updated criteria and idx_selection to cellector directory\n",
    "    # it will also save empty manual label arrays if they don't exist\n",
    "    manager.save_all() \n",
    "\n",
    "    # Or save everything independently...\n",
    "    manager.save_criteria()\n",
    "    manager.save_idx_selected()\n",
    "    manager.save_manual_selection()\n",
    "    manager.save_features()\n"
   ]
  },
  {
   "cell_type": "markdown",
   "metadata": {},
   "source": [
    "## Handling deprecations\n",
    "This is a new package, so there is some updates that will impact backwards incompatibility. Some of them will be \"obvious\" because\n",
    "they involve changes to the API so things will break or methods won't exist anymore. Sorry. \n",
    "\n",
    "Some updates, on the other hand, involve changes in file path convention. This is important to update because if you continue using\n",
    "cellector with updated versions, your data will be named differently on disk. To address this major annoyance, there are some tools\n",
    "for fixing old names / data structure quickly. "
   ]
  },
  {
   "cell_type": "code",
   "execution_count": null,
   "metadata": {},
   "outputs": [],
   "source": [
    "from cellector.io import identify_cellector_folders, update_idx_selection_filenames, update_feature_paths, update_manual_selection_shape\n",
    "\n",
    "top_dir = \"./some/path\" # any path that you know contains all the cellector directories you've made\n",
    "root_dirs = identify_cellector_folders(top_dir) # returns a list of all directories that contain a dir named \"cellector\" one level down.\n",
    "\n",
    "update_idx_selection_filenames(root_dirs) # changes targetcell.npy to idx_selection.npy\n",
    "update_manual_selection_shape(root_dirs) # converts manual_selection to a (2, num_rois) array from an (num_rois, 2) array\n",
    "update_feature_paths(root_dirs) # uses new feature naming conventions ({fname}_feature.npy) instead of ({fname}.npy) and ({fname}_featurecriteria.npy) instead of ({fname}_criteria.npy)"
   ]
  }
 ],
 "metadata": {
  "kernelspec": {
   "display_name": "cellector",
   "language": "python",
   "name": "python3"
  },
  "language_info": {
   "codemirror_mode": {
    "name": "ipython",
    "version": 3
   },
   "file_extension": ".py",
   "mimetype": "text/x-python",
   "name": "python",
   "nbconvert_exporter": "python",
   "pygments_lexer": "ipython3",
   "version": "3.11.10"
  }
 },
 "nbformat": 4,
 "nbformat_minor": 2
}
