{
 "cells": [
  {
   "cell_type": "markdown",
   "metadata": {},
   "source": [
    "# Cognyx client debug notebook\n",
    "\n",
    "This notebook is used to debug the Cognyx client used in cognyx automations.\n",
    "you will need a .env file with a JWT token to run this notebook. You can get this after logging into the cognyx app.\n",
    "\n",
    "In the cell below, define the bom_id and view_id you want to use (view_id will default to default view if not provided)"
   ]
  },
  {
   "cell_type": "code",
   "execution_count": 1,
   "metadata": {},
   "outputs": [],
   "source": [
    "import os\n",
    "\n",
    "jwt = os.getenv(\"COGNYX_TOKEN\")\n",
    "\n",
    "bom_id = \"5cebf3b2-299a-4253-a365-a2f49d167911\"\n",
    "view_id = None\n",
    "base_url = \"http://localhost:4000\"\n",
    "\n",
    "if not bom_id:\n",
    "    raise ValueError(\"bom_id is required\")"
   ]
  },
  {
   "cell_type": "markdown",
   "metadata": {},
   "source": [
    "It will load the bom data and return it."
   ]
  },
  {
   "cell_type": "code",
   "execution_count": 2,
   "metadata": {},
   "outputs": [
    {
     "name": "stdout",
     "output_type": "stream",
     "text": [
      "{'id': '5cebf3b2-299a-4253-a365-a2f49d167911', 'name': 'Complete Kite', 'description': 'Fully assembled kite ready for use outdoors', 'reference': 'KITE-001', 'image': '', 'status': 'draft', 'failure_reason': None, 'created_at': '2025-06-02T10:17:04.000000Z', 'updated_at': '2025-06-04T09:15:07.000000Z', 'auth': {'can': {'view': True, 'update': True, 'delete': True, 'share': True, 'comment': True, 'create': True, 'create_revision': True}}}\n"
     ]
    }
   ],
   "source": [
    "from cognyx_bom_sdk.cognyx import CognyxClient\n",
    "\n",
    "cognyx = CognyxClient(base_url=base_url, jwt_token=jwt)\n",
    "\n",
    "bom_data = await cognyx.load_bom_data(bom_id, view_id)"
   ]
  },
  {
   "cell_type": "markdown",
   "metadata": {},
   "source": [
    "When the bom is loaded it will then initialize the BomClient"
   ]
  },
  {
   "cell_type": "code",
   "execution_count": 3,
   "metadata": {},
   "outputs": [],
   "source": [
    "from cognyx_bom_sdk.client import BomClient\n",
    "\n",
    "\n",
    "def update_callback(update: dict) -> None:\n",
    "    \"\"\"Callback function to handle updates to the BOM.\"\"\"\n",
    "    print(\"Update:\", update)\n",
    "\n",
    "\n",
    "client = BomClient(bom_data=bom_data, update_callback=update_callback)"
   ]
  },
  {
   "cell_type": "code",
   "execution_count": 6,
   "metadata": {},
   "outputs": [
    {
     "name": "stdout",
     "output_type": "stream",
     "text": [
      "Update: {'type': <BomUpdates.ATTRIBUTE_UPDATE: 'attribute_update'>, 'payload': {'instance_id': '2e301eff-50bc-4a4a-bcad-8ee96c39bf7b', 'attribute_id': '3d610d88-68a1-4b86-95af-9457c96c8804', 'attribute_value': 'France'}}\n"
     ]
    }
   ],
   "source": [
    "instance = client.get_bom_instance(\"child 2\")\n",
    "\n",
    "client.set_instance_attribute(instance.id, \"country\", \"France\")"
   ]
  },
  {
   "cell_type": "markdown",
   "metadata": {},
   "source": [
    "You can now use the client to interact with the BOM."
   ]
  },
  {
   "cell_type": "code",
   "execution_count": null,
   "metadata": {},
   "outputs": [
    {
     "data": {
      "text/plain": [
       "0"
      ]
     },
     "execution_count": 5,
     "metadata": {},
     "output_type": "execute_result"
    }
   ],
   "source": [
    "from functools import reduce\n",
    "\n",
    "from cognyx_bom_sdk.models import BomInstance\n",
    "\n",
    "mass_attribute = \"added mass g\"\n",
    "\n",
    "\n",
    "def get_instance_mass(instance: BomInstance) -> int:\n",
    "    \"\"\"Get the mass of a BOM instance.\n",
    "\n",
    "    Args:\n",
    "        instance: BOM instance\n",
    "\n",
    "    Returns:\n",
    "        The mass of the instance\n",
    "    \"\"\"\n",
    "    instance_mass = client.get_instance_attribute(instance.id, mass_attribute)\n",
    "\n",
    "    if instance_mass is None:\n",
    "        return 0\n",
    "\n",
    "    print(f\"instance {instance.name} weighs {instance_mass}g\")\n",
    "    return instance.quantity * instance_mass\n",
    "\n",
    "\n",
    "reduce(lambda total, instance: total + get_instance_mass(instance), client.list_bom_instances(), 0)"
   ]
  },
  {
   "cell_type": "code",
   "execution_count": null,
   "metadata": {},
   "outputs": [
    {
     "ename": "NameError",
     "evalue": "name 'client' is not defined",
     "output_type": "error",
     "traceback": [
      "\u001b[31m---------------------------------------------------------------------------\u001b[39m",
      "\u001b[31mNameError\u001b[39m                                 Traceback (most recent call last)",
      "\u001b[36mCell\u001b[39m\u001b[36m \u001b[39m\u001b[32mIn[17]\u001b[39m\u001b[32m, line 1\u001b[39m\n\u001b[32m----> \u001b[39m\u001b[32m1\u001b[39m instance = \u001b[43mclient\u001b[49m.get_bom_instance(\u001b[33m\"\u001b[39m\u001b[33mchild 2\u001b[39m\u001b[33m\"\u001b[39m)\n\u001b[32m      3\u001b[39m \u001b[38;5;28mprint\u001b[39m(instance.id)\n",
      "\u001b[31mNameError\u001b[39m: name 'client' is not defined"
     ]
    }
   ],
   "source": [
    "instance = client.get_bom_instance(\"child 2\")\n",
    "\n",
    "print(instance.id)\n"
   ]
  }
 ],
 "metadata": {
  "kernelspec": {
   "display_name": ".venv",
   "language": "python",
   "name": "python3"
  },
  "language_info": {
   "codemirror_mode": {
    "name": "ipython",
    "version": 3
   },
   "file_extension": ".py",
   "mimetype": "text/x-python",
   "name": "python",
   "nbconvert_exporter": "python",
   "pygments_lexer": "ipython3",
   "version": "3.11.11"
  }
 },
 "nbformat": 4,
 "nbformat_minor": 2
}
