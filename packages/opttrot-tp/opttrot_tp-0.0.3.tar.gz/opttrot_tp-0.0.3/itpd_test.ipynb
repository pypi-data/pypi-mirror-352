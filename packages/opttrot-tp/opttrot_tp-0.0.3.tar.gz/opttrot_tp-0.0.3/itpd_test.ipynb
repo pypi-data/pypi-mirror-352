{
 "cells": [
  {
   "cell_type": "markdown",
   "metadata": {},
   "source": [
    "# TPD/iTPD implementation test "
   ]
  },
  {
   "cell_type": "code",
   "execution_count": 2,
   "metadata": {},
   "outputs": [],
   "source": [
    "from tpc import tp\n",
    "from tpc.utils import mat_diff, ppoly2mat\n",
    "import numpy as np"
   ]
  },
  {
   "cell_type": "code",
   "execution_count": 3,
   "metadata": {},
   "outputs": [],
   "source": [
    "from copy import deepcopy"
   ]
  },
  {
   "cell_type": "code",
   "execution_count": 4,
   "metadata": {},
   "outputs": [],
   "source": [
    "# Random hermit matrix\n",
    "n = 5\n",
    "N = int(2**n)\n",
    "A = np.random.rand(N, N)\n",
    "B = np.random.rand(N, N)\n",
    "C = np.matrix(A + 1j* B)\n",
    "H = 0.5*(C + C.H)"
   ]
  },
  {
   "cell_type": "markdown",
   "metadata": {},
   "source": [
    "## TPD algorithm"
   ]
  },
  {
   "cell_type": "code",
   "execution_count": 5,
   "metadata": {},
   "outputs": [],
   "source": [
    "# Canonical matrix\n",
    "canonical = (tp.tpd(deepcopy(H)).real)"
   ]
  },
  {
   "cell_type": "code",
   "execution_count": 6,
   "metadata": {},
   "outputs": [
    {
     "data": {
      "text/plain": [
       "matrix([[ 5.44555095e-01,  6.02989910e-01,  3.87073723e-01, ...,\n",
       "          4.21958047e-01,  4.19412093e-01,  5.00974270e-01],\n",
       "        [-3.35484755e-02,  4.63258799e-03, -8.66116457e-03, ...,\n",
       "         -1.17563344e-02,  3.66342626e-02, -1.04050009e-02],\n",
       "        [-5.77824182e-02, -2.45945537e-03, -1.90482889e-02, ...,\n",
       "         -5.05748751e-02, -1.85940682e-02,  2.21826094e-02],\n",
       "        ...,\n",
       "        [-4.48801671e-02, -3.86988267e-02,  1.48600073e-01, ...,\n",
       "          7.97223287e-04,  7.67660013e-02, -6.65307687e-02],\n",
       "        [-3.41855978e-02, -9.67426829e-02,  4.86579824e-02, ...,\n",
       "          1.06407620e-01,  6.83721358e-02, -5.20215381e-02],\n",
       "        [-7.86543963e-05,  2.13919787e-02, -6.76479695e-02, ...,\n",
       "         -5.40316675e-02, -8.94000781e-03,  1.87324102e-02]])"
      ]
     },
     "execution_count": 6,
     "metadata": {},
     "output_type": "execute_result"
    }
   ],
   "source": [
    "canonical"
   ]
  },
  {
   "cell_type": "markdown",
   "metadata": {},
   "source": [
    "## Canonical matrix to Pauli poly\n",
    "\n",
    "$M$: Canonical matrix, result of TPD algorithm.\n",
    "$$M_{i,j} = w_{nz, nx} $$\n",
    "$$(i,j) = (nz, nz^\\wedge nx)$$\n",
    "$$(nz, nx) = (i, i^\\wedge j)$$"
   ]
  },
  {
   "cell_type": "code",
   "execution_count": 7,
   "metadata": {},
   "outputs": [],
   "source": [
    "Paulistring = [\"IIIZ\", \"XYZI\", \"XXXX\"]"
   ]
  },
  {
   "cell_type": "code",
   "execution_count": 10,
   "metadata": {},
   "outputs": [],
   "source": [
    "ppoly = tp.pauli_basis2ppoly(canonical)"
   ]
  },
  {
   "cell_type": "code",
   "execution_count": 11,
   "metadata": {},
   "outputs": [
    {
     "data": {
      "text/plain": [
       "([('IIIII', 0.5445550951150779),\n",
       "  ('IIIIX', 0.6029899100075405),\n",
       "  ('IIIXI', 0.3870737225128674),\n",
       "  ('IIIXX', 0.46490462838675406),\n",
       "  ('IIXII', 0.5885352585793704)],\n",
       " [('ZZYZZ', -0.0803786496743522),\n",
       "  ('ZZZYY', 0.04873110223217517),\n",
       "  ('ZZZYZ', -0.054031667487650356),\n",
       "  ('ZZZZY', -0.008940007810318215),\n",
       "  ('ZZZZZ', 0.01873241024523649)])"
      ]
     },
     "execution_count": 11,
     "metadata": {},
     "output_type": "execute_result"
    }
   ],
   "source": [
    "ppoly[:5], ppoly[-5:]"
   ]
  },
  {
   "cell_type": "code",
   "execution_count": 12,
   "metadata": {},
   "outputs": [],
   "source": [
    "pstrs = ppoly[:5]"
   ]
  },
  {
   "cell_type": "code",
   "execution_count": 18,
   "metadata": {},
   "outputs": [],
   "source": [
    "indexes = [tp.pstr2ij_code(p[0]) for p in pstrs]"
   ]
  },
  {
   "cell_type": "code",
   "execution_count": 21,
   "metadata": {},
   "outputs": [
    {
     "data": {
      "text/plain": [
       "[(0, 0), (0, 1), (0, 2), (0, 3), (0, 4)]"
      ]
     },
     "execution_count": 21,
     "metadata": {},
     "output_type": "execute_result"
    }
   ],
   "source": [
    "indexes"
   ]
  },
  {
   "cell_type": "code",
   "execution_count": 19,
   "metadata": {},
   "outputs": [],
   "source": [
    "N = 5\n",
    "mat = np.zeros((2**N, 2**N))"
   ]
  },
  {
   "cell_type": "code",
   "execution_count": 20,
   "metadata": {},
   "outputs": [
    {
     "ename": "TypeError",
     "evalue": "list indices must be integers or slices, not tuple",
     "output_type": "error",
     "traceback": [
      "\u001b[0;31m---------------------------------------------------------------------------\u001b[0m",
      "\u001b[0;31mTypeError\u001b[0m                                 Traceback (most recent call last)",
      "Cell \u001b[0;32mIn[20], line 1\u001b[0m\n\u001b[0;32m----> 1\u001b[0m \u001b[38;5;28;01mfor\u001b[39;00m index, w \u001b[38;5;129;01min\u001b[39;00m \u001b[38;5;28mzip\u001b[39m(indexes, \u001b[43mpstrs\u001b[49m\u001b[43m[\u001b[49m\u001b[43m:\u001b[49m\u001b[43m,\u001b[49m\u001b[43m \u001b[49m\u001b[38;5;241;43m1\u001b[39;49m\u001b[43m]\u001b[49m):\n\u001b[1;32m      2\u001b[0m     mat[index] \u001b[38;5;241m=\u001b[39m w\n",
      "\u001b[0;31mTypeError\u001b[0m: list indices must be integers or slices, not tuple"
     ]
    }
   ],
   "source": [
    "for index, w in zip(indexes, pstrs[:, 1]):\n",
    "    mat[index] = w"
   ]
  },
  {
   "cell_type": "markdown",
   "metadata": {},
   "source": [
    "## Pauli polynomial to canonical matrix"
   ]
  },
  {
   "cell_type": "markdown",
   "metadata": {},
   "source": [
    "$$\\sum_{nz, nx} \\omega_{nz, nx} P_{nz, nx} \\rightarrow M$$"
   ]
  },
  {
   "cell_type": "code",
   "execution_count": 23,
   "metadata": {},
   "outputs": [
    {
     "data": {
      "text/plain": [
       "matrix([[ 0.56153029+0.j,  0.45604713+0.j,  0.50851166+0.j, ...,\n",
       "          0.41970604+0.j,  0.47387409+0.j,  0.46898219+0.j],\n",
       "        [-0.0155733 +0.j, -0.01956309+0.j, -0.01252462+0.j, ...,\n",
       "         -0.01219589+0.j, -0.04804467+0.j, -0.00874808+0.j],\n",
       "        [ 0.09226451+0.j,  0.03240614+0.j, -0.1073068 +0.j, ...,\n",
       "          0.04117718+0.j, -0.01437803+0.j,  0.05191796+0.j],\n",
       "        ...,\n",
       "        [ 0.01569611+0.j, -0.02012842+0.j,  0.01197734+0.j, ...,\n",
       "         -0.08435024+0.j,  0.05659452+0.j, -0.0120251 +0.j],\n",
       "        [ 0.08208257+0.j, -0.06444761+0.j,  0.09406771+0.j, ...,\n",
       "         -0.00853974+0.j,  0.01713914+0.j, -0.05005177+0.j],\n",
       "        [ 0.00927137+0.j, -0.07101529+0.j,  0.12513197+0.j, ...,\n",
       "         -0.08088744+0.j,  0.03420327+0.j, -0.0098746 +0.j]])"
      ]
     },
     "execution_count": 23,
     "metadata": {},
     "output_type": "execute_result"
    }
   ],
   "source": [
    "canonical = tp.ppoly2canonical(ppoly)\n",
    "canonical"
   ]
  },
  {
   "cell_type": "code",
   "execution_count": null,
   "metadata": {},
   "outputs": [],
   "source": [
    "H_res = tp.itpd(ppoly)\n",
    "H_res_naive = ppoly2mat(ppoly) # Naive tensor product"
   ]
  },
  {
   "cell_type": "markdown",
   "metadata": {},
   "source": [
    "## Test the restored Hamiltonian\n",
    "\n",
    "$$D = H - H_{res}$$\n",
    "$$\\sqrt{\\langle D | D \\rangle}$$"
   ]
  },
  {
   "cell_type": "code",
   "execution_count": 27,
   "metadata": {},
   "outputs": [
    {
     "data": {
      "text/plain": [
       "((5.148747239520243e-16+0j),\n",
       " (2.320133686802434-6.356972294260158e-19j),\n",
       " (2.320133686802434-7.71489363849964e-19j))"
      ]
     },
     "execution_count": 27,
     "metadata": {},
     "output_type": "execute_result"
    }
   ],
   "source": [
    "mat_diff(H, H_res), mat_diff(H, H_res_naive), mat_diff(H_res, H_res_naive)"
   ]
  },
  {
   "cell_type": "markdown",
   "metadata": {},
   "source": [
    "## Effective Term method"
   ]
  },
  {
   "cell_type": "code",
   "execution_count": null,
   "metadata": {},
   "outputs": [],
   "source": [
    "H_eff = tp.itpd_eff(ppoly) # Avoid unecessary calculation."
   ]
  },
  {
   "cell_type": "code",
   "execution_count": 15,
   "metadata": {},
   "outputs": [
    {
     "data": {
      "text/plain": [
       "(5.267182256956205e-16+0j)"
      ]
     },
     "execution_count": 15,
     "metadata": {},
     "output_type": "execute_result"
    }
   ],
   "source": [
    "mat_diff(H, H_eff)"
   ]
  }
 ],
 "metadata": {
  "kernelspec": {
   "display_name": "opttrot",
   "language": "python",
   "name": "python3"
  },
  "language_info": {
   "codemirror_mode": {
    "name": "ipython",
    "version": 3
   },
   "file_extension": ".py",
   "mimetype": "text/x-python",
   "name": "python",
   "nbconvert_exporter": "python",
   "pygments_lexer": "ipython3",
   "version": "3.12.4"
  }
 },
 "nbformat": 4,
 "nbformat_minor": 2
}
