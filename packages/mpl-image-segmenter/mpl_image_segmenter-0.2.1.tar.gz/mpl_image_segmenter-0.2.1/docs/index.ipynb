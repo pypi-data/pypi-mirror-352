{
 "cells": [
  {
   "cell_type": "markdown",
   "id": "8328b715-5c80-4a62-a77e-39d16f31cb6e",
   "metadata": {},
   "source": [
    "# mpl-image-segmenter's Documentation\n",
    "\n",
    "Manually segment images with matplotlib.\n",
    "\n",
    "![](_static/images/segment.gif)\n",
    "\n",
    "## Install\n",
    "```bash\n",
    "pip install mpl-image-segmenter\n",
    "```\n",
    "\n",
    "```{toctree}\n",
    ":caption: Examples\n",
    ":maxdepth: 1\n",
    "\n",
    "examples/usage-guide.ipynb\n",
    "examples/ipywidgets.ipynb\n",
    "```\n",
    "\n",
    "```{toctree}\n",
    ":maxdepth: 2\n",
    ":caption: Misc\n",
    "\n",
    "API <api/mpl_image_segmenter>\n",
    "contributing\n",
    "differences\n",
    "```\n",
    "\n",
    "\n"
   ]
  }
 ],
 "metadata": {
  "kernelspec": {
   "display_name": "Python 3 (ipykernel)",
   "language": "python",
   "name": "python3"
  },
  "language_info": {
   "codemirror_mode": {
    "name": "ipython",
    "version": 3
   },
   "file_extension": ".py",
   "mimetype": "text/x-python",
   "name": "python",
   "nbconvert_exporter": "python",
   "pygments_lexer": "ipython3",
   "version": "3.11.0"
  },
  "vscode": {
   "interpreter": {
    "hash": "55dd65db90870e4ef86f9b4099f0eeaeed6e43259b5e360e26f77b1862bc7b1c"
   }
  },
  "widgets": {
   "application/vnd.jupyter.widget-state+json": {
    "state": {},
    "version_major": 2,
    "version_minor": 0
   }
  }
 },
 "nbformat": 4,
 "nbformat_minor": 5
}
