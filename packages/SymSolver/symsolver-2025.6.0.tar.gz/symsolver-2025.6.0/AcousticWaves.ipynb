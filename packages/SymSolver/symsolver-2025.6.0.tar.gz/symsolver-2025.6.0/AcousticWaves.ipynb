{
 "cells": [
  {
   "cell_type": "markdown",
   "id": "56d11c43-f412-418a-9177-d07771dfe020",
   "metadata": {},
   "source": [
    "# Acoustic Wave Example\n",
    "This notebook demonstrates how to use SymSolver to work out the dispersion relation for acoustic waves.  \n",
    "It includes:\n",
    "- solution to Neutral Acoustic Waves case\n",
    "- steps for:\n",
    "  - setting up equations\n",
    "  - finding the dispersion relation\n",
    "  - evaluating the dispersion relation (plugging in numbers, converting to a polynomial)\n",
    "  - plugging in an array, and working with an array of polynomials\n",
    "- solution to Ion Acoustic Waves case\n",
    "- telling the code what to do, in case it crashes but you know how to proceed with the algebra..."
   ]
  },
  {
   "cell_type": "code",
   "execution_count": 1,
   "id": "2c3a99c0-e4cc-4adf-8fad-b617fe90bbbe",
   "metadata": {},
   "outputs": [],
   "source": [
    "import SymSolver as ss\n",
    "\n",
    "## the following lines are helpful while developing SymSolver;\n",
    "## they let you reload the package without restarting the kernel.\n",
    "## be careful though, using old SymSolver variables after reloading may cause unexpected behavior.\n",
    "# ss.enable_reload();\n",
    "# import SymSolver as ss\n",
    "\n",
    "import numpy as np  # << for plugging in an array of numbers\n",
    "\n",
    "import pdb  # (for debugging crashes; after a crash try pdb.pm() in the next cell.)"
   ]
  },
  {
   "cell_type": "markdown",
   "id": "8156c07d",
   "metadata": {},
   "source": [
    "# Neutral Acoustic Waves"
   ]
  },
  {
   "cell_type": "markdown",
   "id": "1801f7ed",
   "metadata": {},
   "source": [
    "## Define Variables & Equations\n",
    "you can define variables by hand, or use presets."
   ]
  },
  {
   "cell_type": "code",
   "execution_count": 2,
   "id": "8f93d15c",
   "metadata": {},
   "outputs": [],
   "source": [
    "# # (OPTION 1) DEFINE BY HAND # #\n",
    "n, P = ss.symbols('n P')  # ss.symbols(('n', 'P')) is also valid.\n",
    "u = ss.symbol('u', vector=True)\n",
    "m = ss.symbol('m', constant=True)  # constant=True --> treat this like a constant (e.g. in derivatives)\n",
    "gamma = ss.symbol(r'\\gamma', constant=True)  # r'\\gamma' or '\\\\gamma'.\n",
    "\n",
    "# equations - labels are optional, but allow you to do equation_system[label] to get the equation.\n",
    "continuity = ss.equation(n.dpt() + (n * u).div(), 0, label='continuity')\n",
    "momentum = ss.equation(n * u.dt_advective(), -P.grad() / m, label='momentum')\n",
    "adiabatic = ss.equation(P.dt_advective() + gamma * P * u.div(), 0, label='adiabatic')  # adiabatic heating\n",
    "eqsys = ss.equation_system(continuity, momentum, adiabatic)"
   ]
  },
  {
   "cell_type": "code",
   "execution_count": 3,
   "id": "eebfd79f",
   "metadata": {},
   "outputs": [],
   "source": [
    "# # (OPTION 2) USE PRESETS # #\n",
    "# first, load presets (only a minimal set of presets are loaded by default)\n",
    "# loading presets returns a dict and also allows you to get_presets().\n",
    "# note, you can do ss.load_presets('ALL', dst=locals()) to also load presets into the local namespace.\n",
    "all_presets = ss.load_presets('ALL')\n",
    "n, P, u, m, gamma = ss.get_presets('n P u m gamma')  # or ss.get_presets(('n', 'P', 'u', 'm', 'gamma'))\n",
    "fluid_eqs = ss.get_presets('fluid_eqs')\n",
    "E, B = ss.get_presets('E B')  # so we can set E and B to 0. E and B appear in the preset fluid_eqs\n",
    "continuity = fluid_eqs['continuity']\n",
    "momentum_preset = fluid_eqs['momentum']\n",
    "momentum = momentum_preset.subs((E, 0), (B, 0)).simplify()  # or .ignore(E, B).simplify()\n",
    "adiabatic = fluid_eqs['adiabatic']\n",
    "eqsys = ss.equation_system(continuity, momentum, adiabatic)"
   ]
  },
  {
   "cell_type": "markdown",
   "id": "cd03f388",
   "metadata": {},
   "source": [
    "### Displaying objects from SymSolver package"
   ]
  },
  {
   "cell_type": "code",
   "execution_count": 4,
   "id": "02ced209",
   "metadata": {},
   "outputs": [
    {
     "data": {
      "text/latex": [
       "$\\displaystyle \\begin{align}\n",
       "(0)    &&      \\frac{\\partial}{\\partial t}(n) + \\left( \\nabla \\right) \\cdot \\left( n \\vec{u} \\right) &= 0 \\\\\n",
       "(1)    &&      n \\left( \\frac{\\partial}{\\partial t}(\\vec{u}) + \\vec{u} \\cdot \\left( \\nabla \\right)(\\vec{u}) \\right) &= \\frac{- \\nabla(P)}{m} \\\\\n",
       "(2)    &&      \\frac{\\partial}{\\partial t}(P) + \\vec{u} \\cdot \\left( \\nabla \\right)(P) + \\gamma P \\left( \\nabla \\right) \\cdot \\vec{u} &= 0\n",
       "\\end{align}$"
      ],
      "text/plain": [
       "<IPython.core.display.Math object>"
      ]
     },
     "metadata": {},
     "output_type": "display_data"
    }
   ],
   "source": [
    "### DISPLAY (OPTION 1) - \"view\"\n",
    "# Jupyter uses object's _ipython_display_ method to display object.\n",
    "# For objects in SymSolver, obj._ipython_display_() just calls obj.view().\n",
    "# Example, you could do eqsys.view(), or just:\n",
    "eqsys"
   ]
  },
  {
   "cell_type": "code",
   "execution_count": 5,
   "id": "572987b3",
   "metadata": {},
   "outputs": [
    {
     "name": "stdout",
     "output_type": "stream",
     "text": [
      "\\begin{align}\n",
      "(0)    &&      \\frac{\\partial}{\\partial t}(n) + \\left( \\nabla \\right) \\cdot \\left( n \\vec{u} \\right) &= 0 \\\\\n",
      "(1)    &&      n \\left( \\frac{\\partial}{\\partial t}(\\vec{u}) + \\vec{u} \\cdot \\left( \\nabla \\right)(\\vec{u}) \\right) &= \\frac{- \\nabla(P)}{m} \\\\\n",
      "(2)    &&      \\frac{\\partial}{\\partial t}(P) + \\vec{u} \\cdot \\left( \\nabla \\right)(P) + \\gamma P \\left( \\nabla \\right) \\cdot \\vec{u} &= 0\n",
      "\\end{align}\n"
     ]
    }
   ],
   "source": [
    "### DISPLAY (OPTION 2) - convert to string\n",
    "# Converting to string gives a string you can copy-paste directly into LaTeX!\n",
    "print(eqsys)    # (use str(equations) to get the string instead of printing.)"
   ]
  },
  {
   "cell_type": "code",
   "execution_count": 6,
   "id": "4ab3fcfd",
   "metadata": {},
   "outputs": [
    {
     "data": {
      "text/plain": [
       "\"Equation(Sum(DerivativeOperation(DerivativeOperator(DerivativeSymbol(Symbol('t', units_base=[t]), partial=True)), Symbol('n')), OperationDotProduct(VectorDerivativeOperator(VectorDerivativeSymbol(Symbol('x', vector=True, units_base=[L]), partial=True, _nabla=True)), Product(Symbol('n'), Symbol('u', vector=True, units_base=\\\\frac{[L]}{[t]})))), 0, label='continuity')\""
      ]
     },
     "execution_count": 6,
     "metadata": {},
     "output_type": "execute_result"
    }
   ],
   "source": [
    "### DISPLAY (OPTION 3) - repr\n",
    "# getting repr shows detailed info about internal contents of the objects.\n",
    "# for example...\n",
    "repr(eqsys[0])"
   ]
  },
  {
   "cell_type": "markdown",
   "id": "bdf0038b",
   "metadata": {},
   "source": [
    "## Applying Linear Theory"
   ]
  },
  {
   "cell_type": "code",
   "execution_count": 7,
   "id": "21d12daa",
   "metadata": {},
   "outputs": [
    {
     "data": {
      "text/latex": [
       "$\\displaystyle \\begin{align}\n",
       "(0)    &&      \\omega {n}^{(1)} - \\left( \\vec{k} \\cdot \\left( {n}^{(1)} {\\vec{u}}^{(0)} + {n}^{(0)} {\\vec{u}}^{(1)} \\right) \\right) &= 0 \\\\\n",
       "(1)    &&      {n}^{(0)} {\\vec{u}}^{(1)} \\left[ \\omega - \\left( \\vec{k} \\cdot {\\vec{u}}^{(0)} \\right) \\right] &= \\frac{\\vec{k} {P}^{(1)}}{m} \\\\\n",
       "(2)    &&      - \\omega {P}^{(1)} + \\left( \\vec{k} \\cdot {\\vec{u}}^{(0)} \\right) {P}^{(1)} + \\gamma {P}^{(0)} \\vec{k} \\cdot {\\vec{u}}^{(1)} &= 0\n",
       "\\end{align}$"
      ],
      "text/plain": [
       "<IPython.core.display.Math object>"
      ]
     },
     "metadata": {},
     "output_type": "display_data"
    }
   ],
   "source": [
    "# # (OPTION 1) # #\n",
    "zz2 = eqsys.apply_linear_theory()\n",
    "zz2"
   ]
  },
  {
   "cell_type": "code",
   "execution_count": 8,
   "id": "87e0a048",
   "metadata": {},
   "outputs": [],
   "source": [
    "# # (OPTION 2) # #\n",
    "# linearize,\n",
    "# assume plane waves,\n",
    "# and assume o0 quantities are constants.\n",
    "# (see the following few cells..)"
   ]
  },
  {
   "cell_type": "code",
   "execution_count": 9,
   "id": "dd8d233b",
   "metadata": {
    "scrolled": false,
    "tags": []
   },
   "outputs": [
    {
     "data": {
      "text/latex": [
       "$\\displaystyle \\begin{align}\n",
       "(0)    &&      \\frac{\\partial}{\\partial t}({n}^{(1)}) + \\left( \\nabla \\right) \\cdot \\left( {n}^{(1)} {\\vec{u}}^{(0)} + {n}^{(0)} {\\vec{u}}^{(1)} \\right) &= 0 \\\\\n",
       "(1)    &&      {n}^{(1)} \\left( \\frac{\\partial}{\\partial t}({\\vec{u}}^{(0)}) + {\\vec{u}}^{(0)} \\cdot \\left( \\nabla \\right)({\\vec{u}}^{(0)}) \\right) + {n}^{(0)} \\left( \\frac{\\partial}{\\partial t}({\\vec{u}}^{(1)}) + \\left[ {\\vec{u}}^{(1)} \\cdot \\left( \\nabla \\right)({\\vec{u}}^{(0)}) + {\\vec{u}}^{(0)} \\cdot \\left( \\nabla \\right)({\\vec{u}}^{(1)}) \\right] \\right) &= \\frac{- \\nabla({P}^{(1)})}{m} \\\\\n",
       "(2)    &&      \\frac{\\partial}{\\partial t}({P}^{(1)}) + \\left( {\\vec{u}}^{(1)} \\cdot \\left( \\nabla \\right)({P}^{(0)}) + {\\vec{u}}^{(0)} \\cdot \\left( \\nabla \\right)({P}^{(1)}) \\right) + \\left( \\gamma {P}^{(1)} \\left( \\nabla \\right) \\cdot {\\vec{u}}^{(0)} + \\gamma {P}^{(0)} \\left( \\nabla \\right) \\cdot {\\vec{u}}^{(1)} \\right) &= 0\n",
       "\\end{align}$"
      ],
      "text/plain": [
       "<IPython.core.display.Math object>"
      ]
     },
     "metadata": {},
     "output_type": "display_data"
    }
   ],
   "source": [
    "## LINEARIZE:\n",
    "# 1) replace all nonconstant (f) with (f0 + f1)\n",
    "# 2) assume |f0| >> |f1|\n",
    "# 3) assume 0'th order equations hold\n",
    "# 4) neglect any terms which are higher than 1st order, e.g. |f1|^2.\n",
    "zz0 = eqsys.linearize()\n",
    "zz0"
   ]
  },
  {
   "cell_type": "code",
   "execution_count": 10,
   "id": "57b28626",
   "metadata": {},
   "outputs": [
    {
     "data": {
      "text/latex": [
       "$\\displaystyle \\begin{align}\n",
       "(0)    &&      \\left( - i \\omega \\right) {n}^{(1)} + \\left( i \\vec{k} \\right) \\cdot \\left( {n}^{(1)} {\\vec{u}}^{(0)} + {n}^{(0)} {\\vec{u}}^{(1)} \\right) &= 0 \\\\\n",
       "(1)    &&      {n}^{(1)} \\left( \\frac{\\partial}{\\partial t}({\\vec{u}}^{(0)}) + {\\vec{u}}^{(0)} \\cdot \\left( \\nabla \\right)({\\vec{u}}^{(0)}) \\right) + {n}^{(0)} \\left( \\left[ - i \\omega \\right] {\\vec{u}}^{(1)} + \\left[ {\\vec{u}}^{(1)} \\cdot \\left( \\nabla \\right)({\\vec{u}}^{(0)}) + \\left( {\\vec{u}}^{(0)} \\cdot \\left[ i \\vec{k} \\right] \\right) {\\vec{u}}^{(1)} \\right] \\right) &= \\frac{- \\left( \\left[ i \\vec{k} \\right] {P}^{(1)} \\right)}{m} \\\\\n",
       "(2)    &&      \\left( - i \\omega \\right) {P}^{(1)} + \\left( {\\vec{u}}^{(1)} \\cdot \\left( \\nabla \\right)({P}^{(0)}) + \\left( {\\vec{u}}^{(0)} \\cdot \\left( i \\vec{k} \\right) \\right) {P}^{(1)} \\right) + \\left( \\gamma {P}^{(1)} \\left( \\nabla \\right) \\cdot {\\vec{u}}^{(0)} + \\gamma {P}^{(0)} \\left[ i \\vec{k} \\right] \\cdot {\\vec{u}}^{(1)} \\right) &= 0\n",
       "\\end{align}$"
      ],
      "text/plain": [
       "<IPython.core.display.Math object>"
      ]
     },
     "metadata": {},
     "output_type": "display_data"
    }
   ],
   "source": [
    "## ASSUME PLANE WAVES:\n",
    "# 5) assume there exists some k and omega, such that for all nonconstant f:\n",
    "#    f1 = (f~1) * exp [i (k dot x - omega t) ]\n",
    "# 6) take any derivatives indicated by the equations\n",
    "# 7) divide by the common exponent (shared by all terms since all are first order)\n",
    "# 8) to make equations easier to write, remove all the tildes, i.e. relabel (f~1) --> (f1)\n",
    "zz1 = zz0.assume_plane_waves()#.simplified()\n",
    "zz1"
   ]
  },
  {
   "cell_type": "code",
   "execution_count": 11,
   "id": "d94391d7",
   "metadata": {},
   "outputs": [
    {
     "data": {
      "text/latex": [
       "$\\displaystyle \\begin{align}\n",
       "(0)    &&      \\omega {n}^{(1)} - \\left( \\vec{k} \\cdot \\left( {n}^{(1)} {\\vec{u}}^{(0)} + {n}^{(0)} {\\vec{u}}^{(1)} \\right) \\right) &= 0 \\\\\n",
       "(1)    &&      {n}^{(0)} {\\vec{u}}^{(1)} \\left[ \\omega - \\left( \\vec{k} \\cdot {\\vec{u}}^{(0)} \\right) \\right] &= \\frac{\\vec{k} {P}^{(1)}}{m} \\\\\n",
       "(2)    &&      - \\omega {P}^{(1)} + \\left( \\vec{k} \\cdot {\\vec{u}}^{(0)} \\right) {P}^{(1)} + \\gamma {P}^{(0)} \\vec{k} \\cdot {\\vec{u}}^{(1)} &= 0\n",
       "\\end{align}$"
      ],
      "text/plain": [
       "<IPython.core.display.Math object>"
      ]
     },
     "metadata": {},
     "output_type": "display_data"
    }
   ],
   "source": [
    "## ASSUME o0 quantities are constant\n",
    "# These steps are not inherently required for SymSolver to work.\n",
    "# However, IF YOU REMOVE THE ASSUMPTIONS, you may get an error.\n",
    "#    This may be due to not having enough equations to solve for all the unknowns,\n",
    "#    or due to the equations being in forms that SymSolver doesn't (yet?) know how to solve.\n",
    "\n",
    "zz2 = zz1\n",
    "## ASSUME 0th order terms are constant (gradients are 0)\n",
    "# (Symsolver will not be able to solve this system if you try to keep all the gradients.)\n",
    "zz2 = zz2.assume_o0_constant().simplify()\n",
    "zz2"
   ]
  },
  {
   "cell_type": "markdown",
   "id": "d3247a92",
   "metadata": {},
   "source": [
    "## Find the Dispersion Relation"
   ]
  },
  {
   "cell_type": "code",
   "execution_count": 12,
   "id": "2c53ac33",
   "metadata": {},
   "outputs": [
    {
     "data": {
      "text/latex": [
       "$\\displaystyle \\begin{align}\n",
       "(0)    &&      \\omega {n}^{(1)} - {n}^{(0)} \\left( \\vec{k} \\cdot {\\vec{u}}^{(1)} \\right) &= 0 \\\\\n",
       "(1)    &&      {n}^{(0)} {\\vec{u}}^{(1)} \\omega &= \\frac{\\vec{k} {P}^{(1)}}{m} \\\\\n",
       "(2)    &&      \\omega {P}^{(1)} - \\gamma {P}^{(0)} \\left( \\vec{k} \\cdot {\\vec{u}}^{(1)} \\right) &= 0\n",
       "\\end{align}$"
      ],
      "text/plain": [
       "<IPython.core.display.Math object>"
      ]
     },
     "metadata": {},
     "output_type": "display_data"
    }
   ],
   "source": [
    "# for the simple example here, we're also going to assume u0 == 0.\n",
    "# (Symsolver can still solve the system even if u0 != 0. This assumption just makes it simpler.)\n",
    "zz3 = zz2.ignore(u.o0).simplify()\n",
    "zz3"
   ]
  },
  {
   "cell_type": "code",
   "execution_count": 13,
   "id": "19a6b5ac",
   "metadata": {
    "scrolled": false
   },
   "outputs": [],
   "source": [
    "## FIND THE DISPERSION RELATION\n",
    "solver = zz3.get_o1_solver()\n",
    "# you can now either repeatedly call solver.solvestep(), or just call solver.solve() one time.\n",
    "# solvestep lets you see the results of each step, where an eqn is solved then subbed into the other eqns.\n",
    "# [TODO] need to update SymSolver to do a better job explaining / showing work when solving."
   ]
  },
  {
   "cell_type": "code",
   "execution_count": 14,
   "id": "5e3ec7c4",
   "metadata": {},
   "outputs": [
    {
     "data": {
      "text/latex": [
       "$\\displaystyle \\begin{align}\n",
       "(0)    &&      \\frac{{\\omega}^{2} {n}^{(1)} - {m}^{-1} {P}^{(1)} {k}^{2}}{\\omega} &= 0 \\\\\n",
       "(1*)    &&      {\\vec{u}}^{(1)} &= \\frac{\\vec{k} {P}^{(1)}}{m {n}^{(0)} \\omega} \\\\\n",
       "(2)    &&      \\frac{{P}^{(1)} \\left[ {\\omega}^{2} - \\gamma {P}^{(0)} {m}^{-1} {\\left( {n}^{(0)} \\right)}^{-1} {k}^{2} \\right]}{\\omega} &= 0\n",
       "\\end{align}$"
      ],
      "text/plain": [
       "<IPython.core.display.Math object>"
      ]
     },
     "metadata": {},
     "output_type": "display_data"
    }
   ],
   "source": [
    "solver.solvestep()"
   ]
  },
  {
   "cell_type": "code",
   "execution_count": 15,
   "id": "cd7051c2",
   "metadata": {},
   "outputs": [
    {
     "data": {
      "text/latex": [
       "$\\displaystyle \\frac{{\\omega}^{2} - \\gamma {P}^{(0)} {m}^{-1} {\\left( {n}^{(0)} \\right)}^{-1} {k}^{2}}{\\omega} = 0$"
      ],
      "text/plain": [
       "<IPython.core.display.Math object>"
      ]
     },
     "metadata": {},
     "output_type": "display_data"
    }
   ],
   "source": [
    "solver.solvestep()"
   ]
  },
  {
   "cell_type": "code",
   "execution_count": 16,
   "id": "51795d0c",
   "metadata": {},
   "outputs": [
    {
     "data": {
      "text/latex": [
       "$\\displaystyle \\frac{{\\omega}^{2} - \\gamma {P}^{(0)} {m}^{-1} {\\left( {n}^{(0)} \\right)}^{-1} {k}^{2}}{\\omega} = 0$"
      ],
      "text/plain": [
       "<IPython.core.display.Math object>"
      ]
     },
     "metadata": {},
     "output_type": "display_data"
    }
   ],
   "source": [
    "disprel = solver.solution\n",
    "solver.solution"
   ]
  },
  {
   "cell_type": "code",
   "execution_count": 17,
   "id": "8b9afdc2",
   "metadata": {},
   "outputs": [
    {
     "data": {
      "text/latex": [
       "$\\displaystyle {\\omega}^{2} + \\frac{- {P}^{(0)} \\gamma {k}^{2}}{{n}^{(0)} m} = 0$"
      ],
      "text/plain": [
       "<IPython.core.display.Math object>"
      ]
     },
     "metadata": {},
     "output_type": "display_data"
    }
   ],
   "source": [
    "## SIMPLIFY THE DISPERSION RELATION\n",
    "omega = ss.OMEGA   # < the omega which is used in linear theory.\n",
    "k = ss.K           # < the k which is used in linear theory.\n",
    "qq0 = disprel.polynomialize(omega).simplify()   # see also: polyfractionize\n",
    "qq0"
   ]
  },
  {
   "cell_type": "markdown",
   "id": "2241c29b",
   "metadata": {},
   "source": [
    "## Plugging in Numbers\n",
    "Now that we got a polynomial, we can substitute in some numbers and find the roots"
   ]
  },
  {
   "cell_type": "code",
   "execution_count": 18,
   "id": "60e8b6e9",
   "metadata": {},
   "outputs": [
    {
     "data": {
      "text/latex": [
       "$\\displaystyle {\\omega}^{2} -1.6667 {k}^{2} = 0$"
      ],
      "text/plain": [
       "<IPython.core.display.Math object>"
      ]
     },
     "metadata": {},
     "output_type": "display_data"
    }
   ],
   "source": [
    "## PLUG IN SOME NUMBERS\n",
    "substitutions = [\n",
    "    (P.o0, 1),   # P0 = 1\n",
    "    (n.o0, 1),   # n0 = 1\n",
    "    (gamma, 5/3),  # gamma = 5/3\n",
    "    (m, 1),        # m = 1\n",
    "]\n",
    "qq1 = qq0.subs(*substitutions).simplified()  # make the substitutions, and simplify\n",
    "qq1  # note, the viewing-precision can be controlled by ss.DEFAULTS.STRINGREP_NUMBERS_PRECISION."
   ]
  },
  {
   "cell_type": "markdown",
   "id": "08817f34",
   "metadata": {},
   "source": [
    "in order to find roots numerically, we should plug in numbers for all variables except $\\omega$. So, we need to choose some values for $k$."
   ]
  },
  {
   "cell_type": "code",
   "execution_count": 19,
   "id": "5e22d112",
   "metadata": {},
   "outputs": [
    {
     "data": {
      "text/latex": [
       "$\\displaystyle {\\omega}^{2} + \\left( -1.6667 \\right) {\\left( \\left[ \\begin{matrix} \\text{(min) } -6 & \\text{(mean) } 0 \\\\ \\text{(max) } 6 & \\text{shape=}(13,) \\end{matrix} \\right] \\right)}^{2} = 0$"
      ],
      "text/plain": [
       "<IPython.core.display.Math object>"
      ]
     },
     "metadata": {},
     "output_type": "display_data"
    }
   ],
   "source": [
    "kmags = np.linspace(-6, 6, 13)  # values for |k|\n",
    "qq2 = qq1.sub(k.mag, kmags)\n",
    "qq2  # note, arrays are displayed in a pretty way that tells you some info about them."
   ]
  },
  {
   "cell_type": "code",
   "execution_count": 20,
   "id": "274a71a9",
   "metadata": {},
   "outputs": [
    {
     "data": {
      "text/latex": [
       "$\\displaystyle {\\omega}^{2} + \\left[ \\begin{matrix} \\text{(min) } -60 & \\text{(mean) } -23.3 \\\\ \\text{(max) } -0 & \\text{shape=}(13,) \\end{matrix} \\right] = 0$"
      ],
      "text/plain": [
       "<IPython.core.display.Math object>"
      ]
     },
     "metadata": {},
     "output_type": "display_data"
    }
   ],
   "source": [
    "qq3 = qq2.simplify()\n",
    "qq3"
   ]
  },
  {
   "cell_type": "markdown",
   "id": "cc12d1fb",
   "metadata": {},
   "source": [
    "## CONVERT TO RATIO OF POLYNOMIALS; SOLVE\n",
    "In general, any dispersion relation from a set of linear equations can be converted into a ratio of polynomials in $\\omega$. Use `.polyfraction(omega)` to convert a SymSolver expression into a ratio of polynomials in `omega`. "
   ]
  },
  {
   "cell_type": "code",
   "execution_count": 21,
   "id": "47e0ae86",
   "metadata": {},
   "outputs": [
    {
     "data": {
      "text/latex": [
       "$\\displaystyle \\frac{\\left( 1 \\right) \\omega^{2} + \\left( \\left[ \\begin{matrix} \\text{(min) } -60 & \\text{(mean) } -23.3 \\\\ \\text{(max) } -0 & \\text{shape=}(13,) \\end{matrix} \\right] \\right) \\omega^{0}}{\\left( 1 \\right) ( \\cdot )^{0}}$"
      ],
      "text/plain": [
       "<IPython.core.display.Math object>"
      ]
     },
     "metadata": {},
     "output_type": "display_data"
    }
   ],
   "source": [
    "## CONVERT TO RATIO OF POLYNOMIALS  (\"POLYFRAC\")\n",
    "pf = qq3.lhs.polyfraction(omega)   # ratio of polynomials in omega\n",
    "# also try: pf.shrinkdegree().shrinkcoeff() for more complex dispersion relations.\n",
    "pf"
   ]
  },
  {
   "cell_type": "code",
   "execution_count": 22,
   "id": "359fa188",
   "metadata": {},
   "outputs": [
    {
     "data": {
      "text/plain": [
       "array([[-7.74596669,  7.74596669],\n",
       "       [-6.45497224,  6.45497224],\n",
       "       [-5.16397779,  5.16397779],\n",
       "       [-3.87298335,  3.87298335],\n",
       "       [-2.5819889 ,  2.5819889 ],\n",
       "       [-1.29099445,  1.29099445],\n",
       "       [ 0.        ,  0.        ],\n",
       "       [-1.29099445,  1.29099445],\n",
       "       [-2.5819889 ,  2.5819889 ],\n",
       "       [-3.87298335,  3.87298335],\n",
       "       [-5.16397779,  5.16397779],\n",
       "       [-6.45497224,  6.45497224],\n",
       "       [-7.74596669,  7.74596669]])"
      ]
     },
     "execution_count": 22,
     "metadata": {},
     "output_type": "execute_result"
    }
   ],
   "source": [
    "## SOLVE:\n",
    "roots = pf.roots()\n",
    "roots"
   ]
  },
  {
   "cell_type": "markdown",
   "id": "a51585a8",
   "metadata": {},
   "source": [
    "# Ion Acoustic Waves\n",
    "demonstrating some slightly-more-complicated algebra, and how to use subscripts. "
   ]
  },
  {
   "cell_type": "markdown",
   "id": "9ea2b08d",
   "metadata": {},
   "source": [
    "## Define Variables & Equations\n",
    "you can define variables by hand, or use presets."
   ]
  },
  {
   "cell_type": "code",
   "execution_count": 23,
   "id": "55ecedec",
   "metadata": {},
   "outputs": [],
   "source": [
    "# # (OPTION 1) DEFINE BY HAND # #\n",
    "ns, Ps = ss.symbols('n P', ['s'])  # equivalent: ss.symbols('n P', subscripts=['s'])\n",
    "us = ss.symbol('u', ['s'], vector=True)\n",
    "ms, qs = ss.symbols('m q', ['s'], constant=True)\n",
    "gamma = ss.symbol(r'\\gamma', constant=True)\n",
    "E = ss.symbol('E', vector=True)\n",
    "\n",
    "# equations - labels are optional, but allow you to do equation_system[label] to get the equation.\n",
    "continuity_s = ss.equation(ns.dpt() + (ns * us).div(), 0, label='continuity')\n",
    "momentum_s = ss.equation(ns * us.dt_advective('s'), -Ps.grad() / ms + qs * ns * E / ms, label='momentum')\n",
    "adiabatic_s = ss.equation(Ps.dt_advective('s') + gamma * Ps * us.div(), 0, label='adiabatic')  # adiabatic heating\n",
    "eqsys_s = ss.equation_system(continuity_s, momentum_s, adiabatic_s)"
   ]
  },
  {
   "cell_type": "code",
   "execution_count": 24,
   "id": "cfd31c14",
   "metadata": {},
   "outputs": [],
   "source": [
    "# # (OPTION 2) USE PRESETS # #\n",
    "# first, load presets (only a minimal set of presets are loaded by default)\n",
    "# loading presets returns a dict and also allows you to get_presets().\n",
    "# note, you can do ss.load_presets('ALL', dst=locals()) to also load presets into the local namespace.\n",
    "all_presets = ss.load_presets('ALL')\n",
    "ns, Ps, us, ms, gamma, E, B = ss.get_presets('ns Ps us ms gamma E B')\n",
    "fluid_eqs_s = ss.get_presets('fluid_eqs_s')\n",
    "continuity_s = fluid_eqs_s['continuity_s']\n",
    "momentum_preset_s = fluid_eqs_s['momentum_s']\n",
    "momentum_s = momentum_preset_s.ignore(B).simplify()  # ignore magnetic field.\n",
    "adiabatic_s = fluid_eqs_s['adiabatic_s']\n",
    "eqsys_s = ss.equation_system(continuity_s, momentum_s, adiabatic_s)"
   ]
  },
  {
   "cell_type": "code",
   "execution_count": 25,
   "id": "ac41841f",
   "metadata": {},
   "outputs": [
    {
     "data": {
      "text/latex": [
       "$\\displaystyle \\begin{align}\n",
       "(0)    &&      \\frac{\\partial}{\\partial t}(n_{s}) + \\left( \\nabla \\right) \\cdot \\left( n_{s} \\vec{u}_{s} \\right) &= 0 \\\\\n",
       "(1)    &&      n_{s} \\left( \\frac{\\partial}{\\partial t}(\\vec{u}_{s}) + \\vec{u}_{s} \\cdot \\left( \\nabla \\right)(\\vec{u}_{s}) \\right) &= \\frac{- \\left( \\nabla(P_{s}) - q_{s} n_{s} \\vec{E} \\right)}{m_{s}} \\\\\n",
       "(2)    &&      \\frac{\\partial}{\\partial t}(P_{s}) + \\vec{u}_{s} \\cdot \\left( \\nabla \\right)(P_{s}) + \\gamma P_{s} \\left( \\nabla \\right) \\cdot \\vec{u}_{s} &= 0\n",
       "\\end{align}$"
      ],
      "text/plain": [
       "<IPython.core.display.Math object>"
      ]
     },
     "metadata": {},
     "output_type": "display_data"
    }
   ],
   "source": [
    "eqsys_s"
   ]
  },
  {
   "cell_type": "markdown",
   "id": "f197dd3d",
   "metadata": {},
   "source": [
    "### Brief sidenote -- using subscripts"
   ]
  },
  {
   "cell_type": "code",
   "execution_count": 26,
   "id": "559eac6a",
   "metadata": {},
   "outputs": [
    {
     "data": {
      "text/latex": [
       "$\\displaystyle P_{e}$"
      ],
      "text/plain": [
       "<IPython.core.display.Math object>"
      ]
     },
     "metadata": {},
     "output_type": "display_data"
    },
    {
     "data": {
      "text/latex": [
       "$\\displaystyle n_{e} \\vec{u}_{e}$"
      ],
      "text/plain": [
       "<IPython.core.display.Math object>"
      ]
     },
     "metadata": {},
     "output_type": "display_data"
    }
   ],
   "source": [
    "# you can swap subscripts, via obj.subscript_swap(old, new). Alias: 'ss'\n",
    "# this gives a copy of obj with that subscript replaced:\n",
    "Ps.subscript_swap('s', 'e').view()\n",
    "(ns * us).ss('s', 'e').view()"
   ]
  },
  {
   "cell_type": "code",
   "execution_count": 27,
   "id": "17fb48ca",
   "metadata": {},
   "outputs": [
    {
     "data": {
      "text/latex": [
       "$\\displaystyle P$"
      ],
      "text/plain": [
       "<IPython.core.display.Math object>"
      ]
     },
     "metadata": {},
     "output_type": "display_data"
    },
    {
     "data": {
      "text/latex": [
       "$\\displaystyle n \\vec{u}$"
      ],
      "text/plain": [
       "<IPython.core.display.Math object>"
      ]
     },
     "metadata": {},
     "output_type": "display_data"
    }
   ],
   "source": [
    "# you can also delete subscripts, via obj.del_subscripts(*subscripts). Alias: 'del_ss'\n",
    "# this gives a copy of obj with that subscript removed:\n",
    "Ps.del_subscripts('s').view()\n",
    "(ns * us).del_ss('s').view()"
   ]
  },
  {
   "cell_type": "code",
   "execution_count": 28,
   "id": "4096bd61",
   "metadata": {},
   "outputs": [
    {
     "data": {
      "text/latex": [
       "$\\displaystyle \\begin{align}\n",
       "(0)    &&      \\frac{\\partial}{\\partial t}(n) + \\left( \\nabla \\right) \\cdot \\left( n \\vec{u} \\right) &= 0 \\\\\n",
       "(1)    &&      n \\left( \\frac{\\partial}{\\partial t}(\\vec{u}) + \\vec{u} \\cdot \\left( \\nabla \\right)(\\vec{u}) \\right) &= \\frac{- \\nabla(P)}{m} \\\\\n",
       "(2)    &&      \\frac{\\partial}{\\partial t}(P) + \\vec{u} \\cdot \\left( \\nabla \\right)(P) + \\gamma P \\left( \\nabla \\right) \\cdot \\vec{u} &= 0\n",
       "\\end{align}$"
      ],
      "text/plain": [
       "<IPython.core.display.Math object>"
      ]
     },
     "metadata": {},
     "output_type": "display_data"
    }
   ],
   "source": [
    "# These methods works on more complicated objects too, including full equation systems:\n",
    "eqsys.ss('s', 'e')"
   ]
  },
  {
   "cell_type": "markdown",
   "id": "ca21a476",
   "metadata": {},
   "source": [
    "### Defining remaining variables"
   ]
  },
  {
   "cell_type": "code",
   "execution_count": 29,
   "id": "4eed748a",
   "metadata": {},
   "outputs": [],
   "source": [
    "# # (OPTION 1) DEFINE BY HAND # #\n",
    "objs = [ns, Ps, us, ms, qs, continuity_s, momentum_s, adiabatic_s]\n",
    "ne, Pe, ue, me, qe, continuity_e, momentum_e, adiabatic_e = [obj.ss('s', 'e') for obj in objs]\n",
    "ni, Pi, ui, mi, qi, continuity_i, momentum_i, adiabatic_i = [obj.ss('s', 'i') for obj in objs]\n",
    "emom_no_inertia = momentum_e.ignore(ue.dt_advective('e')).simplify(only='simplify_id')"
   ]
  },
  {
   "cell_type": "code",
   "execution_count": 30,
   "id": "b24ba931",
   "metadata": {},
   "outputs": [],
   "source": [
    "# # (OPTION 2) USING PRESETS # #\n",
    "# assumes you ran this code already: ss.load_presets('ALL')\n",
    "ne, Pe, ue, me, qe, continuity_e, momentum_e, adiabatic_e, \\\n",
    "ni, Pi, ui, mi, qi, continuity_i, momentum_i, adiabatic_i \\\n",
    "= ss.get_presets(('ne', 'Pe', 'ue', 'me', 'qe', 'eq_continuity_e', 'eq_momentum_e', 'eq_adiabatic_e',\n",
    "                  'ni', 'Pi', 'ui', 'mi', 'qi', 'eq_continuity_i', 'eq_momentum_i', 'eq_adiabatic_i'))\n",
    "B = ss.get_presets('B')  # so we can say to ignore B; B is in the preset momentum equation.\n",
    "emom_no_inertia = ss.get_presets('eq_momentum_e_no_inertia').ignore(B).simplify(only='simplify_id')\n",
    "momentum_i = momentum_i.ignore(B).simplify(only='simplify_id')"
   ]
  },
  {
   "cell_type": "code",
   "execution_count": 31,
   "id": "8f463bcc",
   "metadata": {},
   "outputs": [],
   "source": [
    "# # DEFINE QUASINEUTRALITY EQUATION # #\n",
    "quasineutral = ss.equation(qe * ne + qi * ni, 0, label='QN')"
   ]
  },
  {
   "cell_type": "code",
   "execution_count": 32,
   "id": "021db400",
   "metadata": {},
   "outputs": [
    {
     "data": {
      "text/latex": [
       "$\\displaystyle \\begin{align}\n",
       "(0)    &&      \\frac{\\partial}{\\partial t}(n_{e}) + \\left( \\nabla \\right) \\cdot \\left( n_{e} \\vec{u}_{e} \\right) &= 0 \\\\\n",
       "(1)    &&      \\frac{\\partial}{\\partial t}(n_{i}) + \\left( \\nabla \\right) \\cdot \\left( n_{i} \\vec{u}_{i} \\right) &= 0 \\\\\n",
       "(2)    &&      0 &= \\frac{- \\nabla(P_{e})}{m_{e}} + \\frac{q_{e} n_{e} \\vec{E}}{m_{e}} \\\\\n",
       "(3)    &&      n_{i} \\left( \\frac{\\partial}{\\partial t}(\\vec{u}_{i}) + \\vec{u}_{i} \\cdot \\left( \\nabla \\right)(\\vec{u}_{i}) \\right) &= \\frac{- \\nabla(P_{i})}{m_{i}} + \\frac{q_{i} n_{i} \\vec{E}}{m_{i}} \\\\\n",
       "(4)    &&      \\frac{\\partial}{\\partial t}(P_{e}) + \\vec{u}_{e} \\cdot \\left( \\nabla \\right)(P_{e}) + \\gamma P_{e} \\left( \\nabla \\right) \\cdot \\vec{u}_{e} &= 0 \\\\\n",
       "(5)    &&      \\frac{\\partial}{\\partial t}(P_{i}) + \\vec{u}_{i} \\cdot \\left( \\nabla \\right)(P_{i}) + \\gamma P_{i} \\left( \\nabla \\right) \\cdot \\vec{u}_{i} &= 0 \\\\\n",
       "(6)    &&      q_{e} n_{e} + q_{i} n_{i} &= 0\n",
       "\\end{align}$"
      ],
      "text/plain": [
       "<IPython.core.display.Math object>"
      ]
     },
     "metadata": {},
     "output_type": "display_data"
    }
   ],
   "source": [
    "eqsys = ss.equation_system(continuity_e, continuity_i,\n",
    "                           emom_no_inertia, momentum_i,\n",
    "                           adiabatic_e, adiabatic_i,\n",
    "                           quasineutral)\n",
    "eqsys"
   ]
  },
  {
   "cell_type": "markdown",
   "id": "bcff6395",
   "metadata": {},
   "source": [
    "## Apply Linear Theory"
   ]
  },
  {
   "cell_type": "code",
   "execution_count": 33,
   "id": "19e0e752",
   "metadata": {},
   "outputs": [
    {
     "data": {
      "text/latex": [
       "$\\displaystyle \\begin{align}\n",
       "(0)    &&      \\omega {n}^{(1)}_{e} - {n}^{(0)}_{e} \\left( \\vec{k} \\cdot {\\vec{u}}^{(1)}_{e} \\right) &= 0 \\\\\n",
       "(1)    &&      \\omega {n}^{(1)}_{i} - {n}^{(0)}_{i} \\left( \\vec{k} \\cdot {\\vec{u}}^{(1)}_{i} \\right) &= 0 \\\\\n",
       "(2)    &&      0 &= - i \\vec{k} {P}^{(1)}_{e} + q_{e} {n}^{(1)}_{e} {\\vec{E}}^{(0)} + {n}^{(0)}_{e} q_{e} {\\vec{E}}^{(1)} \\\\\n",
       "(3)    &&      - i {n}^{(0)}_{i} {\\vec{u}}^{(1)}_{i} \\omega &= \\frac{- i \\vec{k} {P}^{(1)}_{i} + q_{i} {n}^{(1)}_{i} {\\vec{E}}^{(0)} + {n}^{(0)}_{i} q_{i} {\\vec{E}}^{(1)}}{m_{i}} \\\\\n",
       "(4)    &&      \\omega {P}^{(1)}_{e} - \\gamma {P}^{(0)}_{e} \\left( \\vec{k} \\cdot {\\vec{u}}^{(1)}_{e} \\right) &= 0 \\\\\n",
       "(5)    &&      \\omega {P}^{(1)}_{i} - \\gamma {P}^{(0)}_{i} \\left( \\vec{k} \\cdot {\\vec{u}}^{(1)}_{i} \\right) &= 0 \\\\\n",
       "(6)    &&      q_{e} {n}^{(1)}_{e} + q_{i} {n}^{(1)}_{i} &= 0\n",
       "\\end{align}$"
      ],
      "text/plain": [
       "<IPython.core.display.Math object>"
      ]
     },
     "metadata": {},
     "output_type": "display_data"
    }
   ],
   "source": [
    "eqs0 = eqsys.apply_linear_theory()\n",
    "\n",
    "# also, for simplicity in this example, ignore ue0 and ui0\n",
    "eqs1 = eqs0.ignore(ue.o0, ui.o0).simplify()\n",
    "eqs1"
   ]
  },
  {
   "cell_type": "code",
   "execution_count": 34,
   "id": "bfecff58",
   "metadata": {},
   "outputs": [
    {
     "data": {
      "text/latex": [
       "$\\displaystyle {n}^{(0)}_{e} = \\frac{- q_{i} {n}^{(0)}_{i}}{q_{e}}$"
      ],
      "text/plain": [
       "<IPython.core.display.Math object>"
      ]
     },
     "metadata": {},
     "output_type": "display_data"
    },
    {
     "name": "stdout",
     "output_type": "stream",
     "text": [
      "---\n"
     ]
    },
    {
     "data": {
      "text/latex": [
       "$\\displaystyle \\begin{align}\n",
       "(0)    &&      \\omega {n}^{(1)}_{e} + \\frac{q_{i} {n}^{(0)}_{i} \\vec{k} \\cdot {\\vec{u}}^{(1)}_{e}}{q_{e}} &= 0 \\\\\n",
       "(1)    &&      \\omega {n}^{(1)}_{i} - {n}^{(0)}_{i} \\left( \\vec{k} \\cdot {\\vec{u}}^{(1)}_{i} \\right) &= 0 \\\\\n",
       "(2)    &&      0 &= i \\vec{k} {P}^{(1)}_{e} - q_{e} {n}^{(1)}_{e} {\\vec{E}}^{(0)} + q_{i} {n}^{(0)}_{i} {\\vec{E}}^{(1)} \\\\\n",
       "(3)    &&      - i {n}^{(0)}_{i} {\\vec{u}}^{(1)}_{i} \\omega &= \\frac{- i \\vec{k} {P}^{(1)}_{i} + q_{i} {n}^{(1)}_{i} {\\vec{E}}^{(0)} + {n}^{(0)}_{i} q_{i} {\\vec{E}}^{(1)}}{m_{i}} \\\\\n",
       "(4)    &&      \\omega {P}^{(1)}_{e} - \\gamma {P}^{(0)}_{e} \\left( \\vec{k} \\cdot {\\vec{u}}^{(1)}_{e} \\right) &= 0 \\\\\n",
       "(5)    &&      \\omega {P}^{(1)}_{i} - \\gamma {P}^{(0)}_{i} \\left( \\vec{k} \\cdot {\\vec{u}}^{(1)}_{i} \\right) &= 0 \\\\\n",
       "(6)    &&      q_{e} {n}^{(1)}_{e} + q_{i} {n}^{(1)}_{i} &= 0\n",
       "\\end{align}$"
      ],
      "text/plain": [
       "<IPython.core.display.Math object>"
      ]
     },
     "metadata": {},
     "output_type": "display_data"
    }
   ],
   "source": [
    "# also, for simplicity in this example, plug in the zeroth-order quasineutrality equation,\n",
    "#   ne.o0 = - qi ni.o0 / qe\n",
    "# note: SymSolver doesn't automatically solve 0th order equations or plug them in for you,\n",
    "#   but it is happy to do those things if you ask it (explicitly).\n",
    "qn0 = quasineutral.get_o0().solve(ne.o0)\n",
    "qn0.view()\n",
    "print('---')\n",
    "eqs2 = eqs1.subs(qn0).simplify()\n",
    "eqs2"
   ]
  },
  {
   "cell_type": "markdown",
   "id": "25e42720",
   "metadata": {},
   "source": [
    "## Find the Dispersion Relation"
   ]
  },
  {
   "cell_type": "code",
   "execution_count": 35,
   "id": "7606bf3e",
   "metadata": {},
   "outputs": [],
   "source": [
    "# simplify_mode tells how to simplify after each solvestep.\n",
    "# 'simplify' means apply simplifying algorithms\n",
    "# 'expand' means apply expanding algorithms\n",
    "# 'simplified' means expand then simplify\n",
    "# tuple means do each in order. E.g. ('expand', 'simplify') equivalent to 'simplified'.\n",
    "# You might want to play around with different options for different equation systems.\n",
    "solver = eqs2.get_o1_solver(simplify_mode='simplify')"
   ]
  },
  {
   "cell_type": "code",
   "execution_count": 36,
   "id": "a06f42e2",
   "metadata": {},
   "outputs": [
    {
     "data": {
      "text/latex": [
       "$\\displaystyle \\begin{align}\n",
       "(0)    &&      \\omega {n}^{(1)}_{e} + \\frac{q_{i} {n}^{(0)}_{i} \\vec{k} \\cdot {\\vec{u}}^{(1)}_{e}}{q_{e}} &= 0 \\\\\n",
       "(1)    &&      \\omega {n}^{(1)}_{i} - {n}^{(0)}_{i} \\left( \\vec{k} \\cdot {\\vec{u}}^{(1)}_{i} \\right) &= 0 \\\\\n",
       "(2*)    &&      {\\vec{E}}^{(1)} &= \\frac{- i \\vec{k} {P}^{(1)}_{e} + q_{e} {n}^{(1)}_{e} {\\vec{E}}^{(0)}}{q_{i} {n}^{(0)}_{i}} \\\\\n",
       "(3)    &&      - i {n}^{(0)}_{i} {\\vec{u}}^{(1)}_{i} \\omega &= \\frac{- i \\vec{k} {P}^{(1)}_{i} + q_{i} {n}^{(1)}_{i} {\\vec{E}}^{(0)} - i \\vec{k} {P}^{(1)}_{e} + q_{e} {n}^{(1)}_{e} {\\vec{E}}^{(0)}}{m_{i}} \\\\\n",
       "(4)    &&      \\omega {P}^{(1)}_{e} - \\gamma {P}^{(0)}_{e} \\left( \\vec{k} \\cdot {\\vec{u}}^{(1)}_{e} \\right) &= 0 \\\\\n",
       "(5)    &&      \\omega {P}^{(1)}_{i} - \\gamma {P}^{(0)}_{i} \\left( \\vec{k} \\cdot {\\vec{u}}^{(1)}_{i} \\right) &= 0 \\\\\n",
       "(6)    &&      q_{e} {n}^{(1)}_{e} + q_{i} {n}^{(1)}_{i} &= 0\n",
       "\\end{align}$"
      ],
      "text/plain": [
       "<IPython.core.display.Math object>"
      ]
     },
     "metadata": {},
     "output_type": "display_data"
    }
   ],
   "source": [
    "solver.solvestep()"
   ]
  },
  {
   "cell_type": "code",
   "execution_count": 37,
   "id": "d7bd36bf",
   "metadata": {},
   "outputs": [
    {
     "data": {
      "text/latex": [
       "$\\displaystyle \\begin{align}\n",
       "(0)    &&      \\omega {n}^{(1)}_{e} + \\frac{q_{i} {n}^{(0)}_{i} \\vec{k} \\cdot {\\vec{u}}^{(1)}_{e}}{q_{e}} &= 0 \\\\\n",
       "(1)    &&      \\frac{{\\omega}^{2} {n}^{(1)}_{i} - i {m_{i}}^{-1} \\left( \\vec{k} \\cdot \\left( - i \\vec{k} {P}^{(1)}_{i} + q_{i} {n}^{(1)}_{i} {\\vec{E}}^{(0)} - i \\vec{k} {P}^{(1)}_{e} + q_{e} {n}^{(1)}_{e} {\\vec{E}}^{(0)} \\right) \\right)}{\\omega} &= 0 \\\\\n",
       "(2*)    &&      {\\vec{E}}^{(1)} &= \\frac{- i \\vec{k} {P}^{(1)}_{e} + q_{e} {n}^{(1)}_{e} {\\vec{E}}^{(0)}}{q_{i} {n}^{(0)}_{i}} \\\\\n",
       "(3*)    &&      {\\vec{u}}^{(1)}_{i} &= \\frac{i \\left( - i \\vec{k} {P}^{(1)}_{i} + q_{i} {n}^{(1)}_{i} {\\vec{E}}^{(0)} - i \\vec{k} {P}^{(1)}_{e} + q_{e} {n}^{(1)}_{e} {\\vec{E}}^{(0)} \\right)}{m_{i} {n}^{(0)}_{i} \\omega} \\\\\n",
       "(4)    &&      \\omega {P}^{(1)}_{e} - \\gamma {P}^{(0)}_{e} \\left( \\vec{k} \\cdot {\\vec{u}}^{(1)}_{e} \\right) &= 0 \\\\\n",
       "(5)    &&      \\frac{{\\omega}^{2} {P}^{(1)}_{i} - i \\gamma {P}^{(0)}_{i} {\\left( {n}^{(0)}_{i} \\right)}^{-1} {m_{i}}^{-1} \\left( \\vec{k} \\cdot \\left[ - i \\vec{k} {P}^{(1)}_{i} + q_{i} {n}^{(1)}_{i} {\\vec{E}}^{(0)} - i \\vec{k} {P}^{(1)}_{e} + q_{e} {n}^{(1)}_{e} {\\vec{E}}^{(0)} \\right] \\right)}{\\omega} &= 0 \\\\\n",
       "(6)    &&      q_{e} {n}^{(1)}_{e} + q_{i} {n}^{(1)}_{i} &= 0\n",
       "\\end{align}$"
      ],
      "text/plain": [
       "<IPython.core.display.Math object>"
      ]
     },
     "metadata": {},
     "output_type": "display_data"
    }
   ],
   "source": [
    "solver.solvestep()"
   ]
  },
  {
   "cell_type": "code",
   "execution_count": 38,
   "id": "064c36cd",
   "metadata": {},
   "outputs": [
    {
     "data": {
      "text/latex": [
       "$\\displaystyle \\begin{align}\n",
       "(0*)    &&      {n}^{(1)}_{e} &= \\frac{- q_{i} {n}^{(0)}_{i} \\left( \\vec{k} \\cdot {\\vec{u}}^{(1)}_{e} \\right)}{q_{e} \\omega} \\\\\n",
       "(1)    &&      \\frac{{\\omega}^{2} {n}^{(1)}_{i} + i {m_{i}}^{-1} \\vec{k} \\cdot \\left[ i \\vec{k} {P}^{(1)}_{i} - q_{i} {n}^{(1)}_{i} {\\vec{E}}^{(0)} + i \\vec{k} {P}^{(1)}_{e} + q_{i} {n}^{(0)}_{i} \\left( \\vec{k} \\cdot {\\vec{u}}^{(1)}_{e} \\right) {\\omega}^{-1} {\\vec{E}}^{(0)} \\right]}{\\omega} &= 0 \\\\\n",
       "(2*)    &&      {\\vec{E}}^{(1)} &= \\frac{- i \\vec{k} {P}^{(1)}_{e} + q_{e} {n}^{(1)}_{e} {\\vec{E}}^{(0)}}{q_{i} {n}^{(0)}_{i}} \\\\\n",
       "(3*)    &&      {\\vec{u}}^{(1)}_{i} &= \\frac{i \\left( - i \\vec{k} {P}^{(1)}_{i} + q_{i} {n}^{(1)}_{i} {\\vec{E}}^{(0)} - i \\vec{k} {P}^{(1)}_{e} + q_{e} {n}^{(1)}_{e} {\\vec{E}}^{(0)} \\right)}{m_{i} {n}^{(0)}_{i} \\omega} \\\\\n",
       "(4)    &&      \\omega {P}^{(1)}_{e} - \\gamma {P}^{(0)}_{e} \\left( \\vec{k} \\cdot {\\vec{u}}^{(1)}_{e} \\right) &= 0 \\\\\n",
       "(5)    &&      \\frac{{\\omega}^{2} {P}^{(1)}_{i} + i \\gamma {P}^{(0)}_{i} {\\left( {n}^{(0)}_{i} \\right)}^{-1} {m_{i}}^{-1} \\vec{k} \\cdot \\left( i \\vec{k} {P}^{(1)}_{i} - q_{i} {n}^{(1)}_{i} {\\vec{E}}^{(0)} + i \\vec{k} {P}^{(1)}_{e} + q_{i} {n}^{(0)}_{i} \\left( \\vec{k} \\cdot {\\vec{u}}^{(1)}_{e} \\right) {\\omega}^{-1} {\\vec{E}}^{(0)} \\right)}{\\omega} &= 0 \\\\\n",
       "(6)    &&      \\frac{- {n}^{(0)}_{i} \\left( \\vec{k} \\cdot {\\vec{u}}^{(1)}_{e} \\right)}{\\omega} + {n}^{(1)}_{i} &= 0\n",
       "\\end{align}$"
      ],
      "text/plain": [
       "<IPython.core.display.Math object>"
      ]
     },
     "metadata": {},
     "output_type": "display_data"
    }
   ],
   "source": [
    "solver.solvestep()"
   ]
  },
  {
   "cell_type": "code",
   "execution_count": 39,
   "id": "a8fdd6db",
   "metadata": {},
   "outputs": [
    {
     "data": {
      "text/latex": [
       "$\\displaystyle \\begin{align}\n",
       "(0*)    &&      {n}^{(1)}_{e} &= \\frac{- q_{i} {n}^{(0)}_{i} \\left( \\vec{k} \\cdot {\\vec{u}}^{(1)}_{e} \\right)}{q_{e} \\omega} \\\\\n",
       "(1)    &&      \\frac{{\\omega}^{2} {n}^{(1)}_{i} + i {m_{i}}^{-1} \\vec{k} \\cdot \\left[ i \\vec{k} {P}^{(1)}_{i} - q_{i} {n}^{(1)}_{i} {\\vec{E}}^{(0)} + {\\omega}^{-1} \\left( \\vec{k} \\cdot {\\vec{u}}^{(1)}_{e} \\right) \\left( q_{i} {n}^{(0)}_{i} {\\vec{E}}^{(0)} + i \\gamma {P}^{(0)}_{e} \\vec{k} \\right) \\right]}{\\omega} &= 0 \\\\\n",
       "(2*)    &&      {\\vec{E}}^{(1)} &= \\frac{- i \\vec{k} {P}^{(1)}_{e} + q_{e} {n}^{(1)}_{e} {\\vec{E}}^{(0)}}{q_{i} {n}^{(0)}_{i}} \\\\\n",
       "(3*)    &&      {\\vec{u}}^{(1)}_{i} &= \\frac{i \\left( - i \\vec{k} {P}^{(1)}_{i} + q_{i} {n}^{(1)}_{i} {\\vec{E}}^{(0)} - i \\vec{k} {P}^{(1)}_{e} + q_{e} {n}^{(1)}_{e} {\\vec{E}}^{(0)} \\right)}{m_{i} {n}^{(0)}_{i} \\omega} \\\\\n",
       "(4*)    &&      {P}^{(1)}_{e} &= \\frac{\\gamma {P}^{(0)}_{e} \\vec{k} \\cdot {\\vec{u}}^{(1)}_{e}}{\\omega} \\\\\n",
       "(5)    &&      \\frac{{\\omega}^{2} {P}^{(1)}_{i} + i \\gamma {P}^{(0)}_{i} {\\left( {n}^{(0)}_{i} \\right)}^{-1} {m_{i}}^{-1} \\vec{k} \\cdot \\left( i \\vec{k} {P}^{(1)}_{i} - q_{i} {n}^{(1)}_{i} {\\vec{E}}^{(0)} + {\\omega}^{-1} \\left( \\vec{k} \\cdot {\\vec{u}}^{(1)}_{e} \\right) \\left[ q_{i} {n}^{(0)}_{i} {\\vec{E}}^{(0)} + i \\gamma {P}^{(0)}_{e} \\vec{k} \\right] \\right)}{\\omega} &= 0 \\\\\n",
       "(6)    &&      \\frac{- {n}^{(0)}_{i} \\left( \\vec{k} \\cdot {\\vec{u}}^{(1)}_{e} \\right)}{\\omega} + {n}^{(1)}_{i} &= 0\n",
       "\\end{align}$"
      ],
      "text/plain": [
       "<IPython.core.display.Math object>"
      ]
     },
     "metadata": {},
     "output_type": "display_data"
    }
   ],
   "source": [
    "solver.solvestep()"
   ]
  },
  {
   "cell_type": "code",
   "execution_count": 40,
   "id": "7054fb01",
   "metadata": {},
   "outputs": [
    {
     "data": {
      "text/latex": [
       "$\\displaystyle \\begin{align}\n",
       "(0*)    &&      {n}^{(1)}_{e} &= \\frac{- q_{i} {n}^{(0)}_{i} \\left( \\vec{k} \\cdot {\\vec{u}}^{(1)}_{e} \\right)}{q_{e} \\omega} \\\\\n",
       "(1)    &&      \\frac{{n}^{(0)}_{i} \\omega \\vec{k} \\cdot {\\vec{u}}^{(1)}_{e} - {m_{i}}^{-1} \\left( {P}^{(1)}_{i} + \\gamma {P}^{(0)}_{e} {\\omega}^{-1} \\vec{k} \\cdot {\\vec{u}}^{(1)}_{e} \\right) {k}^{2}}{\\omega} &= 0 \\\\\n",
       "(2*)    &&      {\\vec{E}}^{(1)} &= \\frac{- i \\vec{k} {P}^{(1)}_{e} + q_{e} {n}^{(1)}_{e} {\\vec{E}}^{(0)}}{q_{i} {n}^{(0)}_{i}} \\\\\n",
       "(3*)    &&      {\\vec{u}}^{(1)}_{i} &= \\frac{i \\left( - i \\vec{k} {P}^{(1)}_{i} + q_{i} {n}^{(1)}_{i} {\\vec{E}}^{(0)} - i \\vec{k} {P}^{(1)}_{e} + q_{e} {n}^{(1)}_{e} {\\vec{E}}^{(0)} \\right)}{m_{i} {n}^{(0)}_{i} \\omega} \\\\\n",
       "(4*)    &&      {P}^{(1)}_{e} &= \\frac{\\gamma {P}^{(0)}_{e} \\vec{k} \\cdot {\\vec{u}}^{(1)}_{e}}{\\omega} \\\\\n",
       "(5)    &&      \\frac{{\\omega}^{2} {P}^{(1)}_{i} - \\gamma {P}^{(0)}_{i} {\\left( {n}^{(0)}_{i} \\right)}^{-1} {m_{i}}^{-1} \\left( {P}^{(1)}_{i} + \\gamma {P}^{(0)}_{e} {\\omega}^{-1} \\vec{k} \\cdot {\\vec{u}}^{(1)}_{e} \\right) {k}^{2}}{\\omega} &= 0 \\\\\n",
       "(6*)    &&      {n}^{(1)}_{i} &= \\frac{{n}^{(0)}_{i} \\vec{k} \\cdot {\\vec{u}}^{(1)}_{e}}{\\omega}\n",
       "\\end{align}$"
      ],
      "text/plain": [
       "<IPython.core.display.Math object>"
      ]
     },
     "metadata": {},
     "output_type": "display_data"
    }
   ],
   "source": [
    "solver.solvestep()"
   ]
  },
  {
   "cell_type": "code",
   "execution_count": 41,
   "id": "1141d94f",
   "metadata": {},
   "outputs": [
    {
     "data": {
      "text/latex": [
       "$\\displaystyle \\begin{align}\n",
       "(0*)    &&      {n}^{(1)}_{e} &= \\frac{- q_{i} {n}^{(0)}_{i} \\left( \\vec{k} \\cdot {\\vec{u}}^{(1)}_{e} \\right)}{q_{e} \\omega} \\\\\n",
       "(1*)    &&      {P}^{(1)}_{i} &= \\frac{m_{i} \\left( \\vec{k} \\cdot {\\vec{u}}^{(1)}_{e} \\right) \\left( {n}^{(0)}_{i} {\\omega}^{2} - {m_{i}}^{-1} \\gamma {P}^{(0)}_{e} {k}^{2} \\right)}{\\omega {k}^{2}} \\\\\n",
       "(2*)    &&      {\\vec{E}}^{(1)} &= \\frac{- i \\vec{k} {P}^{(1)}_{e} + q_{e} {n}^{(1)}_{e} {\\vec{E}}^{(0)}}{q_{i} {n}^{(0)}_{i}} \\\\\n",
       "(3*)    &&      {\\vec{u}}^{(1)}_{i} &= \\frac{i \\left( - i \\vec{k} {P}^{(1)}_{i} + q_{i} {n}^{(1)}_{i} {\\vec{E}}^{(0)} - i \\vec{k} {P}^{(1)}_{e} + q_{e} {n}^{(1)}_{e} {\\vec{E}}^{(0)} \\right)}{m_{i} {n}^{(0)}_{i} \\omega} \\\\\n",
       "(4*)    &&      {P}^{(1)}_{e} &= \\frac{\\gamma {P}^{(0)}_{e} \\vec{k} \\cdot {\\vec{u}}^{(1)}_{e}}{\\omega} \\\\\n",
       "(5)    &&      \\frac{\\left( \\vec{k} \\cdot {\\vec{u}}^{(1)}_{e} \\right) \\left( {m_{i}}^{2} {\\omega}^{2} \\left[ {n}^{(0)}_{i} {\\omega}^{2} - {m_{i}}^{-1} \\gamma {P}^{(0)}_{e} {k}^{2} \\right] - \\gamma {P}^{(0)}_{i} {\\left( {n}^{(0)}_{i} \\right)}^{-1} \\left[ m_{i} \\left( {n}^{(0)}_{i} {\\omega}^{2} - {m_{i}}^{-1} \\gamma {P}^{(0)}_{e} {k}^{2} \\right) {k}^{-2} + \\gamma {P}^{(0)}_{e} \\right] {k}^{4} \\right)}{{\\omega}^{2} {k}^{2}} &= 0 \\\\\n",
       "(6*)    &&      {n}^{(1)}_{i} &= \\frac{{n}^{(0)}_{i} \\vec{k} \\cdot {\\vec{u}}^{(1)}_{e}}{\\omega}\n",
       "\\end{align}$"
      ],
      "text/plain": [
       "<IPython.core.display.Math object>"
      ]
     },
     "metadata": {},
     "output_type": "display_data"
    }
   ],
   "source": [
    "solver.solvestep()"
   ]
  },
  {
   "cell_type": "code",
   "execution_count": 42,
   "id": "5c449183",
   "metadata": {},
   "outputs": [
    {
     "ename": "SolvingPatternError",
     "evalue": "No solvestep methods worked! Attempted options:\nSolveStepInfo(ieqn=5, itarget=0, method=SolverMethodInfo(name='linear_eliminate', ...), ...)\nSolveStepInfo(ieqn=5, itarget=0, method=SolverMethodInfo(name='vector_eliminate', ...), ...)",
     "output_type": "error",
     "traceback": [
      "\u001b[0;31m---------------------------------------------------------------------------\u001b[0m",
      "\u001b[0;31mSolvingPatternError\u001b[0m                       Traceback (most recent call last)",
      "\u001b[0;32m/var/folders/kd/2f46l5r97cb96vdl7d6fn0680000gn/T/ipykernel_20941/1037211714.py\u001b[0m in \u001b[0;36m<module>\u001b[0;34m\u001b[0m\n\u001b[0;32m----> 1\u001b[0;31m \u001b[0msolver\u001b[0m\u001b[0;34m.\u001b[0m\u001b[0msolvestep\u001b[0m\u001b[0;34m(\u001b[0m\u001b[0;34m)\u001b[0m\u001b[0;34m\u001b[0m\u001b[0;34m\u001b[0m\u001b[0m\n\u001b[0m",
      "\u001b[0;32m~/Code/SymSolver/SymSolver/solving/system_solver.py\u001b[0m in \u001b[0;36msolvestep\u001b[0;34m(self, _verbose_errors, print_freq, **kw)\u001b[0m\n\u001b[1;32m    518\u001b[0m                 \u001b[0moptions_str\u001b[0m \u001b[0;34m=\u001b[0m \u001b[0;34m'\\n'\u001b[0m\u001b[0;34m.\u001b[0m\u001b[0mjoin\u001b[0m\u001b[0;34m(\u001b[0m\u001b[0mstr\u001b[0m\u001b[0;34m(\u001b[0m\u001b[0mopt\u001b[0m\u001b[0;34m)\u001b[0m \u001b[0;32mfor\u001b[0m \u001b[0mopt\u001b[0m \u001b[0;32min\u001b[0m \u001b[0m_attempted_options\u001b[0m\u001b[0;34m)\u001b[0m\u001b[0;34m\u001b[0m\u001b[0;34m\u001b[0m\u001b[0m\n\u001b[1;32m    519\u001b[0m                 \u001b[0merrmsg\u001b[0m \u001b[0;34m+=\u001b[0m \u001b[0;34mf' Attempted options:\\n{options_str}'\u001b[0m\u001b[0;34m\u001b[0m\u001b[0;34m\u001b[0m\u001b[0m\n\u001b[0;32m--> 520\u001b[0;31m             \u001b[0;32mraise\u001b[0m \u001b[0mSolvingPatternError\u001b[0m\u001b[0;34m(\u001b[0m\u001b[0merrmsg\u001b[0m\u001b[0;34m)\u001b[0m\u001b[0;34m\u001b[0m\u001b[0;34m\u001b[0m\u001b[0m\n\u001b[0m\u001b[1;32m    521\u001b[0m         \u001b[0;31m# << did break; found a good option. Return it.\u001b[0m\u001b[0;34m\u001b[0m\u001b[0;34m\u001b[0m\u001b[0m\n\u001b[1;32m    522\u001b[0m         \u001b[0mupdater\u001b[0m\u001b[0;34m.\u001b[0m\u001b[0mfinalize\u001b[0m\u001b[0;34m(\u001b[0m\u001b[0;34m'solvestep'\u001b[0m\u001b[0;34m)\u001b[0m\u001b[0;34m\u001b[0m\u001b[0;34m\u001b[0m\u001b[0m\n",
      "\u001b[0;31mSolvingPatternError\u001b[0m: No solvestep methods worked! Attempted options:\nSolveStepInfo(ieqn=5, itarget=0, method=SolverMethodInfo(name='linear_eliminate', ...), ...)\nSolveStepInfo(ieqn=5, itarget=0, method=SolverMethodInfo(name='vector_eliminate', ...), ...)"
     ]
    }
   ],
   "source": [
    "solver.solvestep()"
   ]
  },
  {
   "cell_type": "code",
   "execution_count": 43,
   "id": "bf1ab30a",
   "metadata": {},
   "outputs": [
    {
     "data": {
      "text/latex": [
       "$\\displaystyle \\left( \\vec{k} \\cdot {\\vec{u}}^{(1)}_{e} \\right) \\left( \\frac{- {n}^{(0)}_{i} m_{i} {\\omega}^{2}}{{k}^{2}} + \\gamma {P}^{(0)}_{e} + \\gamma {P}^{(0)}_{i} \\right) = 0$"
      ],
      "text/plain": [
       "<IPython.core.display.Math object>"
      ]
     },
     "metadata": {},
     "output_type": "display_data"
    }
   ],
   "source": [
    "# Oh no, an error!\n",
    "# (well, SymSolver v1.0.2 gives an error. Maybe it's been fixed since then..)\n",
    "# This error is because SymSolver wasn't smart enough to try eliminating (k dot ue.o1).\n",
    "# (It only tried to eliminate ue.o1 but it failed.)\n",
    "# you can tell it to divide by (k dot ue.o1), though!\n",
    "\n",
    "# solver.system gets the latest system of equations in the solver object.\n",
    "eqns = solver.system\n",
    "eqn = eqns[5]  # [5] since it's the equation labeled [5] which needs solving, above.\n",
    "# first, let's simplify it a little bit:\n",
    "eqn = eqn.simplified()\n",
    "eqn"
   ]
  },
  {
   "cell_type": "code",
   "execution_count": 44,
   "id": "f28a61fa",
   "metadata": {},
   "outputs": [
    {
     "data": {
      "text/latex": [
       "$\\displaystyle \\frac{- {n}^{(0)}_{i} m_{i} {\\omega}^{2}}{{k}^{2}} + \\gamma {P}^{(0)}_{e} + \\gamma {P}^{(0)}_{i} = 0$"
      ],
      "text/plain": [
       "<IPython.core.display.Math object>"
      ]
     },
     "metadata": {},
     "output_type": "display_data"
    }
   ],
   "source": [
    "solution = (eqn / k.dot(ue.o1)).simplify()\n",
    "solution"
   ]
  },
  {
   "cell_type": "code",
   "execution_count": 45,
   "id": "f5462a64",
   "metadata": {},
   "outputs": [
    {
     "data": {
      "text/latex": [
       "$\\displaystyle {\\omega}^{2} = \\frac{\\gamma \\left( {P}^{(0)}_{e} + {P}^{(0)}_{i} \\right) {k}^{2}}{{n}^{(0)}_{i} m_{i}}$"
      ],
      "text/plain": [
       "<IPython.core.display.Math object>"
      ]
     },
     "metadata": {},
     "output_type": "display_data"
    }
   ],
   "source": [
    "# we can also make the solution a bit prettier.\n",
    "# SymSolver only knows how to solve linear equations, though.\n",
    "# But here it is linear in omega^2, so we can do:\n",
    "result = solution.solve(omega**2)\n",
    "result"
   ]
  },
  {
   "cell_type": "code",
   "execution_count": null,
   "id": "38b9e4e7",
   "metadata": {},
   "outputs": [],
   "source": [
    "# hurray! That result matches what we get if we calculate the answer by-hand."
   ]
  },
  {
   "cell_type": "code",
   "execution_count": null,
   "id": "95d2b0dc",
   "metadata": {},
   "outputs": [],
   "source": [
    "# for a test case, you could try to go back, and remove the \"ue.o0==ui.o0==0\" assumption we made.\n",
    "# see if SymSolver can handle that, and if it gets the same answer if you plug in that assumption at the end.\n",
    "# (I found that it can handle it, but maybe doesn't do as much simplifying as you'd like.\n",
    "#  Also, it gives the same result after plugging in the assumption at the end!)"
   ]
  },
  {
   "cell_type": "code",
   "execution_count": null,
   "id": "df420237",
   "metadata": {},
   "outputs": [],
   "source": []
  },
  {
   "cell_type": "code",
   "execution_count": null,
   "id": "45d9584d",
   "metadata": {},
   "outputs": [],
   "source": []
  }
 ],
 "metadata": {
  "kernelspec": {
   "display_name": "Python 3 (ipykernel)",
   "language": "python",
   "name": "python3"
  },
  "language_info": {
   "codemirror_mode": {
    "name": "ipython",
    "version": 3
   },
   "file_extension": ".py",
   "mimetype": "text/x-python",
   "name": "python",
   "nbconvert_exporter": "python",
   "pygments_lexer": "ipython3",
   "version": "3.9.13"
  }
 },
 "nbformat": 4,
 "nbformat_minor": 5
}
